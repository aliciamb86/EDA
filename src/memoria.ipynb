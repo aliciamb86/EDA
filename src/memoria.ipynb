{
 "cells": [
  {
   "cell_type": "code",
   "execution_count": 1,
   "metadata": {},
   "outputs": [
    {
     "data": {
      "text/html": [
       "        <script type=\"text/javascript\">\n",
       "        window.PlotlyConfig = {MathJaxConfig: 'local'};\n",
       "        if (window.MathJax && window.MathJax.Hub && window.MathJax.Hub.Config) {window.MathJax.Hub.Config({SVG: {font: \"STIX-Web\"}});}\n",
       "        if (typeof require !== 'undefined') {\n",
       "        require.undef(\"plotly\");\n",
       "        requirejs.config({\n",
       "            paths: {\n",
       "                'plotly': ['https://cdn.plot.ly/plotly-2.29.1.min']\n",
       "            }\n",
       "        });\n",
       "        require(['plotly'], function(Plotly) {\n",
       "            window._Plotly = Plotly;\n",
       "        });\n",
       "        }\n",
       "        </script>\n",
       "        "
      ]
     },
     "metadata": {},
     "output_type": "display_data"
    }
   ],
   "source": [
    "import numpy as np \n",
    "import pandas as pd \n",
    "\n",
    "import sys\n",
    "sys.path.append('../')\n",
    "from utils import funciones as f\n",
    "\n",
    "from plotly.offline import init_notebook_mode, iplot, plot\n",
    "import plotly as py\n",
    "init_notebook_mode(connected=True)\n",
    "\n",
    "import plotly.graph_objects as go\n",
    "from plotly.subplots import make_subplots\n",
    "import plotly.express as px\n",
    "\n",
    "# word cloud library\n",
    "# from wordcloud import WordCloud\n",
    "\n",
    "import matplotlib.pyplot as plt\n",
    "import seaborn as sns\n",
    "\n",
    "import folium\n",
    "from folium import plugins\n",
    "# import ipywidgets\n",
    "# import geocoder \n",
    "\n",
    "import warnings\n",
    "warnings.filterwarnings(\"ignore\")"
   ]
  },
  {
   "cell_type": "markdown",
   "metadata": {},
   "source": [
    "### Evolución de la vivienda en España en los últimos diez años"
   ]
  },
  {
   "cell_type": "markdown",
   "metadata": {},
   "source": [
    "La preocupación por la vivienda se ha disparado en los últimos meses, colándose entre los principales problemas de España, según los encuestados del último barómetro del CIS.\n",
    "\n",
    "Según los estudios que hace el Centro de Investigaciones Sociológicas (CIS) sobre los problemas que más preocupan a los españoles, la vivienda ha ido cogiendo peso desde el pasado diciembre y en el último barómetro, los españoles la colocaban entre los cinco principales problemas de España."
   ]
  },
  {
   "cell_type": "code",
   "execution_count": 2,
   "metadata": {},
   "outputs": [
    {
     "data": {
      "text/html": [
       "<div>\n",
       "<style scoped>\n",
       "    .dataframe tbody tr th:only-of-type {\n",
       "        vertical-align: middle;\n",
       "    }\n",
       "\n",
       "    .dataframe tbody tr th {\n",
       "        vertical-align: top;\n",
       "    }\n",
       "\n",
       "    .dataframe thead th {\n",
       "        text-align: right;\n",
       "    }\n",
       "</style>\n",
       "<table border=\"1\" class=\"dataframe\">\n",
       "  <thead>\n",
       "    <tr style=\"text-align: right;\">\n",
       "      <th></th>\n",
       "      <th>Año</th>\n",
       "      <th>Periodo</th>\n",
       "      <th>% preocupación vivienda</th>\n",
       "    </tr>\n",
       "  </thead>\n",
       "  <tbody>\n",
       "    <tr>\n",
       "      <th>153</th>\n",
       "      <td>2014</td>\n",
       "      <td>Enero</td>\n",
       "      <td>1.5</td>\n",
       "    </tr>\n",
       "    <tr>\n",
       "      <th>154</th>\n",
       "      <td>2014</td>\n",
       "      <td>Febrero</td>\n",
       "      <td>1.6</td>\n",
       "    </tr>\n",
       "    <tr>\n",
       "      <th>155</th>\n",
       "      <td>2014</td>\n",
       "      <td>Marzo</td>\n",
       "      <td>1.6</td>\n",
       "    </tr>\n",
       "    <tr>\n",
       "      <th>156</th>\n",
       "      <td>2014</td>\n",
       "      <td>Abril</td>\n",
       "      <td>1.7</td>\n",
       "    </tr>\n",
       "    <tr>\n",
       "      <th>157</th>\n",
       "      <td>2014</td>\n",
       "      <td>Mayo</td>\n",
       "      <td>1.3</td>\n",
       "    </tr>\n",
       "  </tbody>\n",
       "</table>\n",
       "</div>"
      ],
      "text/plain": [
       "      Año  Periodo  % preocupación vivienda\n",
       "153  2014    Enero                      1.5\n",
       "154  2014  Febrero                      1.6\n",
       "155  2014    Marzo                      1.6\n",
       "156  2014    Abril                      1.7\n",
       "157  2014     Mayo                      1.3"
      ]
     },
     "execution_count": 2,
     "metadata": {},
     "output_type": "execute_result"
    }
   ],
   "source": [
    "preocupacion_vivienda = pd.read_csv(\"../data/evolucion_de_la_preocupacion_por_la_vivienda,_segun_el_cis.csv\", sep=';')\n",
    "preocupacion_vivienda = preocupacion_vivienda[(preocupacion_vivienda['Año'] >= '2014') & (preocupacion_vivienda['Año'] <= '2023')]\n",
    "preocupacion_vivienda.rename(columns={'% de españoles que sitúa la vivienda entre los principales problemas de España' : '% preocupación vivienda'}, inplace=True)\n",
    "preocupacion_vivienda['% preocupación vivienda'] = preocupacion_vivienda['% preocupación vivienda'].str.replace(',','.').astype(float)\n",
    "preocupacion_vivienda.head()"
   ]
  },
  {
   "cell_type": "code",
   "execution_count": 3,
   "metadata": {},
   "outputs": [
    {
     "data": {
      "text/html": [
       "<div>\n",
       "<style scoped>\n",
       "    .dataframe tbody tr th:only-of-type {\n",
       "        vertical-align: middle;\n",
       "    }\n",
       "\n",
       "    .dataframe tbody tr th {\n",
       "        vertical-align: top;\n",
       "    }\n",
       "\n",
       "    .dataframe thead th {\n",
       "        text-align: right;\n",
       "    }\n",
       "</style>\n",
       "<table border=\"1\" class=\"dataframe\">\n",
       "  <thead>\n",
       "    <tr style=\"text-align: right;\">\n",
       "      <th></th>\n",
       "      <th>Año</th>\n",
       "      <th>Periodo</th>\n",
       "      <th>% preocupación económica</th>\n",
       "    </tr>\n",
       "  </thead>\n",
       "  <tbody>\n",
       "    <tr>\n",
       "      <th>167</th>\n",
       "      <td>2014</td>\n",
       "      <td>Enero</td>\n",
       "      <td>30.5</td>\n",
       "    </tr>\n",
       "    <tr>\n",
       "      <th>168</th>\n",
       "      <td>2014</td>\n",
       "      <td>Febrero</td>\n",
       "      <td>28.3</td>\n",
       "    </tr>\n",
       "    <tr>\n",
       "      <th>169</th>\n",
       "      <td>2014</td>\n",
       "      <td>Marzo</td>\n",
       "      <td>28.2</td>\n",
       "    </tr>\n",
       "    <tr>\n",
       "      <th>170</th>\n",
       "      <td>2014</td>\n",
       "      <td>Abril</td>\n",
       "      <td>28.0</td>\n",
       "    </tr>\n",
       "    <tr>\n",
       "      <th>171</th>\n",
       "      <td>2014</td>\n",
       "      <td>Mayo</td>\n",
       "      <td>28.6</td>\n",
       "    </tr>\n",
       "    <tr>\n",
       "      <th>...</th>\n",
       "      <td>...</td>\n",
       "      <td>...</td>\n",
       "      <td>...</td>\n",
       "    </tr>\n",
       "    <tr>\n",
       "      <th>270</th>\n",
       "      <td>2023</td>\n",
       "      <td>Junio</td>\n",
       "      <td>33.7</td>\n",
       "    </tr>\n",
       "    <tr>\n",
       "      <th>271</th>\n",
       "      <td>2023</td>\n",
       "      <td>Julio</td>\n",
       "      <td>36.6</td>\n",
       "    </tr>\n",
       "    <tr>\n",
       "      <th>272</th>\n",
       "      <td>2023</td>\n",
       "      <td>Septiembre</td>\n",
       "      <td>35.5</td>\n",
       "    </tr>\n",
       "    <tr>\n",
       "      <th>273</th>\n",
       "      <td>2023</td>\n",
       "      <td>Octubre</td>\n",
       "      <td>37.3</td>\n",
       "    </tr>\n",
       "    <tr>\n",
       "      <th>274</th>\n",
       "      <td>2023</td>\n",
       "      <td>Noviembre</td>\n",
       "      <td>22.8</td>\n",
       "    </tr>\n",
       "  </tbody>\n",
       "</table>\n",
       "<p>108 rows × 3 columns</p>\n",
       "</div>"
      ],
      "text/plain": [
       "      Año     Periodo  % preocupación económica\n",
       "167  2014       Enero                      30.5\n",
       "168  2014     Febrero                      28.3\n",
       "169  2014       Marzo                      28.2\n",
       "170  2014       Abril                      28.0\n",
       "171  2014        Mayo                      28.6\n",
       "..    ...         ...                       ...\n",
       "270  2023       Junio                      33.7\n",
       "271  2023       Julio                      36.6\n",
       "272  2023  Septiembre                      35.5\n",
       "273  2023     Octubre                      37.3\n",
       "274  2023   Noviembre                      22.8\n",
       "\n",
       "[108 rows x 3 columns]"
      ]
     },
     "execution_count": 3,
     "metadata": {},
     "output_type": "execute_result"
    }
   ],
   "source": [
    "preocupacion_economica = pd.read_csv(\"../data/evolucion_de_la_preocupacion_por_problemas_de_indole_economica.csv\", sep=';')\n",
    "preocupacion_economica = preocupacion_economica[(preocupacion_economica['Año'] >= '2014') & (preocupacion_economica['Año'] <= '2023')]\n",
    "preocupacion_economica.rename(columns={'Problemas de índole económica' : '% preocupación económica'}, inplace=True)\n",
    "preocupacion_economica['% preocupación económica'] = preocupacion_economica['% preocupación económica'].str.replace(',','.').astype(float)\n",
    "preocupacion_economica"
   ]
  },
  {
   "cell_type": "code",
   "execution_count": 4,
   "metadata": {},
   "outputs": [
    {
     "data": {
      "text/html": [
       "<div>\n",
       "<style scoped>\n",
       "    .dataframe tbody tr th:only-of-type {\n",
       "        vertical-align: middle;\n",
       "    }\n",
       "\n",
       "    .dataframe tbody tr th {\n",
       "        vertical-align: top;\n",
       "    }\n",
       "\n",
       "    .dataframe thead th {\n",
       "        text-align: right;\n",
       "    }\n",
       "</style>\n",
       "<table border=\"1\" class=\"dataframe\">\n",
       "  <thead>\n",
       "    <tr style=\"text-align: right;\">\n",
       "      <th></th>\n",
       "      <th>Año</th>\n",
       "      <th>Periodo</th>\n",
       "      <th>% preocupación paro</th>\n",
       "    </tr>\n",
       "  </thead>\n",
       "  <tbody>\n",
       "    <tr>\n",
       "      <th>167</th>\n",
       "      <td>2014</td>\n",
       "      <td>Enero</td>\n",
       "      <td>78.5</td>\n",
       "    </tr>\n",
       "    <tr>\n",
       "      <th>168</th>\n",
       "      <td>2014</td>\n",
       "      <td>Febrero</td>\n",
       "      <td>81.1</td>\n",
       "    </tr>\n",
       "    <tr>\n",
       "      <th>169</th>\n",
       "      <td>2014</td>\n",
       "      <td>Marzo</td>\n",
       "      <td>82.3</td>\n",
       "    </tr>\n",
       "    <tr>\n",
       "      <th>170</th>\n",
       "      <td>2014</td>\n",
       "      <td>Abril</td>\n",
       "      <td>80.3</td>\n",
       "    </tr>\n",
       "    <tr>\n",
       "      <th>171</th>\n",
       "      <td>2014</td>\n",
       "      <td>Mayo</td>\n",
       "      <td>80.8</td>\n",
       "    </tr>\n",
       "    <tr>\n",
       "      <th>...</th>\n",
       "      <td>...</td>\n",
       "      <td>...</td>\n",
       "      <td>...</td>\n",
       "    </tr>\n",
       "    <tr>\n",
       "      <th>270</th>\n",
       "      <td>2023</td>\n",
       "      <td>Junio</td>\n",
       "      <td>33.5</td>\n",
       "    </tr>\n",
       "    <tr>\n",
       "      <th>271</th>\n",
       "      <td>2023</td>\n",
       "      <td>Julio</td>\n",
       "      <td>30.9</td>\n",
       "    </tr>\n",
       "    <tr>\n",
       "      <th>272</th>\n",
       "      <td>2023</td>\n",
       "      <td>Septiembre</td>\n",
       "      <td>27.9</td>\n",
       "    </tr>\n",
       "    <tr>\n",
       "      <th>273</th>\n",
       "      <td>2023</td>\n",
       "      <td>Octubre</td>\n",
       "      <td>25.6</td>\n",
       "    </tr>\n",
       "    <tr>\n",
       "      <th>274</th>\n",
       "      <td>2023</td>\n",
       "      <td>Noviembre</td>\n",
       "      <td>22.9</td>\n",
       "    </tr>\n",
       "  </tbody>\n",
       "</table>\n",
       "<p>108 rows × 3 columns</p>\n",
       "</div>"
      ],
      "text/plain": [
       "      Año     Periodo  % preocupación paro\n",
       "167  2014       Enero                 78.5\n",
       "168  2014     Febrero                 81.1\n",
       "169  2014       Marzo                 82.3\n",
       "170  2014       Abril                 80.3\n",
       "171  2014        Mayo                 80.8\n",
       "..    ...         ...                  ...\n",
       "270  2023       Junio                 33.5\n",
       "271  2023       Julio                 30.9\n",
       "272  2023  Septiembre                 27.9\n",
       "273  2023     Octubre                 25.6\n",
       "274  2023   Noviembre                 22.9\n",
       "\n",
       "[108 rows x 3 columns]"
      ]
     },
     "execution_count": 4,
     "metadata": {},
     "output_type": "execute_result"
    }
   ],
   "source": [
    "preocupacion_paro = pd.read_csv(\"../data/evolucion_de_la_preocupacion_por_el_paro_.csv\", sep=';')\n",
    "preocupacion_paro = preocupacion_paro[(preocupacion_paro['Año'] >= '2014') & (preocupacion_paro['Año'] <= '2023')]\n",
    "preocupacion_paro.rename(columns={'Preocupación por el paro' : '% preocupación paro'}, inplace=True)\n",
    "preocupacion_paro['% preocupación paro'] = preocupacion_paro['% preocupación paro'].str.replace(',','.').astype(float)\n",
    "preocupacion_paro"
   ]
  },
  {
   "cell_type": "code",
   "execution_count": 5,
   "metadata": {},
   "outputs": [
    {
     "data": {
      "text/html": [
       "<div>\n",
       "<style scoped>\n",
       "    .dataframe tbody tr th:only-of-type {\n",
       "        vertical-align: middle;\n",
       "    }\n",
       "\n",
       "    .dataframe tbody tr th {\n",
       "        vertical-align: top;\n",
       "    }\n",
       "\n",
       "    .dataframe thead th {\n",
       "        text-align: right;\n",
       "    }\n",
       "</style>\n",
       "<table border=\"1\" class=\"dataframe\">\n",
       "  <thead>\n",
       "    <tr style=\"text-align: right;\">\n",
       "      <th></th>\n",
       "      <th>Año</th>\n",
       "      <th>Periodo</th>\n",
       "      <th>% preocupación sanidad</th>\n",
       "    </tr>\n",
       "  </thead>\n",
       "  <tbody>\n",
       "    <tr>\n",
       "      <th>148</th>\n",
       "      <td>2014</td>\n",
       "      <td>Enero</td>\n",
       "      <td>11.6</td>\n",
       "    </tr>\n",
       "    <tr>\n",
       "      <th>149</th>\n",
       "      <td>2014</td>\n",
       "      <td>Febrero</td>\n",
       "      <td>10.8</td>\n",
       "    </tr>\n",
       "    <tr>\n",
       "      <th>150</th>\n",
       "      <td>2014</td>\n",
       "      <td>Marzo</td>\n",
       "      <td>10.2</td>\n",
       "    </tr>\n",
       "    <tr>\n",
       "      <th>151</th>\n",
       "      <td>2014</td>\n",
       "      <td>Abril</td>\n",
       "      <td>10.4</td>\n",
       "    </tr>\n",
       "    <tr>\n",
       "      <th>152</th>\n",
       "      <td>2014</td>\n",
       "      <td>Mayo</td>\n",
       "      <td>10.4</td>\n",
       "    </tr>\n",
       "  </tbody>\n",
       "</table>\n",
       "</div>"
      ],
      "text/plain": [
       "      Año  Periodo  % preocupación sanidad\n",
       "148  2014    Enero                    11.6\n",
       "149  2014  Febrero                    10.8\n",
       "150  2014    Marzo                    10.2\n",
       "151  2014    Abril                    10.4\n",
       "152  2014     Mayo                    10.4"
      ]
     },
     "execution_count": 5,
     "metadata": {},
     "output_type": "execute_result"
    }
   ],
   "source": [
    "preocupacion_sanidad = pd.read_csv(\"../data/evolucion_de_la_preocupacion_por_la_sanidad.csv\", sep=';')\n",
    "preocupacion_sanidad = preocupacion_sanidad[(preocupacion_sanidad['Año'] >= '2014') & (preocupacion_sanidad['Año'] <= '2023')]\n",
    "preocupacion_sanidad.rename(columns={'% de cuestionarios del CIS que sitúan a la sanidad entre los principales problemas' : '% preocupación sanidad'}, inplace=True)\n",
    "preocupacion_sanidad['% preocupación sanidad'] = preocupacion_sanidad['% preocupación sanidad'].str.replace(',','.').astype(float)\n",
    "preocupacion_sanidad.head()"
   ]
  },
  {
   "cell_type": "code",
   "execution_count": 6,
   "metadata": {},
   "outputs": [
    {
     "data": {
      "text/html": [
       "<div>\n",
       "<style scoped>\n",
       "    .dataframe tbody tr th:only-of-type {\n",
       "        vertical-align: middle;\n",
       "    }\n",
       "\n",
       "    .dataframe tbody tr th {\n",
       "        vertical-align: top;\n",
       "    }\n",
       "\n",
       "    .dataframe thead th {\n",
       "        text-align: right;\n",
       "    }\n",
       "</style>\n",
       "<table border=\"1\" class=\"dataframe\">\n",
       "  <thead>\n",
       "    <tr style=\"text-align: right;\">\n",
       "      <th></th>\n",
       "      <th>Año</th>\n",
       "      <th>Periodo</th>\n",
       "      <th>% preocupación corrupción</th>\n",
       "    </tr>\n",
       "  </thead>\n",
       "  <tbody>\n",
       "    <tr>\n",
       "      <th>136</th>\n",
       "      <td>2014</td>\n",
       "      <td>Enero</td>\n",
       "      <td>39.5</td>\n",
       "    </tr>\n",
       "    <tr>\n",
       "      <th>137</th>\n",
       "      <td>2014</td>\n",
       "      <td>Febrero</td>\n",
       "      <td>44.2</td>\n",
       "    </tr>\n",
       "    <tr>\n",
       "      <th>138</th>\n",
       "      <td>2014</td>\n",
       "      <td>Marzo</td>\n",
       "      <td>41.0</td>\n",
       "    </tr>\n",
       "    <tr>\n",
       "      <th>139</th>\n",
       "      <td>2014</td>\n",
       "      <td>Abril</td>\n",
       "      <td>36.3</td>\n",
       "    </tr>\n",
       "    <tr>\n",
       "      <th>140</th>\n",
       "      <td>2014</td>\n",
       "      <td>Mayo</td>\n",
       "      <td>35.7</td>\n",
       "    </tr>\n",
       "  </tbody>\n",
       "</table>\n",
       "</div>"
      ],
      "text/plain": [
       "      Año  Periodo  % preocupación corrupción\n",
       "136  2014    Enero                       39.5\n",
       "137  2014  Febrero                       44.2\n",
       "138  2014    Marzo                       41.0\n",
       "139  2014    Abril                       36.3\n",
       "140  2014     Mayo                       35.7"
      ]
     },
     "execution_count": 6,
     "metadata": {},
     "output_type": "execute_result"
    }
   ],
   "source": [
    "preocupacion_corrupcion = pd.read_csv(\"../data/preocupacion_de_los_españoles_por_la_corrupcion.csv\", sep=';')\n",
    "preocupacion_corrupcion = preocupacion_corrupcion[(preocupacion_corrupcion['Año'] >= '2014') & (preocupacion_corrupcion['Año'] <= '2023')]\n",
    "preocupacion_corrupcion.rename(columns={'La corrupción' : '% preocupación corrupción'}, inplace=True)\n",
    "preocupacion_corrupcion['% preocupación corrupción'] = preocupacion_corrupcion['% preocupación corrupción'].str.replace(',','.').astype(float)\n",
    "preocupacion_corrupcion.head()"
   ]
  },
  {
   "cell_type": "code",
   "execution_count": 7,
   "metadata": {},
   "outputs": [
    {
     "data": {
      "text/html": [
       "<div>\n",
       "<style scoped>\n",
       "    .dataframe tbody tr th:only-of-type {\n",
       "        vertical-align: middle;\n",
       "    }\n",
       "\n",
       "    .dataframe tbody tr th {\n",
       "        vertical-align: top;\n",
       "    }\n",
       "\n",
       "    .dataframe thead th {\n",
       "        text-align: right;\n",
       "    }\n",
       "</style>\n",
       "<table border=\"1\" class=\"dataframe\">\n",
       "  <thead>\n",
       "    <tr style=\"text-align: right;\">\n",
       "      <th></th>\n",
       "      <th>% preocupación vivienda</th>\n",
       "      <th>% preocupación económica</th>\n",
       "      <th>% preocupación paro</th>\n",
       "      <th>% preocupación sanidad</th>\n",
       "      <th>% preocupación corrupción</th>\n",
       "    </tr>\n",
       "    <tr>\n",
       "      <th>Año</th>\n",
       "      <th></th>\n",
       "      <th></th>\n",
       "      <th></th>\n",
       "      <th></th>\n",
       "      <th></th>\n",
       "    </tr>\n",
       "  </thead>\n",
       "  <tbody>\n",
       "    <tr>\n",
       "      <th>2014</th>\n",
       "      <td>1.43</td>\n",
       "      <td>27.84</td>\n",
       "      <td>78.24</td>\n",
       "      <td>10.79</td>\n",
       "      <td>44.16</td>\n",
       "    </tr>\n",
       "    <tr>\n",
       "      <th>2015</th>\n",
       "      <td>1.81</td>\n",
       "      <td>25.01</td>\n",
       "      <td>79.20</td>\n",
       "      <td>11.49</td>\n",
       "      <td>45.71</td>\n",
       "    </tr>\n",
       "    <tr>\n",
       "      <th>2016</th>\n",
       "      <td>1.47</td>\n",
       "      <td>24.27</td>\n",
       "      <td>75.38</td>\n",
       "      <td>11.35</td>\n",
       "      <td>41.86</td>\n",
       "    </tr>\n",
       "    <tr>\n",
       "      <th>2017</th>\n",
       "      <td>1.51</td>\n",
       "      <td>22.54</td>\n",
       "      <td>69.84</td>\n",
       "      <td>10.79</td>\n",
       "      <td>39.65</td>\n",
       "    </tr>\n",
       "    <tr>\n",
       "      <th>2018</th>\n",
       "      <td>2.09</td>\n",
       "      <td>21.54</td>\n",
       "      <td>62.88</td>\n",
       "      <td>10.91</td>\n",
       "      <td>34.90</td>\n",
       "    </tr>\n",
       "    <tr>\n",
       "      <th>2019</th>\n",
       "      <td>2.95</td>\n",
       "      <td>26.26</td>\n",
       "      <td>60.38</td>\n",
       "      <td>15.37</td>\n",
       "      <td>25.00</td>\n",
       "    </tr>\n",
       "    <tr>\n",
       "      <th>2020</th>\n",
       "      <td>1.32</td>\n",
       "      <td>34.80</td>\n",
       "      <td>39.21</td>\n",
       "      <td>17.69</td>\n",
       "      <td>9.52</td>\n",
       "    </tr>\n",
       "    <tr>\n",
       "      <th>2021</th>\n",
       "      <td>1.62</td>\n",
       "      <td>40.70</td>\n",
       "      <td>37.11</td>\n",
       "      <td>15.66</td>\n",
       "      <td>4.01</td>\n",
       "    </tr>\n",
       "    <tr>\n",
       "      <th>2022</th>\n",
       "      <td>2.70</td>\n",
       "      <td>41.73</td>\n",
       "      <td>33.62</td>\n",
       "      <td>19.52</td>\n",
       "      <td>5.10</td>\n",
       "    </tr>\n",
       "    <tr>\n",
       "      <th>2023</th>\n",
       "      <td>7.36</td>\n",
       "      <td>38.13</td>\n",
       "      <td>29.51</td>\n",
       "      <td>14.99</td>\n",
       "      <td>6.30</td>\n",
       "    </tr>\n",
       "  </tbody>\n",
       "</table>\n",
       "</div>"
      ],
      "text/plain": [
       "      % preocupación vivienda  % preocupación económica  % preocupación paro  \\\n",
       "Año                                                                            \n",
       "2014                     1.43                     27.84                78.24   \n",
       "2015                     1.81                     25.01                79.20   \n",
       "2016                     1.47                     24.27                75.38   \n",
       "2017                     1.51                     22.54                69.84   \n",
       "2018                     2.09                     21.54                62.88   \n",
       "2019                     2.95                     26.26                60.38   \n",
       "2020                     1.32                     34.80                39.21   \n",
       "2021                     1.62                     40.70                37.11   \n",
       "2022                     2.70                     41.73                33.62   \n",
       "2023                     7.36                     38.13                29.51   \n",
       "\n",
       "      % preocupación sanidad  % preocupación corrupción  \n",
       "Año                                                      \n",
       "2014                   10.79                      44.16  \n",
       "2015                   11.49                      45.71  \n",
       "2016                   11.35                      41.86  \n",
       "2017                   10.79                      39.65  \n",
       "2018                   10.91                      34.90  \n",
       "2019                   15.37                      25.00  \n",
       "2020                   17.69                       9.52  \n",
       "2021                   15.66                       4.01  \n",
       "2022                   19.52                       5.10  \n",
       "2023                   14.99                       6.30  "
      ]
     },
     "execution_count": 7,
     "metadata": {},
     "output_type": "execute_result"
    }
   ],
   "source": [
    "preocupacion = pd.DataFrame(preocupacion_vivienda.groupby('Año')['% preocupación vivienda'].mean().round(2))\n",
    "preocupacion['% preocupación económica'] = preocupacion_economica.groupby('Año')['% preocupación económica'].mean().round(2)\n",
    "preocupacion['% preocupación paro'] = preocupacion_paro.groupby('Año')['% preocupación paro'].mean().round(2)\n",
    "preocupacion['% preocupación sanidad'] = preocupacion_sanidad.groupby('Año')['% preocupación sanidad'].mean().round(2)\n",
    "preocupacion['% preocupación corrupción'] = preocupacion_corrupcion.groupby('Año')['% preocupación corrupción'].mean().round(2)\n",
    "preocupacion"
   ]
  },
  {
   "cell_type": "code",
   "execution_count": 8,
   "metadata": {},
   "outputs": [
    {
     "data": {
      "application/vnd.plotly.v1+json": {
       "config": {
        "linkText": "Export to plot.ly",
        "plotlyServerURL": "https://plot.ly",
        "showLink": false
       },
       "data": [
        {
         "marker": {
          "color": "#ebd234"
         },
         "mode": "lines",
         "name": "preocupacion por la economía",
         "text": "% preocupacion",
         "type": "scatter",
         "x": [
          "2014",
          "2015",
          "2016",
          "2017",
          "2018",
          "2019",
          "2020",
          "2021",
          "2022",
          "2023"
         ],
         "y": [
          27.84,
          25.01,
          24.27,
          22.54,
          21.54,
          26.26,
          34.8,
          40.7,
          41.73,
          38.13
         ]
        },
        {
         "marker": {
          "color": "#98eb34"
         },
         "mode": "lines",
         "name": "preocupacion por el paro",
         "text": "% preocupacion",
         "type": "scatter",
         "x": [
          "2014",
          "2015",
          "2016",
          "2017",
          "2018",
          "2019",
          "2020",
          "2021",
          "2022",
          "2023"
         ],
         "y": [
          78.24,
          79.2,
          75.38,
          69.84,
          62.88,
          60.38,
          39.21,
          37.11,
          33.62,
          29.51
         ]
        },
        {
         "marker": {
          "color": "#34eb7d"
         },
         "mode": "lines",
         "name": "preocupacion por la sanidad",
         "text": "% preocupacion",
         "type": "scatter",
         "x": [
          "2014",
          "2015",
          "2016",
          "2017",
          "2018",
          "2019",
          "2020",
          "2021",
          "2022",
          "2023"
         ],
         "y": [
          10.79,
          11.49,
          11.35,
          10.79,
          10.91,
          15.37,
          17.69,
          15.66,
          19.52,
          14.99
         ]
        },
        {
         "marker": {
          "color": "#34aeeb"
         },
         "mode": "lines",
         "name": "preocupacion por la corrupción",
         "text": "% preocupacion",
         "type": "scatter",
         "x": [
          "2014",
          "2015",
          "2016",
          "2017",
          "2018",
          "2019",
          "2020",
          "2021",
          "2022",
          "2023"
         ],
         "y": [
          44.16,
          45.71,
          41.86,
          39.65,
          34.9,
          25,
          9.52,
          4.01,
          5.1,
          6.3
         ]
        },
        {
         "marker": {
          "color": "#eb344c"
         },
         "mode": "lines",
         "name": "preocupacion por la vivienda",
         "text": "% preocupacion",
         "type": "scatter",
         "x": [
          "2014",
          "2015",
          "2016",
          "2017",
          "2018",
          "2019",
          "2020",
          "2021",
          "2022",
          "2023"
         ],
         "y": [
          1.43,
          1.81,
          1.47,
          1.51,
          2.09,
          2.95,
          1.32,
          1.62,
          2.7,
          7.36
         ]
        }
       ],
       "layout": {
        "template": {
         "data": {
          "bar": [
           {
            "error_x": {
             "color": "#2a3f5f"
            },
            "error_y": {
             "color": "#2a3f5f"
            },
            "marker": {
             "line": {
              "color": "#E5ECF6",
              "width": 0.5
             },
             "pattern": {
              "fillmode": "overlay",
              "size": 10,
              "solidity": 0.2
             }
            },
            "type": "bar"
           }
          ],
          "barpolar": [
           {
            "marker": {
             "line": {
              "color": "#E5ECF6",
              "width": 0.5
             },
             "pattern": {
              "fillmode": "overlay",
              "size": 10,
              "solidity": 0.2
             }
            },
            "type": "barpolar"
           }
          ],
          "carpet": [
           {
            "aaxis": {
             "endlinecolor": "#2a3f5f",
             "gridcolor": "white",
             "linecolor": "white",
             "minorgridcolor": "white",
             "startlinecolor": "#2a3f5f"
            },
            "baxis": {
             "endlinecolor": "#2a3f5f",
             "gridcolor": "white",
             "linecolor": "white",
             "minorgridcolor": "white",
             "startlinecolor": "#2a3f5f"
            },
            "type": "carpet"
           }
          ],
          "choropleth": [
           {
            "colorbar": {
             "outlinewidth": 0,
             "ticks": ""
            },
            "type": "choropleth"
           }
          ],
          "contour": [
           {
            "colorbar": {
             "outlinewidth": 0,
             "ticks": ""
            },
            "colorscale": [
             [
              0,
              "#0d0887"
             ],
             [
              0.1111111111111111,
              "#46039f"
             ],
             [
              0.2222222222222222,
              "#7201a8"
             ],
             [
              0.3333333333333333,
              "#9c179e"
             ],
             [
              0.4444444444444444,
              "#bd3786"
             ],
             [
              0.5555555555555556,
              "#d8576b"
             ],
             [
              0.6666666666666666,
              "#ed7953"
             ],
             [
              0.7777777777777778,
              "#fb9f3a"
             ],
             [
              0.8888888888888888,
              "#fdca26"
             ],
             [
              1,
              "#f0f921"
             ]
            ],
            "type": "contour"
           }
          ],
          "contourcarpet": [
           {
            "colorbar": {
             "outlinewidth": 0,
             "ticks": ""
            },
            "type": "contourcarpet"
           }
          ],
          "heatmap": [
           {
            "colorbar": {
             "outlinewidth": 0,
             "ticks": ""
            },
            "colorscale": [
             [
              0,
              "#0d0887"
             ],
             [
              0.1111111111111111,
              "#46039f"
             ],
             [
              0.2222222222222222,
              "#7201a8"
             ],
             [
              0.3333333333333333,
              "#9c179e"
             ],
             [
              0.4444444444444444,
              "#bd3786"
             ],
             [
              0.5555555555555556,
              "#d8576b"
             ],
             [
              0.6666666666666666,
              "#ed7953"
             ],
             [
              0.7777777777777778,
              "#fb9f3a"
             ],
             [
              0.8888888888888888,
              "#fdca26"
             ],
             [
              1,
              "#f0f921"
             ]
            ],
            "type": "heatmap"
           }
          ],
          "heatmapgl": [
           {
            "colorbar": {
             "outlinewidth": 0,
             "ticks": ""
            },
            "colorscale": [
             [
              0,
              "#0d0887"
             ],
             [
              0.1111111111111111,
              "#46039f"
             ],
             [
              0.2222222222222222,
              "#7201a8"
             ],
             [
              0.3333333333333333,
              "#9c179e"
             ],
             [
              0.4444444444444444,
              "#bd3786"
             ],
             [
              0.5555555555555556,
              "#d8576b"
             ],
             [
              0.6666666666666666,
              "#ed7953"
             ],
             [
              0.7777777777777778,
              "#fb9f3a"
             ],
             [
              0.8888888888888888,
              "#fdca26"
             ],
             [
              1,
              "#f0f921"
             ]
            ],
            "type": "heatmapgl"
           }
          ],
          "histogram": [
           {
            "marker": {
             "pattern": {
              "fillmode": "overlay",
              "size": 10,
              "solidity": 0.2
             }
            },
            "type": "histogram"
           }
          ],
          "histogram2d": [
           {
            "colorbar": {
             "outlinewidth": 0,
             "ticks": ""
            },
            "colorscale": [
             [
              0,
              "#0d0887"
             ],
             [
              0.1111111111111111,
              "#46039f"
             ],
             [
              0.2222222222222222,
              "#7201a8"
             ],
             [
              0.3333333333333333,
              "#9c179e"
             ],
             [
              0.4444444444444444,
              "#bd3786"
             ],
             [
              0.5555555555555556,
              "#d8576b"
             ],
             [
              0.6666666666666666,
              "#ed7953"
             ],
             [
              0.7777777777777778,
              "#fb9f3a"
             ],
             [
              0.8888888888888888,
              "#fdca26"
             ],
             [
              1,
              "#f0f921"
             ]
            ],
            "type": "histogram2d"
           }
          ],
          "histogram2dcontour": [
           {
            "colorbar": {
             "outlinewidth": 0,
             "ticks": ""
            },
            "colorscale": [
             [
              0,
              "#0d0887"
             ],
             [
              0.1111111111111111,
              "#46039f"
             ],
             [
              0.2222222222222222,
              "#7201a8"
             ],
             [
              0.3333333333333333,
              "#9c179e"
             ],
             [
              0.4444444444444444,
              "#bd3786"
             ],
             [
              0.5555555555555556,
              "#d8576b"
             ],
             [
              0.6666666666666666,
              "#ed7953"
             ],
             [
              0.7777777777777778,
              "#fb9f3a"
             ],
             [
              0.8888888888888888,
              "#fdca26"
             ],
             [
              1,
              "#f0f921"
             ]
            ],
            "type": "histogram2dcontour"
           }
          ],
          "mesh3d": [
           {
            "colorbar": {
             "outlinewidth": 0,
             "ticks": ""
            },
            "type": "mesh3d"
           }
          ],
          "parcoords": [
           {
            "line": {
             "colorbar": {
              "outlinewidth": 0,
              "ticks": ""
             }
            },
            "type": "parcoords"
           }
          ],
          "pie": [
           {
            "automargin": true,
            "type": "pie"
           }
          ],
          "scatter": [
           {
            "fillpattern": {
             "fillmode": "overlay",
             "size": 10,
             "solidity": 0.2
            },
            "type": "scatter"
           }
          ],
          "scatter3d": [
           {
            "line": {
             "colorbar": {
              "outlinewidth": 0,
              "ticks": ""
             }
            },
            "marker": {
             "colorbar": {
              "outlinewidth": 0,
              "ticks": ""
             }
            },
            "type": "scatter3d"
           }
          ],
          "scattercarpet": [
           {
            "marker": {
             "colorbar": {
              "outlinewidth": 0,
              "ticks": ""
             }
            },
            "type": "scattercarpet"
           }
          ],
          "scattergeo": [
           {
            "marker": {
             "colorbar": {
              "outlinewidth": 0,
              "ticks": ""
             }
            },
            "type": "scattergeo"
           }
          ],
          "scattergl": [
           {
            "marker": {
             "colorbar": {
              "outlinewidth": 0,
              "ticks": ""
             }
            },
            "type": "scattergl"
           }
          ],
          "scattermapbox": [
           {
            "marker": {
             "colorbar": {
              "outlinewidth": 0,
              "ticks": ""
             }
            },
            "type": "scattermapbox"
           }
          ],
          "scatterpolar": [
           {
            "marker": {
             "colorbar": {
              "outlinewidth": 0,
              "ticks": ""
             }
            },
            "type": "scatterpolar"
           }
          ],
          "scatterpolargl": [
           {
            "marker": {
             "colorbar": {
              "outlinewidth": 0,
              "ticks": ""
             }
            },
            "type": "scatterpolargl"
           }
          ],
          "scatterternary": [
           {
            "marker": {
             "colorbar": {
              "outlinewidth": 0,
              "ticks": ""
             }
            },
            "type": "scatterternary"
           }
          ],
          "surface": [
           {
            "colorbar": {
             "outlinewidth": 0,
             "ticks": ""
            },
            "colorscale": [
             [
              0,
              "#0d0887"
             ],
             [
              0.1111111111111111,
              "#46039f"
             ],
             [
              0.2222222222222222,
              "#7201a8"
             ],
             [
              0.3333333333333333,
              "#9c179e"
             ],
             [
              0.4444444444444444,
              "#bd3786"
             ],
             [
              0.5555555555555556,
              "#d8576b"
             ],
             [
              0.6666666666666666,
              "#ed7953"
             ],
             [
              0.7777777777777778,
              "#fb9f3a"
             ],
             [
              0.8888888888888888,
              "#fdca26"
             ],
             [
              1,
              "#f0f921"
             ]
            ],
            "type": "surface"
           }
          ],
          "table": [
           {
            "cells": {
             "fill": {
              "color": "#EBF0F8"
             },
             "line": {
              "color": "white"
             }
            },
            "header": {
             "fill": {
              "color": "#C8D4E3"
             },
             "line": {
              "color": "white"
             }
            },
            "type": "table"
           }
          ]
         },
         "layout": {
          "annotationdefaults": {
           "arrowcolor": "#2a3f5f",
           "arrowhead": 0,
           "arrowwidth": 1
          },
          "autotypenumbers": "strict",
          "coloraxis": {
           "colorbar": {
            "outlinewidth": 0,
            "ticks": ""
           }
          },
          "colorscale": {
           "diverging": [
            [
             0,
             "#8e0152"
            ],
            [
             0.1,
             "#c51b7d"
            ],
            [
             0.2,
             "#de77ae"
            ],
            [
             0.3,
             "#f1b6da"
            ],
            [
             0.4,
             "#fde0ef"
            ],
            [
             0.5,
             "#f7f7f7"
            ],
            [
             0.6,
             "#e6f5d0"
            ],
            [
             0.7,
             "#b8e186"
            ],
            [
             0.8,
             "#7fbc41"
            ],
            [
             0.9,
             "#4d9221"
            ],
            [
             1,
             "#276419"
            ]
           ],
           "sequential": [
            [
             0,
             "#0d0887"
            ],
            [
             0.1111111111111111,
             "#46039f"
            ],
            [
             0.2222222222222222,
             "#7201a8"
            ],
            [
             0.3333333333333333,
             "#9c179e"
            ],
            [
             0.4444444444444444,
             "#bd3786"
            ],
            [
             0.5555555555555556,
             "#d8576b"
            ],
            [
             0.6666666666666666,
             "#ed7953"
            ],
            [
             0.7777777777777778,
             "#fb9f3a"
            ],
            [
             0.8888888888888888,
             "#fdca26"
            ],
            [
             1,
             "#f0f921"
            ]
           ],
           "sequentialminus": [
            [
             0,
             "#0d0887"
            ],
            [
             0.1111111111111111,
             "#46039f"
            ],
            [
             0.2222222222222222,
             "#7201a8"
            ],
            [
             0.3333333333333333,
             "#9c179e"
            ],
            [
             0.4444444444444444,
             "#bd3786"
            ],
            [
             0.5555555555555556,
             "#d8576b"
            ],
            [
             0.6666666666666666,
             "#ed7953"
            ],
            [
             0.7777777777777778,
             "#fb9f3a"
            ],
            [
             0.8888888888888888,
             "#fdca26"
            ],
            [
             1,
             "#f0f921"
            ]
           ]
          },
          "colorway": [
           "#636efa",
           "#EF553B",
           "#00cc96",
           "#ab63fa",
           "#FFA15A",
           "#19d3f3",
           "#FF6692",
           "#B6E880",
           "#FF97FF",
           "#FECB52"
          ],
          "font": {
           "color": "#2a3f5f"
          },
          "geo": {
           "bgcolor": "white",
           "lakecolor": "white",
           "landcolor": "#E5ECF6",
           "showlakes": true,
           "showland": true,
           "subunitcolor": "white"
          },
          "hoverlabel": {
           "align": "left"
          },
          "hovermode": "closest",
          "mapbox": {
           "style": "light"
          },
          "paper_bgcolor": "white",
          "plot_bgcolor": "#E5ECF6",
          "polar": {
           "angularaxis": {
            "gridcolor": "white",
            "linecolor": "white",
            "ticks": ""
           },
           "bgcolor": "#E5ECF6",
           "radialaxis": {
            "gridcolor": "white",
            "linecolor": "white",
            "ticks": ""
           }
          },
          "scene": {
           "xaxis": {
            "backgroundcolor": "#E5ECF6",
            "gridcolor": "white",
            "gridwidth": 2,
            "linecolor": "white",
            "showbackground": true,
            "ticks": "",
            "zerolinecolor": "white"
           },
           "yaxis": {
            "backgroundcolor": "#E5ECF6",
            "gridcolor": "white",
            "gridwidth": 2,
            "linecolor": "white",
            "showbackground": true,
            "ticks": "",
            "zerolinecolor": "white"
           },
           "zaxis": {
            "backgroundcolor": "#E5ECF6",
            "gridcolor": "white",
            "gridwidth": 2,
            "linecolor": "white",
            "showbackground": true,
            "ticks": "",
            "zerolinecolor": "white"
           }
          },
          "shapedefaults": {
           "line": {
            "color": "#2a3f5f"
           }
          },
          "ternary": {
           "aaxis": {
            "gridcolor": "white",
            "linecolor": "white",
            "ticks": ""
           },
           "baxis": {
            "gridcolor": "white",
            "linecolor": "white",
            "ticks": ""
           },
           "bgcolor": "#E5ECF6",
           "caxis": {
            "gridcolor": "white",
            "linecolor": "white",
            "ticks": ""
           }
          },
          "title": {
           "x": 0.05
          },
          "xaxis": {
           "automargin": true,
           "gridcolor": "white",
           "linecolor": "white",
           "ticks": "",
           "title": {
            "standoff": 15
           },
           "zerolinecolor": "white",
           "zerolinewidth": 2
          },
          "yaxis": {
           "automargin": true,
           "gridcolor": "white",
           "linecolor": "white",
           "ticks": "",
           "title": {
            "standoff": 15
           },
           "zerolinecolor": "white",
           "zerolinewidth": 2
          }
         }
        },
        "title": {
         "text": "Evolución de los principales problemas de España "
        },
        "xaxis": {
         "ticklen": 5,
         "title": {
          "text": "Años"
         }
        }
       }
      },
      "text/html": [
       "<div>                            <div id=\"e219d6ee-9b31-4dc3-b575-06605141e789\" class=\"plotly-graph-div\" style=\"height:525px; width:100%;\"></div>            <script type=\"text/javascript\">                require([\"plotly\"], function(Plotly) {                    window.PLOTLYENV=window.PLOTLYENV || {};                                    if (document.getElementById(\"e219d6ee-9b31-4dc3-b575-06605141e789\")) {                    Plotly.newPlot(                        \"e219d6ee-9b31-4dc3-b575-06605141e789\",                        [{\"marker\":{\"color\":\"#ebd234\"},\"mode\":\"lines\",\"name\":\"preocupacion por la econom\\u00eda\",\"text\":\"% preocupacion\",\"x\":[\"2014\",\"2015\",\"2016\",\"2017\",\"2018\",\"2019\",\"2020\",\"2021\",\"2022\",\"2023\"],\"y\":[27.84,25.01,24.27,22.54,21.54,26.26,34.8,40.7,41.73,38.13],\"type\":\"scatter\"},{\"marker\":{\"color\":\"#98eb34\"},\"mode\":\"lines\",\"name\":\"preocupacion por el paro\",\"text\":\"% preocupacion\",\"x\":[\"2014\",\"2015\",\"2016\",\"2017\",\"2018\",\"2019\",\"2020\",\"2021\",\"2022\",\"2023\"],\"y\":[78.24,79.2,75.38,69.84,62.88,60.38,39.21,37.11,33.62,29.51],\"type\":\"scatter\"},{\"marker\":{\"color\":\"#34eb7d\"},\"mode\":\"lines\",\"name\":\"preocupacion por la sanidad\",\"text\":\"% preocupacion\",\"x\":[\"2014\",\"2015\",\"2016\",\"2017\",\"2018\",\"2019\",\"2020\",\"2021\",\"2022\",\"2023\"],\"y\":[10.79,11.49,11.35,10.79,10.91,15.37,17.69,15.66,19.52,14.99],\"type\":\"scatter\"},{\"marker\":{\"color\":\"#34aeeb\"},\"mode\":\"lines\",\"name\":\"preocupacion por la corrupci\\u00f3n\",\"text\":\"% preocupacion\",\"x\":[\"2014\",\"2015\",\"2016\",\"2017\",\"2018\",\"2019\",\"2020\",\"2021\",\"2022\",\"2023\"],\"y\":[44.16,45.71,41.86,39.65,34.9,25.0,9.52,4.01,5.1,6.3],\"type\":\"scatter\"},{\"marker\":{\"color\":\"#eb344c\"},\"mode\":\"lines\",\"name\":\"preocupacion por la vivienda\",\"text\":\"% preocupacion\",\"x\":[\"2014\",\"2015\",\"2016\",\"2017\",\"2018\",\"2019\",\"2020\",\"2021\",\"2022\",\"2023\"],\"y\":[1.43,1.81,1.47,1.51,2.09,2.95,1.32,1.62,2.7,7.36],\"type\":\"scatter\"}],                        {\"template\":{\"data\":{\"barpolar\":[{\"marker\":{\"line\":{\"color\":\"#E5ECF6\",\"width\":0.5},\"pattern\":{\"fillmode\":\"overlay\",\"size\":10,\"solidity\":0.2}},\"type\":\"barpolar\"}],\"bar\":[{\"error_x\":{\"color\":\"#2a3f5f\"},\"error_y\":{\"color\":\"#2a3f5f\"},\"marker\":{\"line\":{\"color\":\"#E5ECF6\",\"width\":0.5},\"pattern\":{\"fillmode\":\"overlay\",\"size\":10,\"solidity\":0.2}},\"type\":\"bar\"}],\"carpet\":[{\"aaxis\":{\"endlinecolor\":\"#2a3f5f\",\"gridcolor\":\"white\",\"linecolor\":\"white\",\"minorgridcolor\":\"white\",\"startlinecolor\":\"#2a3f5f\"},\"baxis\":{\"endlinecolor\":\"#2a3f5f\",\"gridcolor\":\"white\",\"linecolor\":\"white\",\"minorgridcolor\":\"white\",\"startlinecolor\":\"#2a3f5f\"},\"type\":\"carpet\"}],\"choropleth\":[{\"colorbar\":{\"outlinewidth\":0,\"ticks\":\"\"},\"type\":\"choropleth\"}],\"contourcarpet\":[{\"colorbar\":{\"outlinewidth\":0,\"ticks\":\"\"},\"type\":\"contourcarpet\"}],\"contour\":[{\"colorbar\":{\"outlinewidth\":0,\"ticks\":\"\"},\"colorscale\":[[0.0,\"#0d0887\"],[0.1111111111111111,\"#46039f\"],[0.2222222222222222,\"#7201a8\"],[0.3333333333333333,\"#9c179e\"],[0.4444444444444444,\"#bd3786\"],[0.5555555555555556,\"#d8576b\"],[0.6666666666666666,\"#ed7953\"],[0.7777777777777778,\"#fb9f3a\"],[0.8888888888888888,\"#fdca26\"],[1.0,\"#f0f921\"]],\"type\":\"contour\"}],\"heatmapgl\":[{\"colorbar\":{\"outlinewidth\":0,\"ticks\":\"\"},\"colorscale\":[[0.0,\"#0d0887\"],[0.1111111111111111,\"#46039f\"],[0.2222222222222222,\"#7201a8\"],[0.3333333333333333,\"#9c179e\"],[0.4444444444444444,\"#bd3786\"],[0.5555555555555556,\"#d8576b\"],[0.6666666666666666,\"#ed7953\"],[0.7777777777777778,\"#fb9f3a\"],[0.8888888888888888,\"#fdca26\"],[1.0,\"#f0f921\"]],\"type\":\"heatmapgl\"}],\"heatmap\":[{\"colorbar\":{\"outlinewidth\":0,\"ticks\":\"\"},\"colorscale\":[[0.0,\"#0d0887\"],[0.1111111111111111,\"#46039f\"],[0.2222222222222222,\"#7201a8\"],[0.3333333333333333,\"#9c179e\"],[0.4444444444444444,\"#bd3786\"],[0.5555555555555556,\"#d8576b\"],[0.6666666666666666,\"#ed7953\"],[0.7777777777777778,\"#fb9f3a\"],[0.8888888888888888,\"#fdca26\"],[1.0,\"#f0f921\"]],\"type\":\"heatmap\"}],\"histogram2dcontour\":[{\"colorbar\":{\"outlinewidth\":0,\"ticks\":\"\"},\"colorscale\":[[0.0,\"#0d0887\"],[0.1111111111111111,\"#46039f\"],[0.2222222222222222,\"#7201a8\"],[0.3333333333333333,\"#9c179e\"],[0.4444444444444444,\"#bd3786\"],[0.5555555555555556,\"#d8576b\"],[0.6666666666666666,\"#ed7953\"],[0.7777777777777778,\"#fb9f3a\"],[0.8888888888888888,\"#fdca26\"],[1.0,\"#f0f921\"]],\"type\":\"histogram2dcontour\"}],\"histogram2d\":[{\"colorbar\":{\"outlinewidth\":0,\"ticks\":\"\"},\"colorscale\":[[0.0,\"#0d0887\"],[0.1111111111111111,\"#46039f\"],[0.2222222222222222,\"#7201a8\"],[0.3333333333333333,\"#9c179e\"],[0.4444444444444444,\"#bd3786\"],[0.5555555555555556,\"#d8576b\"],[0.6666666666666666,\"#ed7953\"],[0.7777777777777778,\"#fb9f3a\"],[0.8888888888888888,\"#fdca26\"],[1.0,\"#f0f921\"]],\"type\":\"histogram2d\"}],\"histogram\":[{\"marker\":{\"pattern\":{\"fillmode\":\"overlay\",\"size\":10,\"solidity\":0.2}},\"type\":\"histogram\"}],\"mesh3d\":[{\"colorbar\":{\"outlinewidth\":0,\"ticks\":\"\"},\"type\":\"mesh3d\"}],\"parcoords\":[{\"line\":{\"colorbar\":{\"outlinewidth\":0,\"ticks\":\"\"}},\"type\":\"parcoords\"}],\"pie\":[{\"automargin\":true,\"type\":\"pie\"}],\"scatter3d\":[{\"line\":{\"colorbar\":{\"outlinewidth\":0,\"ticks\":\"\"}},\"marker\":{\"colorbar\":{\"outlinewidth\":0,\"ticks\":\"\"}},\"type\":\"scatter3d\"}],\"scattercarpet\":[{\"marker\":{\"colorbar\":{\"outlinewidth\":0,\"ticks\":\"\"}},\"type\":\"scattercarpet\"}],\"scattergeo\":[{\"marker\":{\"colorbar\":{\"outlinewidth\":0,\"ticks\":\"\"}},\"type\":\"scattergeo\"}],\"scattergl\":[{\"marker\":{\"colorbar\":{\"outlinewidth\":0,\"ticks\":\"\"}},\"type\":\"scattergl\"}],\"scattermapbox\":[{\"marker\":{\"colorbar\":{\"outlinewidth\":0,\"ticks\":\"\"}},\"type\":\"scattermapbox\"}],\"scatterpolargl\":[{\"marker\":{\"colorbar\":{\"outlinewidth\":0,\"ticks\":\"\"}},\"type\":\"scatterpolargl\"}],\"scatterpolar\":[{\"marker\":{\"colorbar\":{\"outlinewidth\":0,\"ticks\":\"\"}},\"type\":\"scatterpolar\"}],\"scatter\":[{\"fillpattern\":{\"fillmode\":\"overlay\",\"size\":10,\"solidity\":0.2},\"type\":\"scatter\"}],\"scatterternary\":[{\"marker\":{\"colorbar\":{\"outlinewidth\":0,\"ticks\":\"\"}},\"type\":\"scatterternary\"}],\"surface\":[{\"colorbar\":{\"outlinewidth\":0,\"ticks\":\"\"},\"colorscale\":[[0.0,\"#0d0887\"],[0.1111111111111111,\"#46039f\"],[0.2222222222222222,\"#7201a8\"],[0.3333333333333333,\"#9c179e\"],[0.4444444444444444,\"#bd3786\"],[0.5555555555555556,\"#d8576b\"],[0.6666666666666666,\"#ed7953\"],[0.7777777777777778,\"#fb9f3a\"],[0.8888888888888888,\"#fdca26\"],[1.0,\"#f0f921\"]],\"type\":\"surface\"}],\"table\":[{\"cells\":{\"fill\":{\"color\":\"#EBF0F8\"},\"line\":{\"color\":\"white\"}},\"header\":{\"fill\":{\"color\":\"#C8D4E3\"},\"line\":{\"color\":\"white\"}},\"type\":\"table\"}]},\"layout\":{\"annotationdefaults\":{\"arrowcolor\":\"#2a3f5f\",\"arrowhead\":0,\"arrowwidth\":1},\"autotypenumbers\":\"strict\",\"coloraxis\":{\"colorbar\":{\"outlinewidth\":0,\"ticks\":\"\"}},\"colorscale\":{\"diverging\":[[0,\"#8e0152\"],[0.1,\"#c51b7d\"],[0.2,\"#de77ae\"],[0.3,\"#f1b6da\"],[0.4,\"#fde0ef\"],[0.5,\"#f7f7f7\"],[0.6,\"#e6f5d0\"],[0.7,\"#b8e186\"],[0.8,\"#7fbc41\"],[0.9,\"#4d9221\"],[1,\"#276419\"]],\"sequential\":[[0.0,\"#0d0887\"],[0.1111111111111111,\"#46039f\"],[0.2222222222222222,\"#7201a8\"],[0.3333333333333333,\"#9c179e\"],[0.4444444444444444,\"#bd3786\"],[0.5555555555555556,\"#d8576b\"],[0.6666666666666666,\"#ed7953\"],[0.7777777777777778,\"#fb9f3a\"],[0.8888888888888888,\"#fdca26\"],[1.0,\"#f0f921\"]],\"sequentialminus\":[[0.0,\"#0d0887\"],[0.1111111111111111,\"#46039f\"],[0.2222222222222222,\"#7201a8\"],[0.3333333333333333,\"#9c179e\"],[0.4444444444444444,\"#bd3786\"],[0.5555555555555556,\"#d8576b\"],[0.6666666666666666,\"#ed7953\"],[0.7777777777777778,\"#fb9f3a\"],[0.8888888888888888,\"#fdca26\"],[1.0,\"#f0f921\"]]},\"colorway\":[\"#636efa\",\"#EF553B\",\"#00cc96\",\"#ab63fa\",\"#FFA15A\",\"#19d3f3\",\"#FF6692\",\"#B6E880\",\"#FF97FF\",\"#FECB52\"],\"font\":{\"color\":\"#2a3f5f\"},\"geo\":{\"bgcolor\":\"white\",\"lakecolor\":\"white\",\"landcolor\":\"#E5ECF6\",\"showlakes\":true,\"showland\":true,\"subunitcolor\":\"white\"},\"hoverlabel\":{\"align\":\"left\"},\"hovermode\":\"closest\",\"mapbox\":{\"style\":\"light\"},\"paper_bgcolor\":\"white\",\"plot_bgcolor\":\"#E5ECF6\",\"polar\":{\"angularaxis\":{\"gridcolor\":\"white\",\"linecolor\":\"white\",\"ticks\":\"\"},\"bgcolor\":\"#E5ECF6\",\"radialaxis\":{\"gridcolor\":\"white\",\"linecolor\":\"white\",\"ticks\":\"\"}},\"scene\":{\"xaxis\":{\"backgroundcolor\":\"#E5ECF6\",\"gridcolor\":\"white\",\"gridwidth\":2,\"linecolor\":\"white\",\"showbackground\":true,\"ticks\":\"\",\"zerolinecolor\":\"white\"},\"yaxis\":{\"backgroundcolor\":\"#E5ECF6\",\"gridcolor\":\"white\",\"gridwidth\":2,\"linecolor\":\"white\",\"showbackground\":true,\"ticks\":\"\",\"zerolinecolor\":\"white\"},\"zaxis\":{\"backgroundcolor\":\"#E5ECF6\",\"gridcolor\":\"white\",\"gridwidth\":2,\"linecolor\":\"white\",\"showbackground\":true,\"ticks\":\"\",\"zerolinecolor\":\"white\"}},\"shapedefaults\":{\"line\":{\"color\":\"#2a3f5f\"}},\"ternary\":{\"aaxis\":{\"gridcolor\":\"white\",\"linecolor\":\"white\",\"ticks\":\"\"},\"baxis\":{\"gridcolor\":\"white\",\"linecolor\":\"white\",\"ticks\":\"\"},\"bgcolor\":\"#E5ECF6\",\"caxis\":{\"gridcolor\":\"white\",\"linecolor\":\"white\",\"ticks\":\"\"}},\"title\":{\"x\":0.05},\"xaxis\":{\"automargin\":true,\"gridcolor\":\"white\",\"linecolor\":\"white\",\"ticks\":\"\",\"title\":{\"standoff\":15},\"zerolinecolor\":\"white\",\"zerolinewidth\":2},\"yaxis\":{\"automargin\":true,\"gridcolor\":\"white\",\"linecolor\":\"white\",\"ticks\":\"\",\"title\":{\"standoff\":15},\"zerolinecolor\":\"white\",\"zerolinewidth\":2}}},\"title\":{\"text\":\"Evoluci\\u00f3n de los principales problemas de Espa\\u00f1a \"},\"xaxis\":{\"ticklen\":5,\"title\":{\"text\":\"A\\u00f1os\"}}},                        {\"responsive\": true}                    ).then(function(){\n",
       "                            \n",
       "var gd = document.getElementById('e219d6ee-9b31-4dc3-b575-06605141e789');\n",
       "var x = new MutationObserver(function (mutations, observer) {{\n",
       "        var display = window.getComputedStyle(gd).display;\n",
       "        if (!display || display === 'none') {{\n",
       "            console.log([gd, 'removed!']);\n",
       "            Plotly.purge(gd);\n",
       "            observer.disconnect();\n",
       "        }}\n",
       "}});\n",
       "\n",
       "// Listen for the removal of the full notebook cells\n",
       "var notebookContainer = gd.closest('#notebook-container');\n",
       "if (notebookContainer) {{\n",
       "    x.observe(notebookContainer, {childList: true});\n",
       "}}\n",
       "\n",
       "// Listen for the clearing of the current output cell\n",
       "var outputEl = gd.closest('.output');\n",
       "if (outputEl) {{\n",
       "    x.observe(outputEl, {childList: true});\n",
       "}}\n",
       "\n",
       "                        })                };                });            </script>        </div>"
      ]
     },
     "metadata": {},
     "output_type": "display_data"
    }
   ],
   "source": [
    "\n",
    "trace1 = go.Scatter(\n",
    "                    x = preocupacion.index,\n",
    "                    y = preocupacion['% preocupación económica'],\n",
    "                    name = 'preocupacion por la economía',\n",
    "                    mode= 'lines',\n",
    "                    marker = dict(color = '#ebd234'),\n",
    "                    text = '% preocupacion')\n",
    "\n",
    "trace2 = go.Scatter(\n",
    "                    x = preocupacion.index,\n",
    "                    y = preocupacion['% preocupación paro'],\n",
    "                    name = 'preocupacion por el paro',\n",
    "                    mode= 'lines',\n",
    "                    marker = dict(color = '#98eb34'),\n",
    "                    text = '% preocupacion')\n",
    "\n",
    "trace3 = go.Scatter(\n",
    "                    x = preocupacion.index,\n",
    "                    y = preocupacion['% preocupación sanidad'],\n",
    "                    name = 'preocupacion por la sanidad',\n",
    "                    mode= 'lines',\n",
    "                    marker = dict(color = '#34eb7d'),\n",
    "                    text = '% preocupacion')\n",
    "\n",
    "trace4 = go.Scatter(\n",
    "                    x = preocupacion.index,\n",
    "                    y = preocupacion['% preocupación corrupción'],\n",
    "                    name = 'preocupacion por la corrupción',\n",
    "                    mode= 'lines',\n",
    "                    marker = dict(color = '#34aeeb'),\n",
    "                    text = '% preocupacion')\n",
    "\n",
    "trace5 = go.Scatter(\n",
    "                    x = preocupacion.index,\n",
    "                    y = preocupacion['% preocupación vivienda'],\n",
    "                    name = 'preocupacion por la vivienda',\n",
    "                    mode= 'lines',\n",
    "                    marker = dict(color = '#eb344c'),\n",
    "                    text = '% preocupacion')\n",
    "\n",
    "\n",
    "data = [trace1, trace2, trace3, trace4, trace5]\n",
    "\n",
    "layout = dict(title = 'Evolución de los principales problemas de España ',\n",
    "             xaxis= dict(title= 'Años',ticklen= 5)\n",
    "           )\n",
    "\n",
    "fig = go.Figure(data = data, layout=layout)\n",
    "\n",
    "iplot(fig)\n",
    "fig.write_html(\"Evolución de los principales problemas de España.html\")"
   ]
  },
  {
   "cell_type": "code",
   "execution_count": 9,
   "metadata": {},
   "outputs": [
    {
     "data": {
      "image/png": "[encoded data removed]",
      "text/plain": [
       "<Figure size 600x600 with 1 Axes>"
      ]
     },
     "metadata": {},
     "output_type": "display_data"
    }
   ],
   "source": [
    "my_circle=plt.Circle( (0,0),\n",
    "                     0.4, # Grosor del donut\n",
    "                     color='white')\n",
    "\n",
    "plt.figure(figsize=(6,6))\n",
    "\n",
    "plt.pie(preocupacion.iloc[9,:].values,\n",
    "        labels=preocupacion.columns,\n",
    "        autopct='%1.2f%%',\n",
    "        pctdistance = 0.8,\n",
    "        colors= sns.color_palette(\"hls\", 8));\n",
    "\n",
    "p=plt.gcf()\n",
    "p.gca().add_artist(my_circle);"
   ]
  },
  {
   "cell_type": "code",
   "execution_count": 10,
   "metadata": {},
   "outputs": [
    {
     "data": {
      "text/html": [
       "<div>\n",
       "<style scoped>\n",
       "    .dataframe tbody tr th:only-of-type {\n",
       "        vertical-align: middle;\n",
       "    }\n",
       "\n",
       "    .dataframe tbody tr th {\n",
       "        vertical-align: top;\n",
       "    }\n",
       "\n",
       "    .dataframe thead th {\n",
       "        text-align: right;\n",
       "    }\n",
       "</style>\n",
       "<table border=\"1\" class=\"dataframe\">\n",
       "  <thead>\n",
       "    <tr style=\"text-align: right;\">\n",
       "      <th></th>\n",
       "      <th>Periodo</th>\n",
       "      <th>% preocupación vivienda</th>\n",
       "    </tr>\n",
       "  </thead>\n",
       "  <tbody>\n",
       "    <tr>\n",
       "      <th>0</th>\n",
       "      <td>1985 Mayo</td>\n",
       "      <td>2.1</td>\n",
       "    </tr>\n",
       "    <tr>\n",
       "      <th>1</th>\n",
       "      <td>1985 Octubre</td>\n",
       "      <td>2.2</td>\n",
       "    </tr>\n",
       "    <tr>\n",
       "      <th>2</th>\n",
       "      <td>1986 Septiembre</td>\n",
       "      <td>3.2</td>\n",
       "    </tr>\n",
       "    <tr>\n",
       "      <th>3</th>\n",
       "      <td>1986 Diciembre</td>\n",
       "      <td>1.9</td>\n",
       "    </tr>\n",
       "    <tr>\n",
       "      <th>4</th>\n",
       "      <td>1988 Junio</td>\n",
       "      <td>1.7</td>\n",
       "    </tr>\n",
       "  </tbody>\n",
       "</table>\n",
       "</div>"
      ],
      "text/plain": [
       "           Periodo  % preocupación vivienda\n",
       "0        1985 Mayo                      2.1\n",
       "1     1985 Octubre                      2.2\n",
       "2  1986 Septiembre                      3.2\n",
       "3   1986 Diciembre                      1.9\n",
       "4       1988 Junio                      1.7"
      ]
     },
     "execution_count": 10,
     "metadata": {},
     "output_type": "execute_result"
    }
   ],
   "source": [
    "preocupacion_viv = pd.read_csv(\"../data/evolucion_de_la_preocupacion_por_la_vivienda,_segun_el_cis.csv\", sep=';')\n",
    "preocupacion_viv.rename(columns={'% de españoles que sitúa la vivienda entre los principales problemas de España' : '% preocupación vivienda'}, inplace=True)\n",
    "preocupacion_viv['Periodo'] = preocupacion_viv['Año'] + ' ' + preocupacion_viv['Periodo']\n",
    "preocupacion_viv.drop(columns=['Año'], inplace=True)\n",
    "preocupacion_viv['% preocupación vivienda'] = preocupacion_viv['% preocupación vivienda'].str.replace(',','.').astype(float)\n",
    "preocupacion_viv.head()"
   ]
  },
  {
   "cell_type": "code",
   "execution_count": 11,
   "metadata": {},
   "outputs": [
    {
     "data": {
      "application/vnd.plotly.v1+json": {
       "config": {
        "linkText": "Export to plot.ly",
        "plotlyServerURL": "https://plot.ly",
        "showLink": false
       },
       "data": [
        {
         "marker": {
          "color": "rgba(16, 112, 2, 0.8)"
         },
         "mode": "lines",
         "name": "preocupacion por la vivienda",
         "text": "% preocupacion",
         "type": "scatter",
         "x": [
          "1985 Mayo",
          "1985 Octubre",
          "1986 Septiembre",
          "1986 Diciembre",
          "1988 Junio",
          "1993 Septiembre",
          "1994 Septiembre",
          "2000 Septiembre",
          "2000 Octubre",
          "2000 Noviembre",
          "2000 Diciembre",
          "2001 Enero",
          "2001 Febrero",
          "2001 Marzo",
          "2001 Abril",
          "2001 Mayo",
          "2001 Junio",
          "2001 Julio",
          "2001 Septiembre",
          "2001 Noviembre",
          "2001 Diciembre",
          "2002 Enero",
          "2002 Febrero",
          "2002 Marzo",
          "2002 Abril",
          "2002 Mayo",
          "2002 Junio",
          "2002 Julio",
          "2002 Septiembre",
          "2002 Octubre",
          "2002 Noviembre",
          "2002 Diciembre",
          "2003 Enero",
          "2003 Febrero",
          "2003 Marzo",
          "2003 Abril",
          "2003 Mayo",
          "2003 Junio",
          "2003 Julio",
          "2003 Septiembre",
          "2003 Octubre",
          "2003 Noviembre",
          "2003 Diciembre",
          "2004 Enero",
          "2004 Febrero",
          "2004 Marzo",
          "2004 Abril",
          "2004 Mayo",
          "2004 Junio",
          "2004 Julio",
          "2004 Septiembre",
          "2004 Octubre",
          "2004 Noviembre",
          "2004 Diciembre",
          "2005 Enero",
          "2005 Febrero",
          "2005 Marzo",
          "2005 Abril",
          "2005 Mayo",
          "2005 Junio",
          "2005 Julio",
          "2005 Septiembre",
          "2005 Octubre",
          "2005 Noviembre",
          "2005 Diciembre",
          "2006 Enero",
          "2006 Febrero",
          "2006 Marzo",
          "2006 Abril",
          "2006 Mayo",
          "2006 Junio",
          "2006 Julio",
          "2006 Septiembre",
          "2006 Octubre",
          "2006 Noviembre",
          "2006 Diciembre",
          "2007 Enero",
          "2007 Febrero",
          "2007 Marzo",
          "2007 Abril",
          "2007 Mayo",
          "2007 Junio",
          "2007 Julio",
          "2007 Septiembre",
          "2007 Octubre",
          "2007 Noviembre",
          "2007 Diciembre",
          "2008 Enero",
          "2008 Febrero",
          "2008 Marzo",
          "2008 Abril",
          "2008 Mayo",
          "2008 Junio",
          "2008 Julio",
          "2008 Septiembre",
          "2008 Octubre",
          "2008 Noviembre",
          "2008 Diciembre",
          "2009 Enero",
          "2009 Febrero",
          "2009 Marzo",
          "2009 Abril",
          "2009 Mayo",
          "2009 Junio",
          "2009 Julio",
          "2009 Septiembre",
          "2009 Octubre",
          "2009 Noviembre",
          "2009 Diciembre",
          "2010 Enero",
          "2010 Febrero",
          "2010 Marzo",
          "2010 Abril",
          "2010 Mayo",
          "2010 Junio",
          "2010 Julio",
          "2010 Septiembre",
          "2010 Octubre",
          "2010 Noviembre",
          "2010 Diciembre",
          "2011 Enero",
          "2011 Febrero",
          "2011 Marzo",
          "2011 Abril",
          "2011 Mayo",
          "2011 Junio",
          "2011 Julio",
          "2011 Septiembre",
          "2011 Octubre",
          "2011 Noviembre",
          "2011 Diciembre",
          "2012 Enero",
          "2012 Febrero",
          "2012 Marzo",
          "2012 Abril",
          "2012 Mayo",
          "2012 Junio",
          "2012 Julio",
          "2012 Septiembre",
          "2012 Octubre",
          "2012 Noviembre",
          "2012 Diciembre",
          "2013 Enero",
          "2013 Febrero",
          "2013 Marzo",
          "2013 Abril",
          "2013 Mayo",
          "2013 Junio",
          "2013 Julio",
          "2013 Septiembre",
          "2013 Octubre",
          "2013 Noviembre",
          "2013 Diciembre",
          "2014 Enero",
          "2014 Febrero",
          "2014 Marzo",
          "2014 Abril",
          "2014 Mayo",
          "2014 Junio",
          "2014 Julio",
          "2014 Septiembre",
          "2014 Octubre",
          "2014 Noviembre",
          "2014 Diciembre",
          "2015 Enero",
          "2015 Febrero",
          "2015 Marzo",
          "2015 Abril",
          "2015 Mayo",
          "2015 Junio",
          "2015 Julio",
          "2015 Septiembre",
          "2015 Octubre",
          "2015 Noviembre",
          "2015 Diciembre",
          "2016 Enero",
          "2016 Febrero",
          "2016 Marzo",
          "2016 Abril",
          "2016 Mayo",
          "2016 Junio",
          "2016 Julio",
          "2016 Septiembre",
          "2016 Octubre",
          "2016 Noviembre",
          "2016 Diciembre",
          "2017 Enero",
          "2017 Febrero",
          "2017 Marzo",
          "2017 Abril",
          "2017 Mayo",
          "2017 Junio",
          "2017 Julio",
          "2017 Septiembre",
          "2017 Octubre",
          "2017 Noviembre",
          "2017 Diciembre",
          "2018 Enero",
          "2018 Febrero",
          "2018 Marzo",
          "2018 Abril",
          "2018 Mayo",
          "2018 Junio",
          "2018 Julio",
          "2018 Septiembre",
          "2018 Octubre",
          "2018 Noviembre",
          "2019 Enero",
          "2019 Febrero",
          "2019 Marzo",
          "2019 Abril",
          "2019 Mayo",
          "2019 Junio",
          "2019 Julio",
          "2019 Septiembre",
          "2019 Octubre",
          "2019 Noviembre",
          "2019 Diciembre",
          "2020 Enero",
          "2020 Febrero",
          "2020 Marzo",
          "2020 Mayo",
          "2020 Junio",
          "2020 Julio",
          "2020 Septiembre",
          "2020 Octubre",
          "2020 Noviembre",
          "2020 Diciembre",
          "2021 Enero",
          "2021 Febrero",
          "2021 Marzo",
          "2021 Abril",
          "2021 Mayo",
          "2021 Junio",
          "2021 Julio",
          "2021 Septiembre",
          "2021 Octubre",
          "2021 Noviembre",
          "2021 Diciembre",
          "2022 Enero",
          "2022 Febrero",
          "2022 Marzo",
          "2022 Abril",
          "2022 Mayo",
          "2022 Junio",
          "2022 Julio",
          "2022 Septiembre",
          "2022 Octubre",
          "2022 Noviembre",
          "2022 Diciembre",
          "2023 Enero",
          "2023 Febrero",
          "2023 Marzo",
          "2023 Abril",
          "2023 Mayo",
          "2023 Junio",
          "2023 Julio",
          "2023 Septiembre",
          "2023 Octubre",
          "2023 Noviembre",
          "2023 Diciembre",
          null,
          null,
          null,
          null,
          null,
          null,
          null,
          null,
          null,
          null,
          null,
          null,
          null,
          null
         ],
         "y": [
          2.1,
          2.2,
          3.2,
          1.9,
          1.7,
          5.4,
          2.6,
          2.8,
          4.2,
          2.5,
          2.9,
          2.8,
          2.2,
          2,
          2.9,
          2.7,
          4.4,
          3.5,
          2.3,
          3.8,
          3.7,
          3.8,
          2.7,
          3.5,
          4.9,
          3.1,
          3.4,
          5.2,
          3.6,
          10.2,
          9.6,
          7.3,
          8.9,
          7.3,
          7.2,
          12.8,
          15.3,
          12.2,
          13.9,
          10.9,
          16.9,
          17.1,
          17.3,
          18.3,
          20.3,
          19.4,
          22.1,
          22,
          20,
          18.4,
          18.1,
          21.9,
          20.5,
          15.6,
          19.6,
          20,
          19.1,
          25.5,
          22,
          21.4,
          21.2,
          23.3,
          19.4,
          20.5,
          16.8,
          18.2,
          17.7,
          18.9,
          24.8,
          25.9,
          24.6,
          26.5,
          20.9,
          30.3,
          25.1,
          29.8,
          29.8,
          27,
          27.6,
          32.5,
          34.9,
          30.8,
          36.7,
          37.3,
          34.9,
          32.9,
          28.8,
          29.1,
          28.9,
          28.8,
          25.6,
          24.5,
          21.5,
          21.5,
          18.4,
          18.3,
          16.6,
          15.5,
          13.5,
          11.6,
          11.3,
          13.1,
          13,
          11.6,
          10.5,
          10.1,
          7.6,
          10.3,
          8.5,
          9.4,
          7.1,
          7.9,
          6.5,
          7,
          5.3,
          6.7,
          6.1,
          5.3,
          6,
          5.2,
          4.4,
          4,
          5.1,
          5.5,
          4,
          7.2,
          6.7,
          4.9,
          5.1,
          6,
          5.9,
          5.6,
          5.7,
          4.3,
          5.2,
          3.5,
          3.6,
          3.4,
          1.8,
          2.7,
          3.9,
          3.9,
          3.1,
          1.7,
          2,
          2.5,
          2.8,
          1.9,
          1.7,
          2.3,
          1.4,
          2,
          0.9,
          1.5,
          1.6,
          1.6,
          1.7,
          1.3,
          1.6,
          1.6,
          1.6,
          1.3,
          0.9,
          1,
          1.5,
          1.1,
          1.9,
          2,
          1.4,
          2.8,
          1.9,
          1.6,
          1.4,
          1.9,
          2.4,
          1.2,
          1.7,
          1.5,
          1.8,
          1.3,
          1.6,
          1.4,
          0.8,
          1.3,
          1.8,
          1.8,
          1.4,
          1.5,
          1,
          1.8,
          1.9,
          1.8,
          1.9,
          1.2,
          1.5,
          1.6,
          1,
          1,
          0.9,
          1.7,
          1.7,
          2.2,
          2.4,
          2.7,
          2.5,
          2.6,
          3.2,
          3.4,
          3,
          3.7,
          2.2,
          2.8,
          4,
          3.2,
          2.4,
          3.2,
          2.5,
          2,
          2.6,
          1.7,
          2.8,
          1.7,
          0.1,
          0.8,
          1.2,
          1.1,
          0.6,
          0.6,
          0.6,
          0.8,
          0.8,
          1.4,
          1.1,
          1.5,
          0.9,
          1.9,
          4.4,
          2.4,
          2,
          2.1,
          3.6,
          2.4,
          1.8,
          3,
          2.1,
          2.1,
          3.1,
          2.9,
          2.5,
          4.1,
          3.4,
          4.7,
          4.7,
          6.7,
          11.5,
          13.3,
          10,
          6.4,
          7.5,
          5.5,
          7.3,
          null,
          null,
          null,
          null,
          null,
          null,
          null,
          null,
          null,
          null,
          null,
          null,
          null,
          null
         ]
        }
       ],
       "layout": {
        "template": {
         "data": {
          "bar": [
           {
            "error_x": {
             "color": "#2a3f5f"
            },
            "error_y": {
             "color": "#2a3f5f"
            },
            "marker": {
             "line": {
              "color": "#E5ECF6",
              "width": 0.5
             },
             "pattern": {
              "fillmode": "overlay",
              "size": 10,
              "solidity": 0.2
             }
            },
            "type": "bar"
           }
          ],
          "barpolar": [
           {
            "marker": {
             "line": {
              "color": "#E5ECF6",
              "width": 0.5
             },
             "pattern": {
              "fillmode": "overlay",
              "size": 10,
              "solidity": 0.2
             }
            },
            "type": "barpolar"
           }
          ],
          "carpet": [
           {
            "aaxis": {
             "endlinecolor": "#2a3f5f",
             "gridcolor": "white",
             "linecolor": "white",
             "minorgridcolor": "white",
             "startlinecolor": "#2a3f5f"
            },
            "baxis": {
             "endlinecolor": "#2a3f5f",
             "gridcolor": "white",
             "linecolor": "white",
             "minorgridcolor": "white",
             "startlinecolor": "#2a3f5f"
            },
            "type": "carpet"
           }
          ],
          "choropleth": [
           {
            "colorbar": {
             "outlinewidth": 0,
             "ticks": ""
            },
            "type": "choropleth"
           }
          ],
          "contour": [
           {
            "colorbar": {
             "outlinewidth": 0,
             "ticks": ""
            },
            "colorscale": [
             [
              0,
              "#0d0887"
             ],
             [
              0.1111111111111111,
              "#46039f"
             ],
             [
              0.2222222222222222,
              "#7201a8"
             ],
             [
              0.3333333333333333,
              "#9c179e"
             ],
             [
              0.4444444444444444,
              "#bd3786"
             ],
             [
              0.5555555555555556,
              "#d8576b"
             ],
             [
              0.6666666666666666,
              "#ed7953"
             ],
             [
              0.7777777777777778,
              "#fb9f3a"
             ],
             [
              0.8888888888888888,
              "#fdca26"
             ],
             [
              1,
              "#f0f921"
             ]
            ],
            "type": "contour"
           }
          ],
          "contourcarpet": [
           {
            "colorbar": {
             "outlinewidth": 0,
             "ticks": ""
            },
            "type": "contourcarpet"
           }
          ],
          "heatmap": [
           {
            "colorbar": {
             "outlinewidth": 0,
             "ticks": ""
            },
            "colorscale": [
             [
              0,
              "#0d0887"
             ],
             [
              0.1111111111111111,
              "#46039f"
             ],
             [
              0.2222222222222222,
              "#7201a8"
             ],
             [
              0.3333333333333333,
              "#9c179e"
             ],
             [
              0.4444444444444444,
              "#bd3786"
             ],
             [
              0.5555555555555556,
              "#d8576b"
             ],
             [
              0.6666666666666666,
              "#ed7953"
             ],
             [
              0.7777777777777778,
              "#fb9f3a"
             ],
             [
              0.8888888888888888,
              "#fdca26"
             ],
             [
              1,
              "#f0f921"
             ]
            ],
            "type": "heatmap"
           }
          ],
          "heatmapgl": [
           {
            "colorbar": {
             "outlinewidth": 0,
             "ticks": ""
            },
            "colorscale": [
             [
              0,
              "#0d0887"
             ],
             [
              0.1111111111111111,
              "#46039f"
             ],
             [
              0.2222222222222222,
              "#7201a8"
             ],
             [
              0.3333333333333333,
              "#9c179e"
             ],
             [
              0.4444444444444444,
              "#bd3786"
             ],
             [
              0.5555555555555556,
              "#d8576b"
             ],
             [
              0.6666666666666666,
              "#ed7953"
             ],
             [
              0.7777777777777778,
              "#fb9f3a"
             ],
             [
              0.8888888888888888,
              "#fdca26"
             ],
             [
              1,
              "#f0f921"
             ]
            ],
            "type": "heatmapgl"
           }
          ],
          "histogram": [
           {
            "marker": {
             "pattern": {
              "fillmode": "overlay",
              "size": 10,
              "solidity": 0.2
             }
            },
            "type": "histogram"
           }
          ],
          "histogram2d": [
           {
            "colorbar": {
             "outlinewidth": 0,
             "ticks": ""
            },
            "colorscale": [
             [
              0,
              "#0d0887"
             ],
             [
              0.1111111111111111,
              "#46039f"
             ],
             [
              0.2222222222222222,
              "#7201a8"
             ],
             [
              0.3333333333333333,
              "#9c179e"
             ],
             [
              0.4444444444444444,
              "#bd3786"
             ],
             [
              0.5555555555555556,
              "#d8576b"
             ],
             [
              0.6666666666666666,
              "#ed7953"
             ],
             [
              0.7777777777777778,
              "#fb9f3a"
             ],
             [
              0.8888888888888888,
              "#fdca26"
             ],
             [
              1,
              "#f0f921"
             ]
            ],
            "type": "histogram2d"
           }
          ],
          "histogram2dcontour": [
           {
            "colorbar": {
             "outlinewidth": 0,
             "ticks": ""
            },
            "colorscale": [
             [
              0,
              "#0d0887"
             ],
             [
              0.1111111111111111,
              "#46039f"
             ],
             [
              0.2222222222222222,
              "#7201a8"
             ],
             [
              0.3333333333333333,
              "#9c179e"
             ],
             [
              0.4444444444444444,
              "#bd3786"
             ],
             [
              0.5555555555555556,
              "#d8576b"
             ],
             [
              0.6666666666666666,
              "#ed7953"
             ],
             [
              0.7777777777777778,
              "#fb9f3a"
             ],
             [
              0.8888888888888888,
              "#fdca26"
             ],
             [
              1,
              "#f0f921"
             ]
            ],
            "type": "histogram2dcontour"
           }
          ],
          "mesh3d": [
           {
            "colorbar": {
             "outlinewidth": 0,
             "ticks": ""
            },
            "type": "mesh3d"
           }
          ],
          "parcoords": [
           {
            "line": {
             "colorbar": {
              "outlinewidth": 0,
              "ticks": ""
             }
            },
            "type": "parcoords"
           }
          ],
          "pie": [
           {
            "automargin": true,
            "type": "pie"
           }
          ],
          "scatter": [
           {
            "fillpattern": {
             "fillmode": "overlay",
             "size": 10,
             "solidity": 0.2
            },
            "type": "scatter"
           }
          ],
          "scatter3d": [
           {
            "line": {
             "colorbar": {
              "outlinewidth": 0,
              "ticks": ""
             }
            },
            "marker": {
             "colorbar": {
              "outlinewidth": 0,
              "ticks": ""
             }
            },
            "type": "scatter3d"
           }
          ],
          "scattercarpet": [
           {
            "marker": {
             "colorbar": {
              "outlinewidth": 0,
              "ticks": ""
             }
            },
            "type": "scattercarpet"
           }
          ],
          "scattergeo": [
           {
            "marker": {
             "colorbar": {
              "outlinewidth": 0,
              "ticks": ""
             }
            },
            "type": "scattergeo"
           }
          ],
          "scattergl": [
           {
            "marker": {
             "colorbar": {
              "outlinewidth": 0,
              "ticks": ""
             }
            },
            "type": "scattergl"
           }
          ],
          "scattermapbox": [
           {
            "marker": {
             "colorbar": {
              "outlinewidth": 0,
              "ticks": ""
             }
            },
            "type": "scattermapbox"
           }
          ],
          "scatterpolar": [
           {
            "marker": {
             "colorbar": {
              "outlinewidth": 0,
              "ticks": ""
             }
            },
            "type": "scatterpolar"
           }
          ],
          "scatterpolargl": [
           {
            "marker": {
             "colorbar": {
              "outlinewidth": 0,
              "ticks": ""
             }
            },
            "type": "scatterpolargl"
           }
          ],
          "scatterternary": [
           {
            "marker": {
             "colorbar": {
              "outlinewidth": 0,
              "ticks": ""
             }
            },
            "type": "scatterternary"
           }
          ],
          "surface": [
           {
            "colorbar": {
             "outlinewidth": 0,
             "ticks": ""
            },
            "colorscale": [
             [
              0,
              "#0d0887"
             ],
             [
              0.1111111111111111,
              "#46039f"
             ],
             [
              0.2222222222222222,
              "#7201a8"
             ],
             [
              0.3333333333333333,
              "#9c179e"
             ],
             [
              0.4444444444444444,
              "#bd3786"
             ],
             [
              0.5555555555555556,
              "#d8576b"
             ],
             [
              0.6666666666666666,
              "#ed7953"
             ],
             [
              0.7777777777777778,
              "#fb9f3a"
             ],
             [
              0.8888888888888888,
              "#fdca26"
             ],
             [
              1,
              "#f0f921"
             ]
            ],
            "type": "surface"
           }
          ],
          "table": [
           {
            "cells": {
             "fill": {
              "color": "#EBF0F8"
             },
             "line": {
              "color": "white"
             }
            },
            "header": {
             "fill": {
              "color": "#C8D4E3"
             },
             "line": {
              "color": "white"
             }
            },
            "type": "table"
           }
          ]
         },
         "layout": {
          "annotationdefaults": {
           "arrowcolor": "#2a3f5f",
           "arrowhead": 0,
           "arrowwidth": 1
          },
          "autotypenumbers": "strict",
          "coloraxis": {
           "colorbar": {
            "outlinewidth": 0,
            "ticks": ""
           }
          },
          "colorscale": {
           "diverging": [
            [
             0,
             "#8e0152"
            ],
            [
             0.1,
             "#c51b7d"
            ],
            [
             0.2,
             "#de77ae"
            ],
            [
             0.3,
             "#f1b6da"
            ],
            [
             0.4,
             "#fde0ef"
            ],
            [
             0.5,
             "#f7f7f7"
            ],
            [
             0.6,
             "#e6f5d0"
            ],
            [
             0.7,
             "#b8e186"
            ],
            [
             0.8,
             "#7fbc41"
            ],
            [
             0.9,
             "#4d9221"
            ],
            [
             1,
             "#276419"
            ]
           ],
           "sequential": [
            [
             0,
             "#0d0887"
            ],
            [
             0.1111111111111111,
             "#46039f"
            ],
            [
             0.2222222222222222,
             "#7201a8"
            ],
            [
             0.3333333333333333,
             "#9c179e"
            ],
            [
             0.4444444444444444,
             "#bd3786"
            ],
            [
             0.5555555555555556,
             "#d8576b"
            ],
            [
             0.6666666666666666,
             "#ed7953"
            ],
            [
             0.7777777777777778,
             "#fb9f3a"
            ],
            [
             0.8888888888888888,
             "#fdca26"
            ],
            [
             1,
             "#f0f921"
            ]
           ],
           "sequentialminus": [
            [
             0,
             "#0d0887"
            ],
            [
             0.1111111111111111,
             "#46039f"
            ],
            [
             0.2222222222222222,
             "#7201a8"
            ],
            [
             0.3333333333333333,
             "#9c179e"
            ],
            [
             0.4444444444444444,
             "#bd3786"
            ],
            [
             0.5555555555555556,
             "#d8576b"
            ],
            [
             0.6666666666666666,
             "#ed7953"
            ],
            [
             0.7777777777777778,
             "#fb9f3a"
            ],
            [
             0.8888888888888888,
             "#fdca26"
            ],
            [
             1,
             "#f0f921"
            ]
           ]
          },
          "colorway": [
           "#636efa",
           "#EF553B",
           "#00cc96",
           "#ab63fa",
           "#FFA15A",
           "#19d3f3",
           "#FF6692",
           "#B6E880",
           "#FF97FF",
           "#FECB52"
          ],
          "font": {
           "color": "#2a3f5f"
          },
          "geo": {
           "bgcolor": "white",
           "lakecolor": "white",
           "landcolor": "#E5ECF6",
           "showlakes": true,
           "showland": true,
           "subunitcolor": "white"
          },
          "hoverlabel": {
           "align": "left"
          },
          "hovermode": "closest",
          "mapbox": {
           "style": "light"
          },
          "paper_bgcolor": "white",
          "plot_bgcolor": "#E5ECF6",
          "polar": {
           "angularaxis": {
            "gridcolor": "white",
            "linecolor": "white",
            "ticks": ""
           },
           "bgcolor": "#E5ECF6",
           "radialaxis": {
            "gridcolor": "white",
            "linecolor": "white",
            "ticks": ""
           }
          },
          "scene": {
           "xaxis": {
            "backgroundcolor": "#E5ECF6",
            "gridcolor": "white",
            "gridwidth": 2,
            "linecolor": "white",
            "showbackground": true,
            "ticks": "",
            "zerolinecolor": "white"
           },
           "yaxis": {
            "backgroundcolor": "#E5ECF6",
            "gridcolor": "white",
            "gridwidth": 2,
            "linecolor": "white",
            "showbackground": true,
            "ticks": "",
            "zerolinecolor": "white"
           },
           "zaxis": {
            "backgroundcolor": "#E5ECF6",
            "gridcolor": "white",
            "gridwidth": 2,
            "linecolor": "white",
            "showbackground": true,
            "ticks": "",
            "zerolinecolor": "white"
           }
          },
          "shapedefaults": {
           "line": {
            "color": "#2a3f5f"
           }
          },
          "ternary": {
           "aaxis": {
            "gridcolor": "white",
            "linecolor": "white",
            "ticks": ""
           },
           "baxis": {
            "gridcolor": "white",
            "linecolor": "white",
            "ticks": ""
           },
           "bgcolor": "#E5ECF6",
           "caxis": {
            "gridcolor": "white",
            "linecolor": "white",
            "ticks": ""
           }
          },
          "title": {
           "x": 0.05
          },
          "xaxis": {
           "automargin": true,
           "gridcolor": "white",
           "linecolor": "white",
           "ticks": "",
           "title": {
            "standoff": 15
           },
           "zerolinecolor": "white",
           "zerolinewidth": 2
          },
          "yaxis": {
           "automargin": true,
           "gridcolor": "white",
           "linecolor": "white",
           "ticks": "",
           "title": {
            "standoff": 15
           },
           "zerolinecolor": "white",
           "zerolinewidth": 2
          }
         }
        },
        "title": {
         "text": "Evolución de la preocupación por la vivienda en España"
        },
        "xaxis": {
         "ticklen": 5,
         "title": {
          "text": "Evolución por meses"
         }
        }
       }
      },
      "text/html": [
       "<div>                            <div id=\"afaab8df-daf4-4a16-86b7-630965a84f72\" class=\"plotly-graph-div\" style=\"height:525px; width:100%;\"></div>            <script type=\"text/javascript\">                require([\"plotly\"], function(Plotly) {                    window.PLOTLYENV=window.PLOTLYENV || {};                                    if (document.getElementById(\"afaab8df-daf4-4a16-86b7-630965a84f72\")) {                    Plotly.newPlot(                        \"afaab8df-daf4-4a16-86b7-630965a84f72\",                        [{\"marker\":{\"color\":\"rgba(16, 112, 2, 0.8)\"},\"mode\":\"lines\",\"name\":\"preocupacion por la vivienda\",\"text\":\"% preocupacion\",\"x\":[\"1985 Mayo\",\"1985 Octubre\",\"1986 Septiembre\",\"1986 Diciembre\",\"1988 Junio\",\"1993 Septiembre\",\"1994 Septiembre\",\"2000 Septiembre\",\"2000 Octubre\",\"2000 Noviembre\",\"2000 Diciembre\",\"2001 Enero\",\"2001 Febrero\",\"2001 Marzo\",\"2001 Abril\",\"2001 Mayo\",\"2001 Junio\",\"2001 Julio\",\"2001 Septiembre\",\"2001 Noviembre\",\"2001 Diciembre\",\"2002 Enero\",\"2002 Febrero\",\"2002 Marzo\",\"2002 Abril\",\"2002 Mayo\",\"2002 Junio\",\"2002 Julio\",\"2002 Septiembre\",\"2002 Octubre\",\"2002 Noviembre\",\"2002 Diciembre\",\"2003 Enero\",\"2003 Febrero\",\"2003 Marzo\",\"2003 Abril\",\"2003 Mayo\",\"2003 Junio\",\"2003 Julio\",\"2003 Septiembre\",\"2003 Octubre\",\"2003 Noviembre\",\"2003 Diciembre\",\"2004 Enero\",\"2004 Febrero\",\"2004 Marzo\",\"2004 Abril\",\"2004 Mayo\",\"2004 Junio\",\"2004 Julio\",\"2004 Septiembre\",\"2004 Octubre\",\"2004 Noviembre\",\"2004 Diciembre\",\"2005 Enero\",\"2005 Febrero\",\"2005 Marzo\",\"2005 Abril\",\"2005 Mayo\",\"2005 Junio\",\"2005 Julio\",\"2005 Septiembre\",\"2005 Octubre\",\"2005 Noviembre\",\"2005 Diciembre\",\"2006 Enero\",\"2006 Febrero\",\"2006 Marzo\",\"2006 Abril\",\"2006 Mayo\",\"2006 Junio\",\"2006 Julio\",\"2006 Septiembre\",\"2006 Octubre\",\"2006 Noviembre\",\"2006 Diciembre\",\"2007 Enero\",\"2007 Febrero\",\"2007 Marzo\",\"2007 Abril\",\"2007 Mayo\",\"2007 Junio\",\"2007 Julio\",\"2007 Septiembre\",\"2007 Octubre\",\"2007 Noviembre\",\"2007 Diciembre\",\"2008 Enero\",\"2008 Febrero\",\"2008 Marzo\",\"2008 Abril\",\"2008 Mayo\",\"2008 Junio\",\"2008 Julio\",\"2008 Septiembre\",\"2008 Octubre\",\"2008 Noviembre\",\"2008 Diciembre\",\"2009 Enero\",\"2009 Febrero\",\"2009 Marzo\",\"2009 Abril\",\"2009 Mayo\",\"2009 Junio\",\"2009 Julio\",\"2009 Septiembre\",\"2009 Octubre\",\"2009 Noviembre\",\"2009 Diciembre\",\"2010 Enero\",\"2010 Febrero\",\"2010 Marzo\",\"2010 Abril\",\"2010 Mayo\",\"2010 Junio\",\"2010 Julio\",\"2010 Septiembre\",\"2010 Octubre\",\"2010 Noviembre\",\"2010 Diciembre\",\"2011 Enero\",\"2011 Febrero\",\"2011 Marzo\",\"2011 Abril\",\"2011 Mayo\",\"2011 Junio\",\"2011 Julio\",\"2011 Septiembre\",\"2011 Octubre\",\"2011 Noviembre\",\"2011 Diciembre\",\"2012 Enero\",\"2012 Febrero\",\"2012 Marzo\",\"2012 Abril\",\"2012 Mayo\",\"2012 Junio\",\"2012 Julio\",\"2012 Septiembre\",\"2012 Octubre\",\"2012 Noviembre\",\"2012 Diciembre\",\"2013 Enero\",\"2013 Febrero\",\"2013 Marzo\",\"2013 Abril\",\"2013 Mayo\",\"2013 Junio\",\"2013 Julio\",\"2013 Septiembre\",\"2013 Octubre\",\"2013 Noviembre\",\"2013 Diciembre\",\"2014 Enero\",\"2014 Febrero\",\"2014 Marzo\",\"2014 Abril\",\"2014 Mayo\",\"2014 Junio\",\"2014 Julio\",\"2014 Septiembre\",\"2014 Octubre\",\"2014 Noviembre\",\"2014 Diciembre\",\"2015 Enero\",\"2015 Febrero\",\"2015 Marzo\",\"2015 Abril\",\"2015 Mayo\",\"2015 Junio\",\"2015 Julio\",\"2015 Septiembre\",\"2015 Octubre\",\"2015 Noviembre\",\"2015 Diciembre\",\"2016 Enero\",\"2016 Febrero\",\"2016 Marzo\",\"2016 Abril\",\"2016 Mayo\",\"2016 Junio\",\"2016 Julio\",\"2016 Septiembre\",\"2016 Octubre\",\"2016 Noviembre\",\"2016 Diciembre\",\"2017 Enero\",\"2017 Febrero\",\"2017 Marzo\",\"2017 Abril\",\"2017 Mayo\",\"2017 Junio\",\"2017 Julio\",\"2017 Septiembre\",\"2017 Octubre\",\"2017 Noviembre\",\"2017 Diciembre\",\"2018 Enero\",\"2018 Febrero\",\"2018 Marzo\",\"2018 Abril\",\"2018 Mayo\",\"2018 Junio\",\"2018 Julio\",\"2018 Septiembre\",\"2018 Octubre\",\"2018 Noviembre\",\"2019 Enero\",\"2019 Febrero\",\"2019 Marzo\",\"2019 Abril\",\"2019 Mayo\",\"2019 Junio\",\"2019 Julio\",\"2019 Septiembre\",\"2019 Octubre\",\"2019 Noviembre\",\"2019 Diciembre\",\"2020 Enero\",\"2020 Febrero\",\"2020 Marzo\",\"2020 Mayo\",\"2020 Junio\",\"2020 Julio\",\"2020 Septiembre\",\"2020 Octubre\",\"2020 Noviembre\",\"2020 Diciembre\",\"2021 Enero\",\"2021 Febrero\",\"2021 Marzo\",\"2021 Abril\",\"2021 Mayo\",\"2021 Junio\",\"2021 Julio\",\"2021 Septiembre\",\"2021 Octubre\",\"2021 Noviembre\",\"2021 Diciembre\",\"2022 Enero\",\"2022 Febrero\",\"2022 Marzo\",\"2022 Abril\",\"2022 Mayo\",\"2022 Junio\",\"2022 Julio\",\"2022 Septiembre\",\"2022 Octubre\",\"2022 Noviembre\",\"2022 Diciembre\",\"2023 Enero\",\"2023 Febrero\",\"2023 Marzo\",\"2023 Abril\",\"2023 Mayo\",\"2023 Junio\",\"2023 Julio\",\"2023 Septiembre\",\"2023 Octubre\",\"2023 Noviembre\",\"2023 Diciembre\",null,null,null,null,null,null,null,null,null,null,null,null,null,null],\"y\":[2.1,2.2,3.2,1.9,1.7,5.4,2.6,2.8,4.2,2.5,2.9,2.8,2.2,2.0,2.9,2.7,4.4,3.5,2.3,3.8,3.7,3.8,2.7,3.5,4.9,3.1,3.4,5.2,3.6,10.2,9.6,7.3,8.9,7.3,7.2,12.8,15.3,12.2,13.9,10.9,16.9,17.1,17.3,18.3,20.3,19.4,22.1,22.0,20.0,18.4,18.1,21.9,20.5,15.6,19.6,20.0,19.1,25.5,22.0,21.4,21.2,23.3,19.4,20.5,16.8,18.2,17.7,18.9,24.8,25.9,24.6,26.5,20.9,30.3,25.1,29.8,29.8,27.0,27.6,32.5,34.9,30.8,36.7,37.3,34.9,32.9,28.8,29.1,28.9,28.8,25.6,24.5,21.5,21.5,18.4,18.3,16.6,15.5,13.5,11.6,11.3,13.1,13.0,11.6,10.5,10.1,7.6,10.3,8.5,9.4,7.1,7.9,6.5,7.0,5.3,6.7,6.1,5.3,6.0,5.2,4.4,4.0,5.1,5.5,4.0,7.2,6.7,4.9,5.1,6.0,5.9,5.6,5.7,4.3,5.2,3.5,3.6,3.4,1.8,2.7,3.9,3.9,3.1,1.7,2.0,2.5,2.8,1.9,1.7,2.3,1.4,2.0,0.9,1.5,1.6,1.6,1.7,1.3,1.6,1.6,1.6,1.3,0.9,1.0,1.5,1.1,1.9,2.0,1.4,2.8,1.9,1.6,1.4,1.9,2.4,1.2,1.7,1.5,1.8,1.3,1.6,1.4,0.8,1.3,1.8,1.8,1.4,1.5,1.0,1.8,1.9,1.8,1.9,1.2,1.5,1.6,1.0,1.0,0.9,1.7,1.7,2.2,2.4,2.7,2.5,2.6,3.2,3.4,3.0,3.7,2.2,2.8,4.0,3.2,2.4,3.2,2.5,2.0,2.6,1.7,2.8,1.7,0.1,0.8,1.2,1.1,0.6,0.6,0.6,0.8,0.8,1.4,1.1,1.5,0.9,1.9,4.4,2.4,2.0,2.1,3.6,2.4,1.8,3.0,2.1,2.1,3.1,2.9,2.5,4.1,3.4,4.7,4.7,6.7,11.5,13.3,10.0,6.4,7.5,5.5,7.3,null,null,null,null,null,null,null,null,null,null,null,null,null,null],\"type\":\"scatter\"}],                        {\"template\":{\"data\":{\"barpolar\":[{\"marker\":{\"line\":{\"color\":\"#E5ECF6\",\"width\":0.5},\"pattern\":{\"fillmode\":\"overlay\",\"size\":10,\"solidity\":0.2}},\"type\":\"barpolar\"}],\"bar\":[{\"error_x\":{\"color\":\"#2a3f5f\"},\"error_y\":{\"color\":\"#2a3f5f\"},\"marker\":{\"line\":{\"color\":\"#E5ECF6\",\"width\":0.5},\"pattern\":{\"fillmode\":\"overlay\",\"size\":10,\"solidity\":0.2}},\"type\":\"bar\"}],\"carpet\":[{\"aaxis\":{\"endlinecolor\":\"#2a3f5f\",\"gridcolor\":\"white\",\"linecolor\":\"white\",\"minorgridcolor\":\"white\",\"startlinecolor\":\"#2a3f5f\"},\"baxis\":{\"endlinecolor\":\"#2a3f5f\",\"gridcolor\":\"white\",\"linecolor\":\"white\",\"minorgridcolor\":\"white\",\"startlinecolor\":\"#2a3f5f\"},\"type\":\"carpet\"}],\"choropleth\":[{\"colorbar\":{\"outlinewidth\":0,\"ticks\":\"\"},\"type\":\"choropleth\"}],\"contourcarpet\":[{\"colorbar\":{\"outlinewidth\":0,\"ticks\":\"\"},\"type\":\"contourcarpet\"}],\"contour\":[{\"colorbar\":{\"outlinewidth\":0,\"ticks\":\"\"},\"colorscale\":[[0.0,\"#0d0887\"],[0.1111111111111111,\"#46039f\"],[0.2222222222222222,\"#7201a8\"],[0.3333333333333333,\"#9c179e\"],[0.4444444444444444,\"#bd3786\"],[0.5555555555555556,\"#d8576b\"],[0.6666666666666666,\"#ed7953\"],[0.7777777777777778,\"#fb9f3a\"],[0.8888888888888888,\"#fdca26\"],[1.0,\"#f0f921\"]],\"type\":\"contour\"}],\"heatmapgl\":[{\"colorbar\":{\"outlinewidth\":0,\"ticks\":\"\"},\"colorscale\":[[0.0,\"#0d0887\"],[0.1111111111111111,\"#46039f\"],[0.2222222222222222,\"#7201a8\"],[0.3333333333333333,\"#9c179e\"],[0.4444444444444444,\"#bd3786\"],[0.5555555555555556,\"#d8576b\"],[0.6666666666666666,\"#ed7953\"],[0.7777777777777778,\"#fb9f3a\"],[0.8888888888888888,\"#fdca26\"],[1.0,\"#f0f921\"]],\"type\":\"heatmapgl\"}],\"heatmap\":[{\"colorbar\":{\"outlinewidth\":0,\"ticks\":\"\"},\"colorscale\":[[0.0,\"#0d0887\"],[0.1111111111111111,\"#46039f\"],[0.2222222222222222,\"#7201a8\"],[0.3333333333333333,\"#9c179e\"],[0.4444444444444444,\"#bd3786\"],[0.5555555555555556,\"#d8576b\"],[0.6666666666666666,\"#ed7953\"],[0.7777777777777778,\"#fb9f3a\"],[0.8888888888888888,\"#fdca26\"],[1.0,\"#f0f921\"]],\"type\":\"heatmap\"}],\"histogram2dcontour\":[{\"colorbar\":{\"outlinewidth\":0,\"ticks\":\"\"},\"colorscale\":[[0.0,\"#0d0887\"],[0.1111111111111111,\"#46039f\"],[0.2222222222222222,\"#7201a8\"],[0.3333333333333333,\"#9c179e\"],[0.4444444444444444,\"#bd3786\"],[0.5555555555555556,\"#d8576b\"],[0.6666666666666666,\"#ed7953\"],[0.7777777777777778,\"#fb9f3a\"],[0.8888888888888888,\"#fdca26\"],[1.0,\"#f0f921\"]],\"type\":\"histogram2dcontour\"}],\"histogram2d\":[{\"colorbar\":{\"outlinewidth\":0,\"ticks\":\"\"},\"colorscale\":[[0.0,\"#0d0887\"],[0.1111111111111111,\"#46039f\"],[0.2222222222222222,\"#7201a8\"],[0.3333333333333333,\"#9c179e\"],[0.4444444444444444,\"#bd3786\"],[0.5555555555555556,\"#d8576b\"],[0.6666666666666666,\"#ed7953\"],[0.7777777777777778,\"#fb9f3a\"],[0.8888888888888888,\"#fdca26\"],[1.0,\"#f0f921\"]],\"type\":\"histogram2d\"}],\"histogram\":[{\"marker\":{\"pattern\":{\"fillmode\":\"overlay\",\"size\":10,\"solidity\":0.2}},\"type\":\"histogram\"}],\"mesh3d\":[{\"colorbar\":{\"outlinewidth\":0,\"ticks\":\"\"},\"type\":\"mesh3d\"}],\"parcoords\":[{\"line\":{\"colorbar\":{\"outlinewidth\":0,\"ticks\":\"\"}},\"type\":\"parcoords\"}],\"pie\":[{\"automargin\":true,\"type\":\"pie\"}],\"scatter3d\":[{\"line\":{\"colorbar\":{\"outlinewidth\":0,\"ticks\":\"\"}},\"marker\":{\"colorbar\":{\"outlinewidth\":0,\"ticks\":\"\"}},\"type\":\"scatter3d\"}],\"scattercarpet\":[{\"marker\":{\"colorbar\":{\"outlinewidth\":0,\"ticks\":\"\"}},\"type\":\"scattercarpet\"}],\"scattergeo\":[{\"marker\":{\"colorbar\":{\"outlinewidth\":0,\"ticks\":\"\"}},\"type\":\"scattergeo\"}],\"scattergl\":[{\"marker\":{\"colorbar\":{\"outlinewidth\":0,\"ticks\":\"\"}},\"type\":\"scattergl\"}],\"scattermapbox\":[{\"marker\":{\"colorbar\":{\"outlinewidth\":0,\"ticks\":\"\"}},\"type\":\"scattermapbox\"}],\"scatterpolargl\":[{\"marker\":{\"colorbar\":{\"outlinewidth\":0,\"ticks\":\"\"}},\"type\":\"scatterpolargl\"}],\"scatterpolar\":[{\"marker\":{\"colorbar\":{\"outlinewidth\":0,\"ticks\":\"\"}},\"type\":\"scatterpolar\"}],\"scatter\":[{\"fillpattern\":{\"fillmode\":\"overlay\",\"size\":10,\"solidity\":0.2},\"type\":\"scatter\"}],\"scatterternary\":[{\"marker\":{\"colorbar\":{\"outlinewidth\":0,\"ticks\":\"\"}},\"type\":\"scatterternary\"}],\"surface\":[{\"colorbar\":{\"outlinewidth\":0,\"ticks\":\"\"},\"colorscale\":[[0.0,\"#0d0887\"],[0.1111111111111111,\"#46039f\"],[0.2222222222222222,\"#7201a8\"],[0.3333333333333333,\"#9c179e\"],[0.4444444444444444,\"#bd3786\"],[0.5555555555555556,\"#d8576b\"],[0.6666666666666666,\"#ed7953\"],[0.7777777777777778,\"#fb9f3a\"],[0.8888888888888888,\"#fdca26\"],[1.0,\"#f0f921\"]],\"type\":\"surface\"}],\"table\":[{\"cells\":{\"fill\":{\"color\":\"#EBF0F8\"},\"line\":{\"color\":\"white\"}},\"header\":{\"fill\":{\"color\":\"#C8D4E3\"},\"line\":{\"color\":\"white\"}},\"type\":\"table\"}]},\"layout\":{\"annotationdefaults\":{\"arrowcolor\":\"#2a3f5f\",\"arrowhead\":0,\"arrowwidth\":1},\"autotypenumbers\":\"strict\",\"coloraxis\":{\"colorbar\":{\"outlinewidth\":0,\"ticks\":\"\"}},\"colorscale\":{\"diverging\":[[0,\"#8e0152\"],[0.1,\"#c51b7d\"],[0.2,\"#de77ae\"],[0.3,\"#f1b6da\"],[0.4,\"#fde0ef\"],[0.5,\"#f7f7f7\"],[0.6,\"#e6f5d0\"],[0.7,\"#b8e186\"],[0.8,\"#7fbc41\"],[0.9,\"#4d9221\"],[1,\"#276419\"]],\"sequential\":[[0.0,\"#0d0887\"],[0.1111111111111111,\"#46039f\"],[0.2222222222222222,\"#7201a8\"],[0.3333333333333333,\"#9c179e\"],[0.4444444444444444,\"#bd3786\"],[0.5555555555555556,\"#d8576b\"],[0.6666666666666666,\"#ed7953\"],[0.7777777777777778,\"#fb9f3a\"],[0.8888888888888888,\"#fdca26\"],[1.0,\"#f0f921\"]],\"sequentialminus\":[[0.0,\"#0d0887\"],[0.1111111111111111,\"#46039f\"],[0.2222222222222222,\"#7201a8\"],[0.3333333333333333,\"#9c179e\"],[0.4444444444444444,\"#bd3786\"],[0.5555555555555556,\"#d8576b\"],[0.6666666666666666,\"#ed7953\"],[0.7777777777777778,\"#fb9f3a\"],[0.8888888888888888,\"#fdca26\"],[1.0,\"#f0f921\"]]},\"colorway\":[\"#636efa\",\"#EF553B\",\"#00cc96\",\"#ab63fa\",\"#FFA15A\",\"#19d3f3\",\"#FF6692\",\"#B6E880\",\"#FF97FF\",\"#FECB52\"],\"font\":{\"color\":\"#2a3f5f\"},\"geo\":{\"bgcolor\":\"white\",\"lakecolor\":\"white\",\"landcolor\":\"#E5ECF6\",\"showlakes\":true,\"showland\":true,\"subunitcolor\":\"white\"},\"hoverlabel\":{\"align\":\"left\"},\"hovermode\":\"closest\",\"mapbox\":{\"style\":\"light\"},\"paper_bgcolor\":\"white\",\"plot_bgcolor\":\"#E5ECF6\",\"polar\":{\"angularaxis\":{\"gridcolor\":\"white\",\"linecolor\":\"white\",\"ticks\":\"\"},\"bgcolor\":\"#E5ECF6\",\"radialaxis\":{\"gridcolor\":\"white\",\"linecolor\":\"white\",\"ticks\":\"\"}},\"scene\":{\"xaxis\":{\"backgroundcolor\":\"#E5ECF6\",\"gridcolor\":\"white\",\"gridwidth\":2,\"linecolor\":\"white\",\"showbackground\":true,\"ticks\":\"\",\"zerolinecolor\":\"white\"},\"yaxis\":{\"backgroundcolor\":\"#E5ECF6\",\"gridcolor\":\"white\",\"gridwidth\":2,\"linecolor\":\"white\",\"showbackground\":true,\"ticks\":\"\",\"zerolinecolor\":\"white\"},\"zaxis\":{\"backgroundcolor\":\"#E5ECF6\",\"gridcolor\":\"white\",\"gridwidth\":2,\"linecolor\":\"white\",\"showbackground\":true,\"ticks\":\"\",\"zerolinecolor\":\"white\"}},\"shapedefaults\":{\"line\":{\"color\":\"#2a3f5f\"}},\"ternary\":{\"aaxis\":{\"gridcolor\":\"white\",\"linecolor\":\"white\",\"ticks\":\"\"},\"baxis\":{\"gridcolor\":\"white\",\"linecolor\":\"white\",\"ticks\":\"\"},\"bgcolor\":\"#E5ECF6\",\"caxis\":{\"gridcolor\":\"white\",\"linecolor\":\"white\",\"ticks\":\"\"}},\"title\":{\"x\":0.05},\"xaxis\":{\"automargin\":true,\"gridcolor\":\"white\",\"linecolor\":\"white\",\"ticks\":\"\",\"title\":{\"standoff\":15},\"zerolinecolor\":\"white\",\"zerolinewidth\":2},\"yaxis\":{\"automargin\":true,\"gridcolor\":\"white\",\"linecolor\":\"white\",\"ticks\":\"\",\"title\":{\"standoff\":15},\"zerolinecolor\":\"white\",\"zerolinewidth\":2}}},\"title\":{\"text\":\"Evoluci\\u00f3n de la preocupaci\\u00f3n por la vivienda en Espa\\u00f1a\"},\"xaxis\":{\"ticklen\":5,\"title\":{\"text\":\"Evoluci\\u00f3n por meses\"}}},                        {\"responsive\": true}                    ).then(function(){\n",
       "                            \n",
       "var gd = document.getElementById('afaab8df-daf4-4a16-86b7-630965a84f72');\n",
       "var x = new MutationObserver(function (mutations, observer) {{\n",
       "        var display = window.getComputedStyle(gd).display;\n",
       "        if (!display || display === 'none') {{\n",
       "            console.log([gd, 'removed!']);\n",
       "            Plotly.purge(gd);\n",
       "            observer.disconnect();\n",
       "        }}\n",
       "}});\n",
       "\n",
       "// Listen for the removal of the full notebook cells\n",
       "var notebookContainer = gd.closest('#notebook-container');\n",
       "if (notebookContainer) {{\n",
       "    x.observe(notebookContainer, {childList: true});\n",
       "}}\n",
       "\n",
       "// Listen for the clearing of the current output cell\n",
       "var outputEl = gd.closest('.output');\n",
       "if (outputEl) {{\n",
       "    x.observe(outputEl, {childList: true});\n",
       "}}\n",
       "\n",
       "                        })                };                });            </script>        </div>"
      ]
     },
     "metadata": {},
     "output_type": "display_data"
    }
   ],
   "source": [
    "trace1 = go.Scatter(\n",
    "                    x = preocupacion_viv['Periodo'],\n",
    "                    y = preocupacion_viv['% preocupación vivienda'],\n",
    "                    name = 'preocupacion por la vivienda',\n",
    "                    mode= 'lines',\n",
    "                    marker = dict(color = 'rgba(16, 112, 2, 0.8)'),\n",
    "                    text = '% preocupacion')\n",
    "\n",
    "\n",
    "data = [trace1]\n",
    "\n",
    "layout = dict(title = 'Evolución de la preocupación por la vivienda en España',\n",
    "             xaxis= dict(title= 'Evolución por meses',ticklen= 5)\n",
    "           )\n",
    "\n",
    "fig = go.Figure(data = data, layout=layout)\n",
    "\n",
    "iplot(fig)\n",
    "fig.write_html(\"Evolución de la preocupación por la vivienda en España.html\")"
   ]
  },
  {
   "cell_type": "markdown",
   "metadata": {},
   "source": [
    "# Hipótesis1\n",
    "### Bajos salarios y subida de los alquileres impiden la emancipación de los jóvenes"
   ]
  },
  {
   "cell_type": "markdown",
   "metadata": {},
   "source": [
    "Los jóvenes tienen grandes dificultades para poder acceder a una vivienda en todo el Estado, hasta el punto que solo un 16,6% de los de entre 18 y 29 años están emancipados, según el Observatorio de Emancipación del Consejo de la Juventud de España. El alto precio de los alquileres, la precariedad laboral y sueldos que no alcanzan los 20.000 euros brutos de media al año, comportan que no puedan independizarse o se vean obligados a compartir un piso. "
   ]
  },
  {
   "cell_type": "code",
   "execution_count": 12,
   "metadata": {},
   "outputs": [],
   "source": [
    "injuve_diez_años = f.injuve_diez_años('2014.1T EPA','2014.2T EPA','2014.3T EPA','2014.4T EPA','2015.1T EPA','2015.2T EPA','2015.3T EPA','2015.4T EPA',\n",
    "                                      '2016.1T EPA','2016.2T EPA','2016.3T EPA','2016.4T EPA','2017.1T EPA','2017.2T EPA','2017.3T EPA','2017.4T EPA',\n",
    "                                      '2018.1T EPA','2018.2T EPA','2018.3T EPA','2018.4T EPA','2019.1T EPA','2019.2T EPA','2019.3T EPA','2019.4T EPA',\n",
    "                                      '2020.1T EPA','2020.2T EPA','2020.3T EPA','2020.4T EPA','2021.1T EPA','2021.2T EPA','2021.3T EPA','2021.4T EPA',\n",
    "                                      '2022.1T EPA','2022.2T EPA','2022.3T EPA','2022.4T EPA','2023.1T EPA','2023.2T EPA','2023.3T EPA','2023.4T EPA')"
   ]
  },
  {
   "cell_type": "code",
   "execution_count": 13,
   "metadata": {},
   "outputs": [
    {
     "data": {
      "text/html": [
       "<div>\n",
       "<style scoped>\n",
       "    .dataframe tbody tr th:only-of-type {\n",
       "        vertical-align: middle;\n",
       "    }\n",
       "\n",
       "    .dataframe tbody tr th {\n",
       "        vertical-align: top;\n",
       "    }\n",
       "\n",
       "    .dataframe thead th {\n",
       "        text-align: right;\n",
       "    }\n",
       "</style>\n",
       "<table border=\"1\" class=\"dataframe\">\n",
       "  <thead>\n",
       "    <tr style=\"text-align: right;\">\n",
       "      <th></th>\n",
       "      <th>1º trim 2014</th>\n",
       "      <th>2º trim 2014</th>\n",
       "      <th>3º trim 2014</th>\n",
       "      <th>4º trim 2014</th>\n",
       "      <th>1º trim 2015</th>\n",
       "      <th>2º trim 2015</th>\n",
       "      <th>3º trim 2015</th>\n",
       "      <th>4º trim 2015</th>\n",
       "      <th>1º trim 2016</th>\n",
       "      <th>2º trim 2016</th>\n",
       "      <th>...</th>\n",
       "      <th>3º trim 2021</th>\n",
       "      <th>4º trim 2021</th>\n",
       "      <th>1º trim 2022</th>\n",
       "      <th>2º trim 2022</th>\n",
       "      <th>3º trim 2022</th>\n",
       "      <th>4º trim 2022</th>\n",
       "      <th>1º trim 2023</th>\n",
       "      <th>2º trim 2024</th>\n",
       "      <th>3º trim 2023</th>\n",
       "      <th>4º trim 2023</th>\n",
       "    </tr>\n",
       "    <tr>\n",
       "      <th>JÓVENES DE 16 A 29 AÑOS EN LA EPA</th>\n",
       "      <th></th>\n",
       "      <th></th>\n",
       "      <th></th>\n",
       "      <th></th>\n",
       "      <th></th>\n",
       "      <th></th>\n",
       "      <th></th>\n",
       "      <th></th>\n",
       "      <th></th>\n",
       "      <th></th>\n",
       "      <th></th>\n",
       "      <th></th>\n",
       "      <th></th>\n",
       "      <th></th>\n",
       "      <th></th>\n",
       "      <th></th>\n",
       "      <th></th>\n",
       "      <th></th>\n",
       "      <th></th>\n",
       "      <th></th>\n",
       "      <th></th>\n",
       "    </tr>\n",
       "  </thead>\n",
       "  <tbody>\n",
       "    <tr>\n",
       "      <th>Tasa de jóvenes (%) s/Tot16y+años</th>\n",
       "      <td>17.58</td>\n",
       "      <td>17.47</td>\n",
       "      <td>17.37</td>\n",
       "      <td>17.30</td>\n",
       "      <td>17.23</td>\n",
       "      <td>17.17</td>\n",
       "      <td>17.11</td>\n",
       "      <td>17.02</td>\n",
       "      <td>16.97</td>\n",
       "      <td>16.93</td>\n",
       "      <td>...</td>\n",
       "      <td>17.22</td>\n",
       "      <td>17.22</td>\n",
       "      <td>17.26</td>\n",
       "      <td>17.31</td>\n",
       "      <td>17.40</td>\n",
       "      <td>17.49</td>\n",
       "      <td>17.54</td>\n",
       "      <td>17.55</td>\n",
       "      <td>17.65</td>\n",
       "      <td>17.78</td>\n",
       "    </tr>\n",
       "    <tr>\n",
       "      <th>Tasa de Emancipación  (%)</th>\n",
       "      <td>23.78</td>\n",
       "      <td>23.88</td>\n",
       "      <td>23.36</td>\n",
       "      <td>23.07</td>\n",
       "      <td>22.98</td>\n",
       "      <td>22.36</td>\n",
       "      <td>22.02</td>\n",
       "      <td>22.10</td>\n",
       "      <td>22.05</td>\n",
       "      <td>21.33</td>\n",
       "      <td>...</td>\n",
       "      <td>15.91</td>\n",
       "      <td>17.18</td>\n",
       "      <td>17.14</td>\n",
       "      <td>17.91</td>\n",
       "      <td>17.24</td>\n",
       "      <td>17.79</td>\n",
       "      <td>18.13</td>\n",
       "      <td>18.31</td>\n",
       "      <td>18.21</td>\n",
       "      <td>18.73</td>\n",
       "    </tr>\n",
       "    <tr>\n",
       "      <th>Tasa de Actividad (%)</th>\n",
       "      <td>58.14</td>\n",
       "      <td>58.16</td>\n",
       "      <td>59.33</td>\n",
       "      <td>57.95</td>\n",
       "      <td>56.79</td>\n",
       "      <td>57.03</td>\n",
       "      <td>58.35</td>\n",
       "      <td>55.86</td>\n",
       "      <td>54.90</td>\n",
       "      <td>55.73</td>\n",
       "      <td>...</td>\n",
       "      <td>55.84</td>\n",
       "      <td>52.37</td>\n",
       "      <td>52.71</td>\n",
       "      <td>54.25</td>\n",
       "      <td>55.26</td>\n",
       "      <td>52.66</td>\n",
       "      <td>52.50</td>\n",
       "      <td>54.20</td>\n",
       "      <td>56.32</td>\n",
       "      <td>53.82</td>\n",
       "    </tr>\n",
       "    <tr>\n",
       "      <th>Tasa de Inactividad (%)</th>\n",
       "      <td>41.86</td>\n",
       "      <td>41.84</td>\n",
       "      <td>40.67</td>\n",
       "      <td>42.05</td>\n",
       "      <td>43.21</td>\n",
       "      <td>42.97</td>\n",
       "      <td>41.65</td>\n",
       "      <td>44.14</td>\n",
       "      <td>45.10</td>\n",
       "      <td>44.27</td>\n",
       "      <td>...</td>\n",
       "      <td>44.16</td>\n",
       "      <td>47.63</td>\n",
       "      <td>47.29</td>\n",
       "      <td>45.75</td>\n",
       "      <td>44.74</td>\n",
       "      <td>47.34</td>\n",
       "      <td>47.50</td>\n",
       "      <td>45.80</td>\n",
       "      <td>43.68</td>\n",
       "      <td>46.18</td>\n",
       "    </tr>\n",
       "    <tr>\n",
       "      <th>Tasa de Empleo (%)</th>\n",
       "      <td>33.76</td>\n",
       "      <td>35.27</td>\n",
       "      <td>36.42</td>\n",
       "      <td>35.51</td>\n",
       "      <td>34.79</td>\n",
       "      <td>35.92</td>\n",
       "      <td>37.42</td>\n",
       "      <td>36.23</td>\n",
       "      <td>35.32</td>\n",
       "      <td>36.56</td>\n",
       "      <td>...</td>\n",
       "      <td>41.63</td>\n",
       "      <td>40.00</td>\n",
       "      <td>40.42</td>\n",
       "      <td>43.11</td>\n",
       "      <td>42.36</td>\n",
       "      <td>40.95</td>\n",
       "      <td>40.63</td>\n",
       "      <td>43.31</td>\n",
       "      <td>44.37</td>\n",
       "      <td>42.43</td>\n",
       "    </tr>\n",
       "  </tbody>\n",
       "</table>\n",
       "<p>5 rows × 40 columns</p>\n",
       "</div>"
      ],
      "text/plain": [
       "                                   1º trim 2014  2º trim 2014  3º trim 2014  \\\n",
       "JÓVENES DE 16 A 29 AÑOS EN LA EPA                                             \n",
       "Tasa de jóvenes (%) s/Tot16y+años         17.58         17.47         17.37   \n",
       "Tasa de Emancipación  (%)                 23.78         23.88         23.36   \n",
       "Tasa de Actividad (%)                     58.14         58.16         59.33   \n",
       "Tasa de Inactividad (%)                   41.86         41.84         40.67   \n",
       "Tasa de Empleo (%)                        33.76         35.27         36.42   \n",
       "\n",
       "                                    4º trim 2014  1º trim 2015  2º trim 2015  \\\n",
       "JÓVENES DE 16 A 29 AÑOS EN LA EPA                                              \n",
       "Tasa de jóvenes (%) s/Tot16y+años          17.30         17.23         17.17   \n",
       "Tasa de Emancipación  (%)                  23.07         22.98         22.36   \n",
       "Tasa de Actividad (%)                      57.95         56.79         57.03   \n",
       "Tasa de Inactividad (%)                    42.05         43.21         42.97   \n",
       "Tasa de Empleo (%)                         35.51         34.79         35.92   \n",
       "\n",
       "                                   3º trim 2015  4º trim 2015  1º trim 2016  \\\n",
       "JÓVENES DE 16 A 29 AÑOS EN LA EPA                                             \n",
       "Tasa de jóvenes (%) s/Tot16y+años         17.11         17.02         16.97   \n",
       "Tasa de Emancipación  (%)                 22.02         22.10         22.05   \n",
       "Tasa de Actividad (%)                     58.35         55.86         54.90   \n",
       "Tasa de Inactividad (%)                   41.65         44.14         45.10   \n",
       "Tasa de Empleo (%)                        37.42         36.23         35.32   \n",
       "\n",
       "                                   2º trim 2016  ...  3º trim 2021  \\\n",
       "JÓVENES DE 16 A 29 AÑOS EN LA EPA                ...                 \n",
       "Tasa de jóvenes (%) s/Tot16y+años         16.93  ...         17.22   \n",
       "Tasa de Emancipación  (%)                 21.33  ...         15.91   \n",
       "Tasa de Actividad (%)                     55.73  ...         55.84   \n",
       "Tasa de Inactividad (%)                   44.27  ...         44.16   \n",
       "Tasa de Empleo (%)                        36.56  ...         41.63   \n",
       "\n",
       "                                   4º trim 2021  1º trim 2022  2º trim 2022  \\\n",
       "JÓVENES DE 16 A 29 AÑOS EN LA EPA                                             \n",
       "Tasa de jóvenes (%) s/Tot16y+años         17.22         17.26         17.31   \n",
       "Tasa de Emancipación  (%)                 17.18         17.14         17.91   \n",
       "Tasa de Actividad (%)                     52.37         52.71         54.25   \n",
       "Tasa de Inactividad (%)                   47.63         47.29         45.75   \n",
       "Tasa de Empleo (%)                        40.00         40.42         43.11   \n",
       "\n",
       "                                   3º trim 2022  4º trim 2022  1º trim 2023  \\\n",
       "JÓVENES DE 16 A 29 AÑOS EN LA EPA                                             \n",
       "Tasa de jóvenes (%) s/Tot16y+años         17.40         17.49         17.54   \n",
       "Tasa de Emancipación  (%)                 17.24         17.79         18.13   \n",
       "Tasa de Actividad (%)                     55.26         52.66         52.50   \n",
       "Tasa de Inactividad (%)                   44.74         47.34         47.50   \n",
       "Tasa de Empleo (%)                        42.36         40.95         40.63   \n",
       "\n",
       "                                   2º trim 2024  3º trim 2023  4º trim 2023  \n",
       "JÓVENES DE 16 A 29 AÑOS EN LA EPA                                            \n",
       "Tasa de jóvenes (%) s/Tot16y+años         17.55         17.65         17.78  \n",
       "Tasa de Emancipación  (%)                 18.31         18.21         18.73  \n",
       "Tasa de Actividad (%)                     54.20         56.32         53.82  \n",
       "Tasa de Inactividad (%)                   45.80         43.68         46.18  \n",
       "Tasa de Empleo (%)                        43.31         44.37         42.43  \n",
       "\n",
       "[5 rows x 40 columns]"
      ]
     },
     "execution_count": 13,
     "metadata": {},
     "output_type": "execute_result"
    }
   ],
   "source": [
    "injuve_diez_años"
   ]
  },
  {
   "cell_type": "code",
   "execution_count": 14,
   "metadata": {},
   "outputs": [
    {
     "data": {
      "application/vnd.plotly.v1+json": {
       "config": {
        "linkText": "Export to plot.ly",
        "plotlyServerURL": "https://plot.ly",
        "showLink": false
       },
       "data": [
        {
         "marker": {
          "color": "rgb(250, 124, 163)"
         },
         "mode": "lines",
         "name": "Tasa de Emancipación (%",
         "text": "% emancipación",
         "type": "scatter",
         "x": [
          "1º trim 2014",
          "2º trim 2014",
          "3º trim 2014",
          " 4º trim 2014",
          "1º trim 2015",
          "2º trim 2015",
          "3º trim 2015",
          "4º trim 2015",
          "1º trim 2016",
          "2º trim 2016",
          "3º trim 2016",
          "4º trim 2016",
          "1º trim 2017",
          "2º trim 2017",
          "3º trim 2017",
          "4º trim 2017",
          "1º trim 2018",
          "2º trim 2018",
          "3º trim 2018",
          "4º trim 2018",
          "1º trim 2019",
          "2º trim 2019",
          "3º trim 2019",
          "4º trim 2019",
          "1º trim 2020",
          "2º trim 2020",
          "3º trim 2020",
          "4º trim 2020",
          "1º trim 2021",
          "2º trim 2021",
          "3º trim 2021",
          "4º trim 2021",
          "1º trim 2022",
          "2º trim 2022",
          "3º trim 2022",
          "4º trim 2022",
          "1º trim 2023",
          "2º trim 2024",
          "3º trim 2023",
          "4º trim 2023"
         ],
         "y": [
          23.78,
          23.88,
          23.36,
          23.07,
          22.98,
          22.36,
          22.02,
          22.1,
          22.05,
          21.33,
          21.57,
          21.16,
          21.05,
          20.95,
          20.94,
          21.03,
          21.14,
          21.18,
          20.85,
          20.87,
          20.81,
          20.39,
          20.59,
          20.64,
          20.21,
          17.87,
          17.16,
          17.16,
          16.83,
          16.75,
          15.91,
          17.18,
          17.14,
          17.91,
          17.24,
          17.79,
          18.13,
          18.31,
          18.21,
          18.73
         ]
        },
        {
         "marker": {
          "color": "rgba(0, 255, 200, 0.8)"
         },
         "mode": "lines",
         "name": "Tasa de Empleo (%)",
         "text": "% empleo",
         "type": "scatter",
         "x": [
          "1º trim 2014",
          "2º trim 2014",
          "3º trim 2014",
          " 4º trim 2014",
          "1º trim 2015",
          "2º trim 2015",
          "3º trim 2015",
          "4º trim 2015",
          "1º trim 2016",
          "2º trim 2016",
          "3º trim 2016",
          "4º trim 2016",
          "1º trim 2017",
          "2º trim 2017",
          "3º trim 2017",
          "4º trim 2017",
          "1º trim 2018",
          "2º trim 2018",
          "3º trim 2018",
          "4º trim 2018",
          "1º trim 2019",
          "2º trim 2019",
          "3º trim 2019",
          "4º trim 2019",
          "1º trim 2020",
          "2º trim 2020",
          "3º trim 2020",
          "4º trim 2020",
          "1º trim 2021",
          "2º trim 2021",
          "3º trim 2021",
          "4º trim 2021",
          "1º trim 2022",
          "2º trim 2022",
          "3º trim 2022",
          "4º trim 2022",
          "1º trim 2023",
          "2º trim 2024",
          "3º trim 2023",
          "4º trim 2023"
         ],
         "y": [
          33.76,
          35.27,
          36.42,
          35.51,
          34.79,
          35.92,
          37.42,
          36.23,
          35.32,
          36.56,
          38.95,
          37.39,
          37.12,
          38.92,
          41.07,
          39.53,
          38.71,
          40.48,
          42.05,
          40.72,
          39.47,
          40.77,
          42.42,
          41.12,
          39.39,
          33.53,
          36.43,
          36.43,
          35.68,
          38.37,
          41.63,
          40,
          40.42,
          43.11,
          42.36,
          40.95,
          40.63,
          43.31,
          44.37,
          42.43
         ]
        }
       ],
       "layout": {
        "template": {
         "data": {
          "bar": [
           {
            "error_x": {
             "color": "#2a3f5f"
            },
            "error_y": {
             "color": "#2a3f5f"
            },
            "marker": {
             "line": {
              "color": "#E5ECF6",
              "width": 0.5
             },
             "pattern": {
              "fillmode": "overlay",
              "size": 10,
              "solidity": 0.2
             }
            },
            "type": "bar"
           }
          ],
          "barpolar": [
           {
            "marker": {
             "line": {
              "color": "#E5ECF6",
              "width": 0.5
             },
             "pattern": {
              "fillmode": "overlay",
              "size": 10,
              "solidity": 0.2
             }
            },
            "type": "barpolar"
           }
          ],
          "carpet": [
           {
            "aaxis": {
             "endlinecolor": "#2a3f5f",
             "gridcolor": "white",
             "linecolor": "white",
             "minorgridcolor": "white",
             "startlinecolor": "#2a3f5f"
            },
            "baxis": {
             "endlinecolor": "#2a3f5f",
             "gridcolor": "white",
             "linecolor": "white",
             "minorgridcolor": "white",
             "startlinecolor": "#2a3f5f"
            },
            "type": "carpet"
           }
          ],
          "choropleth": [
           {
            "colorbar": {
             "outlinewidth": 0,
             "ticks": ""
            },
            "type": "choropleth"
           }
          ],
          "contour": [
           {
            "colorbar": {
             "outlinewidth": 0,
             "ticks": ""
            },
            "colorscale": [
             [
              0,
              "#0d0887"
             ],
             [
              0.1111111111111111,
              "#46039f"
             ],
             [
              0.2222222222222222,
              "#7201a8"
             ],
             [
              0.3333333333333333,
              "#9c179e"
             ],
             [
              0.4444444444444444,
              "#bd3786"
             ],
             [
              0.5555555555555556,
              "#d8576b"
             ],
             [
              0.6666666666666666,
              "#ed7953"
             ],
             [
              0.7777777777777778,
              "#fb9f3a"
             ],
             [
              0.8888888888888888,
              "#fdca26"
             ],
             [
              1,
              "#f0f921"
             ]
            ],
            "type": "contour"
           }
          ],
          "contourcarpet": [
           {
            "colorbar": {
             "outlinewidth": 0,
             "ticks": ""
            },
            "type": "contourcarpet"
           }
          ],
          "heatmap": [
           {
            "colorbar": {
             "outlinewidth": 0,
             "ticks": ""
            },
            "colorscale": [
             [
              0,
              "#0d0887"
             ],
             [
              0.1111111111111111,
              "#46039f"
             ],
             [
              0.2222222222222222,
              "#7201a8"
             ],
             [
              0.3333333333333333,
              "#9c179e"
             ],
             [
              0.4444444444444444,
              "#bd3786"
             ],
             [
              0.5555555555555556,
              "#d8576b"
             ],
             [
              0.6666666666666666,
              "#ed7953"
             ],
             [
              0.7777777777777778,
              "#fb9f3a"
             ],
             [
              0.8888888888888888,
              "#fdca26"
             ],
             [
              1,
              "#f0f921"
             ]
            ],
            "type": "heatmap"
           }
          ],
          "heatmapgl": [
           {
            "colorbar": {
             "outlinewidth": 0,
             "ticks": ""
            },
            "colorscale": [
             [
              0,
              "#0d0887"
             ],
             [
              0.1111111111111111,
              "#46039f"
             ],
             [
              0.2222222222222222,
              "#7201a8"
             ],
             [
              0.3333333333333333,
              "#9c179e"
             ],
             [
              0.4444444444444444,
              "#bd3786"
             ],
             [
              0.5555555555555556,
              "#d8576b"
             ],
             [
              0.6666666666666666,
              "#ed7953"
             ],
             [
              0.7777777777777778,
              "#fb9f3a"
             ],
             [
              0.8888888888888888,
              "#fdca26"
             ],
             [
              1,
              "#f0f921"
             ]
            ],
            "type": "heatmapgl"
           }
          ],
          "histogram": [
           {
            "marker": {
             "pattern": {
              "fillmode": "overlay",
              "size": 10,
              "solidity": 0.2
             }
            },
            "type": "histogram"
           }
          ],
          "histogram2d": [
           {
            "colorbar": {
             "outlinewidth": 0,
             "ticks": ""
            },
            "colorscale": [
             [
              0,
              "#0d0887"
             ],
             [
              0.1111111111111111,
              "#46039f"
             ],
             [
              0.2222222222222222,
              "#7201a8"
             ],
             [
              0.3333333333333333,
              "#9c179e"
             ],
             [
              0.4444444444444444,
              "#bd3786"
             ],
             [
              0.5555555555555556,
              "#d8576b"
             ],
             [
              0.6666666666666666,
              "#ed7953"
             ],
             [
              0.7777777777777778,
              "#fb9f3a"
             ],
             [
              0.8888888888888888,
              "#fdca26"
             ],
             [
              1,
              "#f0f921"
             ]
            ],
            "type": "histogram2d"
           }
          ],
          "histogram2dcontour": [
           {
            "colorbar": {
             "outlinewidth": 0,
             "ticks": ""
            },
            "colorscale": [
             [
              0,
              "#0d0887"
             ],
             [
              0.1111111111111111,
              "#46039f"
             ],
             [
              0.2222222222222222,
              "#7201a8"
             ],
             [
              0.3333333333333333,
              "#9c179e"
             ],
             [
              0.4444444444444444,
              "#bd3786"
             ],
             [
              0.5555555555555556,
              "#d8576b"
             ],
             [
              0.6666666666666666,
              "#ed7953"
             ],
             [
              0.7777777777777778,
              "#fb9f3a"
             ],
             [
              0.8888888888888888,
              "#fdca26"
             ],
             [
              1,
              "#f0f921"
             ]
            ],
            "type": "histogram2dcontour"
           }
          ],
          "mesh3d": [
           {
            "colorbar": {
             "outlinewidth": 0,
             "ticks": ""
            },
            "type": "mesh3d"
           }
          ],
          "parcoords": [
           {
            "line": {
             "colorbar": {
              "outlinewidth": 0,
              "ticks": ""
             }
            },
            "type": "parcoords"
           }
          ],
          "pie": [
           {
            "automargin": true,
            "type": "pie"
           }
          ],
          "scatter": [
           {
            "fillpattern": {
             "fillmode": "overlay",
             "size": 10,
             "solidity": 0.2
            },
            "type": "scatter"
           }
          ],
          "scatter3d": [
           {
            "line": {
             "colorbar": {
              "outlinewidth": 0,
              "ticks": ""
             }
            },
            "marker": {
             "colorbar": {
              "outlinewidth": 0,
              "ticks": ""
             }
            },
            "type": "scatter3d"
           }
          ],
          "scattercarpet": [
           {
            "marker": {
             "colorbar": {
              "outlinewidth": 0,
              "ticks": ""
             }
            },
            "type": "scattercarpet"
           }
          ],
          "scattergeo": [
           {
            "marker": {
             "colorbar": {
              "outlinewidth": 0,
              "ticks": ""
             }
            },
            "type": "scattergeo"
           }
          ],
          "scattergl": [
           {
            "marker": {
             "colorbar": {
              "outlinewidth": 0,
              "ticks": ""
             }
            },
            "type": "scattergl"
           }
          ],
          "scattermapbox": [
           {
            "marker": {
             "colorbar": {
              "outlinewidth": 0,
              "ticks": ""
             }
            },
            "type": "scattermapbox"
           }
          ],
          "scatterpolar": [
           {
            "marker": {
             "colorbar": {
              "outlinewidth": 0,
              "ticks": ""
             }
            },
            "type": "scatterpolar"
           }
          ],
          "scatterpolargl": [
           {
            "marker": {
             "colorbar": {
              "outlinewidth": 0,
              "ticks": ""
             }
            },
            "type": "scatterpolargl"
           }
          ],
          "scatterternary": [
           {
            "marker": {
             "colorbar": {
              "outlinewidth": 0,
              "ticks": ""
             }
            },
            "type": "scatterternary"
           }
          ],
          "surface": [
           {
            "colorbar": {
             "outlinewidth": 0,
             "ticks": ""
            },
            "colorscale": [
             [
              0,
              "#0d0887"
             ],
             [
              0.1111111111111111,
              "#46039f"
             ],
             [
              0.2222222222222222,
              "#7201a8"
             ],
             [
              0.3333333333333333,
              "#9c179e"
             ],
             [
              0.4444444444444444,
              "#bd3786"
             ],
             [
              0.5555555555555556,
              "#d8576b"
             ],
             [
              0.6666666666666666,
              "#ed7953"
             ],
             [
              0.7777777777777778,
              "#fb9f3a"
             ],
             [
              0.8888888888888888,
              "#fdca26"
             ],
             [
              1,
              "#f0f921"
             ]
            ],
            "type": "surface"
           }
          ],
          "table": [
           {
            "cells": {
             "fill": {
              "color": "#EBF0F8"
             },
             "line": {
              "color": "white"
             }
            },
            "header": {
             "fill": {
              "color": "#C8D4E3"
             },
             "line": {
              "color": "white"
             }
            },
            "type": "table"
           }
          ]
         },
         "layout": {
          "annotationdefaults": {
           "arrowcolor": "#2a3f5f",
           "arrowhead": 0,
           "arrowwidth": 1
          },
          "autotypenumbers": "strict",
          "coloraxis": {
           "colorbar": {
            "outlinewidth": 0,
            "ticks": ""
           }
          },
          "colorscale": {
           "diverging": [
            [
             0,
             "#8e0152"
            ],
            [
             0.1,
             "#c51b7d"
            ],
            [
             0.2,
             "#de77ae"
            ],
            [
             0.3,
             "#f1b6da"
            ],
            [
             0.4,
             "#fde0ef"
            ],
            [
             0.5,
             "#f7f7f7"
            ],
            [
             0.6,
             "#e6f5d0"
            ],
            [
             0.7,
             "#b8e186"
            ],
            [
             0.8,
             "#7fbc41"
            ],
            [
             0.9,
             "#4d9221"
            ],
            [
             1,
             "#276419"
            ]
           ],
           "sequential": [
            [
             0,
             "#0d0887"
            ],
            [
             0.1111111111111111,
             "#46039f"
            ],
            [
             0.2222222222222222,
             "#7201a8"
            ],
            [
             0.3333333333333333,
             "#9c179e"
            ],
            [
             0.4444444444444444,
             "#bd3786"
            ],
            [
             0.5555555555555556,
             "#d8576b"
            ],
            [
             0.6666666666666666,
             "#ed7953"
            ],
            [
             0.7777777777777778,
             "#fb9f3a"
            ],
            [
             0.8888888888888888,
             "#fdca26"
            ],
            [
             1,
             "#f0f921"
            ]
           ],
           "sequentialminus": [
            [
             0,
             "#0d0887"
            ],
            [
             0.1111111111111111,
             "#46039f"
            ],
            [
             0.2222222222222222,
             "#7201a8"
            ],
            [
             0.3333333333333333,
             "#9c179e"
            ],
            [
             0.4444444444444444,
             "#bd3786"
            ],
            [
             0.5555555555555556,
             "#d8576b"
            ],
            [
             0.6666666666666666,
             "#ed7953"
            ],
            [
             0.7777777777777778,
             "#fb9f3a"
            ],
            [
             0.8888888888888888,
             "#fdca26"
            ],
            [
             1,
             "#f0f921"
            ]
           ]
          },
          "colorway": [
           "#636efa",
           "#EF553B",
           "#00cc96",
           "#ab63fa",
           "#FFA15A",
           "#19d3f3",
           "#FF6692",
           "#B6E880",
           "#FF97FF",
           "#FECB52"
          ],
          "font": {
           "color": "#2a3f5f"
          },
          "geo": {
           "bgcolor": "white",
           "lakecolor": "white",
           "landcolor": "#E5ECF6",
           "showlakes": true,
           "showland": true,
           "subunitcolor": "white"
          },
          "hoverlabel": {
           "align": "left"
          },
          "hovermode": "closest",
          "mapbox": {
           "style": "light"
          },
          "paper_bgcolor": "white",
          "plot_bgcolor": "#E5ECF6",
          "polar": {
           "angularaxis": {
            "gridcolor": "white",
            "linecolor": "white",
            "ticks": ""
           },
           "bgcolor": "#E5ECF6",
           "radialaxis": {
            "gridcolor": "white",
            "linecolor": "white",
            "ticks": ""
           }
          },
          "scene": {
           "xaxis": {
            "backgroundcolor": "#E5ECF6",
            "gridcolor": "white",
            "gridwidth": 2,
            "linecolor": "white",
            "showbackground": true,
            "ticks": "",
            "zerolinecolor": "white"
           },
           "yaxis": {
            "backgroundcolor": "#E5ECF6",
            "gridcolor": "white",
            "gridwidth": 2,
            "linecolor": "white",
            "showbackground": true,
            "ticks": "",
            "zerolinecolor": "white"
           },
           "zaxis": {
            "backgroundcolor": "#E5ECF6",
            "gridcolor": "white",
            "gridwidth": 2,
            "linecolor": "white",
            "showbackground": true,
            "ticks": "",
            "zerolinecolor": "white"
           }
          },
          "shapedefaults": {
           "line": {
            "color": "#2a3f5f"
           }
          },
          "ternary": {
           "aaxis": {
            "gridcolor": "white",
            "linecolor": "white",
            "ticks": ""
           },
           "baxis": {
            "gridcolor": "white",
            "linecolor": "white",
            "ticks": ""
           },
           "bgcolor": "#E5ECF6",
           "caxis": {
            "gridcolor": "white",
            "linecolor": "white",
            "ticks": ""
           }
          },
          "title": {
           "x": 0.05
          },
          "xaxis": {
           "automargin": true,
           "gridcolor": "white",
           "linecolor": "white",
           "ticks": "",
           "title": {
            "standoff": 15
           },
           "zerolinecolor": "white",
           "zerolinewidth": 2
          },
          "yaxis": {
           "automargin": true,
           "gridcolor": "white",
           "linecolor": "white",
           "ticks": "",
           "title": {
            "standoff": 15
           },
           "zerolinecolor": "white",
           "zerolinewidth": 2
          }
         }
        },
        "title": {
         "text": "Jóvenes de 16 a 29 años en la EPA (Edad de Población Activa)"
        },
        "xaxis": {
         "ticklen": 5,
         "title": {
          "text": "Años"
         }
        }
       }
      },
      "text/html": [
       "<div>                            <div id=\"71218c18-955e-4650-9961-f104b4b51d5f\" class=\"plotly-graph-div\" style=\"height:525px; width:100%;\"></div>            <script type=\"text/javascript\">                require([\"plotly\"], function(Plotly) {                    window.PLOTLYENV=window.PLOTLYENV || {};                                    if (document.getElementById(\"71218c18-955e-4650-9961-f104b4b51d5f\")) {                    Plotly.newPlot(                        \"71218c18-955e-4650-9961-f104b4b51d5f\",                        [{\"marker\":{\"color\":\"rgb(250, 124, 163)\"},\"mode\":\"lines\",\"name\":\"Tasa de Emancipaci\\u00f3n (%\",\"text\":\"% emancipaci\\u00f3n\",\"x\":[\"1\\u00ba trim 2014\",\"2\\u00ba trim 2014\",\"3\\u00ba trim 2014\",\" 4\\u00ba trim 2014\",\"1\\u00ba trim 2015\",\"2\\u00ba trim 2015\",\"3\\u00ba trim 2015\",\"4\\u00ba trim 2015\",\"1\\u00ba trim 2016\",\"2\\u00ba trim 2016\",\"3\\u00ba trim 2016\",\"4\\u00ba trim 2016\",\"1\\u00ba trim 2017\",\"2\\u00ba trim 2017\",\"3\\u00ba trim 2017\",\"4\\u00ba trim 2017\",\"1\\u00ba trim 2018\",\"2\\u00ba trim 2018\",\"3\\u00ba trim 2018\",\"4\\u00ba trim 2018\",\"1\\u00ba trim 2019\",\"2\\u00ba trim 2019\",\"3\\u00ba trim 2019\",\"4\\u00ba trim 2019\",\"1\\u00ba trim 2020\",\"2\\u00ba trim 2020\",\"3\\u00ba trim 2020\",\"4\\u00ba trim 2020\",\"1\\u00ba trim 2021\",\"2\\u00ba trim 2021\",\"3\\u00ba trim 2021\",\"4\\u00ba trim 2021\",\"1\\u00ba trim 2022\",\"2\\u00ba trim 2022\",\"3\\u00ba trim 2022\",\"4\\u00ba trim 2022\",\"1\\u00ba trim 2023\",\"2\\u00ba trim 2024\",\"3\\u00ba trim 2023\",\"4\\u00ba trim 2023\"],\"y\":[23.78,23.88,23.36,23.07,22.98,22.36,22.02,22.1,22.05,21.33,21.57,21.16,21.05,20.95,20.94,21.03,21.14,21.18,20.85,20.87,20.81,20.39,20.59,20.64,20.21,17.87,17.16,17.16,16.83,16.75,15.91,17.18,17.14,17.91,17.24,17.79,18.13,18.31,18.21,18.73],\"type\":\"scatter\"},{\"marker\":{\"color\":\"rgba(0, 255, 200, 0.8)\"},\"mode\":\"lines\",\"name\":\"Tasa de Empleo (%)\",\"text\":\"% empleo\",\"x\":[\"1\\u00ba trim 2014\",\"2\\u00ba trim 2014\",\"3\\u00ba trim 2014\",\" 4\\u00ba trim 2014\",\"1\\u00ba trim 2015\",\"2\\u00ba trim 2015\",\"3\\u00ba trim 2015\",\"4\\u00ba trim 2015\",\"1\\u00ba trim 2016\",\"2\\u00ba trim 2016\",\"3\\u00ba trim 2016\",\"4\\u00ba trim 2016\",\"1\\u00ba trim 2017\",\"2\\u00ba trim 2017\",\"3\\u00ba trim 2017\",\"4\\u00ba trim 2017\",\"1\\u00ba trim 2018\",\"2\\u00ba trim 2018\",\"3\\u00ba trim 2018\",\"4\\u00ba trim 2018\",\"1\\u00ba trim 2019\",\"2\\u00ba trim 2019\",\"3\\u00ba trim 2019\",\"4\\u00ba trim 2019\",\"1\\u00ba trim 2020\",\"2\\u00ba trim 2020\",\"3\\u00ba trim 2020\",\"4\\u00ba trim 2020\",\"1\\u00ba trim 2021\",\"2\\u00ba trim 2021\",\"3\\u00ba trim 2021\",\"4\\u00ba trim 2021\",\"1\\u00ba trim 2022\",\"2\\u00ba trim 2022\",\"3\\u00ba trim 2022\",\"4\\u00ba trim 2022\",\"1\\u00ba trim 2023\",\"2\\u00ba trim 2024\",\"3\\u00ba trim 2023\",\"4\\u00ba trim 2023\"],\"y\":[33.76,35.27,36.42,35.51,34.79,35.92,37.42,36.23,35.32,36.56,38.95,37.39,37.12,38.92,41.07,39.53,38.71,40.48,42.05,40.72,39.47,40.77,42.42,41.12,39.39,33.53,36.43,36.43,35.68,38.37,41.63,40.0,40.42,43.11,42.36,40.95,40.63,43.31,44.37,42.43],\"type\":\"scatter\"}],                        {\"template\":{\"data\":{\"barpolar\":[{\"marker\":{\"line\":{\"color\":\"#E5ECF6\",\"width\":0.5},\"pattern\":{\"fillmode\":\"overlay\",\"size\":10,\"solidity\":0.2}},\"type\":\"barpolar\"}],\"bar\":[{\"error_x\":{\"color\":\"#2a3f5f\"},\"error_y\":{\"color\":\"#2a3f5f\"},\"marker\":{\"line\":{\"color\":\"#E5ECF6\",\"width\":0.5},\"pattern\":{\"fillmode\":\"overlay\",\"size\":10,\"solidity\":0.2}},\"type\":\"bar\"}],\"carpet\":[{\"aaxis\":{\"endlinecolor\":\"#2a3f5f\",\"gridcolor\":\"white\",\"linecolor\":\"white\",\"minorgridcolor\":\"white\",\"startlinecolor\":\"#2a3f5f\"},\"baxis\":{\"endlinecolor\":\"#2a3f5f\",\"gridcolor\":\"white\",\"linecolor\":\"white\",\"minorgridcolor\":\"white\",\"startlinecolor\":\"#2a3f5f\"},\"type\":\"carpet\"}],\"choropleth\":[{\"colorbar\":{\"outlinewidth\":0,\"ticks\":\"\"},\"type\":\"choropleth\"}],\"contourcarpet\":[{\"colorbar\":{\"outlinewidth\":0,\"ticks\":\"\"},\"type\":\"contourcarpet\"}],\"contour\":[{\"colorbar\":{\"outlinewidth\":0,\"ticks\":\"\"},\"colorscale\":[[0.0,\"#0d0887\"],[0.1111111111111111,\"#46039f\"],[0.2222222222222222,\"#7201a8\"],[0.3333333333333333,\"#9c179e\"],[0.4444444444444444,\"#bd3786\"],[0.5555555555555556,\"#d8576b\"],[0.6666666666666666,\"#ed7953\"],[0.7777777777777778,\"#fb9f3a\"],[0.8888888888888888,\"#fdca26\"],[1.0,\"#f0f921\"]],\"type\":\"contour\"}],\"heatmapgl\":[{\"colorbar\":{\"outlinewidth\":0,\"ticks\":\"\"},\"colorscale\":[[0.0,\"#0d0887\"],[0.1111111111111111,\"#46039f\"],[0.2222222222222222,\"#7201a8\"],[0.3333333333333333,\"#9c179e\"],[0.4444444444444444,\"#bd3786\"],[0.5555555555555556,\"#d8576b\"],[0.6666666666666666,\"#ed7953\"],[0.7777777777777778,\"#fb9f3a\"],[0.8888888888888888,\"#fdca26\"],[1.0,\"#f0f921\"]],\"type\":\"heatmapgl\"}],\"heatmap\":[{\"colorbar\":{\"outlinewidth\":0,\"ticks\":\"\"},\"colorscale\":[[0.0,\"#0d0887\"],[0.1111111111111111,\"#46039f\"],[0.2222222222222222,\"#7201a8\"],[0.3333333333333333,\"#9c179e\"],[0.4444444444444444,\"#bd3786\"],[0.5555555555555556,\"#d8576b\"],[0.6666666666666666,\"#ed7953\"],[0.7777777777777778,\"#fb9f3a\"],[0.8888888888888888,\"#fdca26\"],[1.0,\"#f0f921\"]],\"type\":\"heatmap\"}],\"histogram2dcontour\":[{\"colorbar\":{\"outlinewidth\":0,\"ticks\":\"\"},\"colorscale\":[[0.0,\"#0d0887\"],[0.1111111111111111,\"#46039f\"],[0.2222222222222222,\"#7201a8\"],[0.3333333333333333,\"#9c179e\"],[0.4444444444444444,\"#bd3786\"],[0.5555555555555556,\"#d8576b\"],[0.6666666666666666,\"#ed7953\"],[0.7777777777777778,\"#fb9f3a\"],[0.8888888888888888,\"#fdca26\"],[1.0,\"#f0f921\"]],\"type\":\"histogram2dcontour\"}],\"histogram2d\":[{\"colorbar\":{\"outlinewidth\":0,\"ticks\":\"\"},\"colorscale\":[[0.0,\"#0d0887\"],[0.1111111111111111,\"#46039f\"],[0.2222222222222222,\"#7201a8\"],[0.3333333333333333,\"#9c179e\"],[0.4444444444444444,\"#bd3786\"],[0.5555555555555556,\"#d8576b\"],[0.6666666666666666,\"#ed7953\"],[0.7777777777777778,\"#fb9f3a\"],[0.8888888888888888,\"#fdca26\"],[1.0,\"#f0f921\"]],\"type\":\"histogram2d\"}],\"histogram\":[{\"marker\":{\"pattern\":{\"fillmode\":\"overlay\",\"size\":10,\"solidity\":0.2}},\"type\":\"histogram\"}],\"mesh3d\":[{\"colorbar\":{\"outlinewidth\":0,\"ticks\":\"\"},\"type\":\"mesh3d\"}],\"parcoords\":[{\"line\":{\"colorbar\":{\"outlinewidth\":0,\"ticks\":\"\"}},\"type\":\"parcoords\"}],\"pie\":[{\"automargin\":true,\"type\":\"pie\"}],\"scatter3d\":[{\"line\":{\"colorbar\":{\"outlinewidth\":0,\"ticks\":\"\"}},\"marker\":{\"colorbar\":{\"outlinewidth\":0,\"ticks\":\"\"}},\"type\":\"scatter3d\"}],\"scattercarpet\":[{\"marker\":{\"colorbar\":{\"outlinewidth\":0,\"ticks\":\"\"}},\"type\":\"scattercarpet\"}],\"scattergeo\":[{\"marker\":{\"colorbar\":{\"outlinewidth\":0,\"ticks\":\"\"}},\"type\":\"scattergeo\"}],\"scattergl\":[{\"marker\":{\"colorbar\":{\"outlinewidth\":0,\"ticks\":\"\"}},\"type\":\"scattergl\"}],\"scattermapbox\":[{\"marker\":{\"colorbar\":{\"outlinewidth\":0,\"ticks\":\"\"}},\"type\":\"scattermapbox\"}],\"scatterpolargl\":[{\"marker\":{\"colorbar\":{\"outlinewidth\":0,\"ticks\":\"\"}},\"type\":\"scatterpolargl\"}],\"scatterpolar\":[{\"marker\":{\"colorbar\":{\"outlinewidth\":0,\"ticks\":\"\"}},\"type\":\"scatterpolar\"}],\"scatter\":[{\"fillpattern\":{\"fillmode\":\"overlay\",\"size\":10,\"solidity\":0.2},\"type\":\"scatter\"}],\"scatterternary\":[{\"marker\":{\"colorbar\":{\"outlinewidth\":0,\"ticks\":\"\"}},\"type\":\"scatterternary\"}],\"surface\":[{\"colorbar\":{\"outlinewidth\":0,\"ticks\":\"\"},\"colorscale\":[[0.0,\"#0d0887\"],[0.1111111111111111,\"#46039f\"],[0.2222222222222222,\"#7201a8\"],[0.3333333333333333,\"#9c179e\"],[0.4444444444444444,\"#bd3786\"],[0.5555555555555556,\"#d8576b\"],[0.6666666666666666,\"#ed7953\"],[0.7777777777777778,\"#fb9f3a\"],[0.8888888888888888,\"#fdca26\"],[1.0,\"#f0f921\"]],\"type\":\"surface\"}],\"table\":[{\"cells\":{\"fill\":{\"color\":\"#EBF0F8\"},\"line\":{\"color\":\"white\"}},\"header\":{\"fill\":{\"color\":\"#C8D4E3\"},\"line\":{\"color\":\"white\"}},\"type\":\"table\"}]},\"layout\":{\"annotationdefaults\":{\"arrowcolor\":\"#2a3f5f\",\"arrowhead\":0,\"arrowwidth\":1},\"autotypenumbers\":\"strict\",\"coloraxis\":{\"colorbar\":{\"outlinewidth\":0,\"ticks\":\"\"}},\"colorscale\":{\"diverging\":[[0,\"#8e0152\"],[0.1,\"#c51b7d\"],[0.2,\"#de77ae\"],[0.3,\"#f1b6da\"],[0.4,\"#fde0ef\"],[0.5,\"#f7f7f7\"],[0.6,\"#e6f5d0\"],[0.7,\"#b8e186\"],[0.8,\"#7fbc41\"],[0.9,\"#4d9221\"],[1,\"#276419\"]],\"sequential\":[[0.0,\"#0d0887\"],[0.1111111111111111,\"#46039f\"],[0.2222222222222222,\"#7201a8\"],[0.3333333333333333,\"#9c179e\"],[0.4444444444444444,\"#bd3786\"],[0.5555555555555556,\"#d8576b\"],[0.6666666666666666,\"#ed7953\"],[0.7777777777777778,\"#fb9f3a\"],[0.8888888888888888,\"#fdca26\"],[1.0,\"#f0f921\"]],\"sequentialminus\":[[0.0,\"#0d0887\"],[0.1111111111111111,\"#46039f\"],[0.2222222222222222,\"#7201a8\"],[0.3333333333333333,\"#9c179e\"],[0.4444444444444444,\"#bd3786\"],[0.5555555555555556,\"#d8576b\"],[0.6666666666666666,\"#ed7953\"],[0.7777777777777778,\"#fb9f3a\"],[0.8888888888888888,\"#fdca26\"],[1.0,\"#f0f921\"]]},\"colorway\":[\"#636efa\",\"#EF553B\",\"#00cc96\",\"#ab63fa\",\"#FFA15A\",\"#19d3f3\",\"#FF6692\",\"#B6E880\",\"#FF97FF\",\"#FECB52\"],\"font\":{\"color\":\"#2a3f5f\"},\"geo\":{\"bgcolor\":\"white\",\"lakecolor\":\"white\",\"landcolor\":\"#E5ECF6\",\"showlakes\":true,\"showland\":true,\"subunitcolor\":\"white\"},\"hoverlabel\":{\"align\":\"left\"},\"hovermode\":\"closest\",\"mapbox\":{\"style\":\"light\"},\"paper_bgcolor\":\"white\",\"plot_bgcolor\":\"#E5ECF6\",\"polar\":{\"angularaxis\":{\"gridcolor\":\"white\",\"linecolor\":\"white\",\"ticks\":\"\"},\"bgcolor\":\"#E5ECF6\",\"radialaxis\":{\"gridcolor\":\"white\",\"linecolor\":\"white\",\"ticks\":\"\"}},\"scene\":{\"xaxis\":{\"backgroundcolor\":\"#E5ECF6\",\"gridcolor\":\"white\",\"gridwidth\":2,\"linecolor\":\"white\",\"showbackground\":true,\"ticks\":\"\",\"zerolinecolor\":\"white\"},\"yaxis\":{\"backgroundcolor\":\"#E5ECF6\",\"gridcolor\":\"white\",\"gridwidth\":2,\"linecolor\":\"white\",\"showbackground\":true,\"ticks\":\"\",\"zerolinecolor\":\"white\"},\"zaxis\":{\"backgroundcolor\":\"#E5ECF6\",\"gridcolor\":\"white\",\"gridwidth\":2,\"linecolor\":\"white\",\"showbackground\":true,\"ticks\":\"\",\"zerolinecolor\":\"white\"}},\"shapedefaults\":{\"line\":{\"color\":\"#2a3f5f\"}},\"ternary\":{\"aaxis\":{\"gridcolor\":\"white\",\"linecolor\":\"white\",\"ticks\":\"\"},\"baxis\":{\"gridcolor\":\"white\",\"linecolor\":\"white\",\"ticks\":\"\"},\"bgcolor\":\"#E5ECF6\",\"caxis\":{\"gridcolor\":\"white\",\"linecolor\":\"white\",\"ticks\":\"\"}},\"title\":{\"x\":0.05},\"xaxis\":{\"automargin\":true,\"gridcolor\":\"white\",\"linecolor\":\"white\",\"ticks\":\"\",\"title\":{\"standoff\":15},\"zerolinecolor\":\"white\",\"zerolinewidth\":2},\"yaxis\":{\"automargin\":true,\"gridcolor\":\"white\",\"linecolor\":\"white\",\"ticks\":\"\",\"title\":{\"standoff\":15},\"zerolinecolor\":\"white\",\"zerolinewidth\":2}}},\"title\":{\"text\":\"J\\u00f3venes de 16 a 29 a\\u00f1os en la EPA (Edad de Poblaci\\u00f3n Activa)\"},\"xaxis\":{\"ticklen\":5,\"title\":{\"text\":\"A\\u00f1os\"}}},                        {\"responsive\": true}                    ).then(function(){\n",
       "                            \n",
       "var gd = document.getElementById('71218c18-955e-4650-9961-f104b4b51d5f');\n",
       "var x = new MutationObserver(function (mutations, observer) {{\n",
       "        var display = window.getComputedStyle(gd).display;\n",
       "        if (!display || display === 'none') {{\n",
       "            console.log([gd, 'removed!']);\n",
       "            Plotly.purge(gd);\n",
       "            observer.disconnect();\n",
       "        }}\n",
       "}});\n",
       "\n",
       "// Listen for the removal of the full notebook cells\n",
       "var notebookContainer = gd.closest('#notebook-container');\n",
       "if (notebookContainer) {{\n",
       "    x.observe(notebookContainer, {childList: true});\n",
       "}}\n",
       "\n",
       "// Listen for the clearing of the current output cell\n",
       "var outputEl = gd.closest('.output');\n",
       "if (outputEl) {{\n",
       "    x.observe(outputEl, {childList: true});\n",
       "}}\n",
       "\n",
       "                        })                };                });            </script>        </div>"
      ]
     },
     "metadata": {},
     "output_type": "display_data"
    }
   ],
   "source": [
    "\n",
    "# trace1 = go.Scatter(\n",
    "#                     x = injuve_diez_años.columns,\n",
    "#                     y = injuve_diez_años.iloc[0,:],\n",
    "#                     name = 'Tasa de jóvenes (%)',\n",
    "#                     mode= 'lines',\n",
    "#                     marker = dict(color = 'rgba(16, 112, 2, 0.8)'),\n",
    "#                     text = '% jóvenes')\n",
    "\n",
    "trace2 = go.Scatter(\n",
    "                    x = injuve_diez_años.columns,\n",
    "                    y = injuve_diez_años.iloc[1,:],\n",
    "                    name = 'Tasa de Emancipación (%',\n",
    "                    mode= 'lines',\n",
    "                    marker = dict(color = 'rgb(250, 124, 163)'),\n",
    "                    text = '% emancipación')\n",
    "\n",
    "trace3 = go.Scatter(\n",
    "                    x = injuve_diez_años.columns,\n",
    "                    y = injuve_diez_años.iloc[4,:],\n",
    "                    name = 'Tasa de Empleo (%)',\n",
    "                    mode= 'lines',\n",
    "                    marker = dict(color = 'rgba(0, 255, 200, 0.8)'),\n",
    "                    text = '% empleo')\n",
    "\n",
    "data = [trace2, trace3]\n",
    "\n",
    "layout = dict(title = 'Jóvenes de 16 a 29 años en la EPA (Edad de Población Activa)',\n",
    "             xaxis= dict(title= 'Años',ticklen= 5)\n",
    "           )\n",
    "\n",
    "fig = go.Figure(data = data, layout=layout)\n",
    "\n",
    "iplot(fig)\n",
    "fig.write_html(\"Jóvenes de 16 a 29 años en la EPA.html\")"
   ]
  },
  {
   "cell_type": "code",
   "execution_count": 15,
   "metadata": {},
   "outputs": [
    {
     "data": {
      "text/html": [
       "<div>\n",
       "<style scoped>\n",
       "    .dataframe tbody tr th:only-of-type {\n",
       "        vertical-align: middle;\n",
       "    }\n",
       "\n",
       "    .dataframe tbody tr th {\n",
       "        vertical-align: top;\n",
       "    }\n",
       "\n",
       "    .dataframe thead th {\n",
       "        text-align: right;\n",
       "    }\n",
       "</style>\n",
       "<table border=\"1\" class=\"dataframe\">\n",
       "  <thead>\n",
       "    <tr style=\"text-align: right;\">\n",
       "      <th></th>\n",
       "      <th>Precio m2</th>\n",
       "      <th>Variación mensual</th>\n",
       "      <th>Variación trimestral</th>\n",
       "      <th>Variación anual</th>\n",
       "    </tr>\n",
       "    <tr>\n",
       "      <th>Año</th>\n",
       "      <th></th>\n",
       "      <th></th>\n",
       "      <th></th>\n",
       "      <th></th>\n",
       "    </tr>\n",
       "  </thead>\n",
       "  <tbody>\n",
       "    <tr>\n",
       "      <th>2014</th>\n",
       "      <td>7.17</td>\n",
       "      <td>0.05</td>\n",
       "      <td>0.15</td>\n",
       "      <td>-0.73</td>\n",
       "    </tr>\n",
       "    <tr>\n",
       "      <th>2015</th>\n",
       "      <td>7.39</td>\n",
       "      <td>0.18</td>\n",
       "      <td>0.70</td>\n",
       "      <td>2.80</td>\n",
       "    </tr>\n",
       "    <tr>\n",
       "      <th>2016</th>\n",
       "      <td>7.84</td>\n",
       "      <td>0.87</td>\n",
       "      <td>2.27</td>\n",
       "      <td>6.13</td>\n",
       "    </tr>\n",
       "    <tr>\n",
       "      <th>2017</th>\n",
       "      <td>8.75</td>\n",
       "      <td>0.97</td>\n",
       "      <td>2.81</td>\n",
       "      <td>11.75</td>\n",
       "    </tr>\n",
       "    <tr>\n",
       "      <th>2018</th>\n",
       "      <td>9.80</td>\n",
       "      <td>0.72</td>\n",
       "      <td>2.42</td>\n",
       "      <td>11.83</td>\n",
       "    </tr>\n",
       "    <tr>\n",
       "      <th>2019</th>\n",
       "      <td>10.25</td>\n",
       "      <td>0.32</td>\n",
       "      <td>0.94</td>\n",
       "      <td>4.68</td>\n",
       "    </tr>\n",
       "    <tr>\n",
       "      <th>2020</th>\n",
       "      <td>10.73</td>\n",
       "      <td>0.26</td>\n",
       "      <td>1.05</td>\n",
       "      <td>4.83</td>\n",
       "    </tr>\n",
       "    <tr>\n",
       "      <th>2021</th>\n",
       "      <td>10.42</td>\n",
       "      <td>-0.33</td>\n",
       "      <td>-1.13</td>\n",
       "      <td>-2.94</td>\n",
       "    </tr>\n",
       "    <tr>\n",
       "      <th>2022</th>\n",
       "      <td>10.71</td>\n",
       "      <td>0.59</td>\n",
       "      <td>1.56</td>\n",
       "      <td>2.93</td>\n",
       "    </tr>\n",
       "    <tr>\n",
       "      <th>2023</th>\n",
       "      <td>11.67</td>\n",
       "      <td>0.81</td>\n",
       "      <td>2.33</td>\n",
       "      <td>9.00</td>\n",
       "    </tr>\n",
       "  </tbody>\n",
       "</table>\n",
       "</div>"
      ],
      "text/plain": [
       "      Precio m2  Variación mensual  Variación trimestral  Variación anual\n",
       "Año                                                                      \n",
       "2014       7.17               0.05                  0.15            -0.73\n",
       "2015       7.39               0.18                  0.70             2.80\n",
       "2016       7.84               0.87                  2.27             6.13\n",
       "2017       8.75               0.97                  2.81            11.75\n",
       "2018       9.80               0.72                  2.42            11.83\n",
       "2019      10.25               0.32                  0.94             4.68\n",
       "2020      10.73               0.26                  1.05             4.83\n",
       "2021      10.42              -0.33                 -1.13            -2.94\n",
       "2022      10.71               0.59                  1.56             2.93\n",
       "2023      11.67               0.81                  2.33             9.00"
      ]
     },
     "execution_count": 15,
     "metadata": {},
     "output_type": "execute_result"
    }
   ],
   "source": [
    "precios_alquiler = f.precios_alquiler('histórico_alquiler_españa')\n",
    "precios_alquiler = precios_alquiler.set_index('Año')\n",
    "precios_alquiler"
   ]
  },
  {
   "cell_type": "code",
   "execution_count": 16,
   "metadata": {},
   "outputs": [
    {
     "data": {
      "application/vnd.plotly.v1+json": {
       "config": {
        "linkText": "Export to plot.ly",
        "plotlyServerURL": "https://plot.ly",
        "showLink": false
       },
       "data": [
        {
         "marker": {
          "color": "rgba(0, 255, 200, 0.8)"
         },
         "mode": "lines",
         "name": "Precio €/m2",
         "text": "Evolución precios alquiler",
         "type": "scatter",
         "x": [
          2014,
          2015,
          2016,
          2017,
          2018,
          2019,
          2020,
          2021,
          2022,
          2023
         ],
         "y": [
          7.17,
          7.39,
          7.84,
          8.75,
          9.8,
          10.25,
          10.73,
          10.42,
          10.71,
          11.67
         ]
        }
       ],
       "layout": {
        "template": {
         "data": {
          "bar": [
           {
            "error_x": {
             "color": "#2a3f5f"
            },
            "error_y": {
             "color": "#2a3f5f"
            },
            "marker": {
             "line": {
              "color": "#E5ECF6",
              "width": 0.5
             },
             "pattern": {
              "fillmode": "overlay",
              "size": 10,
              "solidity": 0.2
             }
            },
            "type": "bar"
           }
          ],
          "barpolar": [
           {
            "marker": {
             "line": {
              "color": "#E5ECF6",
              "width": 0.5
             },
             "pattern": {
              "fillmode": "overlay",
              "size": 10,
              "solidity": 0.2
             }
            },
            "type": "barpolar"
           }
          ],
          "carpet": [
           {
            "aaxis": {
             "endlinecolor": "#2a3f5f",
             "gridcolor": "white",
             "linecolor": "white",
             "minorgridcolor": "white",
             "startlinecolor": "#2a3f5f"
            },
            "baxis": {
             "endlinecolor": "#2a3f5f",
             "gridcolor": "white",
             "linecolor": "white",
             "minorgridcolor": "white",
             "startlinecolor": "#2a3f5f"
            },
            "type": "carpet"
           }
          ],
          "choropleth": [
           {
            "colorbar": {
             "outlinewidth": 0,
             "ticks": ""
            },
            "type": "choropleth"
           }
          ],
          "contour": [
           {
            "colorbar": {
             "outlinewidth": 0,
             "ticks": ""
            },
            "colorscale": [
             [
              0,
              "#0d0887"
             ],
             [
              0.1111111111111111,
              "#46039f"
             ],
             [
              0.2222222222222222,
              "#7201a8"
             ],
             [
              0.3333333333333333,
              "#9c179e"
             ],
             [
              0.4444444444444444,
              "#bd3786"
             ],
             [
              0.5555555555555556,
              "#d8576b"
             ],
             [
              0.6666666666666666,
              "#ed7953"
             ],
             [
              0.7777777777777778,
              "#fb9f3a"
             ],
             [
              0.8888888888888888,
              "#fdca26"
             ],
             [
              1,
              "#f0f921"
             ]
            ],
            "type": "contour"
           }
          ],
          "contourcarpet": [
           {
            "colorbar": {
             "outlinewidth": 0,
             "ticks": ""
            },
            "type": "contourcarpet"
           }
          ],
          "heatmap": [
           {
            "colorbar": {
             "outlinewidth": 0,
             "ticks": ""
            },
            "colorscale": [
             [
              0,
              "#0d0887"
             ],
             [
              0.1111111111111111,
              "#46039f"
             ],
             [
              0.2222222222222222,
              "#7201a8"
             ],
             [
              0.3333333333333333,
              "#9c179e"
             ],
             [
              0.4444444444444444,
              "#bd3786"
             ],
             [
              0.5555555555555556,
              "#d8576b"
             ],
             [
              0.6666666666666666,
              "#ed7953"
             ],
             [
              0.7777777777777778,
              "#fb9f3a"
             ],
             [
              0.8888888888888888,
              "#fdca26"
             ],
             [
              1,
              "#f0f921"
             ]
            ],
            "type": "heatmap"
           }
          ],
          "heatmapgl": [
           {
            "colorbar": {
             "outlinewidth": 0,
             "ticks": ""
            },
            "colorscale": [
             [
              0,
              "#0d0887"
             ],
             [
              0.1111111111111111,
              "#46039f"
             ],
             [
              0.2222222222222222,
              "#7201a8"
             ],
             [
              0.3333333333333333,
              "#9c179e"
             ],
             [
              0.4444444444444444,
              "#bd3786"
             ],
             [
              0.5555555555555556,
              "#d8576b"
             ],
             [
              0.6666666666666666,
              "#ed7953"
             ],
             [
              0.7777777777777778,
              "#fb9f3a"
             ],
             [
              0.8888888888888888,
              "#fdca26"
             ],
             [
              1,
              "#f0f921"
             ]
            ],
            "type": "heatmapgl"
           }
          ],
          "histogram": [
           {
            "marker": {
             "pattern": {
              "fillmode": "overlay",
              "size": 10,
              "solidity": 0.2
             }
            },
            "type": "histogram"
           }
          ],
          "histogram2d": [
           {
            "colorbar": {
             "outlinewidth": 0,
             "ticks": ""
            },
            "colorscale": [
             [
              0,
              "#0d0887"
             ],
             [
              0.1111111111111111,
              "#46039f"
             ],
             [
              0.2222222222222222,
              "#7201a8"
             ],
             [
              0.3333333333333333,
              "#9c179e"
             ],
             [
              0.4444444444444444,
              "#bd3786"
             ],
             [
              0.5555555555555556,
              "#d8576b"
             ],
             [
              0.6666666666666666,
              "#ed7953"
             ],
             [
              0.7777777777777778,
              "#fb9f3a"
             ],
             [
              0.8888888888888888,
              "#fdca26"
             ],
             [
              1,
              "#f0f921"
             ]
            ],
            "type": "histogram2d"
           }
          ],
          "histogram2dcontour": [
           {
            "colorbar": {
             "outlinewidth": 0,
             "ticks": ""
            },
            "colorscale": [
             [
              0,
              "#0d0887"
             ],
             [
              0.1111111111111111,
              "#46039f"
             ],
             [
              0.2222222222222222,
              "#7201a8"
             ],
             [
              0.3333333333333333,
              "#9c179e"
             ],
             [
              0.4444444444444444,
              "#bd3786"
             ],
             [
              0.5555555555555556,
              "#d8576b"
             ],
             [
              0.6666666666666666,
              "#ed7953"
             ],
             [
              0.7777777777777778,
              "#fb9f3a"
             ],
             [
              0.8888888888888888,
              "#fdca26"
             ],
             [
              1,
              "#f0f921"
             ]
            ],
            "type": "histogram2dcontour"
           }
          ],
          "mesh3d": [
           {
            "colorbar": {
             "outlinewidth": 0,
             "ticks": ""
            },
            "type": "mesh3d"
           }
          ],
          "parcoords": [
           {
            "line": {
             "colorbar": {
              "outlinewidth": 0,
              "ticks": ""
             }
            },
            "type": "parcoords"
           }
          ],
          "pie": [
           {
            "automargin": true,
            "type": "pie"
           }
          ],
          "scatter": [
           {
            "fillpattern": {
             "fillmode": "overlay",
             "size": 10,
             "solidity": 0.2
            },
            "type": "scatter"
           }
          ],
          "scatter3d": [
           {
            "line": {
             "colorbar": {
              "outlinewidth": 0,
              "ticks": ""
             }
            },
            "marker": {
             "colorbar": {
              "outlinewidth": 0,
              "ticks": ""
             }
            },
            "type": "scatter3d"
           }
          ],
          "scattercarpet": [
           {
            "marker": {
             "colorbar": {
              "outlinewidth": 0,
              "ticks": ""
             }
            },
            "type": "scattercarpet"
           }
          ],
          "scattergeo": [
           {
            "marker": {
             "colorbar": {
              "outlinewidth": 0,
              "ticks": ""
             }
            },
            "type": "scattergeo"
           }
          ],
          "scattergl": [
           {
            "marker": {
             "colorbar": {
              "outlinewidth": 0,
              "ticks": ""
             }
            },
            "type": "scattergl"
           }
          ],
          "scattermapbox": [
           {
            "marker": {
             "colorbar": {
              "outlinewidth": 0,
              "ticks": ""
             }
            },
            "type": "scattermapbox"
           }
          ],
          "scatterpolar": [
           {
            "marker": {
             "colorbar": {
              "outlinewidth": 0,
              "ticks": ""
             }
            },
            "type": "scatterpolar"
           }
          ],
          "scatterpolargl": [
           {
            "marker": {
             "colorbar": {
              "outlinewidth": 0,
              "ticks": ""
             }
            },
            "type": "scatterpolargl"
           }
          ],
          "scatterternary": [
           {
            "marker": {
             "colorbar": {
              "outlinewidth": 0,
              "ticks": ""
             }
            },
            "type": "scatterternary"
           }
          ],
          "surface": [
           {
            "colorbar": {
             "outlinewidth": 0,
             "ticks": ""
            },
            "colorscale": [
             [
              0,
              "#0d0887"
             ],
             [
              0.1111111111111111,
              "#46039f"
             ],
             [
              0.2222222222222222,
              "#7201a8"
             ],
             [
              0.3333333333333333,
              "#9c179e"
             ],
             [
              0.4444444444444444,
              "#bd3786"
             ],
             [
              0.5555555555555556,
              "#d8576b"
             ],
             [
              0.6666666666666666,
              "#ed7953"
             ],
             [
              0.7777777777777778,
              "#fb9f3a"
             ],
             [
              0.8888888888888888,
              "#fdca26"
             ],
             [
              1,
              "#f0f921"
             ]
            ],
            "type": "surface"
           }
          ],
          "table": [
           {
            "cells": {
             "fill": {
              "color": "#EBF0F8"
             },
             "line": {
              "color": "white"
             }
            },
            "header": {
             "fill": {
              "color": "#C8D4E3"
             },
             "line": {
              "color": "white"
             }
            },
            "type": "table"
           }
          ]
         },
         "layout": {
          "annotationdefaults": {
           "arrowcolor": "#2a3f5f",
           "arrowhead": 0,
           "arrowwidth": 1
          },
          "autotypenumbers": "strict",
          "coloraxis": {
           "colorbar": {
            "outlinewidth": 0,
            "ticks": ""
           }
          },
          "colorscale": {
           "diverging": [
            [
             0,
             "#8e0152"
            ],
            [
             0.1,
             "#c51b7d"
            ],
            [
             0.2,
             "#de77ae"
            ],
            [
             0.3,
             "#f1b6da"
            ],
            [
             0.4,
             "#fde0ef"
            ],
            [
             0.5,
             "#f7f7f7"
            ],
            [
             0.6,
             "#e6f5d0"
            ],
            [
             0.7,
             "#b8e186"
            ],
            [
             0.8,
             "#7fbc41"
            ],
            [
             0.9,
             "#4d9221"
            ],
            [
             1,
             "#276419"
            ]
           ],
           "sequential": [
            [
             0,
             "#0d0887"
            ],
            [
             0.1111111111111111,
             "#46039f"
            ],
            [
             0.2222222222222222,
             "#7201a8"
            ],
            [
             0.3333333333333333,
             "#9c179e"
            ],
            [
             0.4444444444444444,
             "#bd3786"
            ],
            [
             0.5555555555555556,
             "#d8576b"
            ],
            [
             0.6666666666666666,
             "#ed7953"
            ],
            [
             0.7777777777777778,
             "#fb9f3a"
            ],
            [
             0.8888888888888888,
             "#fdca26"
            ],
            [
             1,
             "#f0f921"
            ]
           ],
           "sequentialminus": [
            [
             0,
             "#0d0887"
            ],
            [
             0.1111111111111111,
             "#46039f"
            ],
            [
             0.2222222222222222,
             "#7201a8"
            ],
            [
             0.3333333333333333,
             "#9c179e"
            ],
            [
             0.4444444444444444,
             "#bd3786"
            ],
            [
             0.5555555555555556,
             "#d8576b"
            ],
            [
             0.6666666666666666,
             "#ed7953"
            ],
            [
             0.7777777777777778,
             "#fb9f3a"
            ],
            [
             0.8888888888888888,
             "#fdca26"
            ],
            [
             1,
             "#f0f921"
            ]
           ]
          },
          "colorway": [
           "#636efa",
           "#EF553B",
           "#00cc96",
           "#ab63fa",
           "#FFA15A",
           "#19d3f3",
           "#FF6692",
           "#B6E880",
           "#FF97FF",
           "#FECB52"
          ],
          "font": {
           "color": "#2a3f5f"
          },
          "geo": {
           "bgcolor": "white",
           "lakecolor": "white",
           "landcolor": "#E5ECF6",
           "showlakes": true,
           "showland": true,
           "subunitcolor": "white"
          },
          "hoverlabel": {
           "align": "left"
          },
          "hovermode": "closest",
          "mapbox": {
           "style": "light"
          },
          "paper_bgcolor": "white",
          "plot_bgcolor": "#E5ECF6",
          "polar": {
           "angularaxis": {
            "gridcolor": "white",
            "linecolor": "white",
            "ticks": ""
           },
           "bgcolor": "#E5ECF6",
           "radialaxis": {
            "gridcolor": "white",
            "linecolor": "white",
            "ticks": ""
           }
          },
          "scene": {
           "xaxis": {
            "backgroundcolor": "#E5ECF6",
            "gridcolor": "white",
            "gridwidth": 2,
            "linecolor": "white",
            "showbackground": true,
            "ticks": "",
            "zerolinecolor": "white"
           },
           "yaxis": {
            "backgroundcolor": "#E5ECF6",
            "gridcolor": "white",
            "gridwidth": 2,
            "linecolor": "white",
            "showbackground": true,
            "ticks": "",
            "zerolinecolor": "white"
           },
           "zaxis": {
            "backgroundcolor": "#E5ECF6",
            "gridcolor": "white",
            "gridwidth": 2,
            "linecolor": "white",
            "showbackground": true,
            "ticks": "",
            "zerolinecolor": "white"
           }
          },
          "shapedefaults": {
           "line": {
            "color": "#2a3f5f"
           }
          },
          "ternary": {
           "aaxis": {
            "gridcolor": "white",
            "linecolor": "white",
            "ticks": ""
           },
           "baxis": {
            "gridcolor": "white",
            "linecolor": "white",
            "ticks": ""
           },
           "bgcolor": "#E5ECF6",
           "caxis": {
            "gridcolor": "white",
            "linecolor": "white",
            "ticks": ""
           }
          },
          "title": {
           "x": 0.05
          },
          "xaxis": {
           "automargin": true,
           "gridcolor": "white",
           "linecolor": "white",
           "ticks": "",
           "title": {
            "standoff": 15
           },
           "zerolinecolor": "white",
           "zerolinewidth": 2
          },
          "yaxis": {
           "automargin": true,
           "gridcolor": "white",
           "linecolor": "white",
           "ticks": "",
           "title": {
            "standoff": 15
           },
           "zerolinecolor": "white",
           "zerolinewidth": 2
          }
         }
        },
        "title": {
         "text": "Evolución precios alquiler"
        },
        "xaxis": {
         "ticklen": 5,
         "title": {
          "text": "Años"
         }
        }
       }
      },
      "text/html": [
       "<div>                            <div id=\"f9387a43-2f5f-4843-8f6a-13dfe6173160\" class=\"plotly-graph-div\" style=\"height:525px; width:100%;\"></div>            <script type=\"text/javascript\">                require([\"plotly\"], function(Plotly) {                    window.PLOTLYENV=window.PLOTLYENV || {};                                    if (document.getElementById(\"f9387a43-2f5f-4843-8f6a-13dfe6173160\")) {                    Plotly.newPlot(                        \"f9387a43-2f5f-4843-8f6a-13dfe6173160\",                        [{\"marker\":{\"color\":\"rgba(0, 255, 200, 0.8)\"},\"mode\":\"lines\",\"name\":\"Precio \\u20ac\\u002fm2\",\"text\":\"Evoluci\\u00f3n precios alquiler\",\"x\":[2014,2015,2016,2017,2018,2019,2020,2021,2022,2023],\"y\":[7.17,7.39,7.84,8.75,9.8,10.25,10.73,10.42,10.71,11.67],\"type\":\"scatter\"}],                        {\"template\":{\"data\":{\"barpolar\":[{\"marker\":{\"line\":{\"color\":\"#E5ECF6\",\"width\":0.5},\"pattern\":{\"fillmode\":\"overlay\",\"size\":10,\"solidity\":0.2}},\"type\":\"barpolar\"}],\"bar\":[{\"error_x\":{\"color\":\"#2a3f5f\"},\"error_y\":{\"color\":\"#2a3f5f\"},\"marker\":{\"line\":{\"color\":\"#E5ECF6\",\"width\":0.5},\"pattern\":{\"fillmode\":\"overlay\",\"size\":10,\"solidity\":0.2}},\"type\":\"bar\"}],\"carpet\":[{\"aaxis\":{\"endlinecolor\":\"#2a3f5f\",\"gridcolor\":\"white\",\"linecolor\":\"white\",\"minorgridcolor\":\"white\",\"startlinecolor\":\"#2a3f5f\"},\"baxis\":{\"endlinecolor\":\"#2a3f5f\",\"gridcolor\":\"white\",\"linecolor\":\"white\",\"minorgridcolor\":\"white\",\"startlinecolor\":\"#2a3f5f\"},\"type\":\"carpet\"}],\"choropleth\":[{\"colorbar\":{\"outlinewidth\":0,\"ticks\":\"\"},\"type\":\"choropleth\"}],\"contourcarpet\":[{\"colorbar\":{\"outlinewidth\":0,\"ticks\":\"\"},\"type\":\"contourcarpet\"}],\"contour\":[{\"colorbar\":{\"outlinewidth\":0,\"ticks\":\"\"},\"colorscale\":[[0.0,\"#0d0887\"],[0.1111111111111111,\"#46039f\"],[0.2222222222222222,\"#7201a8\"],[0.3333333333333333,\"#9c179e\"],[0.4444444444444444,\"#bd3786\"],[0.5555555555555556,\"#d8576b\"],[0.6666666666666666,\"#ed7953\"],[0.7777777777777778,\"#fb9f3a\"],[0.8888888888888888,\"#fdca26\"],[1.0,\"#f0f921\"]],\"type\":\"contour\"}],\"heatmapgl\":[{\"colorbar\":{\"outlinewidth\":0,\"ticks\":\"\"},\"colorscale\":[[0.0,\"#0d0887\"],[0.1111111111111111,\"#46039f\"],[0.2222222222222222,\"#7201a8\"],[0.3333333333333333,\"#9c179e\"],[0.4444444444444444,\"#bd3786\"],[0.5555555555555556,\"#d8576b\"],[0.6666666666666666,\"#ed7953\"],[0.7777777777777778,\"#fb9f3a\"],[0.8888888888888888,\"#fdca26\"],[1.0,\"#f0f921\"]],\"type\":\"heatmapgl\"}],\"heatmap\":[{\"colorbar\":{\"outlinewidth\":0,\"ticks\":\"\"},\"colorscale\":[[0.0,\"#0d0887\"],[0.1111111111111111,\"#46039f\"],[0.2222222222222222,\"#7201a8\"],[0.3333333333333333,\"#9c179e\"],[0.4444444444444444,\"#bd3786\"],[0.5555555555555556,\"#d8576b\"],[0.6666666666666666,\"#ed7953\"],[0.7777777777777778,\"#fb9f3a\"],[0.8888888888888888,\"#fdca26\"],[1.0,\"#f0f921\"]],\"type\":\"heatmap\"}],\"histogram2dcontour\":[{\"colorbar\":{\"outlinewidth\":0,\"ticks\":\"\"},\"colorscale\":[[0.0,\"#0d0887\"],[0.1111111111111111,\"#46039f\"],[0.2222222222222222,\"#7201a8\"],[0.3333333333333333,\"#9c179e\"],[0.4444444444444444,\"#bd3786\"],[0.5555555555555556,\"#d8576b\"],[0.6666666666666666,\"#ed7953\"],[0.7777777777777778,\"#fb9f3a\"],[0.8888888888888888,\"#fdca26\"],[1.0,\"#f0f921\"]],\"type\":\"histogram2dcontour\"}],\"histogram2d\":[{\"colorbar\":{\"outlinewidth\":0,\"ticks\":\"\"},\"colorscale\":[[0.0,\"#0d0887\"],[0.1111111111111111,\"#46039f\"],[0.2222222222222222,\"#7201a8\"],[0.3333333333333333,\"#9c179e\"],[0.4444444444444444,\"#bd3786\"],[0.5555555555555556,\"#d8576b\"],[0.6666666666666666,\"#ed7953\"],[0.7777777777777778,\"#fb9f3a\"],[0.8888888888888888,\"#fdca26\"],[1.0,\"#f0f921\"]],\"type\":\"histogram2d\"}],\"histogram\":[{\"marker\":{\"pattern\":{\"fillmode\":\"overlay\",\"size\":10,\"solidity\":0.2}},\"type\":\"histogram\"}],\"mesh3d\":[{\"colorbar\":{\"outlinewidth\":0,\"ticks\":\"\"},\"type\":\"mesh3d\"}],\"parcoords\":[{\"line\":{\"colorbar\":{\"outlinewidth\":0,\"ticks\":\"\"}},\"type\":\"parcoords\"}],\"pie\":[{\"automargin\":true,\"type\":\"pie\"}],\"scatter3d\":[{\"line\":{\"colorbar\":{\"outlinewidth\":0,\"ticks\":\"\"}},\"marker\":{\"colorbar\":{\"outlinewidth\":0,\"ticks\":\"\"}},\"type\":\"scatter3d\"}],\"scattercarpet\":[{\"marker\":{\"colorbar\":{\"outlinewidth\":0,\"ticks\":\"\"}},\"type\":\"scattercarpet\"}],\"scattergeo\":[{\"marker\":{\"colorbar\":{\"outlinewidth\":0,\"ticks\":\"\"}},\"type\":\"scattergeo\"}],\"scattergl\":[{\"marker\":{\"colorbar\":{\"outlinewidth\":0,\"ticks\":\"\"}},\"type\":\"scattergl\"}],\"scattermapbox\":[{\"marker\":{\"colorbar\":{\"outlinewidth\":0,\"ticks\":\"\"}},\"type\":\"scattermapbox\"}],\"scatterpolargl\":[{\"marker\":{\"colorbar\":{\"outlinewidth\":0,\"ticks\":\"\"}},\"type\":\"scatterpolargl\"}],\"scatterpolar\":[{\"marker\":{\"colorbar\":{\"outlinewidth\":0,\"ticks\":\"\"}},\"type\":\"scatterpolar\"}],\"scatter\":[{\"fillpattern\":{\"fillmode\":\"overlay\",\"size\":10,\"solidity\":0.2},\"type\":\"scatter\"}],\"scatterternary\":[{\"marker\":{\"colorbar\":{\"outlinewidth\":0,\"ticks\":\"\"}},\"type\":\"scatterternary\"}],\"surface\":[{\"colorbar\":{\"outlinewidth\":0,\"ticks\":\"\"},\"colorscale\":[[0.0,\"#0d0887\"],[0.1111111111111111,\"#46039f\"],[0.2222222222222222,\"#7201a8\"],[0.3333333333333333,\"#9c179e\"],[0.4444444444444444,\"#bd3786\"],[0.5555555555555556,\"#d8576b\"],[0.6666666666666666,\"#ed7953\"],[0.7777777777777778,\"#fb9f3a\"],[0.8888888888888888,\"#fdca26\"],[1.0,\"#f0f921\"]],\"type\":\"surface\"}],\"table\":[{\"cells\":{\"fill\":{\"color\":\"#EBF0F8\"},\"line\":{\"color\":\"white\"}},\"header\":{\"fill\":{\"color\":\"#C8D4E3\"},\"line\":{\"color\":\"white\"}},\"type\":\"table\"}]},\"layout\":{\"annotationdefaults\":{\"arrowcolor\":\"#2a3f5f\",\"arrowhead\":0,\"arrowwidth\":1},\"autotypenumbers\":\"strict\",\"coloraxis\":{\"colorbar\":{\"outlinewidth\":0,\"ticks\":\"\"}},\"colorscale\":{\"diverging\":[[0,\"#8e0152\"],[0.1,\"#c51b7d\"],[0.2,\"#de77ae\"],[0.3,\"#f1b6da\"],[0.4,\"#fde0ef\"],[0.5,\"#f7f7f7\"],[0.6,\"#e6f5d0\"],[0.7,\"#b8e186\"],[0.8,\"#7fbc41\"],[0.9,\"#4d9221\"],[1,\"#276419\"]],\"sequential\":[[0.0,\"#0d0887\"],[0.1111111111111111,\"#46039f\"],[0.2222222222222222,\"#7201a8\"],[0.3333333333333333,\"#9c179e\"],[0.4444444444444444,\"#bd3786\"],[0.5555555555555556,\"#d8576b\"],[0.6666666666666666,\"#ed7953\"],[0.7777777777777778,\"#fb9f3a\"],[0.8888888888888888,\"#fdca26\"],[1.0,\"#f0f921\"]],\"sequentialminus\":[[0.0,\"#0d0887\"],[0.1111111111111111,\"#46039f\"],[0.2222222222222222,\"#7201a8\"],[0.3333333333333333,\"#9c179e\"],[0.4444444444444444,\"#bd3786\"],[0.5555555555555556,\"#d8576b\"],[0.6666666666666666,\"#ed7953\"],[0.7777777777777778,\"#fb9f3a\"],[0.8888888888888888,\"#fdca26\"],[1.0,\"#f0f921\"]]},\"colorway\":[\"#636efa\",\"#EF553B\",\"#00cc96\",\"#ab63fa\",\"#FFA15A\",\"#19d3f3\",\"#FF6692\",\"#B6E880\",\"#FF97FF\",\"#FECB52\"],\"font\":{\"color\":\"#2a3f5f\"},\"geo\":{\"bgcolor\":\"white\",\"lakecolor\":\"white\",\"landcolor\":\"#E5ECF6\",\"showlakes\":true,\"showland\":true,\"subunitcolor\":\"white\"},\"hoverlabel\":{\"align\":\"left\"},\"hovermode\":\"closest\",\"mapbox\":{\"style\":\"light\"},\"paper_bgcolor\":\"white\",\"plot_bgcolor\":\"#E5ECF6\",\"polar\":{\"angularaxis\":{\"gridcolor\":\"white\",\"linecolor\":\"white\",\"ticks\":\"\"},\"bgcolor\":\"#E5ECF6\",\"radialaxis\":{\"gridcolor\":\"white\",\"linecolor\":\"white\",\"ticks\":\"\"}},\"scene\":{\"xaxis\":{\"backgroundcolor\":\"#E5ECF6\",\"gridcolor\":\"white\",\"gridwidth\":2,\"linecolor\":\"white\",\"showbackground\":true,\"ticks\":\"\",\"zerolinecolor\":\"white\"},\"yaxis\":{\"backgroundcolor\":\"#E5ECF6\",\"gridcolor\":\"white\",\"gridwidth\":2,\"linecolor\":\"white\",\"showbackground\":true,\"ticks\":\"\",\"zerolinecolor\":\"white\"},\"zaxis\":{\"backgroundcolor\":\"#E5ECF6\",\"gridcolor\":\"white\",\"gridwidth\":2,\"linecolor\":\"white\",\"showbackground\":true,\"ticks\":\"\",\"zerolinecolor\":\"white\"}},\"shapedefaults\":{\"line\":{\"color\":\"#2a3f5f\"}},\"ternary\":{\"aaxis\":{\"gridcolor\":\"white\",\"linecolor\":\"white\",\"ticks\":\"\"},\"baxis\":{\"gridcolor\":\"white\",\"linecolor\":\"white\",\"ticks\":\"\"},\"bgcolor\":\"#E5ECF6\",\"caxis\":{\"gridcolor\":\"white\",\"linecolor\":\"white\",\"ticks\":\"\"}},\"title\":{\"x\":0.05},\"xaxis\":{\"automargin\":true,\"gridcolor\":\"white\",\"linecolor\":\"white\",\"ticks\":\"\",\"title\":{\"standoff\":15},\"zerolinecolor\":\"white\",\"zerolinewidth\":2},\"yaxis\":{\"automargin\":true,\"gridcolor\":\"white\",\"linecolor\":\"white\",\"ticks\":\"\",\"title\":{\"standoff\":15},\"zerolinecolor\":\"white\",\"zerolinewidth\":2}}},\"title\":{\"text\":\"Evoluci\\u00f3n precios alquiler\"},\"xaxis\":{\"ticklen\":5,\"title\":{\"text\":\"A\\u00f1os\"}}},                        {\"responsive\": true}                    ).then(function(){\n",
       "                            \n",
       "var gd = document.getElementById('f9387a43-2f5f-4843-8f6a-13dfe6173160');\n",
       "var x = new MutationObserver(function (mutations, observer) {{\n",
       "        var display = window.getComputedStyle(gd).display;\n",
       "        if (!display || display === 'none') {{\n",
       "            console.log([gd, 'removed!']);\n",
       "            Plotly.purge(gd);\n",
       "            observer.disconnect();\n",
       "        }}\n",
       "}});\n",
       "\n",
       "// Listen for the removal of the full notebook cells\n",
       "var notebookContainer = gd.closest('#notebook-container');\n",
       "if (notebookContainer) {{\n",
       "    x.observe(notebookContainer, {childList: true});\n",
       "}}\n",
       "\n",
       "// Listen for the clearing of the current output cell\n",
       "var outputEl = gd.closest('.output');\n",
       "if (outputEl) {{\n",
       "    x.observe(outputEl, {childList: true});\n",
       "}}\n",
       "\n",
       "                        })                };                });            </script>        </div>"
      ]
     },
     "metadata": {},
     "output_type": "display_data"
    }
   ],
   "source": [
    "trace1 = go.Scatter(\n",
    "                    x = precios_alquiler.index,\n",
    "                    y = precios_alquiler['Precio m2'],\n",
    "                    name = 'Precio €/m2',\n",
    "                    mode= 'lines',\n",
    "                    marker = dict(color = 'rgba(0, 255, 200, 0.8)'),\n",
    "                    text = 'Evolución precios alquiler')\n",
    "\n",
    "data = [trace1]\n",
    "\n",
    "layout = dict(title = 'Evolución precios alquiler',\n",
    "             xaxis= dict(title= 'Años',ticklen= 5)\n",
    "           )\n",
    "\n",
    "fig = go.Figure(data = data, layout=layout)\n",
    "\n",
    "iplot(fig)"
   ]
  },
  {
   "cell_type": "code",
   "execution_count": 17,
   "metadata": {},
   "outputs": [
    {
     "data": {
      "text/html": [
       "<div>\n",
       "<style scoped>\n",
       "    .dataframe tbody tr th:only-of-type {\n",
       "        vertical-align: middle;\n",
       "    }\n",
       "\n",
       "    .dataframe tbody tr th {\n",
       "        vertical-align: top;\n",
       "    }\n",
       "\n",
       "    .dataframe thead th {\n",
       "        text-align: right;\n",
       "    }\n",
       "</style>\n",
       "<table border=\"1\" class=\"dataframe\">\n",
       "  <thead>\n",
       "    <tr style=\"text-align: right;\">\n",
       "      <th>Periodo</th>\n",
       "      <th>2014</th>\n",
       "      <th>2015</th>\n",
       "      <th>2016</th>\n",
       "      <th>2017</th>\n",
       "      <th>2018</th>\n",
       "      <th>2019</th>\n",
       "      <th>2020</th>\n",
       "      <th>2021</th>\n",
       "    </tr>\n",
       "  </thead>\n",
       "  <tbody>\n",
       "    <tr>\n",
       "      <th>mediana</th>\n",
       "      <td>19263.78</td>\n",
       "      <td>19466.49</td>\n",
       "      <td>19432.62</td>\n",
       "      <td>19830.12</td>\n",
       "      <td>20078.44</td>\n",
       "      <td>20351.02</td>\n",
       "      <td>20920.12</td>\n",
       "      <td>21638.69</td>\n",
       "    </tr>\n",
       "    <tr>\n",
       "      <th>percentil_10</th>\n",
       "      <td>7626.20</td>\n",
       "      <td>7962.45</td>\n",
       "      <td>8095.44</td>\n",
       "      <td>8583.81</td>\n",
       "      <td>8457.36</td>\n",
       "      <td>8943.26</td>\n",
       "      <td>9586.51</td>\n",
       "      <td>10192.38</td>\n",
       "    </tr>\n",
       "    <tr>\n",
       "      <th>cuartil_inf</th>\n",
       "      <td>13217.84</td>\n",
       "      <td>13414.92</td>\n",
       "      <td>13369.74</td>\n",
       "      <td>13897.22</td>\n",
       "      <td>13998.29</td>\n",
       "      <td>14271.06</td>\n",
       "      <td>14641.96</td>\n",
       "      <td>15215.03</td>\n",
       "    </tr>\n",
       "    <tr>\n",
       "      <th>sueldo_medio</th>\n",
       "      <td>22858.17</td>\n",
       "      <td>23106.30</td>\n",
       "      <td>23156.34</td>\n",
       "      <td>23646.50</td>\n",
       "      <td>24009.12</td>\n",
       "      <td>24395.98</td>\n",
       "      <td>25165.51</td>\n",
       "      <td>25896.82</td>\n",
       "    </tr>\n",
       "    <tr>\n",
       "      <th>cuartil_sup</th>\n",
       "      <td>28782.70</td>\n",
       "      <td>29163.66</td>\n",
       "      <td>29191.56</td>\n",
       "      <td>29628.64</td>\n",
       "      <td>30057.33</td>\n",
       "      <td>30558.45</td>\n",
       "      <td>31550.01</td>\n",
       "      <td>32385.45</td>\n",
       "    </tr>\n",
       "    <tr>\n",
       "      <th>percentil_90</th>\n",
       "      <td>41350.36</td>\n",
       "      <td>41648.67</td>\n",
       "      <td>41855.38</td>\n",
       "      <td>42454.21</td>\n",
       "      <td>43382.16</td>\n",
       "      <td>44127.12</td>\n",
       "      <td>45359.96</td>\n",
       "      <td>46430.36</td>\n",
       "    </tr>\n",
       "  </tbody>\n",
       "</table>\n",
       "</div>"
      ],
      "text/plain": [
       "Periodo           2014      2015      2016      2017      2018      2019  \\\n",
       "mediana       19263.78  19466.49  19432.62  19830.12  20078.44  20351.02   \n",
       "percentil_10   7626.20   7962.45   8095.44   8583.81   8457.36   8943.26   \n",
       "cuartil_inf   13217.84  13414.92  13369.74  13897.22  13998.29  14271.06   \n",
       "sueldo_medio  22858.17  23106.30  23156.34  23646.50  24009.12  24395.98   \n",
       "cuartil_sup   28782.70  29163.66  29191.56  29628.64  30057.33  30558.45   \n",
       "percentil_90  41350.36  41648.67  41855.38  42454.21  43382.16  44127.12   \n",
       "\n",
       "Periodo           2020      2021  \n",
       "mediana       20920.12  21638.69  \n",
       "percentil_10   9586.51  10192.38  \n",
       "cuartil_inf   14641.96  15215.03  \n",
       "sueldo_medio  25165.51  25896.82  \n",
       "cuartil_sup   31550.01  32385.45  \n",
       "percentil_90  45359.96  46430.36  "
      ]
     },
     "execution_count": 17,
     "metadata": {},
     "output_type": "execute_result"
    }
   ],
   "source": [
    "distribuion_salarial = (f.distribucion_salarial('mediana','percentil_10','cuartil_inf','sueldo_medio','cuartil_sup','percentil_90'))[::-1]\n",
    "distribuion_salarial = distribuion_salarial.set_index('Periodo').T\n",
    "distribuion_salarial"
   ]
  },
  {
   "cell_type": "markdown",
   "metadata": {},
   "source": [
    "En 2022, los sueldos subieron en España un 4,6% de media respecto al año anterior, prácticamente la mitad de lo que lo hicieron los precios, ya que la inflación promedio del pasado ejercicio fue del 8,4% internual. \n",
    "\n",
    "El salario medio en España crece un 5,4% anual y se sitúa en los 1.920 euros mensuales en 2023, según Adecco"
   ]
  },
  {
   "cell_type": "code",
   "execution_count": 18,
   "metadata": {},
   "outputs": [
    {
     "data": {
      "text/html": [
       "<div>\n",
       "<style scoped>\n",
       "    .dataframe tbody tr th:only-of-type {\n",
       "        vertical-align: middle;\n",
       "    }\n",
       "\n",
       "    .dataframe tbody tr th {\n",
       "        vertical-align: top;\n",
       "    }\n",
       "\n",
       "    .dataframe thead th {\n",
       "        text-align: right;\n",
       "    }\n",
       "</style>\n",
       "<table border=\"1\" class=\"dataframe\">\n",
       "  <thead>\n",
       "    <tr style=\"text-align: right;\">\n",
       "      <th></th>\n",
       "      <th>mediana</th>\n",
       "      <th>percentil_10</th>\n",
       "      <th>cuartil_inf</th>\n",
       "      <th>sueldo_medio</th>\n",
       "      <th>cuartil_sup</th>\n",
       "      <th>percentil_90</th>\n",
       "    </tr>\n",
       "    <tr>\n",
       "      <th>Periodo</th>\n",
       "      <th></th>\n",
       "      <th></th>\n",
       "      <th></th>\n",
       "      <th></th>\n",
       "      <th></th>\n",
       "      <th></th>\n",
       "    </tr>\n",
       "  </thead>\n",
       "  <tbody>\n",
       "    <tr>\n",
       "      <th>2014</th>\n",
       "      <td>19263.78</td>\n",
       "      <td>7626.20</td>\n",
       "      <td>13217.84</td>\n",
       "      <td>22858.17</td>\n",
       "      <td>28782.70</td>\n",
       "      <td>41350.36</td>\n",
       "    </tr>\n",
       "    <tr>\n",
       "      <th>2015</th>\n",
       "      <td>19466.49</td>\n",
       "      <td>7962.45</td>\n",
       "      <td>13414.92</td>\n",
       "      <td>23106.30</td>\n",
       "      <td>29163.66</td>\n",
       "      <td>41648.67</td>\n",
       "    </tr>\n",
       "    <tr>\n",
       "      <th>2016</th>\n",
       "      <td>19432.62</td>\n",
       "      <td>8095.44</td>\n",
       "      <td>13369.74</td>\n",
       "      <td>23156.34</td>\n",
       "      <td>29191.56</td>\n",
       "      <td>41855.38</td>\n",
       "    </tr>\n",
       "    <tr>\n",
       "      <th>2017</th>\n",
       "      <td>19830.12</td>\n",
       "      <td>8583.81</td>\n",
       "      <td>13897.22</td>\n",
       "      <td>23646.50</td>\n",
       "      <td>29628.64</td>\n",
       "      <td>42454.21</td>\n",
       "    </tr>\n",
       "    <tr>\n",
       "      <th>2018</th>\n",
       "      <td>20078.44</td>\n",
       "      <td>8457.36</td>\n",
       "      <td>13998.29</td>\n",
       "      <td>24009.12</td>\n",
       "      <td>30057.33</td>\n",
       "      <td>43382.16</td>\n",
       "    </tr>\n",
       "    <tr>\n",
       "      <th>2019</th>\n",
       "      <td>20351.02</td>\n",
       "      <td>8943.26</td>\n",
       "      <td>14271.06</td>\n",
       "      <td>24395.98</td>\n",
       "      <td>30558.45</td>\n",
       "      <td>44127.12</td>\n",
       "    </tr>\n",
       "    <tr>\n",
       "      <th>2020</th>\n",
       "      <td>20920.12</td>\n",
       "      <td>9586.51</td>\n",
       "      <td>14641.96</td>\n",
       "      <td>25165.51</td>\n",
       "      <td>31550.01</td>\n",
       "      <td>45359.96</td>\n",
       "    </tr>\n",
       "    <tr>\n",
       "      <th>2021</th>\n",
       "      <td>21638.69</td>\n",
       "      <td>10192.38</td>\n",
       "      <td>15215.03</td>\n",
       "      <td>25896.82</td>\n",
       "      <td>32385.45</td>\n",
       "      <td>46430.36</td>\n",
       "    </tr>\n",
       "    <tr>\n",
       "      <th>2022</th>\n",
       "      <td>22634.07</td>\n",
       "      <td>10661.23</td>\n",
       "      <td>15914.92</td>\n",
       "      <td>27088.07</td>\n",
       "      <td>33875.18</td>\n",
       "      <td>48566.16</td>\n",
       "    </tr>\n",
       "    <tr>\n",
       "      <th>2023</th>\n",
       "      <td>23856.31</td>\n",
       "      <td>11236.94</td>\n",
       "      <td>16774.33</td>\n",
       "      <td>28550.83</td>\n",
       "      <td>35704.44</td>\n",
       "      <td>51188.73</td>\n",
       "    </tr>\n",
       "  </tbody>\n",
       "</table>\n",
       "</div>"
      ],
      "text/plain": [
       "          mediana  percentil_10  cuartil_inf  sueldo_medio  cuartil_sup  \\\n",
       "Periodo                                                                   \n",
       "2014     19263.78       7626.20     13217.84      22858.17     28782.70   \n",
       "2015     19466.49       7962.45     13414.92      23106.30     29163.66   \n",
       "2016     19432.62       8095.44     13369.74      23156.34     29191.56   \n",
       "2017     19830.12       8583.81     13897.22      23646.50     29628.64   \n",
       "2018     20078.44       8457.36     13998.29      24009.12     30057.33   \n",
       "2019     20351.02       8943.26     14271.06      24395.98     30558.45   \n",
       "2020     20920.12       9586.51     14641.96      25165.51     31550.01   \n",
       "2021     21638.69      10192.38     15215.03      25896.82     32385.45   \n",
       "2022     22634.07      10661.23     15914.92      27088.07     33875.18   \n",
       "2023     23856.31      11236.94     16774.33      28550.83     35704.44   \n",
       "\n",
       "         percentil_90  \n",
       "Periodo                \n",
       "2014         41350.36  \n",
       "2015         41648.67  \n",
       "2016         41855.38  \n",
       "2017         42454.21  \n",
       "2018         43382.16  \n",
       "2019         44127.12  \n",
       "2020         45359.96  \n",
       "2021         46430.36  \n",
       "2022         48566.16  \n",
       "2023         51188.73  "
      ]
     },
     "execution_count": 18,
     "metadata": {},
     "output_type": "execute_result"
    }
   ],
   "source": [
    "distribuion_salarial[2022] = round((distribuion_salarial[2021] * 1.046), 2)\n",
    "distribuion_salarial[2023] = round((distribuion_salarial[2022] * 1.054), 2)\n",
    "distribuion_salarial = distribuion_salarial.T\n",
    "distribuion_salarial"
   ]
  },
  {
   "cell_type": "code",
   "execution_count": 19,
   "metadata": {},
   "outputs": [
    {
     "data": {
      "application/vnd.plotly.v1+json": {
       "config": {
        "linkText": "Export to plot.ly",
        "plotlyServerURL": "https://plot.ly",
        "showLink": false
       },
       "data": [
        {
         "marker": {
          "color": "rgba(0, 255, 200, 0.8)"
         },
         "mode": "lines",
         "name": "Salario anual más común",
         "text": [
          2014,
          2015,
          2016,
          2017,
          2018,
          2019,
          2020,
          2021,
          2022,
          2023
         ],
         "type": "scatter",
         "x": [
          2014,
          2015,
          2016,
          2017,
          2018,
          2019,
          2020,
          2021,
          2022,
          2023
         ],
         "y": [
          19263.78,
          19466.49,
          19432.62,
          19830.12,
          20078.44,
          20351.02,
          20920.12,
          21638.69,
          22634.07,
          23856.31
         ]
        }
       ],
       "layout": {
        "template": {
         "data": {
          "bar": [
           {
            "error_x": {
             "color": "#2a3f5f"
            },
            "error_y": {
             "color": "#2a3f5f"
            },
            "marker": {
             "line": {
              "color": "#E5ECF6",
              "width": 0.5
             },
             "pattern": {
              "fillmode": "overlay",
              "size": 10,
              "solidity": 0.2
             }
            },
            "type": "bar"
           }
          ],
          "barpolar": [
           {
            "marker": {
             "line": {
              "color": "#E5ECF6",
              "width": 0.5
             },
             "pattern": {
              "fillmode": "overlay",
              "size": 10,
              "solidity": 0.2
             }
            },
            "type": "barpolar"
           }
          ],
          "carpet": [
           {
            "aaxis": {
             "endlinecolor": "#2a3f5f",
             "gridcolor": "white",
             "linecolor": "white",
             "minorgridcolor": "white",
             "startlinecolor": "#2a3f5f"
            },
            "baxis": {
             "endlinecolor": "#2a3f5f",
             "gridcolor": "white",
             "linecolor": "white",
             "minorgridcolor": "white",
             "startlinecolor": "#2a3f5f"
            },
            "type": "carpet"
           }
          ],
          "choropleth": [
           {
            "colorbar": {
             "outlinewidth": 0,
             "ticks": ""
            },
            "type": "choropleth"
           }
          ],
          "contour": [
           {
            "colorbar": {
             "outlinewidth": 0,
             "ticks": ""
            },
            "colorscale": [
             [
              0,
              "#0d0887"
             ],
             [
              0.1111111111111111,
              "#46039f"
             ],
             [
              0.2222222222222222,
              "#7201a8"
             ],
             [
              0.3333333333333333,
              "#9c179e"
             ],
             [
              0.4444444444444444,
              "#bd3786"
             ],
             [
              0.5555555555555556,
              "#d8576b"
             ],
             [
              0.6666666666666666,
              "#ed7953"
             ],
             [
              0.7777777777777778,
              "#fb9f3a"
             ],
             [
              0.8888888888888888,
              "#fdca26"
             ],
             [
              1,
              "#f0f921"
             ]
            ],
            "type": "contour"
           }
          ],
          "contourcarpet": [
           {
            "colorbar": {
             "outlinewidth": 0,
             "ticks": ""
            },
            "type": "contourcarpet"
           }
          ],
          "heatmap": [
           {
            "colorbar": {
             "outlinewidth": 0,
             "ticks": ""
            },
            "colorscale": [
             [
              0,
              "#0d0887"
             ],
             [
              0.1111111111111111,
              "#46039f"
             ],
             [
              0.2222222222222222,
              "#7201a8"
             ],
             [
              0.3333333333333333,
              "#9c179e"
             ],
             [
              0.4444444444444444,
              "#bd3786"
             ],
             [
              0.5555555555555556,
              "#d8576b"
             ],
             [
              0.6666666666666666,
              "#ed7953"
             ],
             [
              0.7777777777777778,
              "#fb9f3a"
             ],
             [
              0.8888888888888888,
              "#fdca26"
             ],
             [
              1,
              "#f0f921"
             ]
            ],
            "type": "heatmap"
           }
          ],
          "heatmapgl": [
           {
            "colorbar": {
             "outlinewidth": 0,
             "ticks": ""
            },
            "colorscale": [
             [
              0,
              "#0d0887"
             ],
             [
              0.1111111111111111,
              "#46039f"
             ],
             [
              0.2222222222222222,
              "#7201a8"
             ],
             [
              0.3333333333333333,
              "#9c179e"
             ],
             [
              0.4444444444444444,
              "#bd3786"
             ],
             [
              0.5555555555555556,
              "#d8576b"
             ],
             [
              0.6666666666666666,
              "#ed7953"
             ],
             [
              0.7777777777777778,
              "#fb9f3a"
             ],
             [
              0.8888888888888888,
              "#fdca26"
             ],
             [
              1,
              "#f0f921"
             ]
            ],
            "type": "heatmapgl"
           }
          ],
          "histogram": [
           {
            "marker": {
             "pattern": {
              "fillmode": "overlay",
              "size": 10,
              "solidity": 0.2
             }
            },
            "type": "histogram"
           }
          ],
          "histogram2d": [
           {
            "colorbar": {
             "outlinewidth": 0,
             "ticks": ""
            },
            "colorscale": [
             [
              0,
              "#0d0887"
             ],
             [
              0.1111111111111111,
              "#46039f"
             ],
             [
              0.2222222222222222,
              "#7201a8"
             ],
             [
              0.3333333333333333,
              "#9c179e"
             ],
             [
              0.4444444444444444,
              "#bd3786"
             ],
             [
              0.5555555555555556,
              "#d8576b"
             ],
             [
              0.6666666666666666,
              "#ed7953"
             ],
             [
              0.7777777777777778,
              "#fb9f3a"
             ],
             [
              0.8888888888888888,
              "#fdca26"
             ],
             [
              1,
              "#f0f921"
             ]
            ],
            "type": "histogram2d"
           }
          ],
          "histogram2dcontour": [
           {
            "colorbar": {
             "outlinewidth": 0,
             "ticks": ""
            },
            "colorscale": [
             [
              0,
              "#0d0887"
             ],
             [
              0.1111111111111111,
              "#46039f"
             ],
             [
              0.2222222222222222,
              "#7201a8"
             ],
             [
              0.3333333333333333,
              "#9c179e"
             ],
             [
              0.4444444444444444,
              "#bd3786"
             ],
             [
              0.5555555555555556,
              "#d8576b"
             ],
             [
              0.6666666666666666,
              "#ed7953"
             ],
             [
              0.7777777777777778,
              "#fb9f3a"
             ],
             [
              0.8888888888888888,
              "#fdca26"
             ],
             [
              1,
              "#f0f921"
             ]
            ],
            "type": "histogram2dcontour"
           }
          ],
          "mesh3d": [
           {
            "colorbar": {
             "outlinewidth": 0,
             "ticks": ""
            },
            "type": "mesh3d"
           }
          ],
          "parcoords": [
           {
            "line": {
             "colorbar": {
              "outlinewidth": 0,
              "ticks": ""
             }
            },
            "type": "parcoords"
           }
          ],
          "pie": [
           {
            "automargin": true,
            "type": "pie"
           }
          ],
          "scatter": [
           {
            "fillpattern": {
             "fillmode": "overlay",
             "size": 10,
             "solidity": 0.2
            },
            "type": "scatter"
           }
          ],
          "scatter3d": [
           {
            "line": {
             "colorbar": {
              "outlinewidth": 0,
              "ticks": ""
             }
            },
            "marker": {
             "colorbar": {
              "outlinewidth": 0,
              "ticks": ""
             }
            },
            "type": "scatter3d"
           }
          ],
          "scattercarpet": [
           {
            "marker": {
             "colorbar": {
              "outlinewidth": 0,
              "ticks": ""
             }
            },
            "type": "scattercarpet"
           }
          ],
          "scattergeo": [
           {
            "marker": {
             "colorbar": {
              "outlinewidth": 0,
              "ticks": ""
             }
            },
            "type": "scattergeo"
           }
          ],
          "scattergl": [
           {
            "marker": {
             "colorbar": {
              "outlinewidth": 0,
              "ticks": ""
             }
            },
            "type": "scattergl"
           }
          ],
          "scattermapbox": [
           {
            "marker": {
             "colorbar": {
              "outlinewidth": 0,
              "ticks": ""
             }
            },
            "type": "scattermapbox"
           }
          ],
          "scatterpolar": [
           {
            "marker": {
             "colorbar": {
              "outlinewidth": 0,
              "ticks": ""
             }
            },
            "type": "scatterpolar"
           }
          ],
          "scatterpolargl": [
           {
            "marker": {
             "colorbar": {
              "outlinewidth": 0,
              "ticks": ""
             }
            },
            "type": "scatterpolargl"
           }
          ],
          "scatterternary": [
           {
            "marker": {
             "colorbar": {
              "outlinewidth": 0,
              "ticks": ""
             }
            },
            "type": "scatterternary"
           }
          ],
          "surface": [
           {
            "colorbar": {
             "outlinewidth": 0,
             "ticks": ""
            },
            "colorscale": [
             [
              0,
              "#0d0887"
             ],
             [
              0.1111111111111111,
              "#46039f"
             ],
             [
              0.2222222222222222,
              "#7201a8"
             ],
             [
              0.3333333333333333,
              "#9c179e"
             ],
             [
              0.4444444444444444,
              "#bd3786"
             ],
             [
              0.5555555555555556,
              "#d8576b"
             ],
             [
              0.6666666666666666,
              "#ed7953"
             ],
             [
              0.7777777777777778,
              "#fb9f3a"
             ],
             [
              0.8888888888888888,
              "#fdca26"
             ],
             [
              1,
              "#f0f921"
             ]
            ],
            "type": "surface"
           }
          ],
          "table": [
           {
            "cells": {
             "fill": {
              "color": "#EBF0F8"
             },
             "line": {
              "color": "white"
             }
            },
            "header": {
             "fill": {
              "color": "#C8D4E3"
             },
             "line": {
              "color": "white"
             }
            },
            "type": "table"
           }
          ]
         },
         "layout": {
          "annotationdefaults": {
           "arrowcolor": "#2a3f5f",
           "arrowhead": 0,
           "arrowwidth": 1
          },
          "autotypenumbers": "strict",
          "coloraxis": {
           "colorbar": {
            "outlinewidth": 0,
            "ticks": ""
           }
          },
          "colorscale": {
           "diverging": [
            [
             0,
             "#8e0152"
            ],
            [
             0.1,
             "#c51b7d"
            ],
            [
             0.2,
             "#de77ae"
            ],
            [
             0.3,
             "#f1b6da"
            ],
            [
             0.4,
             "#fde0ef"
            ],
            [
             0.5,
             "#f7f7f7"
            ],
            [
             0.6,
             "#e6f5d0"
            ],
            [
             0.7,
             "#b8e186"
            ],
            [
             0.8,
             "#7fbc41"
            ],
            [
             0.9,
             "#4d9221"
            ],
            [
             1,
             "#276419"
            ]
           ],
           "sequential": [
            [
             0,
             "#0d0887"
            ],
            [
             0.1111111111111111,
             "#46039f"
            ],
            [
             0.2222222222222222,
             "#7201a8"
            ],
            [
             0.3333333333333333,
             "#9c179e"
            ],
            [
             0.4444444444444444,
             "#bd3786"
            ],
            [
             0.5555555555555556,
             "#d8576b"
            ],
            [
             0.6666666666666666,
             "#ed7953"
            ],
            [
             0.7777777777777778,
             "#fb9f3a"
            ],
            [
             0.8888888888888888,
             "#fdca26"
            ],
            [
             1,
             "#f0f921"
            ]
           ],
           "sequentialminus": [
            [
             0,
             "#0d0887"
            ],
            [
             0.1111111111111111,
             "#46039f"
            ],
            [
             0.2222222222222222,
             "#7201a8"
            ],
            [
             0.3333333333333333,
             "#9c179e"
            ],
            [
             0.4444444444444444,
             "#bd3786"
            ],
            [
             0.5555555555555556,
             "#d8576b"
            ],
            [
             0.6666666666666666,
             "#ed7953"
            ],
            [
             0.7777777777777778,
             "#fb9f3a"
            ],
            [
             0.8888888888888888,
             "#fdca26"
            ],
            [
             1,
             "#f0f921"
            ]
           ]
          },
          "colorway": [
           "#636efa",
           "#EF553B",
           "#00cc96",
           "#ab63fa",
           "#FFA15A",
           "#19d3f3",
           "#FF6692",
           "#B6E880",
           "#FF97FF",
           "#FECB52"
          ],
          "font": {
           "color": "#2a3f5f"
          },
          "geo": {
           "bgcolor": "white",
           "lakecolor": "white",
           "landcolor": "#E5ECF6",
           "showlakes": true,
           "showland": true,
           "subunitcolor": "white"
          },
          "hoverlabel": {
           "align": "left"
          },
          "hovermode": "closest",
          "mapbox": {
           "style": "light"
          },
          "paper_bgcolor": "white",
          "plot_bgcolor": "#E5ECF6",
          "polar": {
           "angularaxis": {
            "gridcolor": "white",
            "linecolor": "white",
            "ticks": ""
           },
           "bgcolor": "#E5ECF6",
           "radialaxis": {
            "gridcolor": "white",
            "linecolor": "white",
            "ticks": ""
           }
          },
          "scene": {
           "xaxis": {
            "backgroundcolor": "#E5ECF6",
            "gridcolor": "white",
            "gridwidth": 2,
            "linecolor": "white",
            "showbackground": true,
            "ticks": "",
            "zerolinecolor": "white"
           },
           "yaxis": {
            "backgroundcolor": "#E5ECF6",
            "gridcolor": "white",
            "gridwidth": 2,
            "linecolor": "white",
            "showbackground": true,
            "ticks": "",
            "zerolinecolor": "white"
           },
           "zaxis": {
            "backgroundcolor": "#E5ECF6",
            "gridcolor": "white",
            "gridwidth": 2,
            "linecolor": "white",
            "showbackground": true,
            "ticks": "",
            "zerolinecolor": "white"
           }
          },
          "shapedefaults": {
           "line": {
            "color": "#2a3f5f"
           }
          },
          "ternary": {
           "aaxis": {
            "gridcolor": "white",
            "linecolor": "white",
            "ticks": ""
           },
           "baxis": {
            "gridcolor": "white",
            "linecolor": "white",
            "ticks": ""
           },
           "bgcolor": "#E5ECF6",
           "caxis": {
            "gridcolor": "white",
            "linecolor": "white",
            "ticks": ""
           }
          },
          "title": {
           "x": 0.05
          },
          "xaxis": {
           "automargin": true,
           "gridcolor": "white",
           "linecolor": "white",
           "ticks": "",
           "title": {
            "standoff": 15
           },
           "zerolinecolor": "white",
           "zerolinewidth": 2
          },
          "yaxis": {
           "automargin": true,
           "gridcolor": "white",
           "linecolor": "white",
           "ticks": "",
           "title": {
            "standoff": 15
           },
           "zerolinecolor": "white",
           "zerolinewidth": 2
          }
         }
        },
        "title": {
         "text": "Evolución salario"
        },
        "xaxis": {
         "ticklen": 5,
         "title": {
          "text": "Años"
         }
        }
       }
      },
      "text/html": [
       "<div>                            <div id=\"df9a2b16-251f-46cc-b501-904bab9dad22\" class=\"plotly-graph-div\" style=\"height:525px; width:100%;\"></div>            <script type=\"text/javascript\">                require([\"plotly\"], function(Plotly) {                    window.PLOTLYENV=window.PLOTLYENV || {};                                    if (document.getElementById(\"df9a2b16-251f-46cc-b501-904bab9dad22\")) {                    Plotly.newPlot(                        \"df9a2b16-251f-46cc-b501-904bab9dad22\",                        [{\"marker\":{\"color\":\"rgba(0, 255, 200, 0.8)\"},\"mode\":\"lines\",\"name\":\"Salario anual m\\u00e1s com\\u00fan\",\"text\":[2014.0,2015.0,2016.0,2017.0,2018.0,2019.0,2020.0,2021.0,2022.0,2023.0],\"x\":[2014,2015,2016,2017,2018,2019,2020,2021,2022,2023],\"y\":[19263.78,19466.49,19432.62,19830.12,20078.44,20351.02,20920.12,21638.69,22634.07,23856.31],\"type\":\"scatter\"}],                        {\"template\":{\"data\":{\"barpolar\":[{\"marker\":{\"line\":{\"color\":\"#E5ECF6\",\"width\":0.5},\"pattern\":{\"fillmode\":\"overlay\",\"size\":10,\"solidity\":0.2}},\"type\":\"barpolar\"}],\"bar\":[{\"error_x\":{\"color\":\"#2a3f5f\"},\"error_y\":{\"color\":\"#2a3f5f\"},\"marker\":{\"line\":{\"color\":\"#E5ECF6\",\"width\":0.5},\"pattern\":{\"fillmode\":\"overlay\",\"size\":10,\"solidity\":0.2}},\"type\":\"bar\"}],\"carpet\":[{\"aaxis\":{\"endlinecolor\":\"#2a3f5f\",\"gridcolor\":\"white\",\"linecolor\":\"white\",\"minorgridcolor\":\"white\",\"startlinecolor\":\"#2a3f5f\"},\"baxis\":{\"endlinecolor\":\"#2a3f5f\",\"gridcolor\":\"white\",\"linecolor\":\"white\",\"minorgridcolor\":\"white\",\"startlinecolor\":\"#2a3f5f\"},\"type\":\"carpet\"}],\"choropleth\":[{\"colorbar\":{\"outlinewidth\":0,\"ticks\":\"\"},\"type\":\"choropleth\"}],\"contourcarpet\":[{\"colorbar\":{\"outlinewidth\":0,\"ticks\":\"\"},\"type\":\"contourcarpet\"}],\"contour\":[{\"colorbar\":{\"outlinewidth\":0,\"ticks\":\"\"},\"colorscale\":[[0.0,\"#0d0887\"],[0.1111111111111111,\"#46039f\"],[0.2222222222222222,\"#7201a8\"],[0.3333333333333333,\"#9c179e\"],[0.4444444444444444,\"#bd3786\"],[0.5555555555555556,\"#d8576b\"],[0.6666666666666666,\"#ed7953\"],[0.7777777777777778,\"#fb9f3a\"],[0.8888888888888888,\"#fdca26\"],[1.0,\"#f0f921\"]],\"type\":\"contour\"}],\"heatmapgl\":[{\"colorbar\":{\"outlinewidth\":0,\"ticks\":\"\"},\"colorscale\":[[0.0,\"#0d0887\"],[0.1111111111111111,\"#46039f\"],[0.2222222222222222,\"#7201a8\"],[0.3333333333333333,\"#9c179e\"],[0.4444444444444444,\"#bd3786\"],[0.5555555555555556,\"#d8576b\"],[0.6666666666666666,\"#ed7953\"],[0.7777777777777778,\"#fb9f3a\"],[0.8888888888888888,\"#fdca26\"],[1.0,\"#f0f921\"]],\"type\":\"heatmapgl\"}],\"heatmap\":[{\"colorbar\":{\"outlinewidth\":0,\"ticks\":\"\"},\"colorscale\":[[0.0,\"#0d0887\"],[0.1111111111111111,\"#46039f\"],[0.2222222222222222,\"#7201a8\"],[0.3333333333333333,\"#9c179e\"],[0.4444444444444444,\"#bd3786\"],[0.5555555555555556,\"#d8576b\"],[0.6666666666666666,\"#ed7953\"],[0.7777777777777778,\"#fb9f3a\"],[0.8888888888888888,\"#fdca26\"],[1.0,\"#f0f921\"]],\"type\":\"heatmap\"}],\"histogram2dcontour\":[{\"colorbar\":{\"outlinewidth\":0,\"ticks\":\"\"},\"colorscale\":[[0.0,\"#0d0887\"],[0.1111111111111111,\"#46039f\"],[0.2222222222222222,\"#7201a8\"],[0.3333333333333333,\"#9c179e\"],[0.4444444444444444,\"#bd3786\"],[0.5555555555555556,\"#d8576b\"],[0.6666666666666666,\"#ed7953\"],[0.7777777777777778,\"#fb9f3a\"],[0.8888888888888888,\"#fdca26\"],[1.0,\"#f0f921\"]],\"type\":\"histogram2dcontour\"}],\"histogram2d\":[{\"colorbar\":{\"outlinewidth\":0,\"ticks\":\"\"},\"colorscale\":[[0.0,\"#0d0887\"],[0.1111111111111111,\"#46039f\"],[0.2222222222222222,\"#7201a8\"],[0.3333333333333333,\"#9c179e\"],[0.4444444444444444,\"#bd3786\"],[0.5555555555555556,\"#d8576b\"],[0.6666666666666666,\"#ed7953\"],[0.7777777777777778,\"#fb9f3a\"],[0.8888888888888888,\"#fdca26\"],[1.0,\"#f0f921\"]],\"type\":\"histogram2d\"}],\"histogram\":[{\"marker\":{\"pattern\":{\"fillmode\":\"overlay\",\"size\":10,\"solidity\":0.2}},\"type\":\"histogram\"}],\"mesh3d\":[{\"colorbar\":{\"outlinewidth\":0,\"ticks\":\"\"},\"type\":\"mesh3d\"}],\"parcoords\":[{\"line\":{\"colorbar\":{\"outlinewidth\":0,\"ticks\":\"\"}},\"type\":\"parcoords\"}],\"pie\":[{\"automargin\":true,\"type\":\"pie\"}],\"scatter3d\":[{\"line\":{\"colorbar\":{\"outlinewidth\":0,\"ticks\":\"\"}},\"marker\":{\"colorbar\":{\"outlinewidth\":0,\"ticks\":\"\"}},\"type\":\"scatter3d\"}],\"scattercarpet\":[{\"marker\":{\"colorbar\":{\"outlinewidth\":0,\"ticks\":\"\"}},\"type\":\"scattercarpet\"}],\"scattergeo\":[{\"marker\":{\"colorbar\":{\"outlinewidth\":0,\"ticks\":\"\"}},\"type\":\"scattergeo\"}],\"scattergl\":[{\"marker\":{\"colorbar\":{\"outlinewidth\":0,\"ticks\":\"\"}},\"type\":\"scattergl\"}],\"scattermapbox\":[{\"marker\":{\"colorbar\":{\"outlinewidth\":0,\"ticks\":\"\"}},\"type\":\"scattermapbox\"}],\"scatterpolargl\":[{\"marker\":{\"colorbar\":{\"outlinewidth\":0,\"ticks\":\"\"}},\"type\":\"scatterpolargl\"}],\"scatterpolar\":[{\"marker\":{\"colorbar\":{\"outlinewidth\":0,\"ticks\":\"\"}},\"type\":\"scatterpolar\"}],\"scatter\":[{\"fillpattern\":{\"fillmode\":\"overlay\",\"size\":10,\"solidity\":0.2},\"type\":\"scatter\"}],\"scatterternary\":[{\"marker\":{\"colorbar\":{\"outlinewidth\":0,\"ticks\":\"\"}},\"type\":\"scatterternary\"}],\"surface\":[{\"colorbar\":{\"outlinewidth\":0,\"ticks\":\"\"},\"colorscale\":[[0.0,\"#0d0887\"],[0.1111111111111111,\"#46039f\"],[0.2222222222222222,\"#7201a8\"],[0.3333333333333333,\"#9c179e\"],[0.4444444444444444,\"#bd3786\"],[0.5555555555555556,\"#d8576b\"],[0.6666666666666666,\"#ed7953\"],[0.7777777777777778,\"#fb9f3a\"],[0.8888888888888888,\"#fdca26\"],[1.0,\"#f0f921\"]],\"type\":\"surface\"}],\"table\":[{\"cells\":{\"fill\":{\"color\":\"#EBF0F8\"},\"line\":{\"color\":\"white\"}},\"header\":{\"fill\":{\"color\":\"#C8D4E3\"},\"line\":{\"color\":\"white\"}},\"type\":\"table\"}]},\"layout\":{\"annotationdefaults\":{\"arrowcolor\":\"#2a3f5f\",\"arrowhead\":0,\"arrowwidth\":1},\"autotypenumbers\":\"strict\",\"coloraxis\":{\"colorbar\":{\"outlinewidth\":0,\"ticks\":\"\"}},\"colorscale\":{\"diverging\":[[0,\"#8e0152\"],[0.1,\"#c51b7d\"],[0.2,\"#de77ae\"],[0.3,\"#f1b6da\"],[0.4,\"#fde0ef\"],[0.5,\"#f7f7f7\"],[0.6,\"#e6f5d0\"],[0.7,\"#b8e186\"],[0.8,\"#7fbc41\"],[0.9,\"#4d9221\"],[1,\"#276419\"]],\"sequential\":[[0.0,\"#0d0887\"],[0.1111111111111111,\"#46039f\"],[0.2222222222222222,\"#7201a8\"],[0.3333333333333333,\"#9c179e\"],[0.4444444444444444,\"#bd3786\"],[0.5555555555555556,\"#d8576b\"],[0.6666666666666666,\"#ed7953\"],[0.7777777777777778,\"#fb9f3a\"],[0.8888888888888888,\"#fdca26\"],[1.0,\"#f0f921\"]],\"sequentialminus\":[[0.0,\"#0d0887\"],[0.1111111111111111,\"#46039f\"],[0.2222222222222222,\"#7201a8\"],[0.3333333333333333,\"#9c179e\"],[0.4444444444444444,\"#bd3786\"],[0.5555555555555556,\"#d8576b\"],[0.6666666666666666,\"#ed7953\"],[0.7777777777777778,\"#fb9f3a\"],[0.8888888888888888,\"#fdca26\"],[1.0,\"#f0f921\"]]},\"colorway\":[\"#636efa\",\"#EF553B\",\"#00cc96\",\"#ab63fa\",\"#FFA15A\",\"#19d3f3\",\"#FF6692\",\"#B6E880\",\"#FF97FF\",\"#FECB52\"],\"font\":{\"color\":\"#2a3f5f\"},\"geo\":{\"bgcolor\":\"white\",\"lakecolor\":\"white\",\"landcolor\":\"#E5ECF6\",\"showlakes\":true,\"showland\":true,\"subunitcolor\":\"white\"},\"hoverlabel\":{\"align\":\"left\"},\"hovermode\":\"closest\",\"mapbox\":{\"style\":\"light\"},\"paper_bgcolor\":\"white\",\"plot_bgcolor\":\"#E5ECF6\",\"polar\":{\"angularaxis\":{\"gridcolor\":\"white\",\"linecolor\":\"white\",\"ticks\":\"\"},\"bgcolor\":\"#E5ECF6\",\"radialaxis\":{\"gridcolor\":\"white\",\"linecolor\":\"white\",\"ticks\":\"\"}},\"scene\":{\"xaxis\":{\"backgroundcolor\":\"#E5ECF6\",\"gridcolor\":\"white\",\"gridwidth\":2,\"linecolor\":\"white\",\"showbackground\":true,\"ticks\":\"\",\"zerolinecolor\":\"white\"},\"yaxis\":{\"backgroundcolor\":\"#E5ECF6\",\"gridcolor\":\"white\",\"gridwidth\":2,\"linecolor\":\"white\",\"showbackground\":true,\"ticks\":\"\",\"zerolinecolor\":\"white\"},\"zaxis\":{\"backgroundcolor\":\"#E5ECF6\",\"gridcolor\":\"white\",\"gridwidth\":2,\"linecolor\":\"white\",\"showbackground\":true,\"ticks\":\"\",\"zerolinecolor\":\"white\"}},\"shapedefaults\":{\"line\":{\"color\":\"#2a3f5f\"}},\"ternary\":{\"aaxis\":{\"gridcolor\":\"white\",\"linecolor\":\"white\",\"ticks\":\"\"},\"baxis\":{\"gridcolor\":\"white\",\"linecolor\":\"white\",\"ticks\":\"\"},\"bgcolor\":\"#E5ECF6\",\"caxis\":{\"gridcolor\":\"white\",\"linecolor\":\"white\",\"ticks\":\"\"}},\"title\":{\"x\":0.05},\"xaxis\":{\"automargin\":true,\"gridcolor\":\"white\",\"linecolor\":\"white\",\"ticks\":\"\",\"title\":{\"standoff\":15},\"zerolinecolor\":\"white\",\"zerolinewidth\":2},\"yaxis\":{\"automargin\":true,\"gridcolor\":\"white\",\"linecolor\":\"white\",\"ticks\":\"\",\"title\":{\"standoff\":15},\"zerolinecolor\":\"white\",\"zerolinewidth\":2}}},\"title\":{\"text\":\"Evoluci\\u00f3n salario\"},\"xaxis\":{\"ticklen\":5,\"title\":{\"text\":\"A\\u00f1os\"}}},                        {\"responsive\": true}                    ).then(function(){\n",
       "                            \n",
       "var gd = document.getElementById('df9a2b16-251f-46cc-b501-904bab9dad22');\n",
       "var x = new MutationObserver(function (mutations, observer) {{\n",
       "        var display = window.getComputedStyle(gd).display;\n",
       "        if (!display || display === 'none') {{\n",
       "            console.log([gd, 'removed!']);\n",
       "            Plotly.purge(gd);\n",
       "            observer.disconnect();\n",
       "        }}\n",
       "}});\n",
       "\n",
       "// Listen for the removal of the full notebook cells\n",
       "var notebookContainer = gd.closest('#notebook-container');\n",
       "if (notebookContainer) {{\n",
       "    x.observe(notebookContainer, {childList: true});\n",
       "}}\n",
       "\n",
       "// Listen for the clearing of the current output cell\n",
       "var outputEl = gd.closest('.output');\n",
       "if (outputEl) {{\n",
       "    x.observe(outputEl, {childList: true});\n",
       "}}\n",
       "\n",
       "                        })                };                });            </script>        </div>"
      ]
     },
     "metadata": {},
     "output_type": "display_data"
    }
   ],
   "source": [
    "trace1 = go.Scatter(\n",
    "                    x = distribuion_salarial.index,\n",
    "                    y = distribuion_salarial['mediana'],\n",
    "                    name = 'Salario anual más común',\n",
    "                    mode= 'lines',\n",
    "                    marker = dict(color = 'rgba(0, 255, 200, 0.8)'),\n",
    "                    text = distribuion_salarial.index)\n",
    "\n",
    "data = [trace1]\n",
    "\n",
    "layout = dict(title = 'Evolución salario',\n",
    "             xaxis= dict(title= 'Años',ticklen= 5)\n",
    "           )\n",
    "\n",
    "fig = go.Figure(data = data, layout=layout)\n",
    "\n",
    "iplot(fig)"
   ]
  },
  {
   "cell_type": "code",
   "execution_count": 20,
   "metadata": {},
   "outputs": [
    {
     "data": {
      "text/html": [
       "<div>\n",
       "<style scoped>\n",
       "    .dataframe tbody tr th:only-of-type {\n",
       "        vertical-align: middle;\n",
       "    }\n",
       "\n",
       "    .dataframe tbody tr th {\n",
       "        vertical-align: top;\n",
       "    }\n",
       "\n",
       "    .dataframe thead th {\n",
       "        text-align: right;\n",
       "    }\n",
       "</style>\n",
       "<table border=\"1\" class=\"dataframe\">\n",
       "  <thead>\n",
       "    <tr style=\"text-align: right;\">\n",
       "      <th></th>\n",
       "      <th>mediana</th>\n",
       "    </tr>\n",
       "    <tr>\n",
       "      <th>Periodo</th>\n",
       "      <th></th>\n",
       "    </tr>\n",
       "  </thead>\n",
       "  <tbody>\n",
       "    <tr>\n",
       "      <th>2014</th>\n",
       "      <td>1605.31</td>\n",
       "    </tr>\n",
       "    <tr>\n",
       "      <th>2015</th>\n",
       "      <td>1622.21</td>\n",
       "    </tr>\n",
       "    <tr>\n",
       "      <th>2016</th>\n",
       "      <td>1619.38</td>\n",
       "    </tr>\n",
       "    <tr>\n",
       "      <th>2017</th>\n",
       "      <td>1652.51</td>\n",
       "    </tr>\n",
       "    <tr>\n",
       "      <th>2018</th>\n",
       "      <td>1673.20</td>\n",
       "    </tr>\n",
       "    <tr>\n",
       "      <th>2019</th>\n",
       "      <td>1695.92</td>\n",
       "    </tr>\n",
       "    <tr>\n",
       "      <th>2020</th>\n",
       "      <td>1743.34</td>\n",
       "    </tr>\n",
       "    <tr>\n",
       "      <th>2021</th>\n",
       "      <td>1803.22</td>\n",
       "    </tr>\n",
       "    <tr>\n",
       "      <th>2022</th>\n",
       "      <td>1886.17</td>\n",
       "    </tr>\n",
       "    <tr>\n",
       "      <th>2023</th>\n",
       "      <td>1988.03</td>\n",
       "    </tr>\n",
       "  </tbody>\n",
       "</table>\n",
       "</div>"
      ],
      "text/plain": [
       "         mediana\n",
       "Periodo         \n",
       "2014     1605.31\n",
       "2015     1622.21\n",
       "2016     1619.38\n",
       "2017     1652.51\n",
       "2018     1673.20\n",
       "2019     1695.92\n",
       "2020     1743.34\n",
       "2021     1803.22\n",
       "2022     1886.17\n",
       "2023     1988.03"
      ]
     },
     "execution_count": 20,
     "metadata": {},
     "output_type": "execute_result"
    }
   ],
   "source": [
    "salario_mediana = round((distribuion_salarial['mediana']/12),2)\n",
    "salario_mediana = pd.DataFrame(salario_mediana)\n",
    "salario_mediana"
   ]
  },
  {
   "cell_type": "code",
   "execution_count": 21,
   "metadata": {},
   "outputs": [
    {
     "data": {
      "image/png": "[encoded data removed]",
      "text/plain": [
       "<Figure size 1000x600 with 1 Axes>"
      ]
     },
     "metadata": {},
     "output_type": "display_data"
    }
   ],
   "source": [
    "\n",
    "plt.figure(figsize=(10, 6))\n",
    "barplot = sns.barplot(x=salario_mediana.index, y=salario_mediana['mediana'], data=salario_mediana, color='#e24125')\n",
    "for i, value in enumerate(salario_mediana['mediana']):\n",
    "    barplot.text(i, value + 0.1, f'{value:.2f}', ha='center', va='bottom')\n",
    "barplot.set(xlabel='Año', ylabel='Salario €', title='Aumento del salario €', ylim=(1000,2100))\n",
    "\n",
    "plt.show()"
   ]
  },
  {
   "cell_type": "code",
   "execution_count": 22,
   "metadata": {},
   "outputs": [
    {
     "data": {
      "image/png": "[encoded data removed]",
      "text/plain": [
       "<Figure size 1000x600 with 1 Axes>"
      ]
     },
     "metadata": {},
     "output_type": "display_data"
    }
   ],
   "source": [
    "\n",
    "plt.figure(figsize=(10, 6))\n",
    "barplot = sns.barplot(x=precios_alquiler.index, y=precios_alquiler['Precio m2'], data=precios_alquiler, color='#49c3a0')\n",
    "for i, value in enumerate(precios_alquiler['Precio m2']):\n",
    "    barplot.text(i, value + 0.1, f'{value:.2f}', ha='center', va='bottom')\n",
    "barplot.set(xlabel='Año', ylabel='Precio €/m2', title='Aumento del alquiler €/m2',ylim=(4,13))\n",
    "plt.show()\n",
    "\n"
   ]
  },
  {
   "cell_type": "code",
   "execution_count": 23,
   "metadata": {},
   "outputs": [],
   "source": [
    "variacion_salario_ipc = f.variacion_salario_ipc('variacion_anual_del_salario_bruto_medio_frente_a_la_variacion_anual_del_ipc_en_españa').T\n",
    "variacion_salario_ipc[2023] = [3.1, 5.2]\n",
    "variacion_salario_ipc = variacion_salario_ipc.T"
   ]
  },
  {
   "cell_type": "code",
   "execution_count": 24,
   "metadata": {},
   "outputs": [
    {
     "data": {
      "text/html": [
       "<div>\n",
       "<style scoped>\n",
       "    .dataframe tbody tr th:only-of-type {\n",
       "        vertical-align: middle;\n",
       "    }\n",
       "\n",
       "    .dataframe tbody tr th {\n",
       "        vertical-align: top;\n",
       "    }\n",
       "\n",
       "    .dataframe thead th {\n",
       "        text-align: right;\n",
       "    }\n",
       "</style>\n",
       "<table border=\"1\" class=\"dataframe\">\n",
       "  <thead>\n",
       "    <tr style=\"text-align: right;\">\n",
       "      <th></th>\n",
       "      <th>IPC</th>\n",
       "      <th>Salarios</th>\n",
       "      <th>Alquiler</th>\n",
       "    </tr>\n",
       "    <tr>\n",
       "      <th>Año</th>\n",
       "      <th></th>\n",
       "      <th></th>\n",
       "      <th></th>\n",
       "    </tr>\n",
       "  </thead>\n",
       "  <tbody>\n",
       "    <tr>\n",
       "      <th>2014</th>\n",
       "      <td>-0.2</td>\n",
       "      <td>-0.21</td>\n",
       "      <td>-0.73</td>\n",
       "    </tr>\n",
       "    <tr>\n",
       "      <th>2015</th>\n",
       "      <td>-0.5</td>\n",
       "      <td>1.08</td>\n",
       "      <td>2.80</td>\n",
       "    </tr>\n",
       "    <tr>\n",
       "      <th>2016</th>\n",
       "      <td>-0.2</td>\n",
       "      <td>-0.32</td>\n",
       "      <td>6.13</td>\n",
       "    </tr>\n",
       "    <tr>\n",
       "      <th>2017</th>\n",
       "      <td>2.0</td>\n",
       "      <td>0.13</td>\n",
       "      <td>11.75</td>\n",
       "    </tr>\n",
       "    <tr>\n",
       "      <th>2018</th>\n",
       "      <td>1.7</td>\n",
       "      <td>0.86</td>\n",
       "      <td>11.83</td>\n",
       "    </tr>\n",
       "    <tr>\n",
       "      <th>2019</th>\n",
       "      <td>0.7</td>\n",
       "      <td>1.94</td>\n",
       "      <td>4.68</td>\n",
       "    </tr>\n",
       "    <tr>\n",
       "      <th>2020</th>\n",
       "      <td>-0.3</td>\n",
       "      <td>-2.61</td>\n",
       "      <td>4.83</td>\n",
       "    </tr>\n",
       "    <tr>\n",
       "      <th>2021</th>\n",
       "      <td>3.1</td>\n",
       "      <td>6.18</td>\n",
       "      <td>-2.94</td>\n",
       "    </tr>\n",
       "    <tr>\n",
       "      <th>2022</th>\n",
       "      <td>5.7</td>\n",
       "      <td>4.60</td>\n",
       "      <td>2.93</td>\n",
       "    </tr>\n",
       "    <tr>\n",
       "      <th>2023</th>\n",
       "      <td>3.1</td>\n",
       "      <td>5.20</td>\n",
       "      <td>9.00</td>\n",
       "    </tr>\n",
       "  </tbody>\n",
       "</table>\n",
       "</div>"
      ],
      "text/plain": [
       "      IPC  Salarios  Alquiler\n",
       "Año                          \n",
       "2014 -0.2     -0.21     -0.73\n",
       "2015 -0.5      1.08      2.80\n",
       "2016 -0.2     -0.32      6.13\n",
       "2017  2.0      0.13     11.75\n",
       "2018  1.7      0.86     11.83\n",
       "2019  0.7      1.94      4.68\n",
       "2020 -0.3     -2.61      4.83\n",
       "2021  3.1      6.18     -2.94\n",
       "2022  5.7      4.60      2.93\n",
       "2023  3.1      5.20      9.00"
      ]
     },
     "execution_count": 24,
     "metadata": {},
     "output_type": "execute_result"
    }
   ],
   "source": [
    "salario_ipc_alquiler = variacion_salario_ipc.merge(precios_alquiler['Variación anual'], how=\"outer\", left_index=True, right_index=True)\n",
    "salario_ipc_alquiler.rename(columns={'Variación anual': 'Alquiler'}, inplace=True)\n",
    "salario_ipc_alquiler"
   ]
  },
  {
   "cell_type": "code",
   "execution_count": 25,
   "metadata": {},
   "outputs": [
    {
     "data": {
      "application/vnd.plotly.v1+json": {
       "config": {
        "linkText": "Export to plot.ly",
        "plotlyServerURL": "https://plot.ly",
        "showLink": false
       },
       "data": [
        {
         "name": "IPC",
         "type": "bar",
         "x": [
          2014,
          2015,
          2016,
          2017,
          2018,
          2019,
          2020,
          2021,
          2022,
          2023
         ],
         "y": [
          -0.2,
          -0.5,
          -0.2,
          2,
          1.7,
          0.7,
          -0.3,
          3.1,
          5.7,
          3.1
         ]
        },
        {
         "name": "Salarios",
         "type": "bar",
         "x": [
          2014,
          2015,
          2016,
          2017,
          2018,
          2019,
          2020,
          2021,
          2022,
          2023
         ],
         "y": [
          -0.21,
          1.08,
          -0.32,
          0.13,
          0.86,
          1.94,
          -2.61,
          6.18,
          4.6,
          5.2
         ]
        },
        {
         "name": "Alquiler",
         "type": "bar",
         "x": [
          2014,
          2015,
          2016,
          2017,
          2018,
          2019,
          2020,
          2021,
          2022,
          2023
         ],
         "y": [
          -0.73,
          2.8,
          6.13,
          11.75,
          11.83,
          4.68,
          4.83,
          -2.94,
          2.93,
          9
         ]
        }
       ],
       "layout": {
        "barmode": "group",
        "template": {
         "data": {
          "bar": [
           {
            "error_x": {
             "color": "#2a3f5f"
            },
            "error_y": {
             "color": "#2a3f5f"
            },
            "marker": {
             "line": {
              "color": "#E5ECF6",
              "width": 0.5
             },
             "pattern": {
              "fillmode": "overlay",
              "size": 10,
              "solidity": 0.2
             }
            },
            "type": "bar"
           }
          ],
          "barpolar": [
           {
            "marker": {
             "line": {
              "color": "#E5ECF6",
              "width": 0.5
             },
             "pattern": {
              "fillmode": "overlay",
              "size": 10,
              "solidity": 0.2
             }
            },
            "type": "barpolar"
           }
          ],
          "carpet": [
           {
            "aaxis": {
             "endlinecolor": "#2a3f5f",
             "gridcolor": "white",
             "linecolor": "white",
             "minorgridcolor": "white",
             "startlinecolor": "#2a3f5f"
            },
            "baxis": {
             "endlinecolor": "#2a3f5f",
             "gridcolor": "white",
             "linecolor": "white",
             "minorgridcolor": "white",
             "startlinecolor": "#2a3f5f"
            },
            "type": "carpet"
           }
          ],
          "choropleth": [
           {
            "colorbar": {
             "outlinewidth": 0,
             "ticks": ""
            },
            "type": "choropleth"
           }
          ],
          "contour": [
           {
            "colorbar": {
             "outlinewidth": 0,
             "ticks": ""
            },
            "colorscale": [
             [
              0,
              "#0d0887"
             ],
             [
              0.1111111111111111,
              "#46039f"
             ],
             [
              0.2222222222222222,
              "#7201a8"
             ],
             [
              0.3333333333333333,
              "#9c179e"
             ],
             [
              0.4444444444444444,
              "#bd3786"
             ],
             [
              0.5555555555555556,
              "#d8576b"
             ],
             [
              0.6666666666666666,
              "#ed7953"
             ],
             [
              0.7777777777777778,
              "#fb9f3a"
             ],
             [
              0.8888888888888888,
              "#fdca26"
             ],
             [
              1,
              "#f0f921"
             ]
            ],
            "type": "contour"
           }
          ],
          "contourcarpet": [
           {
            "colorbar": {
             "outlinewidth": 0,
             "ticks": ""
            },
            "type": "contourcarpet"
           }
          ],
          "heatmap": [
           {
            "colorbar": {
             "outlinewidth": 0,
             "ticks": ""
            },
            "colorscale": [
             [
              0,
              "#0d0887"
             ],
             [
              0.1111111111111111,
              "#46039f"
             ],
             [
              0.2222222222222222,
              "#7201a8"
             ],
             [
              0.3333333333333333,
              "#9c179e"
             ],
             [
              0.4444444444444444,
              "#bd3786"
             ],
             [
              0.5555555555555556,
              "#d8576b"
             ],
             [
              0.6666666666666666,
              "#ed7953"
             ],
             [
              0.7777777777777778,
              "#fb9f3a"
             ],
             [
              0.8888888888888888,
              "#fdca26"
             ],
             [
              1,
              "#f0f921"
             ]
            ],
            "type": "heatmap"
           }
          ],
          "heatmapgl": [
           {
            "colorbar": {
             "outlinewidth": 0,
             "ticks": ""
            },
            "colorscale": [
             [
              0,
              "#0d0887"
             ],
             [
              0.1111111111111111,
              "#46039f"
             ],
             [
              0.2222222222222222,
              "#7201a8"
             ],
             [
              0.3333333333333333,
              "#9c179e"
             ],
             [
              0.4444444444444444,
              "#bd3786"
             ],
             [
              0.5555555555555556,
              "#d8576b"
             ],
             [
              0.6666666666666666,
              "#ed7953"
             ],
             [
              0.7777777777777778,
              "#fb9f3a"
             ],
             [
              0.8888888888888888,
              "#fdca26"
             ],
             [
              1,
              "#f0f921"
             ]
            ],
            "type": "heatmapgl"
           }
          ],
          "histogram": [
           {
            "marker": {
             "pattern": {
              "fillmode": "overlay",
              "size": 10,
              "solidity": 0.2
             }
            },
            "type": "histogram"
           }
          ],
          "histogram2d": [
           {
            "colorbar": {
             "outlinewidth": 0,
             "ticks": ""
            },
            "colorscale": [
             [
              0,
              "#0d0887"
             ],
             [
              0.1111111111111111,
              "#46039f"
             ],
             [
              0.2222222222222222,
              "#7201a8"
             ],
             [
              0.3333333333333333,
              "#9c179e"
             ],
             [
              0.4444444444444444,
              "#bd3786"
             ],
             [
              0.5555555555555556,
              "#d8576b"
             ],
             [
              0.6666666666666666,
              "#ed7953"
             ],
             [
              0.7777777777777778,
              "#fb9f3a"
             ],
             [
              0.8888888888888888,
              "#fdca26"
             ],
             [
              1,
              "#f0f921"
             ]
            ],
            "type": "histogram2d"
           }
          ],
          "histogram2dcontour": [
           {
            "colorbar": {
             "outlinewidth": 0,
             "ticks": ""
            },
            "colorscale": [
             [
              0,
              "#0d0887"
             ],
             [
              0.1111111111111111,
              "#46039f"
             ],
             [
              0.2222222222222222,
              "#7201a8"
             ],
             [
              0.3333333333333333,
              "#9c179e"
             ],
             [
              0.4444444444444444,
              "#bd3786"
             ],
             [
              0.5555555555555556,
              "#d8576b"
             ],
             [
              0.6666666666666666,
              "#ed7953"
             ],
             [
              0.7777777777777778,
              "#fb9f3a"
             ],
             [
              0.8888888888888888,
              "#fdca26"
             ],
             [
              1,
              "#f0f921"
             ]
            ],
            "type": "histogram2dcontour"
           }
          ],
          "mesh3d": [
           {
            "colorbar": {
             "outlinewidth": 0,
             "ticks": ""
            },
            "type": "mesh3d"
           }
          ],
          "parcoords": [
           {
            "line": {
             "colorbar": {
              "outlinewidth": 0,
              "ticks": ""
             }
            },
            "type": "parcoords"
           }
          ],
          "pie": [
           {
            "automargin": true,
            "type": "pie"
           }
          ],
          "scatter": [
           {
            "fillpattern": {
             "fillmode": "overlay",
             "size": 10,
             "solidity": 0.2
            },
            "type": "scatter"
           }
          ],
          "scatter3d": [
           {
            "line": {
             "colorbar": {
              "outlinewidth": 0,
              "ticks": ""
             }
            },
            "marker": {
             "colorbar": {
              "outlinewidth": 0,
              "ticks": ""
             }
            },
            "type": "scatter3d"
           }
          ],
          "scattercarpet": [
           {
            "marker": {
             "colorbar": {
              "outlinewidth": 0,
              "ticks": ""
             }
            },
            "type": "scattercarpet"
           }
          ],
          "scattergeo": [
           {
            "marker": {
             "colorbar": {
              "outlinewidth": 0,
              "ticks": ""
             }
            },
            "type": "scattergeo"
           }
          ],
          "scattergl": [
           {
            "marker": {
             "colorbar": {
              "outlinewidth": 0,
              "ticks": ""
             }
            },
            "type": "scattergl"
           }
          ],
          "scattermapbox": [
           {
            "marker": {
             "colorbar": {
              "outlinewidth": 0,
              "ticks": ""
             }
            },
            "type": "scattermapbox"
           }
          ],
          "scatterpolar": [
           {
            "marker": {
             "colorbar": {
              "outlinewidth": 0,
              "ticks": ""
             }
            },
            "type": "scatterpolar"
           }
          ],
          "scatterpolargl": [
           {
            "marker": {
             "colorbar": {
              "outlinewidth": 0,
              "ticks": ""
             }
            },
            "type": "scatterpolargl"
           }
          ],
          "scatterternary": [
           {
            "marker": {
             "colorbar": {
              "outlinewidth": 0,
              "ticks": ""
             }
            },
            "type": "scatterternary"
           }
          ],
          "surface": [
           {
            "colorbar": {
             "outlinewidth": 0,
             "ticks": ""
            },
            "colorscale": [
             [
              0,
              "#0d0887"
             ],
             [
              0.1111111111111111,
              "#46039f"
             ],
             [
              0.2222222222222222,
              "#7201a8"
             ],
             [
              0.3333333333333333,
              "#9c179e"
             ],
             [
              0.4444444444444444,
              "#bd3786"
             ],
             [
              0.5555555555555556,
              "#d8576b"
             ],
             [
              0.6666666666666666,
              "#ed7953"
             ],
             [
              0.7777777777777778,
              "#fb9f3a"
             ],
             [
              0.8888888888888888,
              "#fdca26"
             ],
             [
              1,
              "#f0f921"
             ]
            ],
            "type": "surface"
           }
          ],
          "table": [
           {
            "cells": {
             "fill": {
              "color": "#EBF0F8"
             },
             "line": {
              "color": "white"
             }
            },
            "header": {
             "fill": {
              "color": "#C8D4E3"
             },
             "line": {
              "color": "white"
             }
            },
            "type": "table"
           }
          ]
         },
         "layout": {
          "annotationdefaults": {
           "arrowcolor": "#2a3f5f",
           "arrowhead": 0,
           "arrowwidth": 1
          },
          "autotypenumbers": "strict",
          "coloraxis": {
           "colorbar": {
            "outlinewidth": 0,
            "ticks": ""
           }
          },
          "colorscale": {
           "diverging": [
            [
             0,
             "#8e0152"
            ],
            [
             0.1,
             "#c51b7d"
            ],
            [
             0.2,
             "#de77ae"
            ],
            [
             0.3,
             "#f1b6da"
            ],
            [
             0.4,
             "#fde0ef"
            ],
            [
             0.5,
             "#f7f7f7"
            ],
            [
             0.6,
             "#e6f5d0"
            ],
            [
             0.7,
             "#b8e186"
            ],
            [
             0.8,
             "#7fbc41"
            ],
            [
             0.9,
             "#4d9221"
            ],
            [
             1,
             "#276419"
            ]
           ],
           "sequential": [
            [
             0,
             "#0d0887"
            ],
            [
             0.1111111111111111,
             "#46039f"
            ],
            [
             0.2222222222222222,
             "#7201a8"
            ],
            [
             0.3333333333333333,
             "#9c179e"
            ],
            [
             0.4444444444444444,
             "#bd3786"
            ],
            [
             0.5555555555555556,
             "#d8576b"
            ],
            [
             0.6666666666666666,
             "#ed7953"
            ],
            [
             0.7777777777777778,
             "#fb9f3a"
            ],
            [
             0.8888888888888888,
             "#fdca26"
            ],
            [
             1,
             "#f0f921"
            ]
           ],
           "sequentialminus": [
            [
             0,
             "#0d0887"
            ],
            [
             0.1111111111111111,
             "#46039f"
            ],
            [
             0.2222222222222222,
             "#7201a8"
            ],
            [
             0.3333333333333333,
             "#9c179e"
            ],
            [
             0.4444444444444444,
             "#bd3786"
            ],
            [
             0.5555555555555556,
             "#d8576b"
            ],
            [
             0.6666666666666666,
             "#ed7953"
            ],
            [
             0.7777777777777778,
             "#fb9f3a"
            ],
            [
             0.8888888888888888,
             "#fdca26"
            ],
            [
             1,
             "#f0f921"
            ]
           ]
          },
          "colorway": [
           "#636efa",
           "#EF553B",
           "#00cc96",
           "#ab63fa",
           "#FFA15A",
           "#19d3f3",
           "#FF6692",
           "#B6E880",
           "#FF97FF",
           "#FECB52"
          ],
          "font": {
           "color": "#2a3f5f"
          },
          "geo": {
           "bgcolor": "white",
           "lakecolor": "white",
           "landcolor": "#E5ECF6",
           "showlakes": true,
           "showland": true,
           "subunitcolor": "white"
          },
          "hoverlabel": {
           "align": "left"
          },
          "hovermode": "closest",
          "mapbox": {
           "style": "light"
          },
          "paper_bgcolor": "white",
          "plot_bgcolor": "#E5ECF6",
          "polar": {
           "angularaxis": {
            "gridcolor": "white",
            "linecolor": "white",
            "ticks": ""
           },
           "bgcolor": "#E5ECF6",
           "radialaxis": {
            "gridcolor": "white",
            "linecolor": "white",
            "ticks": ""
           }
          },
          "scene": {
           "xaxis": {
            "backgroundcolor": "#E5ECF6",
            "gridcolor": "white",
            "gridwidth": 2,
            "linecolor": "white",
            "showbackground": true,
            "ticks": "",
            "zerolinecolor": "white"
           },
           "yaxis": {
            "backgroundcolor": "#E5ECF6",
            "gridcolor": "white",
            "gridwidth": 2,
            "linecolor": "white",
            "showbackground": true,
            "ticks": "",
            "zerolinecolor": "white"
           },
           "zaxis": {
            "backgroundcolor": "#E5ECF6",
            "gridcolor": "white",
            "gridwidth": 2,
            "linecolor": "white",
            "showbackground": true,
            "ticks": "",
            "zerolinecolor": "white"
           }
          },
          "shapedefaults": {
           "line": {
            "color": "#2a3f5f"
           }
          },
          "ternary": {
           "aaxis": {
            "gridcolor": "white",
            "linecolor": "white",
            "ticks": ""
           },
           "baxis": {
            "gridcolor": "white",
            "linecolor": "white",
            "ticks": ""
           },
           "bgcolor": "#E5ECF6",
           "caxis": {
            "gridcolor": "white",
            "linecolor": "white",
            "ticks": ""
           }
          },
          "title": {
           "x": 0.05
          },
          "xaxis": {
           "automargin": true,
           "gridcolor": "white",
           "linecolor": "white",
           "ticks": "",
           "title": {
            "standoff": 15
           },
           "zerolinecolor": "white",
           "zerolinewidth": 2
          },
          "yaxis": {
           "automargin": true,
           "gridcolor": "white",
           "linecolor": "white",
           "ticks": "",
           "title": {
            "standoff": 15
           },
           "zerolinecolor": "white",
           "zerolinewidth": 2
          }
         }
        },
        "title": {
         "text": "Evolución IPC, salarios y alquiler"
        },
        "xaxis": {
         "title": {
          "text": "Años"
         }
        }
       }
      },
      "text/html": [
       "<div>                            <div id=\"60a339d2-3009-45c3-8721-44539b48208f\" class=\"plotly-graph-div\" style=\"height:525px; width:100%;\"></div>            <script type=\"text/javascript\">                require([\"plotly\"], function(Plotly) {                    window.PLOTLYENV=window.PLOTLYENV || {};                                    if (document.getElementById(\"60a339d2-3009-45c3-8721-44539b48208f\")) {                    Plotly.newPlot(                        \"60a339d2-3009-45c3-8721-44539b48208f\",                        [{\"name\":\"IPC\",\"x\":[2014,2015,2016,2017,2018,2019,2020,2021,2022,2023],\"y\":[-0.2,-0.5,-0.2,2.0,1.7,0.7,-0.3,3.1,5.7,3.1],\"type\":\"bar\"},{\"name\":\"Salarios\",\"x\":[2014,2015,2016,2017,2018,2019,2020,2021,2022,2023],\"y\":[-0.21,1.08,-0.32,0.13,0.86,1.94,-2.61,6.18,4.6,5.2],\"type\":\"bar\"},{\"name\":\"Alquiler\",\"x\":[2014,2015,2016,2017,2018,2019,2020,2021,2022,2023],\"y\":[-0.73,2.8,6.13,11.75,11.83,4.68,4.83,-2.94,2.93,9.0],\"type\":\"bar\"}],                        {\"barmode\":\"group\",\"template\":{\"data\":{\"barpolar\":[{\"marker\":{\"line\":{\"color\":\"#E5ECF6\",\"width\":0.5},\"pattern\":{\"fillmode\":\"overlay\",\"size\":10,\"solidity\":0.2}},\"type\":\"barpolar\"}],\"bar\":[{\"error_x\":{\"color\":\"#2a3f5f\"},\"error_y\":{\"color\":\"#2a3f5f\"},\"marker\":{\"line\":{\"color\":\"#E5ECF6\",\"width\":0.5},\"pattern\":{\"fillmode\":\"overlay\",\"size\":10,\"solidity\":0.2}},\"type\":\"bar\"}],\"carpet\":[{\"aaxis\":{\"endlinecolor\":\"#2a3f5f\",\"gridcolor\":\"white\",\"linecolor\":\"white\",\"minorgridcolor\":\"white\",\"startlinecolor\":\"#2a3f5f\"},\"baxis\":{\"endlinecolor\":\"#2a3f5f\",\"gridcolor\":\"white\",\"linecolor\":\"white\",\"minorgridcolor\":\"white\",\"startlinecolor\":\"#2a3f5f\"},\"type\":\"carpet\"}],\"choropleth\":[{\"colorbar\":{\"outlinewidth\":0,\"ticks\":\"\"},\"type\":\"choropleth\"}],\"contourcarpet\":[{\"colorbar\":{\"outlinewidth\":0,\"ticks\":\"\"},\"type\":\"contourcarpet\"}],\"contour\":[{\"colorbar\":{\"outlinewidth\":0,\"ticks\":\"\"},\"colorscale\":[[0.0,\"#0d0887\"],[0.1111111111111111,\"#46039f\"],[0.2222222222222222,\"#7201a8\"],[0.3333333333333333,\"#9c179e\"],[0.4444444444444444,\"#bd3786\"],[0.5555555555555556,\"#d8576b\"],[0.6666666666666666,\"#ed7953\"],[0.7777777777777778,\"#fb9f3a\"],[0.8888888888888888,\"#fdca26\"],[1.0,\"#f0f921\"]],\"type\":\"contour\"}],\"heatmapgl\":[{\"colorbar\":{\"outlinewidth\":0,\"ticks\":\"\"},\"colorscale\":[[0.0,\"#0d0887\"],[0.1111111111111111,\"#46039f\"],[0.2222222222222222,\"#7201a8\"],[0.3333333333333333,\"#9c179e\"],[0.4444444444444444,\"#bd3786\"],[0.5555555555555556,\"#d8576b\"],[0.6666666666666666,\"#ed7953\"],[0.7777777777777778,\"#fb9f3a\"],[0.8888888888888888,\"#fdca26\"],[1.0,\"#f0f921\"]],\"type\":\"heatmapgl\"}],\"heatmap\":[{\"colorbar\":{\"outlinewidth\":0,\"ticks\":\"\"},\"colorscale\":[[0.0,\"#0d0887\"],[0.1111111111111111,\"#46039f\"],[0.2222222222222222,\"#7201a8\"],[0.3333333333333333,\"#9c179e\"],[0.4444444444444444,\"#bd3786\"],[0.5555555555555556,\"#d8576b\"],[0.6666666666666666,\"#ed7953\"],[0.7777777777777778,\"#fb9f3a\"],[0.8888888888888888,\"#fdca26\"],[1.0,\"#f0f921\"]],\"type\":\"heatmap\"}],\"histogram2dcontour\":[{\"colorbar\":{\"outlinewidth\":0,\"ticks\":\"\"},\"colorscale\":[[0.0,\"#0d0887\"],[0.1111111111111111,\"#46039f\"],[0.2222222222222222,\"#7201a8\"],[0.3333333333333333,\"#9c179e\"],[0.4444444444444444,\"#bd3786\"],[0.5555555555555556,\"#d8576b\"],[0.6666666666666666,\"#ed7953\"],[0.7777777777777778,\"#fb9f3a\"],[0.8888888888888888,\"#fdca26\"],[1.0,\"#f0f921\"]],\"type\":\"histogram2dcontour\"}],\"histogram2d\":[{\"colorbar\":{\"outlinewidth\":0,\"ticks\":\"\"},\"colorscale\":[[0.0,\"#0d0887\"],[0.1111111111111111,\"#46039f\"],[0.2222222222222222,\"#7201a8\"],[0.3333333333333333,\"#9c179e\"],[0.4444444444444444,\"#bd3786\"],[0.5555555555555556,\"#d8576b\"],[0.6666666666666666,\"#ed7953\"],[0.7777777777777778,\"#fb9f3a\"],[0.8888888888888888,\"#fdca26\"],[1.0,\"#f0f921\"]],\"type\":\"histogram2d\"}],\"histogram\":[{\"marker\":{\"pattern\":{\"fillmode\":\"overlay\",\"size\":10,\"solidity\":0.2}},\"type\":\"histogram\"}],\"mesh3d\":[{\"colorbar\":{\"outlinewidth\":0,\"ticks\":\"\"},\"type\":\"mesh3d\"}],\"parcoords\":[{\"line\":{\"colorbar\":{\"outlinewidth\":0,\"ticks\":\"\"}},\"type\":\"parcoords\"}],\"pie\":[{\"automargin\":true,\"type\":\"pie\"}],\"scatter3d\":[{\"line\":{\"colorbar\":{\"outlinewidth\":0,\"ticks\":\"\"}},\"marker\":{\"colorbar\":{\"outlinewidth\":0,\"ticks\":\"\"}},\"type\":\"scatter3d\"}],\"scattercarpet\":[{\"marker\":{\"colorbar\":{\"outlinewidth\":0,\"ticks\":\"\"}},\"type\":\"scattercarpet\"}],\"scattergeo\":[{\"marker\":{\"colorbar\":{\"outlinewidth\":0,\"ticks\":\"\"}},\"type\":\"scattergeo\"}],\"scattergl\":[{\"marker\":{\"colorbar\":{\"outlinewidth\":0,\"ticks\":\"\"}},\"type\":\"scattergl\"}],\"scattermapbox\":[{\"marker\":{\"colorbar\":{\"outlinewidth\":0,\"ticks\":\"\"}},\"type\":\"scattermapbox\"}],\"scatterpolargl\":[{\"marker\":{\"colorbar\":{\"outlinewidth\":0,\"ticks\":\"\"}},\"type\":\"scatterpolargl\"}],\"scatterpolar\":[{\"marker\":{\"colorbar\":{\"outlinewidth\":0,\"ticks\":\"\"}},\"type\":\"scatterpolar\"}],\"scatter\":[{\"fillpattern\":{\"fillmode\":\"overlay\",\"size\":10,\"solidity\":0.2},\"type\":\"scatter\"}],\"scatterternary\":[{\"marker\":{\"colorbar\":{\"outlinewidth\":0,\"ticks\":\"\"}},\"type\":\"scatterternary\"}],\"surface\":[{\"colorbar\":{\"outlinewidth\":0,\"ticks\":\"\"},\"colorscale\":[[0.0,\"#0d0887\"],[0.1111111111111111,\"#46039f\"],[0.2222222222222222,\"#7201a8\"],[0.3333333333333333,\"#9c179e\"],[0.4444444444444444,\"#bd3786\"],[0.5555555555555556,\"#d8576b\"],[0.6666666666666666,\"#ed7953\"],[0.7777777777777778,\"#fb9f3a\"],[0.8888888888888888,\"#fdca26\"],[1.0,\"#f0f921\"]],\"type\":\"surface\"}],\"table\":[{\"cells\":{\"fill\":{\"color\":\"#EBF0F8\"},\"line\":{\"color\":\"white\"}},\"header\":{\"fill\":{\"color\":\"#C8D4E3\"},\"line\":{\"color\":\"white\"}},\"type\":\"table\"}]},\"layout\":{\"annotationdefaults\":{\"arrowcolor\":\"#2a3f5f\",\"arrowhead\":0,\"arrowwidth\":1},\"autotypenumbers\":\"strict\",\"coloraxis\":{\"colorbar\":{\"outlinewidth\":0,\"ticks\":\"\"}},\"colorscale\":{\"diverging\":[[0,\"#8e0152\"],[0.1,\"#c51b7d\"],[0.2,\"#de77ae\"],[0.3,\"#f1b6da\"],[0.4,\"#fde0ef\"],[0.5,\"#f7f7f7\"],[0.6,\"#e6f5d0\"],[0.7,\"#b8e186\"],[0.8,\"#7fbc41\"],[0.9,\"#4d9221\"],[1,\"#276419\"]],\"sequential\":[[0.0,\"#0d0887\"],[0.1111111111111111,\"#46039f\"],[0.2222222222222222,\"#7201a8\"],[0.3333333333333333,\"#9c179e\"],[0.4444444444444444,\"#bd3786\"],[0.5555555555555556,\"#d8576b\"],[0.6666666666666666,\"#ed7953\"],[0.7777777777777778,\"#fb9f3a\"],[0.8888888888888888,\"#fdca26\"],[1.0,\"#f0f921\"]],\"sequentialminus\":[[0.0,\"#0d0887\"],[0.1111111111111111,\"#46039f\"],[0.2222222222222222,\"#7201a8\"],[0.3333333333333333,\"#9c179e\"],[0.4444444444444444,\"#bd3786\"],[0.5555555555555556,\"#d8576b\"],[0.6666666666666666,\"#ed7953\"],[0.7777777777777778,\"#fb9f3a\"],[0.8888888888888888,\"#fdca26\"],[1.0,\"#f0f921\"]]},\"colorway\":[\"#636efa\",\"#EF553B\",\"#00cc96\",\"#ab63fa\",\"#FFA15A\",\"#19d3f3\",\"#FF6692\",\"#B6E880\",\"#FF97FF\",\"#FECB52\"],\"font\":{\"color\":\"#2a3f5f\"},\"geo\":{\"bgcolor\":\"white\",\"lakecolor\":\"white\",\"landcolor\":\"#E5ECF6\",\"showlakes\":true,\"showland\":true,\"subunitcolor\":\"white\"},\"hoverlabel\":{\"align\":\"left\"},\"hovermode\":\"closest\",\"mapbox\":{\"style\":\"light\"},\"paper_bgcolor\":\"white\",\"plot_bgcolor\":\"#E5ECF6\",\"polar\":{\"angularaxis\":{\"gridcolor\":\"white\",\"linecolor\":\"white\",\"ticks\":\"\"},\"bgcolor\":\"#E5ECF6\",\"radialaxis\":{\"gridcolor\":\"white\",\"linecolor\":\"white\",\"ticks\":\"\"}},\"scene\":{\"xaxis\":{\"backgroundcolor\":\"#E5ECF6\",\"gridcolor\":\"white\",\"gridwidth\":2,\"linecolor\":\"white\",\"showbackground\":true,\"ticks\":\"\",\"zerolinecolor\":\"white\"},\"yaxis\":{\"backgroundcolor\":\"#E5ECF6\",\"gridcolor\":\"white\",\"gridwidth\":2,\"linecolor\":\"white\",\"showbackground\":true,\"ticks\":\"\",\"zerolinecolor\":\"white\"},\"zaxis\":{\"backgroundcolor\":\"#E5ECF6\",\"gridcolor\":\"white\",\"gridwidth\":2,\"linecolor\":\"white\",\"showbackground\":true,\"ticks\":\"\",\"zerolinecolor\":\"white\"}},\"shapedefaults\":{\"line\":{\"color\":\"#2a3f5f\"}},\"ternary\":{\"aaxis\":{\"gridcolor\":\"white\",\"linecolor\":\"white\",\"ticks\":\"\"},\"baxis\":{\"gridcolor\":\"white\",\"linecolor\":\"white\",\"ticks\":\"\"},\"bgcolor\":\"#E5ECF6\",\"caxis\":{\"gridcolor\":\"white\",\"linecolor\":\"white\",\"ticks\":\"\"}},\"title\":{\"x\":0.05},\"xaxis\":{\"automargin\":true,\"gridcolor\":\"white\",\"linecolor\":\"white\",\"ticks\":\"\",\"title\":{\"standoff\":15},\"zerolinecolor\":\"white\",\"zerolinewidth\":2},\"yaxis\":{\"automargin\":true,\"gridcolor\":\"white\",\"linecolor\":\"white\",\"ticks\":\"\",\"title\":{\"standoff\":15},\"zerolinecolor\":\"white\",\"zerolinewidth\":2}}},\"title\":{\"text\":\"Evoluci\\u00f3n IPC, salarios y alquiler\"},\"xaxis\":{\"title\":{\"text\":\"A\\u00f1os\"}}},                        {\"responsive\": true}                    ).then(function(){\n",
       "                            \n",
       "var gd = document.getElementById('60a339d2-3009-45c3-8721-44539b48208f');\n",
       "var x = new MutationObserver(function (mutations, observer) {{\n",
       "        var display = window.getComputedStyle(gd).display;\n",
       "        if (!display || display === 'none') {{\n",
       "            console.log([gd, 'removed!']);\n",
       "            Plotly.purge(gd);\n",
       "            observer.disconnect();\n",
       "        }}\n",
       "}});\n",
       "\n",
       "// Listen for the removal of the full notebook cells\n",
       "var notebookContainer = gd.closest('#notebook-container');\n",
       "if (notebookContainer) {{\n",
       "    x.observe(notebookContainer, {childList: true});\n",
       "}}\n",
       "\n",
       "// Listen for the clearing of the current output cell\n",
       "var outputEl = gd.closest('.output');\n",
       "if (outputEl) {{\n",
       "    x.observe(outputEl, {childList: true});\n",
       "}}\n",
       "\n",
       "                        })                };                });            </script>        </div>"
      ]
     },
     "metadata": {},
     "output_type": "display_data"
    }
   ],
   "source": [
    "\n",
    "x = salario_ipc_alquiler.index\n",
    "\n",
    "trace1 = {\n",
    "    'x': x,\n",
    "    'y': salario_ipc_alquiler['IPC'],\n",
    "    'name': 'IPC',\n",
    "    'type': 'bar'\n",
    "}\n",
    "\n",
    "trace2 = {\n",
    "    'x': x,\n",
    "    'y': salario_ipc_alquiler['Salarios'],\n",
    "    'name': 'Salarios',\n",
    "    'type': 'bar'\n",
    "}\n",
    "\n",
    "trace3 = {\n",
    "    'x': x,\n",
    "    'y': salario_ipc_alquiler['Alquiler'],\n",
    "    'name': 'Alquiler',\n",
    "    'type': 'bar'\n",
    "}\n",
    "\n",
    "data = [trace1, trace2, trace3]\n",
    "\n",
    "layout = {\n",
    "    'xaxis': {'title': 'Años'},\n",
    "    'barmode': 'group',\n",
    "    'title': 'Evolución IPC, salarios y alquiler'\n",
    "}\n",
    "\n",
    "fig = go.Figure(data = data, layout = layout)\n",
    "iplot(fig)\n",
    "fig.write_html(\"Evolución IPC, salarios, alquiler.html\")"
   ]
  },
  {
   "cell_type": "code",
   "execution_count": 26,
   "metadata": {},
   "outputs": [
    {
     "data": {
      "image/png": "[encoded data removed]",
      "text/plain": [
       "<Figure size 500x500 with 1 Axes>"
      ]
     },
     "metadata": {},
     "output_type": "display_data"
    }
   ],
   "source": [
    "sns.lmplot(salario_ipc_alquiler, x='Alquiler', y='Salarios');"
   ]
  },
  {
   "cell_type": "code",
   "execution_count": 27,
   "metadata": {},
   "outputs": [
    {
     "data": {
      "image/png": "[encoded data removed]",
      "text/plain": [
       "<Figure size 640x480 with 2 Axes>"
      ]
     },
     "metadata": {},
     "output_type": "display_data"
    }
   ],
   "source": [
    "sns.heatmap(salario_ipc_alquiler.corr(numeric_only=True), vmin=-1, vmax=1, annot=True, cmap=sns.diverging_palette(145, 280, s=85, l=25, n=7));"
   ]
  },
  {
   "cell_type": "code",
   "execution_count": 28,
   "metadata": {},
   "outputs": [
    {
     "data": {
      "application/vnd.plotly.v1+json": {
       "config": {
        "linkText": "Export to plot.ly",
        "plotlyServerURL": "https://plot.ly",
        "showLink": false
       },
       "data": [
        {
         "showlegend": false,
         "type": "box",
         "xaxis": "x",
         "y": [
          -0.2,
          -0.5,
          -0.2,
          2,
          1.7,
          0.7,
          -0.3,
          3.1,
          5.7,
          3.1
         ],
         "yaxis": "y"
        },
        {
         "marker": {
          "size": 6
         },
         "mode": "markers",
         "showlegend": false,
         "type": "scatter",
         "x": [
          -0.21,
          1.08,
          -0.32,
          0.13,
          0.86,
          1.94,
          -2.61,
          6.18,
          4.6,
          5.2
         ],
         "xaxis": "x2",
         "y": [
          -0.2,
          -0.5,
          -0.2,
          2,
          1.7,
          0.7,
          -0.3,
          3.1,
          5.7,
          3.1
         ],
         "yaxis": "y2"
        },
        {
         "marker": {
          "size": 6
         },
         "mode": "markers",
         "showlegend": false,
         "type": "scatter",
         "x": [
          -0.73,
          2.8,
          6.13,
          11.75,
          11.83,
          4.68,
          4.83,
          -2.94,
          2.93,
          9
         ],
         "xaxis": "x3",
         "y": [
          -0.2,
          -0.5,
          -0.2,
          2,
          1.7,
          0.7,
          -0.3,
          3.1,
          5.7,
          3.1
         ],
         "yaxis": "y3"
        },
        {
         "marker": {
          "size": 6
         },
         "mode": "markers",
         "showlegend": false,
         "type": "scatter",
         "x": [
          -0.2,
          -0.5,
          -0.2,
          2,
          1.7,
          0.7,
          -0.3,
          3.1,
          5.7,
          3.1
         ],
         "xaxis": "x4",
         "y": [
          -0.21,
          1.08,
          -0.32,
          0.13,
          0.86,
          1.94,
          -2.61,
          6.18,
          4.6,
          5.2
         ],
         "yaxis": "y4"
        },
        {
         "showlegend": false,
         "type": "box",
         "xaxis": "x5",
         "y": [
          -0.21,
          1.08,
          -0.32,
          0.13,
          0.86,
          1.94,
          -2.61,
          6.18,
          4.6,
          5.2
         ],
         "yaxis": "y5"
        },
        {
         "marker": {
          "size": 6
         },
         "mode": "markers",
         "showlegend": false,
         "type": "scatter",
         "x": [
          -0.73,
          2.8,
          6.13,
          11.75,
          11.83,
          4.68,
          4.83,
          -2.94,
          2.93,
          9
         ],
         "xaxis": "x6",
         "y": [
          -0.21,
          1.08,
          -0.32,
          0.13,
          0.86,
          1.94,
          -2.61,
          6.18,
          4.6,
          5.2
         ],
         "yaxis": "y6"
        },
        {
         "marker": {
          "size": 6
         },
         "mode": "markers",
         "showlegend": false,
         "type": "scatter",
         "x": [
          -0.2,
          -0.5,
          -0.2,
          2,
          1.7,
          0.7,
          -0.3,
          3.1,
          5.7,
          3.1
         ],
         "xaxis": "x7",
         "y": [
          -0.73,
          2.8,
          6.13,
          11.75,
          11.83,
          4.68,
          4.83,
          -2.94,
          2.93,
          9
         ],
         "yaxis": "y7"
        },
        {
         "marker": {
          "size": 6
         },
         "mode": "markers",
         "showlegend": false,
         "type": "scatter",
         "x": [
          -0.21,
          1.08,
          -0.32,
          0.13,
          0.86,
          1.94,
          -2.61,
          6.18,
          4.6,
          5.2
         ],
         "xaxis": "x8",
         "y": [
          -0.73,
          2.8,
          6.13,
          11.75,
          11.83,
          4.68,
          4.83,
          -2.94,
          2.93,
          9
         ],
         "yaxis": "y8"
        },
        {
         "showlegend": false,
         "type": "box",
         "xaxis": "x9",
         "y": [
          -0.73,
          2.8,
          6.13,
          11.75,
          11.83,
          4.68,
          4.83,
          -2.94,
          2.93,
          9
         ],
         "yaxis": "y9"
        }
       ],
       "layout": {
        "height": 700,
        "showlegend": true,
        "template": {
         "data": {
          "bar": [
           {
            "error_x": {
             "color": "#2a3f5f"
            },
            "error_y": {
             "color": "#2a3f5f"
            },
            "marker": {
             "line": {
              "color": "#E5ECF6",
              "width": 0.5
             },
             "pattern": {
              "fillmode": "overlay",
              "size": 10,
              "solidity": 0.2
             }
            },
            "type": "bar"
           }
          ],
          "barpolar": [
           {
            "marker": {
             "line": {
              "color": "#E5ECF6",
              "width": 0.5
             },
             "pattern": {
              "fillmode": "overlay",
              "size": 10,
              "solidity": 0.2
             }
            },
            "type": "barpolar"
           }
          ],
          "carpet": [
           {
            "aaxis": {
             "endlinecolor": "#2a3f5f",
             "gridcolor": "white",
             "linecolor": "white",
             "minorgridcolor": "white",
             "startlinecolor": "#2a3f5f"
            },
            "baxis": {
             "endlinecolor": "#2a3f5f",
             "gridcolor": "white",
             "linecolor": "white",
             "minorgridcolor": "white",
             "startlinecolor": "#2a3f5f"
            },
            "type": "carpet"
           }
          ],
          "choropleth": [
           {
            "colorbar": {
             "outlinewidth": 0,
             "ticks": ""
            },
            "type": "choropleth"
           }
          ],
          "contour": [
           {
            "colorbar": {
             "outlinewidth": 0,
             "ticks": ""
            },
            "colorscale": [
             [
              0,
              "#0d0887"
             ],
             [
              0.1111111111111111,
              "#46039f"
             ],
             [
              0.2222222222222222,
              "#7201a8"
             ],
             [
              0.3333333333333333,
              "#9c179e"
             ],
             [
              0.4444444444444444,
              "#bd3786"
             ],
             [
              0.5555555555555556,
              "#d8576b"
             ],
             [
              0.6666666666666666,
              "#ed7953"
             ],
             [
              0.7777777777777778,
              "#fb9f3a"
             ],
             [
              0.8888888888888888,
              "#fdca26"
             ],
             [
              1,
              "#f0f921"
             ]
            ],
            "type": "contour"
           }
          ],
          "contourcarpet": [
           {
            "colorbar": {
             "outlinewidth": 0,
             "ticks": ""
            },
            "type": "contourcarpet"
           }
          ],
          "heatmap": [
           {
            "colorbar": {
             "outlinewidth": 0,
             "ticks": ""
            },
            "colorscale": [
             [
              0,
              "#0d0887"
             ],
             [
              0.1111111111111111,
              "#46039f"
             ],
             [
              0.2222222222222222,
              "#7201a8"
             ],
             [
              0.3333333333333333,
              "#9c179e"
             ],
             [
              0.4444444444444444,
              "#bd3786"
             ],
             [
              0.5555555555555556,
              "#d8576b"
             ],
             [
              0.6666666666666666,
              "#ed7953"
             ],
             [
              0.7777777777777778,
              "#fb9f3a"
             ],
             [
              0.8888888888888888,
              "#fdca26"
             ],
             [
              1,
              "#f0f921"
             ]
            ],
            "type": "heatmap"
           }
          ],
          "heatmapgl": [
           {
            "colorbar": {
             "outlinewidth": 0,
             "ticks": ""
            },
            "colorscale": [
             [
              0,
              "#0d0887"
             ],
             [
              0.1111111111111111,
              "#46039f"
             ],
             [
              0.2222222222222222,
              "#7201a8"
             ],
             [
              0.3333333333333333,
              "#9c179e"
             ],
             [
              0.4444444444444444,
              "#bd3786"
             ],
             [
              0.5555555555555556,
              "#d8576b"
             ],
             [
              0.6666666666666666,
              "#ed7953"
             ],
             [
              0.7777777777777778,
              "#fb9f3a"
             ],
             [
              0.8888888888888888,
              "#fdca26"
             ],
             [
              1,
              "#f0f921"
             ]
            ],
            "type": "heatmapgl"
           }
          ],
          "histogram": [
           {
            "marker": {
             "pattern": {
              "fillmode": "overlay",
              "size": 10,
              "solidity": 0.2
             }
            },
            "type": "histogram"
           }
          ],
          "histogram2d": [
           {
            "colorbar": {
             "outlinewidth": 0,
             "ticks": ""
            },
            "colorscale": [
             [
              0,
              "#0d0887"
             ],
             [
              0.1111111111111111,
              "#46039f"
             ],
             [
              0.2222222222222222,
              "#7201a8"
             ],
             [
              0.3333333333333333,
              "#9c179e"
             ],
             [
              0.4444444444444444,
              "#bd3786"
             ],
             [
              0.5555555555555556,
              "#d8576b"
             ],
             [
              0.6666666666666666,
              "#ed7953"
             ],
             [
              0.7777777777777778,
              "#fb9f3a"
             ],
             [
              0.8888888888888888,
              "#fdca26"
             ],
             [
              1,
              "#f0f921"
             ]
            ],
            "type": "histogram2d"
           }
          ],
          "histogram2dcontour": [
           {
            "colorbar": {
             "outlinewidth": 0,
             "ticks": ""
            },
            "colorscale": [
             [
              0,
              "#0d0887"
             ],
             [
              0.1111111111111111,
              "#46039f"
             ],
             [
              0.2222222222222222,
              "#7201a8"
             ],
             [
              0.3333333333333333,
              "#9c179e"
             ],
             [
              0.4444444444444444,
              "#bd3786"
             ],
             [
              0.5555555555555556,
              "#d8576b"
             ],
             [
              0.6666666666666666,
              "#ed7953"
             ],
             [
              0.7777777777777778,
              "#fb9f3a"
             ],
             [
              0.8888888888888888,
              "#fdca26"
             ],
             [
              1,
              "#f0f921"
             ]
            ],
            "type": "histogram2dcontour"
           }
          ],
          "mesh3d": [
           {
            "colorbar": {
             "outlinewidth": 0,
             "ticks": ""
            },
            "type": "mesh3d"
           }
          ],
          "parcoords": [
           {
            "line": {
             "colorbar": {
              "outlinewidth": 0,
              "ticks": ""
             }
            },
            "type": "parcoords"
           }
          ],
          "pie": [
           {
            "automargin": true,
            "type": "pie"
           }
          ],
          "scatter": [
           {
            "fillpattern": {
             "fillmode": "overlay",
             "size": 10,
             "solidity": 0.2
            },
            "type": "scatter"
           }
          ],
          "scatter3d": [
           {
            "line": {
             "colorbar": {
              "outlinewidth": 0,
              "ticks": ""
             }
            },
            "marker": {
             "colorbar": {
              "outlinewidth": 0,
              "ticks": ""
             }
            },
            "type": "scatter3d"
           }
          ],
          "scattercarpet": [
           {
            "marker": {
             "colorbar": {
              "outlinewidth": 0,
              "ticks": ""
             }
            },
            "type": "scattercarpet"
           }
          ],
          "scattergeo": [
           {
            "marker": {
             "colorbar": {
              "outlinewidth": 0,
              "ticks": ""
             }
            },
            "type": "scattergeo"
           }
          ],
          "scattergl": [
           {
            "marker": {
             "colorbar": {
              "outlinewidth": 0,
              "ticks": ""
             }
            },
            "type": "scattergl"
           }
          ],
          "scattermapbox": [
           {
            "marker": {
             "colorbar": {
              "outlinewidth": 0,
              "ticks": ""
             }
            },
            "type": "scattermapbox"
           }
          ],
          "scatterpolar": [
           {
            "marker": {
             "colorbar": {
              "outlinewidth": 0,
              "ticks": ""
             }
            },
            "type": "scatterpolar"
           }
          ],
          "scatterpolargl": [
           {
            "marker": {
             "colorbar": {
              "outlinewidth": 0,
              "ticks": ""
             }
            },
            "type": "scatterpolargl"
           }
          ],
          "scatterternary": [
           {
            "marker": {
             "colorbar": {
              "outlinewidth": 0,
              "ticks": ""
             }
            },
            "type": "scatterternary"
           }
          ],
          "surface": [
           {
            "colorbar": {
             "outlinewidth": 0,
             "ticks": ""
            },
            "colorscale": [
             [
              0,
              "#0d0887"
             ],
             [
              0.1111111111111111,
              "#46039f"
             ],
             [
              0.2222222222222222,
              "#7201a8"
             ],
             [
              0.3333333333333333,
              "#9c179e"
             ],
             [
              0.4444444444444444,
              "#bd3786"
             ],
             [
              0.5555555555555556,
              "#d8576b"
             ],
             [
              0.6666666666666666,
              "#ed7953"
             ],
             [
              0.7777777777777778,
              "#fb9f3a"
             ],
             [
              0.8888888888888888,
              "#fdca26"
             ],
             [
              1,
              "#f0f921"
             ]
            ],
            "type": "surface"
           }
          ],
          "table": [
           {
            "cells": {
             "fill": {
              "color": "#EBF0F8"
             },
             "line": {
              "color": "white"
             }
            },
            "header": {
             "fill": {
              "color": "#C8D4E3"
             },
             "line": {
              "color": "white"
             }
            },
            "type": "table"
           }
          ]
         },
         "layout": {
          "annotationdefaults": {
           "arrowcolor": "#2a3f5f",
           "arrowhead": 0,
           "arrowwidth": 1
          },
          "autotypenumbers": "strict",
          "coloraxis": {
           "colorbar": {
            "outlinewidth": 0,
            "ticks": ""
           }
          },
          "colorscale": {
           "diverging": [
            [
             0,
             "#8e0152"
            ],
            [
             0.1,
             "#c51b7d"
            ],
            [
             0.2,
             "#de77ae"
            ],
            [
             0.3,
             "#f1b6da"
            ],
            [
             0.4,
             "#fde0ef"
            ],
            [
             0.5,
             "#f7f7f7"
            ],
            [
             0.6,
             "#e6f5d0"
            ],
            [
             0.7,
             "#b8e186"
            ],
            [
             0.8,
             "#7fbc41"
            ],
            [
             0.9,
             "#4d9221"
            ],
            [
             1,
             "#276419"
            ]
           ],
           "sequential": [
            [
             0,
             "#0d0887"
            ],
            [
             0.1111111111111111,
             "#46039f"
            ],
            [
             0.2222222222222222,
             "#7201a8"
            ],
            [
             0.3333333333333333,
             "#9c179e"
            ],
            [
             0.4444444444444444,
             "#bd3786"
            ],
            [
             0.5555555555555556,
             "#d8576b"
            ],
            [
             0.6666666666666666,
             "#ed7953"
            ],
            [
             0.7777777777777778,
             "#fb9f3a"
            ],
            [
             0.8888888888888888,
             "#fdca26"
            ],
            [
             1,
             "#f0f921"
            ]
           ],
           "sequentialminus": [
            [
             0,
             "#0d0887"
            ],
            [
             0.1111111111111111,
             "#46039f"
            ],
            [
             0.2222222222222222,
             "#7201a8"
            ],
            [
             0.3333333333333333,
             "#9c179e"
            ],
            [
             0.4444444444444444,
             "#bd3786"
            ],
            [
             0.5555555555555556,
             "#d8576b"
            ],
            [
             0.6666666666666666,
             "#ed7953"
            ],
            [
             0.7777777777777778,
             "#fb9f3a"
            ],
            [
             0.8888888888888888,
             "#fdca26"
            ],
            [
             1,
             "#f0f921"
            ]
           ]
          },
          "colorway": [
           "#636efa",
           "#EF553B",
           "#00cc96",
           "#ab63fa",
           "#FFA15A",
           "#19d3f3",
           "#FF6692",
           "#B6E880",
           "#FF97FF",
           "#FECB52"
          ],
          "font": {
           "color": "#2a3f5f"
          },
          "geo": {
           "bgcolor": "white",
           "lakecolor": "white",
           "landcolor": "#E5ECF6",
           "showlakes": true,
           "showland": true,
           "subunitcolor": "white"
          },
          "hoverlabel": {
           "align": "left"
          },
          "hovermode": "closest",
          "mapbox": {
           "style": "light"
          },
          "paper_bgcolor": "white",
          "plot_bgcolor": "#E5ECF6",
          "polar": {
           "angularaxis": {
            "gridcolor": "white",
            "linecolor": "white",
            "ticks": ""
           },
           "bgcolor": "#E5ECF6",
           "radialaxis": {
            "gridcolor": "white",
            "linecolor": "white",
            "ticks": ""
           }
          },
          "scene": {
           "xaxis": {
            "backgroundcolor": "#E5ECF6",
            "gridcolor": "white",
            "gridwidth": 2,
            "linecolor": "white",
            "showbackground": true,
            "ticks": "",
            "zerolinecolor": "white"
           },
           "yaxis": {
            "backgroundcolor": "#E5ECF6",
            "gridcolor": "white",
            "gridwidth": 2,
            "linecolor": "white",
            "showbackground": true,
            "ticks": "",
            "zerolinecolor": "white"
           },
           "zaxis": {
            "backgroundcolor": "#E5ECF6",
            "gridcolor": "white",
            "gridwidth": 2,
            "linecolor": "white",
            "showbackground": true,
            "ticks": "",
            "zerolinecolor": "white"
           }
          },
          "shapedefaults": {
           "line": {
            "color": "#2a3f5f"
           }
          },
          "ternary": {
           "aaxis": {
            "gridcolor": "white",
            "linecolor": "white",
            "ticks": ""
           },
           "baxis": {
            "gridcolor": "white",
            "linecolor": "white",
            "ticks": ""
           },
           "bgcolor": "#E5ECF6",
           "caxis": {
            "gridcolor": "white",
            "linecolor": "white",
            "ticks": ""
           }
          },
          "title": {
           "x": 0.05
          },
          "xaxis": {
           "automargin": true,
           "gridcolor": "white",
           "linecolor": "white",
           "ticks": "",
           "title": {
            "standoff": 15
           },
           "zerolinecolor": "white",
           "zerolinewidth": 2
          },
          "yaxis": {
           "automargin": true,
           "gridcolor": "white",
           "linecolor": "white",
           "ticks": "",
           "title": {
            "standoff": 15
           },
           "zerolinecolor": "white",
           "zerolinewidth": 2
          }
         }
        },
        "title": {
         "text": "Scatterplot Matrix"
        },
        "width": 700,
        "xaxis": {
         "anchor": "y",
         "domain": [
          0,
          0.2888888888888889
         ],
         "showticklabels": false
        },
        "xaxis2": {
         "anchor": "y2",
         "domain": [
          0.35555555555555557,
          0.6444444444444445
         ]
        },
        "xaxis3": {
         "anchor": "y3",
         "domain": [
          0.7111111111111111,
          1
         ]
        },
        "xaxis4": {
         "anchor": "y4",
         "domain": [
          0,
          0.2888888888888889
         ]
        },
        "xaxis5": {
         "anchor": "y5",
         "domain": [
          0.35555555555555557,
          0.6444444444444445
         ],
         "showticklabels": false
        },
        "xaxis6": {
         "anchor": "y6",
         "domain": [
          0.7111111111111111,
          1
         ]
        },
        "xaxis7": {
         "anchor": "y7",
         "domain": [
          0,
          0.2888888888888889
         ],
         "title": {
          "text": "IPC"
         }
        },
        "xaxis8": {
         "anchor": "y8",
         "domain": [
          0.35555555555555557,
          0.6444444444444445
         ],
         "title": {
          "text": "Salarios"
         }
        },
        "xaxis9": {
         "anchor": "y9",
         "domain": [
          0.7111111111111111,
          1
         ],
         "showticklabels": false,
         "title": {
          "text": "Alquiler"
         }
        },
        "yaxis": {
         "anchor": "x",
         "domain": [
          0.7333333333333333,
          1
         ],
         "title": {
          "text": "IPC"
         }
        },
        "yaxis2": {
         "anchor": "x2",
         "domain": [
          0.7333333333333333,
          1
         ]
        },
        "yaxis3": {
         "anchor": "x3",
         "domain": [
          0.7333333333333333,
          1
         ]
        },
        "yaxis4": {
         "anchor": "x4",
         "domain": [
          0.36666666666666664,
          0.6333333333333333
         ],
         "title": {
          "text": "Salarios"
         }
        },
        "yaxis5": {
         "anchor": "x5",
         "domain": [
          0.36666666666666664,
          0.6333333333333333
         ]
        },
        "yaxis6": {
         "anchor": "x6",
         "domain": [
          0.36666666666666664,
          0.6333333333333333
         ]
        },
        "yaxis7": {
         "anchor": "x7",
         "domain": [
          0,
          0.26666666666666666
         ],
         "title": {
          "text": "Alquiler"
         }
        },
        "yaxis8": {
         "anchor": "x8",
         "domain": [
          0,
          0.26666666666666666
         ]
        },
        "yaxis9": {
         "anchor": "x9",
         "domain": [
          0,
          0.26666666666666666
         ]
        }
       }
      },
      "text/html": [
       "<div>                            <div id=\"fee22cd1-727b-416e-94f1-36bbfbc30b2a\" class=\"plotly-graph-div\" style=\"height:700px; width:700px;\"></div>            <script type=\"text/javascript\">                require([\"plotly\"], function(Plotly) {                    window.PLOTLYENV=window.PLOTLYENV || {};                                    if (document.getElementById(\"fee22cd1-727b-416e-94f1-36bbfbc30b2a\")) {                    Plotly.newPlot(                        \"fee22cd1-727b-416e-94f1-36bbfbc30b2a\",                        [{\"showlegend\":false,\"xaxis\":\"x\",\"y\":[-0.2,-0.5,-0.2,2.0,1.7,0.7,-0.3,3.1,5.7,3.1],\"yaxis\":\"y\",\"type\":\"box\"},{\"marker\":{\"size\":6},\"mode\":\"markers\",\"showlegend\":false,\"x\":[-0.21,1.08,-0.32,0.13,0.86,1.94,-2.61,6.18,4.6,5.2],\"xaxis\":\"x2\",\"y\":[-0.2,-0.5,-0.2,2.0,1.7,0.7,-0.3,3.1,5.7,3.1],\"yaxis\":\"y2\",\"type\":\"scatter\"},{\"marker\":{\"size\":6},\"mode\":\"markers\",\"showlegend\":false,\"x\":[-0.73,2.8,6.13,11.75,11.83,4.68,4.83,-2.94,2.93,9.0],\"xaxis\":\"x3\",\"y\":[-0.2,-0.5,-0.2,2.0,1.7,0.7,-0.3,3.1,5.7,3.1],\"yaxis\":\"y3\",\"type\":\"scatter\"},{\"marker\":{\"size\":6},\"mode\":\"markers\",\"showlegend\":false,\"x\":[-0.2,-0.5,-0.2,2.0,1.7,0.7,-0.3,3.1,5.7,3.1],\"xaxis\":\"x4\",\"y\":[-0.21,1.08,-0.32,0.13,0.86,1.94,-2.61,6.18,4.6,5.2],\"yaxis\":\"y4\",\"type\":\"scatter\"},{\"showlegend\":false,\"xaxis\":\"x5\",\"y\":[-0.21,1.08,-0.32,0.13,0.86,1.94,-2.61,6.18,4.6,5.2],\"yaxis\":\"y5\",\"type\":\"box\"},{\"marker\":{\"size\":6},\"mode\":\"markers\",\"showlegend\":false,\"x\":[-0.73,2.8,6.13,11.75,11.83,4.68,4.83,-2.94,2.93,9.0],\"xaxis\":\"x6\",\"y\":[-0.21,1.08,-0.32,0.13,0.86,1.94,-2.61,6.18,4.6,5.2],\"yaxis\":\"y6\",\"type\":\"scatter\"},{\"marker\":{\"size\":6},\"mode\":\"markers\",\"showlegend\":false,\"x\":[-0.2,-0.5,-0.2,2.0,1.7,0.7,-0.3,3.1,5.7,3.1],\"xaxis\":\"x7\",\"y\":[-0.73,2.8,6.13,11.75,11.83,4.68,4.83,-2.94,2.93,9.0],\"yaxis\":\"y7\",\"type\":\"scatter\"},{\"marker\":{\"size\":6},\"mode\":\"markers\",\"showlegend\":false,\"x\":[-0.21,1.08,-0.32,0.13,0.86,1.94,-2.61,6.18,4.6,5.2],\"xaxis\":\"x8\",\"y\":[-0.73,2.8,6.13,11.75,11.83,4.68,4.83,-2.94,2.93,9.0],\"yaxis\":\"y8\",\"type\":\"scatter\"},{\"showlegend\":false,\"xaxis\":\"x9\",\"y\":[-0.73,2.8,6.13,11.75,11.83,4.68,4.83,-2.94,2.93,9.0],\"yaxis\":\"y9\",\"type\":\"box\"}],                        {\"height\":700,\"showlegend\":true,\"template\":{\"data\":{\"barpolar\":[{\"marker\":{\"line\":{\"color\":\"#E5ECF6\",\"width\":0.5},\"pattern\":{\"fillmode\":\"overlay\",\"size\":10,\"solidity\":0.2}},\"type\":\"barpolar\"}],\"bar\":[{\"error_x\":{\"color\":\"#2a3f5f\"},\"error_y\":{\"color\":\"#2a3f5f\"},\"marker\":{\"line\":{\"color\":\"#E5ECF6\",\"width\":0.5},\"pattern\":{\"fillmode\":\"overlay\",\"size\":10,\"solidity\":0.2}},\"type\":\"bar\"}],\"carpet\":[{\"aaxis\":{\"endlinecolor\":\"#2a3f5f\",\"gridcolor\":\"white\",\"linecolor\":\"white\",\"minorgridcolor\":\"white\",\"startlinecolor\":\"#2a3f5f\"},\"baxis\":{\"endlinecolor\":\"#2a3f5f\",\"gridcolor\":\"white\",\"linecolor\":\"white\",\"minorgridcolor\":\"white\",\"startlinecolor\":\"#2a3f5f\"},\"type\":\"carpet\"}],\"choropleth\":[{\"colorbar\":{\"outlinewidth\":0,\"ticks\":\"\"},\"type\":\"choropleth\"}],\"contourcarpet\":[{\"colorbar\":{\"outlinewidth\":0,\"ticks\":\"\"},\"type\":\"contourcarpet\"}],\"contour\":[{\"colorbar\":{\"outlinewidth\":0,\"ticks\":\"\"},\"colorscale\":[[0.0,\"#0d0887\"],[0.1111111111111111,\"#46039f\"],[0.2222222222222222,\"#7201a8\"],[0.3333333333333333,\"#9c179e\"],[0.4444444444444444,\"#bd3786\"],[0.5555555555555556,\"#d8576b\"],[0.6666666666666666,\"#ed7953\"],[0.7777777777777778,\"#fb9f3a\"],[0.8888888888888888,\"#fdca26\"],[1.0,\"#f0f921\"]],\"type\":\"contour\"}],\"heatmapgl\":[{\"colorbar\":{\"outlinewidth\":0,\"ticks\":\"\"},\"colorscale\":[[0.0,\"#0d0887\"],[0.1111111111111111,\"#46039f\"],[0.2222222222222222,\"#7201a8\"],[0.3333333333333333,\"#9c179e\"],[0.4444444444444444,\"#bd3786\"],[0.5555555555555556,\"#d8576b\"],[0.6666666666666666,\"#ed7953\"],[0.7777777777777778,\"#fb9f3a\"],[0.8888888888888888,\"#fdca26\"],[1.0,\"#f0f921\"]],\"type\":\"heatmapgl\"}],\"heatmap\":[{\"colorbar\":{\"outlinewidth\":0,\"ticks\":\"\"},\"colorscale\":[[0.0,\"#0d0887\"],[0.1111111111111111,\"#46039f\"],[0.2222222222222222,\"#7201a8\"],[0.3333333333333333,\"#9c179e\"],[0.4444444444444444,\"#bd3786\"],[0.5555555555555556,\"#d8576b\"],[0.6666666666666666,\"#ed7953\"],[0.7777777777777778,\"#fb9f3a\"],[0.8888888888888888,\"#fdca26\"],[1.0,\"#f0f921\"]],\"type\":\"heatmap\"}],\"histogram2dcontour\":[{\"colorbar\":{\"outlinewidth\":0,\"ticks\":\"\"},\"colorscale\":[[0.0,\"#0d0887\"],[0.1111111111111111,\"#46039f\"],[0.2222222222222222,\"#7201a8\"],[0.3333333333333333,\"#9c179e\"],[0.4444444444444444,\"#bd3786\"],[0.5555555555555556,\"#d8576b\"],[0.6666666666666666,\"#ed7953\"],[0.7777777777777778,\"#fb9f3a\"],[0.8888888888888888,\"#fdca26\"],[1.0,\"#f0f921\"]],\"type\":\"histogram2dcontour\"}],\"histogram2d\":[{\"colorbar\":{\"outlinewidth\":0,\"ticks\":\"\"},\"colorscale\":[[0.0,\"#0d0887\"],[0.1111111111111111,\"#46039f\"],[0.2222222222222222,\"#7201a8\"],[0.3333333333333333,\"#9c179e\"],[0.4444444444444444,\"#bd3786\"],[0.5555555555555556,\"#d8576b\"],[0.6666666666666666,\"#ed7953\"],[0.7777777777777778,\"#fb9f3a\"],[0.8888888888888888,\"#fdca26\"],[1.0,\"#f0f921\"]],\"type\":\"histogram2d\"}],\"histogram\":[{\"marker\":{\"pattern\":{\"fillmode\":\"overlay\",\"size\":10,\"solidity\":0.2}},\"type\":\"histogram\"}],\"mesh3d\":[{\"colorbar\":{\"outlinewidth\":0,\"ticks\":\"\"},\"type\":\"mesh3d\"}],\"parcoords\":[{\"line\":{\"colorbar\":{\"outlinewidth\":0,\"ticks\":\"\"}},\"type\":\"parcoords\"}],\"pie\":[{\"automargin\":true,\"type\":\"pie\"}],\"scatter3d\":[{\"line\":{\"colorbar\":{\"outlinewidth\":0,\"ticks\":\"\"}},\"marker\":{\"colorbar\":{\"outlinewidth\":0,\"ticks\":\"\"}},\"type\":\"scatter3d\"}],\"scattercarpet\":[{\"marker\":{\"colorbar\":{\"outlinewidth\":0,\"ticks\":\"\"}},\"type\":\"scattercarpet\"}],\"scattergeo\":[{\"marker\":{\"colorbar\":{\"outlinewidth\":0,\"ticks\":\"\"}},\"type\":\"scattergeo\"}],\"scattergl\":[{\"marker\":{\"colorbar\":{\"outlinewidth\":0,\"ticks\":\"\"}},\"type\":\"scattergl\"}],\"scattermapbox\":[{\"marker\":{\"colorbar\":{\"outlinewidth\":0,\"ticks\":\"\"}},\"type\":\"scattermapbox\"}],\"scatterpolargl\":[{\"marker\":{\"colorbar\":{\"outlinewidth\":0,\"ticks\":\"\"}},\"type\":\"scatterpolargl\"}],\"scatterpolar\":[{\"marker\":{\"colorbar\":{\"outlinewidth\":0,\"ticks\":\"\"}},\"type\":\"scatterpolar\"}],\"scatter\":[{\"fillpattern\":{\"fillmode\":\"overlay\",\"size\":10,\"solidity\":0.2},\"type\":\"scatter\"}],\"scatterternary\":[{\"marker\":{\"colorbar\":{\"outlinewidth\":0,\"ticks\":\"\"}},\"type\":\"scatterternary\"}],\"surface\":[{\"colorbar\":{\"outlinewidth\":0,\"ticks\":\"\"},\"colorscale\":[[0.0,\"#0d0887\"],[0.1111111111111111,\"#46039f\"],[0.2222222222222222,\"#7201a8\"],[0.3333333333333333,\"#9c179e\"],[0.4444444444444444,\"#bd3786\"],[0.5555555555555556,\"#d8576b\"],[0.6666666666666666,\"#ed7953\"],[0.7777777777777778,\"#fb9f3a\"],[0.8888888888888888,\"#fdca26\"],[1.0,\"#f0f921\"]],\"type\":\"surface\"}],\"table\":[{\"cells\":{\"fill\":{\"color\":\"#EBF0F8\"},\"line\":{\"color\":\"white\"}},\"header\":{\"fill\":{\"color\":\"#C8D4E3\"},\"line\":{\"color\":\"white\"}},\"type\":\"table\"}]},\"layout\":{\"annotationdefaults\":{\"arrowcolor\":\"#2a3f5f\",\"arrowhead\":0,\"arrowwidth\":1},\"autotypenumbers\":\"strict\",\"coloraxis\":{\"colorbar\":{\"outlinewidth\":0,\"ticks\":\"\"}},\"colorscale\":{\"diverging\":[[0,\"#8e0152\"],[0.1,\"#c51b7d\"],[0.2,\"#de77ae\"],[0.3,\"#f1b6da\"],[0.4,\"#fde0ef\"],[0.5,\"#f7f7f7\"],[0.6,\"#e6f5d0\"],[0.7,\"#b8e186\"],[0.8,\"#7fbc41\"],[0.9,\"#4d9221\"],[1,\"#276419\"]],\"sequential\":[[0.0,\"#0d0887\"],[0.1111111111111111,\"#46039f\"],[0.2222222222222222,\"#7201a8\"],[0.3333333333333333,\"#9c179e\"],[0.4444444444444444,\"#bd3786\"],[0.5555555555555556,\"#d8576b\"],[0.6666666666666666,\"#ed7953\"],[0.7777777777777778,\"#fb9f3a\"],[0.8888888888888888,\"#fdca26\"],[1.0,\"#f0f921\"]],\"sequentialminus\":[[0.0,\"#0d0887\"],[0.1111111111111111,\"#46039f\"],[0.2222222222222222,\"#7201a8\"],[0.3333333333333333,\"#9c179e\"],[0.4444444444444444,\"#bd3786\"],[0.5555555555555556,\"#d8576b\"],[0.6666666666666666,\"#ed7953\"],[0.7777777777777778,\"#fb9f3a\"],[0.8888888888888888,\"#fdca26\"],[1.0,\"#f0f921\"]]},\"colorway\":[\"#636efa\",\"#EF553B\",\"#00cc96\",\"#ab63fa\",\"#FFA15A\",\"#19d3f3\",\"#FF6692\",\"#B6E880\",\"#FF97FF\",\"#FECB52\"],\"font\":{\"color\":\"#2a3f5f\"},\"geo\":{\"bgcolor\":\"white\",\"lakecolor\":\"white\",\"landcolor\":\"#E5ECF6\",\"showlakes\":true,\"showland\":true,\"subunitcolor\":\"white\"},\"hoverlabel\":{\"align\":\"left\"},\"hovermode\":\"closest\",\"mapbox\":{\"style\":\"light\"},\"paper_bgcolor\":\"white\",\"plot_bgcolor\":\"#E5ECF6\",\"polar\":{\"angularaxis\":{\"gridcolor\":\"white\",\"linecolor\":\"white\",\"ticks\":\"\"},\"bgcolor\":\"#E5ECF6\",\"radialaxis\":{\"gridcolor\":\"white\",\"linecolor\":\"white\",\"ticks\":\"\"}},\"scene\":{\"xaxis\":{\"backgroundcolor\":\"#E5ECF6\",\"gridcolor\":\"white\",\"gridwidth\":2,\"linecolor\":\"white\",\"showbackground\":true,\"ticks\":\"\",\"zerolinecolor\":\"white\"},\"yaxis\":{\"backgroundcolor\":\"#E5ECF6\",\"gridcolor\":\"white\",\"gridwidth\":2,\"linecolor\":\"white\",\"showbackground\":true,\"ticks\":\"\",\"zerolinecolor\":\"white\"},\"zaxis\":{\"backgroundcolor\":\"#E5ECF6\",\"gridcolor\":\"white\",\"gridwidth\":2,\"linecolor\":\"white\",\"showbackground\":true,\"ticks\":\"\",\"zerolinecolor\":\"white\"}},\"shapedefaults\":{\"line\":{\"color\":\"#2a3f5f\"}},\"ternary\":{\"aaxis\":{\"gridcolor\":\"white\",\"linecolor\":\"white\",\"ticks\":\"\"},\"baxis\":{\"gridcolor\":\"white\",\"linecolor\":\"white\",\"ticks\":\"\"},\"bgcolor\":\"#E5ECF6\",\"caxis\":{\"gridcolor\":\"white\",\"linecolor\":\"white\",\"ticks\":\"\"}},\"title\":{\"x\":0.05},\"xaxis\":{\"automargin\":true,\"gridcolor\":\"white\",\"linecolor\":\"white\",\"ticks\":\"\",\"title\":{\"standoff\":15},\"zerolinecolor\":\"white\",\"zerolinewidth\":2},\"yaxis\":{\"automargin\":true,\"gridcolor\":\"white\",\"linecolor\":\"white\",\"ticks\":\"\",\"title\":{\"standoff\":15},\"zerolinecolor\":\"white\",\"zerolinewidth\":2}}},\"title\":{\"text\":\"Scatterplot Matrix\"},\"width\":700,\"xaxis\":{\"anchor\":\"y\",\"domain\":[0.0,0.2888888888888889],\"showticklabels\":false},\"yaxis\":{\"anchor\":\"x\",\"domain\":[0.7333333333333333,1.0],\"title\":{\"text\":\"IPC\"}},\"xaxis2\":{\"anchor\":\"y2\",\"domain\":[0.35555555555555557,0.6444444444444445]},\"yaxis2\":{\"anchor\":\"x2\",\"domain\":[0.7333333333333333,1.0]},\"xaxis3\":{\"anchor\":\"y3\",\"domain\":[0.7111111111111111,1.0]},\"yaxis3\":{\"anchor\":\"x3\",\"domain\":[0.7333333333333333,1.0]},\"xaxis4\":{\"anchor\":\"y4\",\"domain\":[0.0,0.2888888888888889]},\"yaxis4\":{\"anchor\":\"x4\",\"domain\":[0.36666666666666664,0.6333333333333333],\"title\":{\"text\":\"Salarios\"}},\"xaxis5\":{\"anchor\":\"y5\",\"domain\":[0.35555555555555557,0.6444444444444445],\"showticklabels\":false},\"yaxis5\":{\"anchor\":\"x5\",\"domain\":[0.36666666666666664,0.6333333333333333]},\"xaxis6\":{\"anchor\":\"y6\",\"domain\":[0.7111111111111111,1.0]},\"yaxis6\":{\"anchor\":\"x6\",\"domain\":[0.36666666666666664,0.6333333333333333]},\"xaxis7\":{\"anchor\":\"y7\",\"domain\":[0.0,0.2888888888888889],\"title\":{\"text\":\"IPC\"}},\"yaxis7\":{\"anchor\":\"x7\",\"domain\":[0.0,0.26666666666666666],\"title\":{\"text\":\"Alquiler\"}},\"xaxis8\":{\"anchor\":\"y8\",\"domain\":[0.35555555555555557,0.6444444444444445],\"title\":{\"text\":\"Salarios\"}},\"yaxis8\":{\"anchor\":\"x8\",\"domain\":[0.0,0.26666666666666666]},\"xaxis9\":{\"anchor\":\"y9\",\"domain\":[0.7111111111111111,1.0],\"showticklabels\":false,\"title\":{\"text\":\"Alquiler\"}},\"yaxis9\":{\"anchor\":\"x9\",\"domain\":[0.0,0.26666666666666666]}},                        {\"responsive\": true}                    ).then(function(){\n",
       "                            \n",
       "var gd = document.getElementById('fee22cd1-727b-416e-94f1-36bbfbc30b2a');\n",
       "var x = new MutationObserver(function (mutations, observer) {{\n",
       "        var display = window.getComputedStyle(gd).display;\n",
       "        if (!display || display === 'none') {{\n",
       "            console.log([gd, 'removed!']);\n",
       "            Plotly.purge(gd);\n",
       "            observer.disconnect();\n",
       "        }}\n",
       "}});\n",
       "\n",
       "// Listen for the removal of the full notebook cells\n",
       "var notebookContainer = gd.closest('#notebook-container');\n",
       "if (notebookContainer) {{\n",
       "    x.observe(notebookContainer, {childList: true});\n",
       "}}\n",
       "\n",
       "// Listen for the clearing of the current output cell\n",
       "var outputEl = gd.closest('.output');\n",
       "if (outputEl) {{\n",
       "    x.observe(outputEl, {childList: true});\n",
       "}}\n",
       "\n",
       "                        })                };                });            </script>        </div>"
      ]
     },
     "metadata": {},
     "output_type": "display_data"
    }
   ],
   "source": [
    "# import figure factory\n",
    "import plotly.figure_factory as ff\n",
    "\n",
    "\n",
    "# scatter matrix\n",
    "fig = ff.create_scatterplotmatrix(salario_ipc_alquiler,\n",
    "                                 diag = 'box',\n",
    "                                #  index = salario_ipc_alquiler['Alquiler'],\n",
    "                                 colormap = sns.diverging_palette(145, 280, s=85, l=25, n=7),\n",
    "                                 height = 700,\n",
    "                                 width = 700)\n",
    "\n",
    "\n",
    "iplot(fig)\n",
    "fig.write_html(\"Scatterplot ipc, alquiler, salario.html\")"
   ]
  },
  {
   "cell_type": "markdown",
   "metadata": {},
   "source": [
    "# Hipótesis2\n",
    "\n",
    "### El aumento de viviendas turísticas incide en el precio de los alquileres"
   ]
  },
  {
   "cell_type": "markdown",
   "metadata": {},
   "source": [
    "Los pisos turísticos presionan los precios del alquiler con localidades donde son el 20% de las viviendas "
   ]
  },
  {
   "cell_type": "code",
   "execution_count": 29,
   "metadata": {},
   "outputs": [
    {
     "data": {
      "text/html": [
       "<div>\n",
       "<style scoped>\n",
       "    .dataframe tbody tr th:only-of-type {\n",
       "        vertical-align: middle;\n",
       "    }\n",
       "\n",
       "    .dataframe tbody tr th {\n",
       "        vertical-align: top;\n",
       "    }\n",
       "\n",
       "    .dataframe thead th {\n",
       "        text-align: right;\n",
       "    }\n",
       "</style>\n",
       "<table border=\"1\" class=\"dataframe\">\n",
       "  <thead>\n",
       "    <tr style=\"text-align: right;\">\n",
       "      <th></th>\n",
       "      <th>Fecha</th>\n",
       "      <th>España</th>\n",
       "      <th>Portugal</th>\n",
       "      <th>Italia</th>\n",
       "    </tr>\n",
       "  </thead>\n",
       "  <tbody>\n",
       "    <tr>\n",
       "      <th>0</th>\n",
       "      <td>1T 2019</td>\n",
       "      <td>316998</td>\n",
       "      <td>85187</td>\n",
       "      <td>404659</td>\n",
       "    </tr>\n",
       "    <tr>\n",
       "      <th>1</th>\n",
       "      <td>2T 2019</td>\n",
       "      <td>372174</td>\n",
       "      <td>96173</td>\n",
       "      <td>489329</td>\n",
       "    </tr>\n",
       "    <tr>\n",
       "      <th>2</th>\n",
       "      <td>3T 2019</td>\n",
       "      <td>400830</td>\n",
       "      <td>102779</td>\n",
       "      <td>529245</td>\n",
       "    </tr>\n",
       "    <tr>\n",
       "      <th>3</th>\n",
       "      <td>4T 2019</td>\n",
       "      <td>354919</td>\n",
       "      <td>93584</td>\n",
       "      <td>472760</td>\n",
       "    </tr>\n",
       "    <tr>\n",
       "      <th>4</th>\n",
       "      <td>1T 2020</td>\n",
       "      <td>332100</td>\n",
       "      <td>90344</td>\n",
       "      <td>411419</td>\n",
       "    </tr>\n",
       "    <tr>\n",
       "      <th>5</th>\n",
       "      <td>2T 2020</td>\n",
       "      <td>335188</td>\n",
       "      <td>89254</td>\n",
       "      <td>420884</td>\n",
       "    </tr>\n",
       "    <tr>\n",
       "      <th>6</th>\n",
       "      <td>3T 2020</td>\n",
       "      <td>342866</td>\n",
       "      <td>91361</td>\n",
       "      <td>423866</td>\n",
       "    </tr>\n",
       "    <tr>\n",
       "      <th>7</th>\n",
       "      <td>4T 2020</td>\n",
       "      <td>307107</td>\n",
       "      <td>81661</td>\n",
       "      <td>368720</td>\n",
       "    </tr>\n",
       "    <tr>\n",
       "      <th>8</th>\n",
       "      <td>1T 2021</td>\n",
       "      <td>288028</td>\n",
       "      <td>76817</td>\n",
       "      <td>336639</td>\n",
       "    </tr>\n",
       "    <tr>\n",
       "      <th>9</th>\n",
       "      <td>2T 2021</td>\n",
       "      <td>317741</td>\n",
       "      <td>83037</td>\n",
       "      <td>385526</td>\n",
       "    </tr>\n",
       "    <tr>\n",
       "      <th>10</th>\n",
       "      <td>3T 2021</td>\n",
       "      <td>320959</td>\n",
       "      <td>83619</td>\n",
       "      <td>378507</td>\n",
       "    </tr>\n",
       "    <tr>\n",
       "      <th>11</th>\n",
       "      <td>4T 2021</td>\n",
       "      <td>290641</td>\n",
       "      <td>76200</td>\n",
       "      <td>336885</td>\n",
       "    </tr>\n",
       "    <tr>\n",
       "      <th>12</th>\n",
       "      <td>1T 2022</td>\n",
       "      <td>283372</td>\n",
       "      <td>75134</td>\n",
       "      <td>315509</td>\n",
       "    </tr>\n",
       "    <tr>\n",
       "      <th>13</th>\n",
       "      <td>2T 2022</td>\n",
       "      <td>347733</td>\n",
       "      <td>88073</td>\n",
       "      <td>420828</td>\n",
       "    </tr>\n",
       "    <tr>\n",
       "      <th>14</th>\n",
       "      <td>3T 2022</td>\n",
       "      <td>369452</td>\n",
       "      <td>93366</td>\n",
       "      <td>439009</td>\n",
       "    </tr>\n",
       "    <tr>\n",
       "      <th>15</th>\n",
       "      <td>4T 2022</td>\n",
       "      <td>327301</td>\n",
       "      <td>85975</td>\n",
       "      <td>386853</td>\n",
       "    </tr>\n",
       "    <tr>\n",
       "      <th>16</th>\n",
       "      <td>1T 2023</td>\n",
       "      <td>314454</td>\n",
       "      <td>83845</td>\n",
       "      <td>352565</td>\n",
       "    </tr>\n",
       "  </tbody>\n",
       "</table>\n",
       "</div>"
      ],
      "text/plain": [
       "      Fecha  España  Portugal  Italia\n",
       "0   1T 2019  316998     85187  404659\n",
       "1   2T 2019  372174     96173  489329\n",
       "2   3T 2019  400830    102779  529245\n",
       "3   4T 2019  354919     93584  472760\n",
       "4   1T 2020  332100     90344  411419\n",
       "5   2T 2020  335188     89254  420884\n",
       "6   3T 2020  342866     91361  423866\n",
       "7   4T 2020  307107     81661  368720\n",
       "8   1T 2021  288028     76817  336639\n",
       "9   2T 2021  317741     83037  385526\n",
       "10  3T 2021  320959     83619  378507\n",
       "11  4T 2021  290641     76200  336885\n",
       "12  1T 2022  283372     75134  315509\n",
       "13  2T 2022  347733     88073  420828\n",
       "14  3T 2022  369452     93366  439009\n",
       "15  4T 2022  327301     85975  386853\n",
       "16  1T 2023  314454     83845  352565"
      ]
     },
     "execution_count": 29,
     "metadata": {},
     "output_type": "execute_result"
    }
   ],
   "source": [
    "oferta_vut = pd.read_csv(('../data/'+ '1T 2023  Evolución de la oferta de viviendas turísticas' + '.csv'))\n",
    "oferta_vut"
   ]
  },
  {
   "cell_type": "code",
   "execution_count": 30,
   "metadata": {},
   "outputs": [
    {
     "data": {
      "text/html": [
       "<div>\n",
       "<style scoped>\n",
       "    .dataframe tbody tr th:only-of-type {\n",
       "        vertical-align: middle;\n",
       "    }\n",
       "\n",
       "    .dataframe tbody tr th {\n",
       "        vertical-align: top;\n",
       "    }\n",
       "\n",
       "    .dataframe thead th {\n",
       "        text-align: right;\n",
       "    }\n",
       "</style>\n",
       "<table border=\"1\" class=\"dataframe\">\n",
       "  <thead>\n",
       "    <tr style=\"text-align: right;\">\n",
       "      <th></th>\n",
       "      <th>Países</th>\n",
       "      <th>Ocupación 1T 2023</th>\n",
       "      <th>precio medio por noche</th>\n",
       "    </tr>\n",
       "  </thead>\n",
       "  <tbody>\n",
       "    <tr>\n",
       "      <th>0</th>\n",
       "      <td>ESP</td>\n",
       "      <td>51,4</td>\n",
       "      <td>164,05</td>\n",
       "    </tr>\n",
       "    <tr>\n",
       "      <th>1</th>\n",
       "      <td>ITA</td>\n",
       "      <td>48,7</td>\n",
       "      <td>171,39</td>\n",
       "    </tr>\n",
       "    <tr>\n",
       "      <th>2</th>\n",
       "      <td>PRT</td>\n",
       "      <td>54,8</td>\n",
       "      <td>135,77</td>\n",
       "    </tr>\n",
       "  </tbody>\n",
       "</table>\n",
       "</div>"
      ],
      "text/plain": [
       "  Países Ocupación 1T 2023 precio medio por noche\n",
       "0    ESP              51,4                 164,05\n",
       "1    ITA              48,7                 171,39\n",
       "2    PRT              54,8                 135,77"
      ]
     },
     "execution_count": 30,
     "metadata": {},
     "output_type": "execute_result"
    }
   ],
   "source": [
    "ocupacion_precios_vut = pd.read_csv(('../data/'+ '1T 2023  Nivel de ocupación y precios medios de las viviendas turísticas en alquiler' + '.csv'))\n",
    "ocupacion_precios_vut"
   ]
  },
  {
   "cell_type": "code",
   "execution_count": 31,
   "metadata": {},
   "outputs": [
    {
     "data": {
      "text/html": [
       "<div>\n",
       "<style scoped>\n",
       "    .dataframe tbody tr th:only-of-type {\n",
       "        vertical-align: middle;\n",
       "    }\n",
       "\n",
       "    .dataframe tbody tr th {\n",
       "        vertical-align: top;\n",
       "    }\n",
       "\n",
       "    .dataframe thead th {\n",
       "        text-align: right;\n",
       "    }\n",
       "</style>\n",
       "<table border=\"1\" class=\"dataframe\">\n",
       "  <thead>\n",
       "    <tr style=\"text-align: right;\">\n",
       "      <th></th>\n",
       "      <th>2020</th>\n",
       "      <th>2021</th>\n",
       "      <th>2022</th>\n",
       "      <th>2023</th>\n",
       "      <th>Var.2022/2023(%)</th>\n",
       "    </tr>\n",
       "    <tr>\n",
       "      <th>CIUDADES</th>\n",
       "      <th></th>\n",
       "      <th></th>\n",
       "      <th></th>\n",
       "      <th></th>\n",
       "      <th></th>\n",
       "    </tr>\n",
       "  </thead>\n",
       "  <tbody>\n",
       "    <tr>\n",
       "      <th>Madrid</th>\n",
       "      <td>21233</td>\n",
       "      <td>15788</td>\n",
       "      <td>14906</td>\n",
       "      <td>19406</td>\n",
       "      <td>30.2</td>\n",
       "    </tr>\n",
       "    <tr>\n",
       "      <th>Barcelona</th>\n",
       "      <td>23446</td>\n",
       "      <td>15211</td>\n",
       "      <td>13001</td>\n",
       "      <td>14531</td>\n",
       "      <td>11.8</td>\n",
       "    </tr>\n",
       "    <tr>\n",
       "      <th>Valencia</th>\n",
       "      <td>7946</td>\n",
       "      <td>6206</td>\n",
       "      <td>5885</td>\n",
       "      <td>7609</td>\n",
       "      <td>29.3</td>\n",
       "    </tr>\n",
       "    <tr>\n",
       "      <th>Málaga</th>\n",
       "      <td>6986</td>\n",
       "      <td>5749</td>\n",
       "      <td>6008</td>\n",
       "      <td>7545</td>\n",
       "      <td>23.9</td>\n",
       "    </tr>\n",
       "    <tr>\n",
       "      <th>Sevilla</th>\n",
       "      <td>7679</td>\n",
       "      <td>5899</td>\n",
       "      <td>6002</td>\n",
       "      <td>7247</td>\n",
       "      <td>20.3</td>\n",
       "    </tr>\n",
       "  </tbody>\n",
       "</table>\n",
       "</div>"
      ],
      "text/plain": [
       "            2020   2021   2022   2023 Var.2022/2023(%)\n",
       "CIUDADES                                              \n",
       "Madrid     21233  15788  14906  19406             30.2\n",
       "Barcelona  23446  15211  13001  14531             11.8\n",
       "Valencia    7946   6206   5885   7609             29.3\n",
       "Málaga      6986   5749   6008   7545             23.9\n",
       "Sevilla     7679   5899   6002   7247             20.3"
      ]
     },
     "execution_count": 31,
     "metadata": {},
     "output_type": "execute_result"
    }
   ],
   "source": [
    "crecimiento_vut = f.vut('crecimiento_vivienda_turistica_españa')\n",
    "crecimiento_vut.head()"
   ]
  },
  {
   "cell_type": "code",
   "execution_count": 32,
   "metadata": {},
   "outputs": [
    {
     "data": {
      "text/plain": [
       "(0.0, 60.0)"
      ]
     },
     "execution_count": 32,
     "metadata": {},
     "output_type": "execute_result"
    },
    {
     "data": {
      "image/png": "[encoded data removed]",
      "text/plain": [
       "<Figure size 640x480 with 3 Axes>"
      ]
     },
     "metadata": {},
     "output_type": "display_data"
    }
   ],
   "source": [
    "\n",
    "plt.subplot(1, 3, 1) \n",
    "sns.barplot(x = crecimiento_vut.iloc[0:20,:]['2022'], y = crecimiento_vut.iloc[0:20,:].index, palette=\"rocket_r\")\n",
    "for i, value in enumerate(crecimiento_vut.iloc[0:20,:]['2022']):\n",
    "    plt.text(28000,i,value,fontsize=9,ha='right',va='center')\n",
    "plt.xlim(0, 28000) \n",
    "\n",
    "\n",
    "plt.subplot(1, 3, 2) \n",
    "sns.barplot(x = crecimiento_vut.iloc[0:20,:]['2023'], y = crecimiento_vut.iloc[0:20,:].index, palette=\"flare\")\n",
    "for i, value in enumerate(crecimiento_vut.iloc[0:20,:]['2023']):\n",
    "    plt.text(28000,i,value,fontsize=9,ha='right',va='center')\n",
    "plt.yticks([]) \n",
    "plt.ylabel('')\n",
    "plt.xlim(0, 28000) \n",
    "\n",
    "\n",
    "plt.subplot(1, 3, 3) \n",
    "sns.barplot(x = crecimiento_vut.iloc[0:20,:]['Var.2022/2023(%)'], y = crecimiento_vut.iloc[0:20,:].index, palette=\"blend:#7AB,#EDA\")\n",
    "for i, value in enumerate(crecimiento_vut.iloc[0:20,:]['Var.2022/2023(%)']):\n",
    "    plt.text(60,i,value,fontsize=9,ha='right',va='center')\n",
    "plt.yticks([]) \n",
    "plt.ylabel('')\n",
    "plt.xlim(0, 60) \n"
   ]
  },
  {
   "cell_type": "code",
   "execution_count": 33,
   "metadata": {},
   "outputs": [
    {
     "data": {
      "text/html": [
       "<div>\n",
       "<style scoped>\n",
       "    .dataframe tbody tr th:only-of-type {\n",
       "        vertical-align: middle;\n",
       "    }\n",
       "\n",
       "    .dataframe tbody tr th {\n",
       "        vertical-align: top;\n",
       "    }\n",
       "\n",
       "    .dataframe thead th {\n",
       "        text-align: right;\n",
       "    }\n",
       "</style>\n",
       "<table border=\"1\" class=\"dataframe\">\n",
       "  <thead>\n",
       "    <tr style=\"text-align: right;\">\n",
       "      <th></th>\n",
       "      <th>Índice</th>\n",
       "      <th>Tasa de variación interanual</th>\n",
       "    </tr>\n",
       "    <tr>\n",
       "      <th>Periodo</th>\n",
       "      <th></th>\n",
       "      <th></th>\n",
       "    </tr>\n",
       "  </thead>\n",
       "  <tbody>\n",
       "    <tr>\n",
       "      <th>2014M01</th>\n",
       "      <td>104.43</td>\n",
       "      <td>-0.43</td>\n",
       "    </tr>\n",
       "    <tr>\n",
       "      <th>2014M02</th>\n",
       "      <td>108.51</td>\n",
       "      <td>1.27</td>\n",
       "    </tr>\n",
       "    <tr>\n",
       "      <th>2014M03</th>\n",
       "      <td>104.48</td>\n",
       "      <td>0.93</td>\n",
       "    </tr>\n",
       "    <tr>\n",
       "      <th>2014M04</th>\n",
       "      <td>110.64</td>\n",
       "      <td>4.92</td>\n",
       "    </tr>\n",
       "    <tr>\n",
       "      <th>2014M05</th>\n",
       "      <td>112.48</td>\n",
       "      <td>3.77</td>\n",
       "    </tr>\n",
       "    <tr>\n",
       "      <th>...</th>\n",
       "      <td>...</td>\n",
       "      <td>...</td>\n",
       "    </tr>\n",
       "    <tr>\n",
       "      <th>2023M08</th>\n",
       "      <td>196.86</td>\n",
       "      <td>4.62</td>\n",
       "    </tr>\n",
       "    <tr>\n",
       "      <th>2023M09</th>\n",
       "      <td>169.40</td>\n",
       "      <td>8.40</td>\n",
       "    </tr>\n",
       "    <tr>\n",
       "      <th>2023M10</th>\n",
       "      <td>155.84</td>\n",
       "      <td>8.41</td>\n",
       "    </tr>\n",
       "    <tr>\n",
       "      <th>2023M11</th>\n",
       "      <td>158.27</td>\n",
       "      <td>9.59</td>\n",
       "    </tr>\n",
       "    <tr>\n",
       "      <th>2023M12</th>\n",
       "      <td>160.44</td>\n",
       "      <td>11.94</td>\n",
       "    </tr>\n",
       "  </tbody>\n",
       "</table>\n",
       "<p>120 rows × 2 columns</p>\n",
       "</div>"
      ],
      "text/plain": [
       "         Índice  Tasa de variación interanual\n",
       "Periodo                                      \n",
       "2014M01  104.43                         -0.43\n",
       "2014M02  108.51                          1.27\n",
       "2014M03  104.48                          0.93\n",
       "2014M04  110.64                          4.92\n",
       "2014M05  112.48                          3.77\n",
       "...         ...                           ...\n",
       "2023M08  196.86                          4.62\n",
       "2023M09  169.40                          8.40\n",
       "2023M10  155.84                          8.41\n",
       "2023M11  158.27                          9.59\n",
       "2023M12  160.44                         11.94\n",
       "\n",
       "[120 rows x 2 columns]"
      ]
     },
     "execution_count": 33,
     "metadata": {},
     "output_type": "execute_result"
    }
   ],
   "source": [
    "ipap = f.ipap('Índice de Precios de Apartamentos Turísticos, Total apartamentos, Tipo de dato')\n",
    "ipap"
   ]
  },
  {
   "cell_type": "code",
   "execution_count": 34,
   "metadata": {},
   "outputs": [
    {
     "data": {
      "text/html": [
       "<div>\n",
       "<style scoped>\n",
       "    .dataframe tbody tr th:only-of-type {\n",
       "        vertical-align: middle;\n",
       "    }\n",
       "\n",
       "    .dataframe tbody tr th {\n",
       "        vertical-align: top;\n",
       "    }\n",
       "\n",
       "    .dataframe thead th {\n",
       "        text-align: right;\n",
       "    }\n",
       "</style>\n",
       "<table border=\"1\" class=\"dataframe\">\n",
       "  <thead>\n",
       "    <tr style=\"text-align: right;\">\n",
       "      <th></th>\n",
       "      <th>Precio m2</th>\n",
       "      <th>Variación mensual</th>\n",
       "      <th>Variación trimestral</th>\n",
       "      <th>Variación anual</th>\n",
       "    </tr>\n",
       "    <tr>\n",
       "      <th>Mes</th>\n",
       "      <th></th>\n",
       "      <th></th>\n",
       "      <th></th>\n",
       "      <th></th>\n",
       "    </tr>\n",
       "  </thead>\n",
       "  <tbody>\n",
       "    <tr>\n",
       "      <th>ene-14</th>\n",
       "      <td>11.1</td>\n",
       "      <td>0.2</td>\n",
       "      <td>-1.2</td>\n",
       "      <td>-2.3</td>\n",
       "    </tr>\n",
       "    <tr>\n",
       "      <th>feb-14</th>\n",
       "      <td>11.2</td>\n",
       "      <td>0.5</td>\n",
       "      <td>0.0</td>\n",
       "      <td>-1.6</td>\n",
       "    </tr>\n",
       "    <tr>\n",
       "      <th>mar-14</th>\n",
       "      <td>11.2</td>\n",
       "      <td>0.0</td>\n",
       "      <td>0.7</td>\n",
       "      <td>-1.0</td>\n",
       "    </tr>\n",
       "    <tr>\n",
       "      <th>abr-14</th>\n",
       "      <td>11.2</td>\n",
       "      <td>0.2</td>\n",
       "      <td>0.7</td>\n",
       "      <td>-0.6</td>\n",
       "    </tr>\n",
       "    <tr>\n",
       "      <th>may-14</th>\n",
       "      <td>11.2</td>\n",
       "      <td>0.2</td>\n",
       "      <td>0.4</td>\n",
       "      <td>0.3</td>\n",
       "    </tr>\n",
       "    <tr>\n",
       "      <th>...</th>\n",
       "      <td>...</td>\n",
       "      <td>...</td>\n",
       "      <td>...</td>\n",
       "      <td>...</td>\n",
       "    </tr>\n",
       "    <tr>\n",
       "      <th>ago-23</th>\n",
       "      <td>17.4</td>\n",
       "      <td>2.1</td>\n",
       "      <td>5.0</td>\n",
       "      <td>10.9</td>\n",
       "    </tr>\n",
       "    <tr>\n",
       "      <th>sep-23</th>\n",
       "      <td>17.7</td>\n",
       "      <td>1.3</td>\n",
       "      <td>5.1</td>\n",
       "      <td>10.7</td>\n",
       "    </tr>\n",
       "    <tr>\n",
       "      <th>oct-23</th>\n",
       "      <td>17.8</td>\n",
       "      <td>0.8</td>\n",
       "      <td>4.2</td>\n",
       "      <td>11.6</td>\n",
       "    </tr>\n",
       "    <tr>\n",
       "      <th>nov-23</th>\n",
       "      <td>17.7</td>\n",
       "      <td>-0.2</td>\n",
       "      <td>1.9</td>\n",
       "      <td>12.4</td>\n",
       "    </tr>\n",
       "    <tr>\n",
       "      <th>dic-23</th>\n",
       "      <td>17.9</td>\n",
       "      <td>1.0</td>\n",
       "      <td>1.6</td>\n",
       "      <td>13.6</td>\n",
       "    </tr>\n",
       "  </tbody>\n",
       "</table>\n",
       "<p>120 rows × 4 columns</p>\n",
       "</div>"
      ],
      "text/plain": [
       "        Precio m2  Variación mensual  Variación trimestral  Variación anual\n",
       "Mes                                                                        \n",
       "ene-14       11.1                0.2                  -1.2             -2.3\n",
       "feb-14       11.2                0.5                   0.0             -1.6\n",
       "mar-14       11.2                0.0                   0.7             -1.0\n",
       "abr-14       11.2                0.2                   0.7             -0.6\n",
       "may-14       11.2                0.2                   0.4              0.3\n",
       "...           ...                ...                   ...              ...\n",
       "ago-23       17.4                2.1                   5.0             10.9\n",
       "sep-23       17.7                1.3                   5.1             10.7\n",
       "oct-23       17.8                0.8                   4.2             11.6\n",
       "nov-23       17.7               -0.2                   1.9             12.4\n",
       "dic-23       17.9                1.0                   1.6             13.6\n",
       "\n",
       "[120 rows x 4 columns]"
      ]
     },
     "execution_count": 34,
     "metadata": {},
     "output_type": "execute_result"
    }
   ],
   "source": [
    "alq_mad = f.alq_madrid('histórico_alquiler_madrid')\n",
    "alq_mad\n"
   ]
  },
  {
   "cell_type": "code",
   "execution_count": 35,
   "metadata": {},
   "outputs": [
    {
     "data": {
      "text/html": [
       "<div>\n",
       "<style scoped>\n",
       "    .dataframe tbody tr th:only-of-type {\n",
       "        vertical-align: middle;\n",
       "    }\n",
       "\n",
       "    .dataframe tbody tr th {\n",
       "        vertical-align: top;\n",
       "    }\n",
       "\n",
       "    .dataframe thead th {\n",
       "        text-align: right;\n",
       "    }\n",
       "</style>\n",
       "<table border=\"1\" class=\"dataframe\">\n",
       "  <thead>\n",
       "    <tr style=\"text-align: right;\">\n",
       "      <th></th>\n",
       "      <th>Índice</th>\n",
       "      <th>Tasa de variación interanual</th>\n",
       "    </tr>\n",
       "    <tr>\n",
       "      <th>Mes</th>\n",
       "      <th></th>\n",
       "      <th></th>\n",
       "    </tr>\n",
       "  </thead>\n",
       "  <tbody>\n",
       "    <tr>\n",
       "      <th>ene-14</th>\n",
       "      <td>104.43</td>\n",
       "      <td>-0.43</td>\n",
       "    </tr>\n",
       "    <tr>\n",
       "      <th>feb-14</th>\n",
       "      <td>108.51</td>\n",
       "      <td>1.27</td>\n",
       "    </tr>\n",
       "    <tr>\n",
       "      <th>mar-14</th>\n",
       "      <td>104.48</td>\n",
       "      <td>0.93</td>\n",
       "    </tr>\n",
       "    <tr>\n",
       "      <th>abr-14</th>\n",
       "      <td>110.64</td>\n",
       "      <td>4.92</td>\n",
       "    </tr>\n",
       "    <tr>\n",
       "      <th>may-14</th>\n",
       "      <td>112.48</td>\n",
       "      <td>3.77</td>\n",
       "    </tr>\n",
       "    <tr>\n",
       "      <th>...</th>\n",
       "      <td>...</td>\n",
       "      <td>...</td>\n",
       "    </tr>\n",
       "    <tr>\n",
       "      <th>ago-23</th>\n",
       "      <td>196.86</td>\n",
       "      <td>4.62</td>\n",
       "    </tr>\n",
       "    <tr>\n",
       "      <th>sep-23</th>\n",
       "      <td>169.40</td>\n",
       "      <td>8.40</td>\n",
       "    </tr>\n",
       "    <tr>\n",
       "      <th>oct-23</th>\n",
       "      <td>155.84</td>\n",
       "      <td>8.41</td>\n",
       "    </tr>\n",
       "    <tr>\n",
       "      <th>nov-23</th>\n",
       "      <td>158.27</td>\n",
       "      <td>9.59</td>\n",
       "    </tr>\n",
       "    <tr>\n",
       "      <th>dic-23</th>\n",
       "      <td>160.44</td>\n",
       "      <td>11.94</td>\n",
       "    </tr>\n",
       "  </tbody>\n",
       "</table>\n",
       "<p>120 rows × 2 columns</p>\n",
       "</div>"
      ],
      "text/plain": [
       "        Índice  Tasa de variación interanual\n",
       "Mes                                         \n",
       "ene-14  104.43                         -0.43\n",
       "feb-14  108.51                          1.27\n",
       "mar-14  104.48                          0.93\n",
       "abr-14  110.64                          4.92\n",
       "may-14  112.48                          3.77\n",
       "...        ...                           ...\n",
       "ago-23  196.86                          4.62\n",
       "sep-23  169.40                          8.40\n",
       "oct-23  155.84                          8.41\n",
       "nov-23  158.27                          9.59\n",
       "dic-23  160.44                         11.94\n",
       "\n",
       "[120 rows x 2 columns]"
      ]
     },
     "execution_count": 35,
     "metadata": {},
     "output_type": "execute_result"
    }
   ],
   "source": [
    "ipap.index = alq_mad.index\n",
    "ipap"
   ]
  },
  {
   "cell_type": "code",
   "execution_count": 36,
   "metadata": {},
   "outputs": [
    {
     "data": {
      "text/html": [
       "<div>\n",
       "<style scoped>\n",
       "    .dataframe tbody tr th:only-of-type {\n",
       "        vertical-align: middle;\n",
       "    }\n",
       "\n",
       "    .dataframe tbody tr th {\n",
       "        vertical-align: top;\n",
       "    }\n",
       "\n",
       "    .dataframe thead th {\n",
       "        text-align: right;\n",
       "    }\n",
       "</style>\n",
       "<table border=\"1\" class=\"dataframe\">\n",
       "  <thead>\n",
       "    <tr style=\"text-align: right;\">\n",
       "      <th></th>\n",
       "      <th>alquiler €/m2</th>\n",
       "      <th>alquiler_var_mensual</th>\n",
       "      <th>alquiler_var_anual</th>\n",
       "      <th>vut_índice</th>\n",
       "      <th>vut_var_anual</th>\n",
       "    </tr>\n",
       "    <tr>\n",
       "      <th>Mes</th>\n",
       "      <th></th>\n",
       "      <th></th>\n",
       "      <th></th>\n",
       "      <th></th>\n",
       "      <th></th>\n",
       "    </tr>\n",
       "  </thead>\n",
       "  <tbody>\n",
       "    <tr>\n",
       "      <th>ene-14</th>\n",
       "      <td>11.1</td>\n",
       "      <td>0.2</td>\n",
       "      <td>-2.3</td>\n",
       "      <td>104.43</td>\n",
       "      <td>-0.43</td>\n",
       "    </tr>\n",
       "    <tr>\n",
       "      <th>feb-14</th>\n",
       "      <td>11.2</td>\n",
       "      <td>0.5</td>\n",
       "      <td>-1.6</td>\n",
       "      <td>108.51</td>\n",
       "      <td>1.27</td>\n",
       "    </tr>\n",
       "    <tr>\n",
       "      <th>mar-14</th>\n",
       "      <td>11.2</td>\n",
       "      <td>0.0</td>\n",
       "      <td>-1.0</td>\n",
       "      <td>104.48</td>\n",
       "      <td>0.93</td>\n",
       "    </tr>\n",
       "    <tr>\n",
       "      <th>abr-14</th>\n",
       "      <td>11.2</td>\n",
       "      <td>0.2</td>\n",
       "      <td>-0.6</td>\n",
       "      <td>110.64</td>\n",
       "      <td>4.92</td>\n",
       "    </tr>\n",
       "    <tr>\n",
       "      <th>may-14</th>\n",
       "      <td>11.2</td>\n",
       "      <td>0.2</td>\n",
       "      <td>0.3</td>\n",
       "      <td>112.48</td>\n",
       "      <td>3.77</td>\n",
       "    </tr>\n",
       "    <tr>\n",
       "      <th>...</th>\n",
       "      <td>...</td>\n",
       "      <td>...</td>\n",
       "      <td>...</td>\n",
       "      <td>...</td>\n",
       "      <td>...</td>\n",
       "    </tr>\n",
       "    <tr>\n",
       "      <th>ago-23</th>\n",
       "      <td>17.4</td>\n",
       "      <td>2.1</td>\n",
       "      <td>10.9</td>\n",
       "      <td>196.86</td>\n",
       "      <td>4.62</td>\n",
       "    </tr>\n",
       "    <tr>\n",
       "      <th>sep-23</th>\n",
       "      <td>17.7</td>\n",
       "      <td>1.3</td>\n",
       "      <td>10.7</td>\n",
       "      <td>169.40</td>\n",
       "      <td>8.40</td>\n",
       "    </tr>\n",
       "    <tr>\n",
       "      <th>oct-23</th>\n",
       "      <td>17.8</td>\n",
       "      <td>0.8</td>\n",
       "      <td>11.6</td>\n",
       "      <td>155.84</td>\n",
       "      <td>8.41</td>\n",
       "    </tr>\n",
       "    <tr>\n",
       "      <th>nov-23</th>\n",
       "      <td>17.7</td>\n",
       "      <td>-0.2</td>\n",
       "      <td>12.4</td>\n",
       "      <td>158.27</td>\n",
       "      <td>9.59</td>\n",
       "    </tr>\n",
       "    <tr>\n",
       "      <th>dic-23</th>\n",
       "      <td>17.9</td>\n",
       "      <td>1.0</td>\n",
       "      <td>13.6</td>\n",
       "      <td>160.44</td>\n",
       "      <td>11.94</td>\n",
       "    </tr>\n",
       "  </tbody>\n",
       "</table>\n",
       "<p>120 rows × 5 columns</p>\n",
       "</div>"
      ],
      "text/plain": [
       "        alquiler €/m2  alquiler_var_mensual  alquiler_var_anual  vut_índice  \\\n",
       "Mes                                                                           \n",
       "ene-14           11.1                   0.2                -2.3      104.43   \n",
       "feb-14           11.2                   0.5                -1.6      108.51   \n",
       "mar-14           11.2                   0.0                -1.0      104.48   \n",
       "abr-14           11.2                   0.2                -0.6      110.64   \n",
       "may-14           11.2                   0.2                 0.3      112.48   \n",
       "...               ...                   ...                 ...         ...   \n",
       "ago-23           17.4                   2.1                10.9      196.86   \n",
       "sep-23           17.7                   1.3                10.7      169.40   \n",
       "oct-23           17.8                   0.8                11.6      155.84   \n",
       "nov-23           17.7                  -0.2                12.4      158.27   \n",
       "dic-23           17.9                   1.0                13.6      160.44   \n",
       "\n",
       "        vut_var_anual  \n",
       "Mes                    \n",
       "ene-14          -0.43  \n",
       "feb-14           1.27  \n",
       "mar-14           0.93  \n",
       "abr-14           4.92  \n",
       "may-14           3.77  \n",
       "...               ...  \n",
       "ago-23           4.62  \n",
       "sep-23           8.40  \n",
       "oct-23           8.41  \n",
       "nov-23           9.59  \n",
       "dic-23          11.94  \n",
       "\n",
       "[120 rows x 5 columns]"
      ]
     },
     "execution_count": 36,
     "metadata": {},
     "output_type": "execute_result"
    }
   ],
   "source": [
    "alq_ipap = pd.concat([alq_mad,ipap], axis=1)\n",
    "alq_ipap= alq_ipap.rename(columns={'Precio m2':'alquiler €/m2',\n",
    "                                   'Variación mensual':'alquiler_var_mensual',\n",
    "                                   'Variación anual':'alquiler_var_anual',\n",
    "                                   'Índice':'vut_índice',\n",
    "                                   'Tasa de variación interanual':'vut_var_anual'})\n",
    "alq_ipap = alq_ipap.drop(columns='Variación trimestral')\n",
    "alq_ipap"
   ]
  },
  {
   "cell_type": "code",
   "execution_count": 37,
   "metadata": {},
   "outputs": [
    {
     "data": {
      "text/html": [
       "<div>\n",
       "<style scoped>\n",
       "    .dataframe tbody tr th:only-of-type {\n",
       "        vertical-align: middle;\n",
       "    }\n",
       "\n",
       "    .dataframe tbody tr th {\n",
       "        vertical-align: top;\n",
       "    }\n",
       "\n",
       "    .dataframe thead th {\n",
       "        text-align: right;\n",
       "    }\n",
       "</style>\n",
       "<table border=\"1\" class=\"dataframe\">\n",
       "  <thead>\n",
       "    <tr style=\"text-align: right;\">\n",
       "      <th></th>\n",
       "      <th>alquiler €/m2</th>\n",
       "      <th>alquiler_var_mensual</th>\n",
       "      <th>alquiler_var_anual</th>\n",
       "      <th>vut_índice</th>\n",
       "      <th>vut_var_anual</th>\n",
       "    </tr>\n",
       "  </thead>\n",
       "  <tbody>\n",
       "    <tr>\n",
       "      <th>alquiler €/m2</th>\n",
       "      <td>1.000000</td>\n",
       "      <td>0.046730</td>\n",
       "      <td>0.247236</td>\n",
       "      <td>0.629440</td>\n",
       "      <td>-0.015300</td>\n",
       "    </tr>\n",
       "    <tr>\n",
       "      <th>alquiler_var_mensual</th>\n",
       "      <td>0.046730</td>\n",
       "      <td>1.000000</td>\n",
       "      <td>0.479293</td>\n",
       "      <td>0.335785</td>\n",
       "      <td>0.487541</td>\n",
       "    </tr>\n",
       "    <tr>\n",
       "      <th>alquiler_var_anual</th>\n",
       "      <td>0.247236</td>\n",
       "      <td>0.479293</td>\n",
       "      <td>1.000000</td>\n",
       "      <td>0.267118</td>\n",
       "      <td>0.350836</td>\n",
       "    </tr>\n",
       "    <tr>\n",
       "      <th>vut_índice</th>\n",
       "      <td>0.629440</td>\n",
       "      <td>0.335785</td>\n",
       "      <td>0.267118</td>\n",
       "      <td>1.000000</td>\n",
       "      <td>0.340298</td>\n",
       "    </tr>\n",
       "    <tr>\n",
       "      <th>vut_var_anual</th>\n",
       "      <td>-0.015300</td>\n",
       "      <td>0.487541</td>\n",
       "      <td>0.350836</td>\n",
       "      <td>0.340298</td>\n",
       "      <td>1.000000</td>\n",
       "    </tr>\n",
       "  </tbody>\n",
       "</table>\n",
       "</div>"
      ],
      "text/plain": [
       "                      alquiler €/m2  alquiler_var_mensual  alquiler_var_anual  \\\n",
       "alquiler €/m2              1.000000              0.046730            0.247236   \n",
       "alquiler_var_mensual       0.046730              1.000000            0.479293   \n",
       "alquiler_var_anual         0.247236              0.479293            1.000000   \n",
       "vut_índice                 0.629440              0.335785            0.267118   \n",
       "vut_var_anual             -0.015300              0.487541            0.350836   \n",
       "\n",
       "                      vut_índice  vut_var_anual  \n",
       "alquiler €/m2           0.629440      -0.015300  \n",
       "alquiler_var_mensual    0.335785       0.487541  \n",
       "alquiler_var_anual      0.267118       0.350836  \n",
       "vut_índice              1.000000       0.340298  \n",
       "vut_var_anual           0.340298       1.000000  "
      ]
     },
     "execution_count": 37,
     "metadata": {},
     "output_type": "execute_result"
    }
   ],
   "source": [
    "alq_ipap.corr()"
   ]
  },
  {
   "cell_type": "code",
   "execution_count": 38,
   "metadata": {},
   "outputs": [
    {
     "data": {
      "image/png": "[encoded data removed]",
      "text/plain": [
       "<Figure size 640x480 with 2 Axes>"
      ]
     },
     "metadata": {},
     "output_type": "display_data"
    }
   ],
   "source": [
    "sns.heatmap(alq_ipap.corr(), vmin=-1, vmax=1, annot=True, cmap=sns.diverging_palette(145, 280, s=85, l=25, n=7));"
   ]
  },
  {
   "cell_type": "code",
   "execution_count": 39,
   "metadata": {},
   "outputs": [
    {
     "data": {
      "image/png": "[encoded data removed]",
      "text/plain": [
       "<Figure size 500x500 with 1 Axes>"
      ]
     },
     "metadata": {},
     "output_type": "display_data"
    }
   ],
   "source": [
    "sns.lmplot(alq_ipap, x='vut_var_anual', y='alquiler_var_mensual');"
   ]
  },
  {
   "cell_type": "code",
   "execution_count": 40,
   "metadata": {},
   "outputs": [
    {
     "data": {
      "text/html": [
       "<div>\n",
       "<style scoped>\n",
       "    .dataframe tbody tr th:only-of-type {\n",
       "        vertical-align: middle;\n",
       "    }\n",
       "\n",
       "    .dataframe tbody tr th {\n",
       "        vertical-align: top;\n",
       "    }\n",
       "\n",
       "    .dataframe thead th {\n",
       "        text-align: right;\n",
       "    }\n",
       "</style>\n",
       "<table border=\"1\" class=\"dataframe\">\n",
       "  <thead>\n",
       "    <tr style=\"text-align: right;\">\n",
       "      <th></th>\n",
       "      <th>alquiler €/m2</th>\n",
       "      <th>alquiler_var_mensual</th>\n",
       "      <th>alquiler_var_anual</th>\n",
       "      <th>vut_índice</th>\n",
       "      <th>vut_var_anual</th>\n",
       "    </tr>\n",
       "    <tr>\n",
       "      <th>Mes</th>\n",
       "      <th></th>\n",
       "      <th></th>\n",
       "      <th></th>\n",
       "      <th></th>\n",
       "      <th></th>\n",
       "    </tr>\n",
       "  </thead>\n",
       "  <tbody>\n",
       "    <tr>\n",
       "      <th>ene-14</th>\n",
       "      <td>11.1</td>\n",
       "      <td>0.2</td>\n",
       "      <td>-2.3</td>\n",
       "      <td>104.43</td>\n",
       "      <td>-0.43</td>\n",
       "    </tr>\n",
       "    <tr>\n",
       "      <th>feb-14</th>\n",
       "      <td>11.2</td>\n",
       "      <td>0.5</td>\n",
       "      <td>-1.6</td>\n",
       "      <td>108.51</td>\n",
       "      <td>1.27</td>\n",
       "    </tr>\n",
       "    <tr>\n",
       "      <th>mar-14</th>\n",
       "      <td>11.2</td>\n",
       "      <td>0.0</td>\n",
       "      <td>-1.0</td>\n",
       "      <td>104.48</td>\n",
       "      <td>0.93</td>\n",
       "    </tr>\n",
       "    <tr>\n",
       "      <th>abr-14</th>\n",
       "      <td>11.2</td>\n",
       "      <td>0.2</td>\n",
       "      <td>-0.6</td>\n",
       "      <td>110.64</td>\n",
       "      <td>4.92</td>\n",
       "    </tr>\n",
       "    <tr>\n",
       "      <th>may-14</th>\n",
       "      <td>11.2</td>\n",
       "      <td>0.2</td>\n",
       "      <td>0.3</td>\n",
       "      <td>112.48</td>\n",
       "      <td>3.77</td>\n",
       "    </tr>\n",
       "  </tbody>\n",
       "</table>\n",
       "</div>"
      ],
      "text/plain": [
       "        alquiler €/m2  alquiler_var_mensual  alquiler_var_anual  vut_índice  \\\n",
       "Mes                                                                           \n",
       "ene-14           11.1                   0.2                -2.3      104.43   \n",
       "feb-14           11.2                   0.5                -1.6      108.51   \n",
       "mar-14           11.2                   0.0                -1.0      104.48   \n",
       "abr-14           11.2                   0.2                -0.6      110.64   \n",
       "may-14           11.2                   0.2                 0.3      112.48   \n",
       "\n",
       "        vut_var_anual  \n",
       "Mes                    \n",
       "ene-14          -0.43  \n",
       "feb-14           1.27  \n",
       "mar-14           0.93  \n",
       "abr-14           4.92  \n",
       "may-14           3.77  "
      ]
     },
     "execution_count": 40,
     "metadata": {},
     "output_type": "execute_result"
    }
   ],
   "source": [
    "alq_ipap.head()"
   ]
  },
  {
   "cell_type": "code",
   "execution_count": 41,
   "metadata": {},
   "outputs": [
    {
     "data": {
      "application/vnd.plotly.v1+json": {
       "config": {
        "linkText": "Export to plot.ly",
        "plotlyServerURL": "https://plot.ly",
        "showLink": false
       },
       "data": [
        {
         "marker": {
          "color": "#df0c7e"
         },
         "mode": "lines",
         "name": "alquiler €/m2",
         "text": "alquiler €/m2",
         "type": "scatter",
         "x": [
          "ene-14",
          "feb-14",
          "mar-14",
          "abr-14",
          "may-14",
          "jun-14",
          "jul-14",
          "ago-14",
          "sep-14",
          "oct-14",
          "nov-14",
          "dic-14",
          "ene-15",
          "feb-15",
          "mar-15",
          "abr-15",
          "may-15",
          "jun-15",
          "jul-15",
          "ago-15",
          "sep-15",
          "oct-15",
          "nov-15",
          "dic-15",
          "ene-16",
          "feb-16",
          "mar-16",
          "abr-16",
          "may-16",
          "jun-16",
          "jul-16",
          "ago-16",
          "sep-16",
          "oct-16",
          "nov-16",
          "dic-16",
          "ene-17",
          "feb-17",
          "mar-17",
          "abr-17",
          "may-17",
          "jun-17",
          "jul-17",
          "ago-17",
          "sep-17",
          "oct-17",
          "nov-17",
          "dic-17",
          "ene-18",
          "feb-18",
          "mar-18",
          "abr-18",
          "may-18",
          "jun-18",
          "jul-18",
          "ago-18",
          "sep-18",
          "oct-18",
          "nov-18",
          "dic-18",
          "ene-19",
          "feb-19",
          "mar-19",
          "abr-19",
          "may-19",
          "jun-19",
          "jul-19",
          "ago-19",
          "sep-19",
          "oct-19",
          "nov-19",
          "dic-19",
          "ene-20",
          "feb-20",
          "mar-20",
          "abr-20",
          "may-20",
          "jun-20",
          "jul-20",
          "ago-20",
          "sep-20",
          "oct-20",
          "nov-20",
          "dic-20",
          "ene-21",
          "feb-21",
          "mar-21",
          "abr-21",
          "may-21",
          "jun-21",
          "jul-21",
          "ago-21",
          "sep-21",
          "oct-21",
          "nov-21",
          "dic-21",
          "ene-22",
          "feb-22",
          "mar-22",
          "abr-22",
          "may-22",
          "jun-22",
          "jul-22",
          "ago-22",
          "sep-22",
          "oct-22",
          "nov-22",
          "dic-22",
          "ene-23",
          "feb-23",
          "mar-23",
          "abr-23",
          "may-23",
          "jun-23",
          "jul-23",
          "ago-23",
          "sep-23",
          "oct-23",
          "nov-23",
          "dic-23"
         ],
         "y": [
          11.1,
          11.2,
          11.2,
          11.2,
          11.2,
          11.3,
          11.3,
          11.3,
          11.4,
          11.4,
          11.5,
          11.5,
          11.5,
          11.5,
          11.6,
          11.6,
          11.7,
          11.7,
          11.8,
          11.9,
          12,
          12.1,
          12.1,
          12,
          12.1,
          12.1,
          12.2,
          12.4,
          12.4,
          12.5,
          12.7,
          12.8,
          12.9,
          13,
          13,
          13.2,
          13.3,
          13.5,
          13.4,
          13.5,
          13.5,
          13.6,
          13.8,
          13.9,
          14.2,
          14.2,
          14.2,
          14.2,
          14.3,
          14.5,
          14.6,
          14.9,
          14.9,
          15,
          15.1,
          15.2,
          15.3,
          15.5,
          15.4,
          15.3,
          15.3,
          15.4,
          15.5,
          15.5,
          15.5,
          15.6,
          15.6,
          15.7,
          15.9,
          15.9,
          15.7,
          15.6,
          15.5,
          15.6,
          15.7,
          15.9,
          16.3,
          16.3,
          16,
          15.8,
          15.7,
          15.4,
          15,
          14.7,
          14.5,
          14.4,
          14.4,
          14.3,
          14.3,
          14.3,
          14.3,
          14.4,
          14.5,
          14.5,
          14.4,
          14.3,
          14.4,
          14.5,
          14.7,
          14.9,
          15,
          15.2,
          15.5,
          15.7,
          15.9,
          15.9,
          15.8,
          15.8,
          16,
          16.2,
          16.2,
          16.4,
          16.6,
          16.8,
          17.1,
          17.4,
          17.7,
          17.8,
          17.7,
          17.9
         ]
        },
        {
         "marker": {
          "color": " #860a88 "
         },
         "mode": "lines",
         "name": "Variación anual alquiler (%)",
         "text": "Variación anual alquiler (%)",
         "type": "scatter",
         "x": [
          "ene-14",
          "feb-14",
          "mar-14",
          "abr-14",
          "may-14",
          "jun-14",
          "jul-14",
          "ago-14",
          "sep-14",
          "oct-14",
          "nov-14",
          "dic-14",
          "ene-15",
          "feb-15",
          "mar-15",
          "abr-15",
          "may-15",
          "jun-15",
          "jul-15",
          "ago-15",
          "sep-15",
          "oct-15",
          "nov-15",
          "dic-15",
          "ene-16",
          "feb-16",
          "mar-16",
          "abr-16",
          "may-16",
          "jun-16",
          "jul-16",
          "ago-16",
          "sep-16",
          "oct-16",
          "nov-16",
          "dic-16",
          "ene-17",
          "feb-17",
          "mar-17",
          "abr-17",
          "may-17",
          "jun-17",
          "jul-17",
          "ago-17",
          "sep-17",
          "oct-17",
          "nov-17",
          "dic-17",
          "ene-18",
          "feb-18",
          "mar-18",
          "abr-18",
          "may-18",
          "jun-18",
          "jul-18",
          "ago-18",
          "sep-18",
          "oct-18",
          "nov-18",
          "dic-18",
          "ene-19",
          "feb-19",
          "mar-19",
          "abr-19",
          "may-19",
          "jun-19",
          "jul-19",
          "ago-19",
          "sep-19",
          "oct-19",
          "nov-19",
          "dic-19",
          "ene-20",
          "feb-20",
          "mar-20",
          "abr-20",
          "may-20",
          "jun-20",
          "jul-20",
          "ago-20",
          "sep-20",
          "oct-20",
          "nov-20",
          "dic-20",
          "ene-21",
          "feb-21",
          "mar-21",
          "abr-21",
          "may-21",
          "jun-21",
          "jul-21",
          "ago-21",
          "sep-21",
          "oct-21",
          "nov-21",
          "dic-21",
          "ene-22",
          "feb-22",
          "mar-22",
          "abr-22",
          "may-22",
          "jun-22",
          "jul-22",
          "ago-22",
          "sep-22",
          "oct-22",
          "nov-22",
          "dic-22",
          "ene-23",
          "feb-23",
          "mar-23",
          "abr-23",
          "may-23",
          "jun-23",
          "jul-23",
          "ago-23",
          "sep-23",
          "oct-23",
          "nov-23",
          "dic-23"
         ],
         "y": [
          0.2,
          0.5,
          0,
          0.2,
          0.2,
          0.4,
          0.3,
          0.3,
          0.6,
          0.3,
          0.1,
          0,
          0,
          0.6,
          0.5,
          0,
          0.7,
          0.6,
          0.6,
          1,
          0.9,
          0.3,
          -0.1,
          -0.6,
          0.9,
          0.4,
          0.6,
          1.5,
          0,
          0.8,
          1.3,
          0.8,
          1.2,
          0.9,
          -0.3,
          1.7,
          0.8,
          1.5,
          -1,
          0.5,
          0.5,
          0.5,
          1.5,
          1.1,
          1.8,
          -0.1,
          0.2,
          -0.2,
          1.1,
          1.1,
          1.2,
          1.6,
          0,
          0.9,
          0.4,
          0.9,
          0.8,
          0.7,
          -0.5,
          -0.6,
          0,
          0.8,
          0.4,
          0.4,
          0.1,
          0.3,
          0.1,
          0.7,
          1.1,
          0,
          -1.1,
          -1.1,
          -0.4,
          0.7,
          0.6,
          1.3,
          2.5,
          -0.3,
          -1.6,
          -1.1,
          -1,
          -1.6,
          -2.5,
          -1.9,
          -1.8,
          -0.4,
          0,
          -0.5,
          -0.4,
          0.2,
          0.2,
          0.3,
          0.6,
          0,
          -0.7,
          -0.8,
          1.1,
          0.9,
          0.9,
          1.3,
          0.6,
          2,
          1.7,
          1.4,
          1.5,
          -0.1,
          -0.9,
          0,
          1.3,
          1.1,
          0.2,
          1.2,
          1.2,
          1.2,
          1.6,
          2.1,
          1.3,
          0.8,
          -0.2,
          1
         ]
        },
        {
         "marker": {
          "color": " #0c6bdf "
         },
         "mode": "lines",
         "name": "Índice precio VUT",
         "text": "precio VUT",
         "type": "scatter",
         "x": [
          "ene-14",
          "feb-14",
          "mar-14",
          "abr-14",
          "may-14",
          "jun-14",
          "jul-14",
          "ago-14",
          "sep-14",
          "oct-14",
          "nov-14",
          "dic-14",
          "ene-15",
          "feb-15",
          "mar-15",
          "abr-15",
          "may-15",
          "jun-15",
          "jul-15",
          "ago-15",
          "sep-15",
          "oct-15",
          "nov-15",
          "dic-15",
          "ene-16",
          "feb-16",
          "mar-16",
          "abr-16",
          "may-16",
          "jun-16",
          "jul-16",
          "ago-16",
          "sep-16",
          "oct-16",
          "nov-16",
          "dic-16",
          "ene-17",
          "feb-17",
          "mar-17",
          "abr-17",
          "may-17",
          "jun-17",
          "jul-17",
          "ago-17",
          "sep-17",
          "oct-17",
          "nov-17",
          "dic-17",
          "ene-18",
          "feb-18",
          "mar-18",
          "abr-18",
          "may-18",
          "jun-18",
          "jul-18",
          "ago-18",
          "sep-18",
          "oct-18",
          "nov-18",
          "dic-18",
          "ene-19",
          "feb-19",
          "mar-19",
          "abr-19",
          "may-19",
          "jun-19",
          "jul-19",
          "ago-19",
          "sep-19",
          "oct-19",
          "nov-19",
          "dic-19",
          "ene-20",
          "feb-20",
          "mar-20",
          "abr-20",
          "may-20",
          "jun-20",
          "jul-20",
          "ago-20",
          "sep-20",
          "oct-20",
          "nov-20",
          "dic-20",
          "ene-21",
          "feb-21",
          "mar-21",
          "abr-21",
          "may-21",
          "jun-21",
          "jul-21",
          "ago-21",
          "sep-21",
          "oct-21",
          "nov-21",
          "dic-21",
          "ene-22",
          "feb-22",
          "mar-22",
          "abr-22",
          "may-22",
          "jun-22",
          "jul-22",
          "ago-22",
          "sep-22",
          "oct-22",
          "nov-22",
          "dic-22",
          "ene-23",
          "feb-23",
          "mar-23",
          "abr-23",
          "may-23",
          "jun-23",
          "jul-23",
          "ago-23",
          "sep-23",
          "oct-23",
          "nov-23",
          "dic-23"
         ],
         "y": [
          104.43,
          108.51,
          104.48,
          110.64,
          112.48,
          123.78,
          137.65,
          143.32,
          119.98,
          111.05,
          110.85,
          114.18,
          111.07,
          113.37,
          108.43,
          114.15,
          119.49,
          129.61,
          141.9,
          146.93,
          124.31,
          116.93,
          115.71,
          119.64,
          116.85,
          119.34,
          114.91,
          118.21,
          125.4,
          136.5,
          150.37,
          155.08,
          132.92,
          121.61,
          120.92,
          122.47,
          121.51,
          124.73,
          118.24,
          127.05,
          133.05,
          145.27,
          160.33,
          163.19,
          139.62,
          130.15,
          131.49,
          132.83,
          131.52,
          132.55,
          127.07,
          127.82,
          138.14,
          148.93,
          164.72,
          166.89,
          143.26,
          132.01,
          134.56,
          137.36,
          133.53,
          135.53,
          126.93,
          131.8,
          137.64,
          150.46,
          165.99,
          170.34,
          144.24,
          134.8,
          135.84,
          138.18,
          135.37,
          137.63,
          129.39,
          131.8,
          134.95,
          138.11,
          153.5,
          154.79,
          127.99,
          115.09,
          119.08,
          121.32,
          117.12,
          114.52,
          115.57,
          138.5,
          166.01,
          143.08,
          166.23,
          167.35,
          142.83,
          131.85,
          134.85,
          134.54,
          126.06,
          131.62,
          129.2,
          157.06,
          186.92,
          160.47,
          185.19,
          188.17,
          156.27,
          143.76,
          144.41,
          143.33,
          136.93,
          143.95,
          141.55,
          170.23,
          206.33,
          175.43,
          197.8,
          196.86,
          169.4,
          155.84,
          158.27,
          160.44
         ]
        },
        {
         "marker": {
          "color": " #0a6a88 "
         },
         "mode": "lines",
         "name": "Variación anual índice VUT (%)",
         "text": "Variación anual índice VUT (%)",
         "type": "scatter",
         "x": [
          "ene-14",
          "feb-14",
          "mar-14",
          "abr-14",
          "may-14",
          "jun-14",
          "jul-14",
          "ago-14",
          "sep-14",
          "oct-14",
          "nov-14",
          "dic-14",
          "ene-15",
          "feb-15",
          "mar-15",
          "abr-15",
          "may-15",
          "jun-15",
          "jul-15",
          "ago-15",
          "sep-15",
          "oct-15",
          "nov-15",
          "dic-15",
          "ene-16",
          "feb-16",
          "mar-16",
          "abr-16",
          "may-16",
          "jun-16",
          "jul-16",
          "ago-16",
          "sep-16",
          "oct-16",
          "nov-16",
          "dic-16",
          "ene-17",
          "feb-17",
          "mar-17",
          "abr-17",
          "may-17",
          "jun-17",
          "jul-17",
          "ago-17",
          "sep-17",
          "oct-17",
          "nov-17",
          "dic-17",
          "ene-18",
          "feb-18",
          "mar-18",
          "abr-18",
          "may-18",
          "jun-18",
          "jul-18",
          "ago-18",
          "sep-18",
          "oct-18",
          "nov-18",
          "dic-18",
          "ene-19",
          "feb-19",
          "mar-19",
          "abr-19",
          "may-19",
          "jun-19",
          "jul-19",
          "ago-19",
          "sep-19",
          "oct-19",
          "nov-19",
          "dic-19",
          "ene-20",
          "feb-20",
          "mar-20",
          "abr-20",
          "may-20",
          "jun-20",
          "jul-20",
          "ago-20",
          "sep-20",
          "oct-20",
          "nov-20",
          "dic-20",
          "ene-21",
          "feb-21",
          "mar-21",
          "abr-21",
          "may-21",
          "jun-21",
          "jul-21",
          "ago-21",
          "sep-21",
          "oct-21",
          "nov-21",
          "dic-21",
          "ene-22",
          "feb-22",
          "mar-22",
          "abr-22",
          "may-22",
          "jun-22",
          "jul-22",
          "ago-22",
          "sep-22",
          "oct-22",
          "nov-22",
          "dic-22",
          "ene-23",
          "feb-23",
          "mar-23",
          "abr-23",
          "may-23",
          "jun-23",
          "jul-23",
          "ago-23",
          "sep-23",
          "oct-23",
          "nov-23",
          "dic-23"
         ],
         "y": [
          -0.43,
          1.27,
          0.93,
          4.92,
          3.77,
          4.91,
          4.43,
          5.4,
          4.39,
          3.84,
          3.87,
          3.91,
          6.36,
          4.47,
          3.78,
          3.17,
          6.23,
          4.71,
          3.09,
          2.52,
          3.61,
          5.29,
          4.38,
          4.78,
          5.2,
          5.27,
          5.98,
          3.56,
          4.95,
          5.32,
          5.97,
          5.54,
          6.92,
          4,
          4.51,
          2.36,
          3.99,
          4.51,
          2.9,
          7.48,
          6.1,
          6.43,
          6.62,
          5.23,
          5.04,
          7.03,
          8.74,
          8.46,
          8.23,
          6.27,
          7.46,
          0.6,
          3.82,
          2.52,
          2.74,
          2.26,
          2.6,
          1.43,
          2.34,
          3.41,
          1.53,
          2.25,
          -0.1,
          3.12,
          -0.36,
          1.03,
          0.78,
          2.07,
          0.68,
          2.11,
          0.95,
          0.6,
          1.38,
          1.55,
          1.94,
          -4.35,
          -6.54,
          -8.21,
          -7.53,
          -9.13,
          -11.26,
          -14.62,
          -12.34,
          -12.2,
          -13.48,
          -16.79,
          -10.68,
          5.08,
          4.34,
          3.6,
          8.29,
          8.11,
          11.6,
          14.56,
          13.24,
          10.9,
          7.64,
          14.93,
          11.8,
          13.4,
          12.6,
          12.16,
          11.41,
          12.44,
          9.41,
          9.03,
          7.09,
          6.53,
          8.62,
          9.37,
          9.55,
          8.39,
          10.38,
          9.33,
          6.81,
          4.62,
          8.4,
          8.41,
          9.59,
          11.94
         ]
        }
       ],
       "layout": {
        "template": {
         "data": {
          "bar": [
           {
            "error_x": {
             "color": "#2a3f5f"
            },
            "error_y": {
             "color": "#2a3f5f"
            },
            "marker": {
             "line": {
              "color": "#E5ECF6",
              "width": 0.5
             },
             "pattern": {
              "fillmode": "overlay",
              "size": 10,
              "solidity": 0.2
             }
            },
            "type": "bar"
           }
          ],
          "barpolar": [
           {
            "marker": {
             "line": {
              "color": "#E5ECF6",
              "width": 0.5
             },
             "pattern": {
              "fillmode": "overlay",
              "size": 10,
              "solidity": 0.2
             }
            },
            "type": "barpolar"
           }
          ],
          "carpet": [
           {
            "aaxis": {
             "endlinecolor": "#2a3f5f",
             "gridcolor": "white",
             "linecolor": "white",
             "minorgridcolor": "white",
             "startlinecolor": "#2a3f5f"
            },
            "baxis": {
             "endlinecolor": "#2a3f5f",
             "gridcolor": "white",
             "linecolor": "white",
             "minorgridcolor": "white",
             "startlinecolor": "#2a3f5f"
            },
            "type": "carpet"
           }
          ],
          "choropleth": [
           {
            "colorbar": {
             "outlinewidth": 0,
             "ticks": ""
            },
            "type": "choropleth"
           }
          ],
          "contour": [
           {
            "colorbar": {
             "outlinewidth": 0,
             "ticks": ""
            },
            "colorscale": [
             [
              0,
              "#0d0887"
             ],
             [
              0.1111111111111111,
              "#46039f"
             ],
             [
              0.2222222222222222,
              "#7201a8"
             ],
             [
              0.3333333333333333,
              "#9c179e"
             ],
             [
              0.4444444444444444,
              "#bd3786"
             ],
             [
              0.5555555555555556,
              "#d8576b"
             ],
             [
              0.6666666666666666,
              "#ed7953"
             ],
             [
              0.7777777777777778,
              "#fb9f3a"
             ],
             [
              0.8888888888888888,
              "#fdca26"
             ],
             [
              1,
              "#f0f921"
             ]
            ],
            "type": "contour"
           }
          ],
          "contourcarpet": [
           {
            "colorbar": {
             "outlinewidth": 0,
             "ticks": ""
            },
            "type": "contourcarpet"
           }
          ],
          "heatmap": [
           {
            "colorbar": {
             "outlinewidth": 0,
             "ticks": ""
            },
            "colorscale": [
             [
              0,
              "#0d0887"
             ],
             [
              0.1111111111111111,
              "#46039f"
             ],
             [
              0.2222222222222222,
              "#7201a8"
             ],
             [
              0.3333333333333333,
              "#9c179e"
             ],
             [
              0.4444444444444444,
              "#bd3786"
             ],
             [
              0.5555555555555556,
              "#d8576b"
             ],
             [
              0.6666666666666666,
              "#ed7953"
             ],
             [
              0.7777777777777778,
              "#fb9f3a"
             ],
             [
              0.8888888888888888,
              "#fdca26"
             ],
             [
              1,
              "#f0f921"
             ]
            ],
            "type": "heatmap"
           }
          ],
          "heatmapgl": [
           {
            "colorbar": {
             "outlinewidth": 0,
             "ticks": ""
            },
            "colorscale": [
             [
              0,
              "#0d0887"
             ],
             [
              0.1111111111111111,
              "#46039f"
             ],
             [
              0.2222222222222222,
              "#7201a8"
             ],
             [
              0.3333333333333333,
              "#9c179e"
             ],
             [
              0.4444444444444444,
              "#bd3786"
             ],
             [
              0.5555555555555556,
              "#d8576b"
             ],
             [
              0.6666666666666666,
              "#ed7953"
             ],
             [
              0.7777777777777778,
              "#fb9f3a"
             ],
             [
              0.8888888888888888,
              "#fdca26"
             ],
             [
              1,
              "#f0f921"
             ]
            ],
            "type": "heatmapgl"
           }
          ],
          "histogram": [
           {
            "marker": {
             "pattern": {
              "fillmode": "overlay",
              "size": 10,
              "solidity": 0.2
             }
            },
            "type": "histogram"
           }
          ],
          "histogram2d": [
           {
            "colorbar": {
             "outlinewidth": 0,
             "ticks": ""
            },
            "colorscale": [
             [
              0,
              "#0d0887"
             ],
             [
              0.1111111111111111,
              "#46039f"
             ],
             [
              0.2222222222222222,
              "#7201a8"
             ],
             [
              0.3333333333333333,
              "#9c179e"
             ],
             [
              0.4444444444444444,
              "#bd3786"
             ],
             [
              0.5555555555555556,
              "#d8576b"
             ],
             [
              0.6666666666666666,
              "#ed7953"
             ],
             [
              0.7777777777777778,
              "#fb9f3a"
             ],
             [
              0.8888888888888888,
              "#fdca26"
             ],
             [
              1,
              "#f0f921"
             ]
            ],
            "type": "histogram2d"
           }
          ],
          "histogram2dcontour": [
           {
            "colorbar": {
             "outlinewidth": 0,
             "ticks": ""
            },
            "colorscale": [
             [
              0,
              "#0d0887"
             ],
             [
              0.1111111111111111,
              "#46039f"
             ],
             [
              0.2222222222222222,
              "#7201a8"
             ],
             [
              0.3333333333333333,
              "#9c179e"
             ],
             [
              0.4444444444444444,
              "#bd3786"
             ],
             [
              0.5555555555555556,
              "#d8576b"
             ],
             [
              0.6666666666666666,
              "#ed7953"
             ],
             [
              0.7777777777777778,
              "#fb9f3a"
             ],
             [
              0.8888888888888888,
              "#fdca26"
             ],
             [
              1,
              "#f0f921"
             ]
            ],
            "type": "histogram2dcontour"
           }
          ],
          "mesh3d": [
           {
            "colorbar": {
             "outlinewidth": 0,
             "ticks": ""
            },
            "type": "mesh3d"
           }
          ],
          "parcoords": [
           {
            "line": {
             "colorbar": {
              "outlinewidth": 0,
              "ticks": ""
             }
            },
            "type": "parcoords"
           }
          ],
          "pie": [
           {
            "automargin": true,
            "type": "pie"
           }
          ],
          "scatter": [
           {
            "fillpattern": {
             "fillmode": "overlay",
             "size": 10,
             "solidity": 0.2
            },
            "type": "scatter"
           }
          ],
          "scatter3d": [
           {
            "line": {
             "colorbar": {
              "outlinewidth": 0,
              "ticks": ""
             }
            },
            "marker": {
             "colorbar": {
              "outlinewidth": 0,
              "ticks": ""
             }
            },
            "type": "scatter3d"
           }
          ],
          "scattercarpet": [
           {
            "marker": {
             "colorbar": {
              "outlinewidth": 0,
              "ticks": ""
             }
            },
            "type": "scattercarpet"
           }
          ],
          "scattergeo": [
           {
            "marker": {
             "colorbar": {
              "outlinewidth": 0,
              "ticks": ""
             }
            },
            "type": "scattergeo"
           }
          ],
          "scattergl": [
           {
            "marker": {
             "colorbar": {
              "outlinewidth": 0,
              "ticks": ""
             }
            },
            "type": "scattergl"
           }
          ],
          "scattermapbox": [
           {
            "marker": {
             "colorbar": {
              "outlinewidth": 0,
              "ticks": ""
             }
            },
            "type": "scattermapbox"
           }
          ],
          "scatterpolar": [
           {
            "marker": {
             "colorbar": {
              "outlinewidth": 0,
              "ticks": ""
             }
            },
            "type": "scatterpolar"
           }
          ],
          "scatterpolargl": [
           {
            "marker": {
             "colorbar": {
              "outlinewidth": 0,
              "ticks": ""
             }
            },
            "type": "scatterpolargl"
           }
          ],
          "scatterternary": [
           {
            "marker": {
             "colorbar": {
              "outlinewidth": 0,
              "ticks": ""
             }
            },
            "type": "scatterternary"
           }
          ],
          "surface": [
           {
            "colorbar": {
             "outlinewidth": 0,
             "ticks": ""
            },
            "colorscale": [
             [
              0,
              "#0d0887"
             ],
             [
              0.1111111111111111,
              "#46039f"
             ],
             [
              0.2222222222222222,
              "#7201a8"
             ],
             [
              0.3333333333333333,
              "#9c179e"
             ],
             [
              0.4444444444444444,
              "#bd3786"
             ],
             [
              0.5555555555555556,
              "#d8576b"
             ],
             [
              0.6666666666666666,
              "#ed7953"
             ],
             [
              0.7777777777777778,
              "#fb9f3a"
             ],
             [
              0.8888888888888888,
              "#fdca26"
             ],
             [
              1,
              "#f0f921"
             ]
            ],
            "type": "surface"
           }
          ],
          "table": [
           {
            "cells": {
             "fill": {
              "color": "#EBF0F8"
             },
             "line": {
              "color": "white"
             }
            },
            "header": {
             "fill": {
              "color": "#C8D4E3"
             },
             "line": {
              "color": "white"
             }
            },
            "type": "table"
           }
          ]
         },
         "layout": {
          "annotationdefaults": {
           "arrowcolor": "#2a3f5f",
           "arrowhead": 0,
           "arrowwidth": 1
          },
          "autotypenumbers": "strict",
          "coloraxis": {
           "colorbar": {
            "outlinewidth": 0,
            "ticks": ""
           }
          },
          "colorscale": {
           "diverging": [
            [
             0,
             "#8e0152"
            ],
            [
             0.1,
             "#c51b7d"
            ],
            [
             0.2,
             "#de77ae"
            ],
            [
             0.3,
             "#f1b6da"
            ],
            [
             0.4,
             "#fde0ef"
            ],
            [
             0.5,
             "#f7f7f7"
            ],
            [
             0.6,
             "#e6f5d0"
            ],
            [
             0.7,
             "#b8e186"
            ],
            [
             0.8,
             "#7fbc41"
            ],
            [
             0.9,
             "#4d9221"
            ],
            [
             1,
             "#276419"
            ]
           ],
           "sequential": [
            [
             0,
             "#0d0887"
            ],
            [
             0.1111111111111111,
             "#46039f"
            ],
            [
             0.2222222222222222,
             "#7201a8"
            ],
            [
             0.3333333333333333,
             "#9c179e"
            ],
            [
             0.4444444444444444,
             "#bd3786"
            ],
            [
             0.5555555555555556,
             "#d8576b"
            ],
            [
             0.6666666666666666,
             "#ed7953"
            ],
            [
             0.7777777777777778,
             "#fb9f3a"
            ],
            [
             0.8888888888888888,
             "#fdca26"
            ],
            [
             1,
             "#f0f921"
            ]
           ],
           "sequentialminus": [
            [
             0,
             "#0d0887"
            ],
            [
             0.1111111111111111,
             "#46039f"
            ],
            [
             0.2222222222222222,
             "#7201a8"
            ],
            [
             0.3333333333333333,
             "#9c179e"
            ],
            [
             0.4444444444444444,
             "#bd3786"
            ],
            [
             0.5555555555555556,
             "#d8576b"
            ],
            [
             0.6666666666666666,
             "#ed7953"
            ],
            [
             0.7777777777777778,
             "#fb9f3a"
            ],
            [
             0.8888888888888888,
             "#fdca26"
            ],
            [
             1,
             "#f0f921"
            ]
           ]
          },
          "colorway": [
           "#636efa",
           "#EF553B",
           "#00cc96",
           "#ab63fa",
           "#FFA15A",
           "#19d3f3",
           "#FF6692",
           "#B6E880",
           "#FF97FF",
           "#FECB52"
          ],
          "font": {
           "color": "#2a3f5f"
          },
          "geo": {
           "bgcolor": "white",
           "lakecolor": "white",
           "landcolor": "#E5ECF6",
           "showlakes": true,
           "showland": true,
           "subunitcolor": "white"
          },
          "hoverlabel": {
           "align": "left"
          },
          "hovermode": "closest",
          "mapbox": {
           "style": "light"
          },
          "paper_bgcolor": "white",
          "plot_bgcolor": "#E5ECF6",
          "polar": {
           "angularaxis": {
            "gridcolor": "white",
            "linecolor": "white",
            "ticks": ""
           },
           "bgcolor": "#E5ECF6",
           "radialaxis": {
            "gridcolor": "white",
            "linecolor": "white",
            "ticks": ""
           }
          },
          "scene": {
           "xaxis": {
            "backgroundcolor": "#E5ECF6",
            "gridcolor": "white",
            "gridwidth": 2,
            "linecolor": "white",
            "showbackground": true,
            "ticks": "",
            "zerolinecolor": "white"
           },
           "yaxis": {
            "backgroundcolor": "#E5ECF6",
            "gridcolor": "white",
            "gridwidth": 2,
            "linecolor": "white",
            "showbackground": true,
            "ticks": "",
            "zerolinecolor": "white"
           },
           "zaxis": {
            "backgroundcolor": "#E5ECF6",
            "gridcolor": "white",
            "gridwidth": 2,
            "linecolor": "white",
            "showbackground": true,
            "ticks": "",
            "zerolinecolor": "white"
           }
          },
          "shapedefaults": {
           "line": {
            "color": "#2a3f5f"
           }
          },
          "ternary": {
           "aaxis": {
            "gridcolor": "white",
            "linecolor": "white",
            "ticks": ""
           },
           "baxis": {
            "gridcolor": "white",
            "linecolor": "white",
            "ticks": ""
           },
           "bgcolor": "#E5ECF6",
           "caxis": {
            "gridcolor": "white",
            "linecolor": "white",
            "ticks": ""
           }
          },
          "title": {
           "x": 0.05
          },
          "xaxis": {
           "automargin": true,
           "gridcolor": "white",
           "linecolor": "white",
           "ticks": "",
           "title": {
            "standoff": 15
           },
           "zerolinecolor": "white",
           "zerolinewidth": 2
          },
          "yaxis": {
           "automargin": true,
           "gridcolor": "white",
           "linecolor": "white",
           "ticks": "",
           "title": {
            "standoff": 15
           },
           "zerolinecolor": "white",
           "zerolinewidth": 2
          }
         }
        },
        "title": {
         "text": "Evolución precio alquiler-airbnb"
        },
        "xaxis": {
         "ticklen": 5,
         "title": {
          "text": "Años"
         }
        }
       }
      },
      "text/html": [
       "<div>                            <div id=\"c9dc69eb-9a80-46a7-88e0-cfbc6164be30\" class=\"plotly-graph-div\" style=\"height:525px; width:100%;\"></div>            <script type=\"text/javascript\">                require([\"plotly\"], function(Plotly) {                    window.PLOTLYENV=window.PLOTLYENV || {};                                    if (document.getElementById(\"c9dc69eb-9a80-46a7-88e0-cfbc6164be30\")) {                    Plotly.newPlot(                        \"c9dc69eb-9a80-46a7-88e0-cfbc6164be30\",                        [{\"marker\":{\"color\":\"#df0c7e\"},\"mode\":\"lines\",\"name\":\"alquiler \\u20ac\\u002fm2\",\"text\":\"alquiler \\u20ac\\u002fm2\",\"x\":[\"ene-14\",\"feb-14\",\"mar-14\",\"abr-14\",\"may-14\",\"jun-14\",\"jul-14\",\"ago-14\",\"sep-14\",\"oct-14\",\"nov-14\",\"dic-14\",\"ene-15\",\"feb-15\",\"mar-15\",\"abr-15\",\"may-15\",\"jun-15\",\"jul-15\",\"ago-15\",\"sep-15\",\"oct-15\",\"nov-15\",\"dic-15\",\"ene-16\",\"feb-16\",\"mar-16\",\"abr-16\",\"may-16\",\"jun-16\",\"jul-16\",\"ago-16\",\"sep-16\",\"oct-16\",\"nov-16\",\"dic-16\",\"ene-17\",\"feb-17\",\"mar-17\",\"abr-17\",\"may-17\",\"jun-17\",\"jul-17\",\"ago-17\",\"sep-17\",\"oct-17\",\"nov-17\",\"dic-17\",\"ene-18\",\"feb-18\",\"mar-18\",\"abr-18\",\"may-18\",\"jun-18\",\"jul-18\",\"ago-18\",\"sep-18\",\"oct-18\",\"nov-18\",\"dic-18\",\"ene-19\",\"feb-19\",\"mar-19\",\"abr-19\",\"may-19\",\"jun-19\",\"jul-19\",\"ago-19\",\"sep-19\",\"oct-19\",\"nov-19\",\"dic-19\",\"ene-20\",\"feb-20\",\"mar-20\",\"abr-20\",\"may-20\",\"jun-20\",\"jul-20\",\"ago-20\",\"sep-20\",\"oct-20\",\"nov-20\",\"dic-20\",\"ene-21\",\"feb-21\",\"mar-21\",\"abr-21\",\"may-21\",\"jun-21\",\"jul-21\",\"ago-21\",\"sep-21\",\"oct-21\",\"nov-21\",\"dic-21\",\"ene-22\",\"feb-22\",\"mar-22\",\"abr-22\",\"may-22\",\"jun-22\",\"jul-22\",\"ago-22\",\"sep-22\",\"oct-22\",\"nov-22\",\"dic-22\",\"ene-23\",\"feb-23\",\"mar-23\",\"abr-23\",\"may-23\",\"jun-23\",\"jul-23\",\"ago-23\",\"sep-23\",\"oct-23\",\"nov-23\",\"dic-23\"],\"y\":[11.1,11.2,11.2,11.2,11.2,11.3,11.3,11.3,11.4,11.4,11.5,11.5,11.5,11.5,11.6,11.6,11.7,11.7,11.8,11.9,12.0,12.1,12.1,12.0,12.1,12.1,12.2,12.4,12.4,12.5,12.7,12.8,12.9,13.0,13.0,13.2,13.3,13.5,13.4,13.5,13.5,13.6,13.8,13.9,14.2,14.2,14.2,14.2,14.3,14.5,14.6,14.9,14.9,15.0,15.1,15.2,15.3,15.5,15.4,15.3,15.3,15.4,15.5,15.5,15.5,15.6,15.6,15.7,15.9,15.9,15.7,15.6,15.5,15.6,15.7,15.9,16.3,16.3,16.0,15.8,15.7,15.4,15.0,14.7,14.5,14.4,14.4,14.3,14.3,14.3,14.3,14.4,14.5,14.5,14.4,14.3,14.4,14.5,14.7,14.9,15.0,15.2,15.5,15.7,15.9,15.9,15.8,15.8,16.0,16.2,16.2,16.4,16.6,16.8,17.1,17.4,17.7,17.8,17.7,17.9],\"type\":\"scatter\"},{\"marker\":{\"color\":\" #860a88 \"},\"mode\":\"lines\",\"name\":\"Variaci\\u00f3n anual alquiler (%)\",\"text\":\"Variaci\\u00f3n anual alquiler (%)\",\"x\":[\"ene-14\",\"feb-14\",\"mar-14\",\"abr-14\",\"may-14\",\"jun-14\",\"jul-14\",\"ago-14\",\"sep-14\",\"oct-14\",\"nov-14\",\"dic-14\",\"ene-15\",\"feb-15\",\"mar-15\",\"abr-15\",\"may-15\",\"jun-15\",\"jul-15\",\"ago-15\",\"sep-15\",\"oct-15\",\"nov-15\",\"dic-15\",\"ene-16\",\"feb-16\",\"mar-16\",\"abr-16\",\"may-16\",\"jun-16\",\"jul-16\",\"ago-16\",\"sep-16\",\"oct-16\",\"nov-16\",\"dic-16\",\"ene-17\",\"feb-17\",\"mar-17\",\"abr-17\",\"may-17\",\"jun-17\",\"jul-17\",\"ago-17\",\"sep-17\",\"oct-17\",\"nov-17\",\"dic-17\",\"ene-18\",\"feb-18\",\"mar-18\",\"abr-18\",\"may-18\",\"jun-18\",\"jul-18\",\"ago-18\",\"sep-18\",\"oct-18\",\"nov-18\",\"dic-18\",\"ene-19\",\"feb-19\",\"mar-19\",\"abr-19\",\"may-19\",\"jun-19\",\"jul-19\",\"ago-19\",\"sep-19\",\"oct-19\",\"nov-19\",\"dic-19\",\"ene-20\",\"feb-20\",\"mar-20\",\"abr-20\",\"may-20\",\"jun-20\",\"jul-20\",\"ago-20\",\"sep-20\",\"oct-20\",\"nov-20\",\"dic-20\",\"ene-21\",\"feb-21\",\"mar-21\",\"abr-21\",\"may-21\",\"jun-21\",\"jul-21\",\"ago-21\",\"sep-21\",\"oct-21\",\"nov-21\",\"dic-21\",\"ene-22\",\"feb-22\",\"mar-22\",\"abr-22\",\"may-22\",\"jun-22\",\"jul-22\",\"ago-22\",\"sep-22\",\"oct-22\",\"nov-22\",\"dic-22\",\"ene-23\",\"feb-23\",\"mar-23\",\"abr-23\",\"may-23\",\"jun-23\",\"jul-23\",\"ago-23\",\"sep-23\",\"oct-23\",\"nov-23\",\"dic-23\"],\"y\":[0.2,0.5,0.0,0.2,0.2,0.4,0.3,0.3,0.6,0.3,0.1,0.0,0.0,0.6,0.5,0.0,0.7,0.6,0.6,1.0,0.9,0.3,-0.1,-0.6,0.9,0.4,0.6,1.5,0.0,0.8,1.3,0.8,1.2,0.9,-0.3,1.7,0.8,1.5,-1.0,0.5,0.5,0.5,1.5,1.1,1.8,-0.1,0.2,-0.2,1.1,1.1,1.2,1.6,0.0,0.9,0.4,0.9,0.8,0.7,-0.5,-0.6,0.0,0.8,0.4,0.4,0.1,0.3,0.1,0.7,1.1,0.0,-1.1,-1.1,-0.4,0.7,0.6,1.3,2.5,-0.3,-1.6,-1.1,-1.0,-1.6,-2.5,-1.9,-1.8,-0.4,0.0,-0.5,-0.4,0.2,0.2,0.3,0.6,0.0,-0.7,-0.8,1.1,0.9,0.9,1.3,0.6,2.0,1.7,1.4,1.5,-0.1,-0.9,0.0,1.3,1.1,0.2,1.2,1.2,1.2,1.6,2.1,1.3,0.8,-0.2,1.0],\"type\":\"scatter\"},{\"marker\":{\"color\":\" #0c6bdf \"},\"mode\":\"lines\",\"name\":\"\\u00cdndice precio VUT\",\"text\":\"precio VUT\",\"x\":[\"ene-14\",\"feb-14\",\"mar-14\",\"abr-14\",\"may-14\",\"jun-14\",\"jul-14\",\"ago-14\",\"sep-14\",\"oct-14\",\"nov-14\",\"dic-14\",\"ene-15\",\"feb-15\",\"mar-15\",\"abr-15\",\"may-15\",\"jun-15\",\"jul-15\",\"ago-15\",\"sep-15\",\"oct-15\",\"nov-15\",\"dic-15\",\"ene-16\",\"feb-16\",\"mar-16\",\"abr-16\",\"may-16\",\"jun-16\",\"jul-16\",\"ago-16\",\"sep-16\",\"oct-16\",\"nov-16\",\"dic-16\",\"ene-17\",\"feb-17\",\"mar-17\",\"abr-17\",\"may-17\",\"jun-17\",\"jul-17\",\"ago-17\",\"sep-17\",\"oct-17\",\"nov-17\",\"dic-17\",\"ene-18\",\"feb-18\",\"mar-18\",\"abr-18\",\"may-18\",\"jun-18\",\"jul-18\",\"ago-18\",\"sep-18\",\"oct-18\",\"nov-18\",\"dic-18\",\"ene-19\",\"feb-19\",\"mar-19\",\"abr-19\",\"may-19\",\"jun-19\",\"jul-19\",\"ago-19\",\"sep-19\",\"oct-19\",\"nov-19\",\"dic-19\",\"ene-20\",\"feb-20\",\"mar-20\",\"abr-20\",\"may-20\",\"jun-20\",\"jul-20\",\"ago-20\",\"sep-20\",\"oct-20\",\"nov-20\",\"dic-20\",\"ene-21\",\"feb-21\",\"mar-21\",\"abr-21\",\"may-21\",\"jun-21\",\"jul-21\",\"ago-21\",\"sep-21\",\"oct-21\",\"nov-21\",\"dic-21\",\"ene-22\",\"feb-22\",\"mar-22\",\"abr-22\",\"may-22\",\"jun-22\",\"jul-22\",\"ago-22\",\"sep-22\",\"oct-22\",\"nov-22\",\"dic-22\",\"ene-23\",\"feb-23\",\"mar-23\",\"abr-23\",\"may-23\",\"jun-23\",\"jul-23\",\"ago-23\",\"sep-23\",\"oct-23\",\"nov-23\",\"dic-23\"],\"y\":[104.43,108.51,104.48,110.64,112.48,123.78,137.65,143.32,119.98,111.05,110.85,114.18,111.07,113.37,108.43,114.15,119.49,129.61,141.9,146.93,124.31,116.93,115.71,119.64,116.85,119.34,114.91,118.21,125.4,136.5,150.37,155.08,132.92,121.61,120.92,122.47,121.51,124.73,118.24,127.05,133.05,145.27,160.33,163.19,139.62,130.15,131.49,132.83,131.52,132.55,127.07,127.82,138.14,148.93,164.72,166.89,143.26,132.01,134.56,137.36,133.53,135.53,126.93,131.8,137.64,150.46,165.99,170.34,144.24,134.8,135.84,138.18,135.37,137.63,129.39,131.8,134.95,138.11,153.5,154.79,127.99,115.09,119.08,121.32,117.12,114.52,115.57,138.5,166.01,143.08,166.23,167.35,142.83,131.85,134.85,134.54,126.06,131.62,129.2,157.06,186.92,160.47,185.19,188.17,156.27,143.76,144.41,143.33,136.93,143.95,141.55,170.23,206.33,175.43,197.8,196.86,169.4,155.84,158.27,160.44],\"type\":\"scatter\"},{\"marker\":{\"color\":\" #0a6a88 \"},\"mode\":\"lines\",\"name\":\"Variaci\\u00f3n anual \\u00edndice VUT (%)\",\"text\":\"Variaci\\u00f3n anual \\u00edndice VUT (%)\",\"x\":[\"ene-14\",\"feb-14\",\"mar-14\",\"abr-14\",\"may-14\",\"jun-14\",\"jul-14\",\"ago-14\",\"sep-14\",\"oct-14\",\"nov-14\",\"dic-14\",\"ene-15\",\"feb-15\",\"mar-15\",\"abr-15\",\"may-15\",\"jun-15\",\"jul-15\",\"ago-15\",\"sep-15\",\"oct-15\",\"nov-15\",\"dic-15\",\"ene-16\",\"feb-16\",\"mar-16\",\"abr-16\",\"may-16\",\"jun-16\",\"jul-16\",\"ago-16\",\"sep-16\",\"oct-16\",\"nov-16\",\"dic-16\",\"ene-17\",\"feb-17\",\"mar-17\",\"abr-17\",\"may-17\",\"jun-17\",\"jul-17\",\"ago-17\",\"sep-17\",\"oct-17\",\"nov-17\",\"dic-17\",\"ene-18\",\"feb-18\",\"mar-18\",\"abr-18\",\"may-18\",\"jun-18\",\"jul-18\",\"ago-18\",\"sep-18\",\"oct-18\",\"nov-18\",\"dic-18\",\"ene-19\",\"feb-19\",\"mar-19\",\"abr-19\",\"may-19\",\"jun-19\",\"jul-19\",\"ago-19\",\"sep-19\",\"oct-19\",\"nov-19\",\"dic-19\",\"ene-20\",\"feb-20\",\"mar-20\",\"abr-20\",\"may-20\",\"jun-20\",\"jul-20\",\"ago-20\",\"sep-20\",\"oct-20\",\"nov-20\",\"dic-20\",\"ene-21\",\"feb-21\",\"mar-21\",\"abr-21\",\"may-21\",\"jun-21\",\"jul-21\",\"ago-21\",\"sep-21\",\"oct-21\",\"nov-21\",\"dic-21\",\"ene-22\",\"feb-22\",\"mar-22\",\"abr-22\",\"may-22\",\"jun-22\",\"jul-22\",\"ago-22\",\"sep-22\",\"oct-22\",\"nov-22\",\"dic-22\",\"ene-23\",\"feb-23\",\"mar-23\",\"abr-23\",\"may-23\",\"jun-23\",\"jul-23\",\"ago-23\",\"sep-23\",\"oct-23\",\"nov-23\",\"dic-23\"],\"y\":[-0.43,1.27,0.93,4.92,3.77,4.91,4.43,5.4,4.39,3.84,3.87,3.91,6.36,4.47,3.78,3.17,6.23,4.71,3.09,2.52,3.61,5.29,4.38,4.78,5.2,5.27,5.98,3.56,4.95,5.32,5.97,5.54,6.92,4.0,4.51,2.36,3.99,4.51,2.9,7.48,6.1,6.43,6.62,5.23,5.04,7.03,8.74,8.46,8.23,6.27,7.46,0.6,3.82,2.52,2.74,2.26,2.6,1.43,2.34,3.41,1.53,2.25,-0.1,3.12,-0.36,1.03,0.78,2.07,0.68,2.11,0.95,0.6,1.38,1.55,1.94,-4.35,-6.54,-8.21,-7.53,-9.13,-11.26,-14.62,-12.34,-12.2,-13.48,-16.79,-10.68,5.08,4.34,3.6,8.29,8.11,11.6,14.56,13.24,10.9,7.64,14.93,11.8,13.4,12.6,12.16,11.41,12.44,9.41,9.03,7.09,6.53,8.62,9.37,9.55,8.39,10.38,9.33,6.81,4.62,8.4,8.41,9.59,11.94],\"type\":\"scatter\"}],                        {\"template\":{\"data\":{\"barpolar\":[{\"marker\":{\"line\":{\"color\":\"#E5ECF6\",\"width\":0.5},\"pattern\":{\"fillmode\":\"overlay\",\"size\":10,\"solidity\":0.2}},\"type\":\"barpolar\"}],\"bar\":[{\"error_x\":{\"color\":\"#2a3f5f\"},\"error_y\":{\"color\":\"#2a3f5f\"},\"marker\":{\"line\":{\"color\":\"#E5ECF6\",\"width\":0.5},\"pattern\":{\"fillmode\":\"overlay\",\"size\":10,\"solidity\":0.2}},\"type\":\"bar\"}],\"carpet\":[{\"aaxis\":{\"endlinecolor\":\"#2a3f5f\",\"gridcolor\":\"white\",\"linecolor\":\"white\",\"minorgridcolor\":\"white\",\"startlinecolor\":\"#2a3f5f\"},\"baxis\":{\"endlinecolor\":\"#2a3f5f\",\"gridcolor\":\"white\",\"linecolor\":\"white\",\"minorgridcolor\":\"white\",\"startlinecolor\":\"#2a3f5f\"},\"type\":\"carpet\"}],\"choropleth\":[{\"colorbar\":{\"outlinewidth\":0,\"ticks\":\"\"},\"type\":\"choropleth\"}],\"contourcarpet\":[{\"colorbar\":{\"outlinewidth\":0,\"ticks\":\"\"},\"type\":\"contourcarpet\"}],\"contour\":[{\"colorbar\":{\"outlinewidth\":0,\"ticks\":\"\"},\"colorscale\":[[0.0,\"#0d0887\"],[0.1111111111111111,\"#46039f\"],[0.2222222222222222,\"#7201a8\"],[0.3333333333333333,\"#9c179e\"],[0.4444444444444444,\"#bd3786\"],[0.5555555555555556,\"#d8576b\"],[0.6666666666666666,\"#ed7953\"],[0.7777777777777778,\"#fb9f3a\"],[0.8888888888888888,\"#fdca26\"],[1.0,\"#f0f921\"]],\"type\":\"contour\"}],\"heatmapgl\":[{\"colorbar\":{\"outlinewidth\":0,\"ticks\":\"\"},\"colorscale\":[[0.0,\"#0d0887\"],[0.1111111111111111,\"#46039f\"],[0.2222222222222222,\"#7201a8\"],[0.3333333333333333,\"#9c179e\"],[0.4444444444444444,\"#bd3786\"],[0.5555555555555556,\"#d8576b\"],[0.6666666666666666,\"#ed7953\"],[0.7777777777777778,\"#fb9f3a\"],[0.8888888888888888,\"#fdca26\"],[1.0,\"#f0f921\"]],\"type\":\"heatmapgl\"}],\"heatmap\":[{\"colorbar\":{\"outlinewidth\":0,\"ticks\":\"\"},\"colorscale\":[[0.0,\"#0d0887\"],[0.1111111111111111,\"#46039f\"],[0.2222222222222222,\"#7201a8\"],[0.3333333333333333,\"#9c179e\"],[0.4444444444444444,\"#bd3786\"],[0.5555555555555556,\"#d8576b\"],[0.6666666666666666,\"#ed7953\"],[0.7777777777777778,\"#fb9f3a\"],[0.8888888888888888,\"#fdca26\"],[1.0,\"#f0f921\"]],\"type\":\"heatmap\"}],\"histogram2dcontour\":[{\"colorbar\":{\"outlinewidth\":0,\"ticks\":\"\"},\"colorscale\":[[0.0,\"#0d0887\"],[0.1111111111111111,\"#46039f\"],[0.2222222222222222,\"#7201a8\"],[0.3333333333333333,\"#9c179e\"],[0.4444444444444444,\"#bd3786\"],[0.5555555555555556,\"#d8576b\"],[0.6666666666666666,\"#ed7953\"],[0.7777777777777778,\"#fb9f3a\"],[0.8888888888888888,\"#fdca26\"],[1.0,\"#f0f921\"]],\"type\":\"histogram2dcontour\"}],\"histogram2d\":[{\"colorbar\":{\"outlinewidth\":0,\"ticks\":\"\"},\"colorscale\":[[0.0,\"#0d0887\"],[0.1111111111111111,\"#46039f\"],[0.2222222222222222,\"#7201a8\"],[0.3333333333333333,\"#9c179e\"],[0.4444444444444444,\"#bd3786\"],[0.5555555555555556,\"#d8576b\"],[0.6666666666666666,\"#ed7953\"],[0.7777777777777778,\"#fb9f3a\"],[0.8888888888888888,\"#fdca26\"],[1.0,\"#f0f921\"]],\"type\":\"histogram2d\"}],\"histogram\":[{\"marker\":{\"pattern\":{\"fillmode\":\"overlay\",\"size\":10,\"solidity\":0.2}},\"type\":\"histogram\"}],\"mesh3d\":[{\"colorbar\":{\"outlinewidth\":0,\"ticks\":\"\"},\"type\":\"mesh3d\"}],\"parcoords\":[{\"line\":{\"colorbar\":{\"outlinewidth\":0,\"ticks\":\"\"}},\"type\":\"parcoords\"}],\"pie\":[{\"automargin\":true,\"type\":\"pie\"}],\"scatter3d\":[{\"line\":{\"colorbar\":{\"outlinewidth\":0,\"ticks\":\"\"}},\"marker\":{\"colorbar\":{\"outlinewidth\":0,\"ticks\":\"\"}},\"type\":\"scatter3d\"}],\"scattercarpet\":[{\"marker\":{\"colorbar\":{\"outlinewidth\":0,\"ticks\":\"\"}},\"type\":\"scattercarpet\"}],\"scattergeo\":[{\"marker\":{\"colorbar\":{\"outlinewidth\":0,\"ticks\":\"\"}},\"type\":\"scattergeo\"}],\"scattergl\":[{\"marker\":{\"colorbar\":{\"outlinewidth\":0,\"ticks\":\"\"}},\"type\":\"scattergl\"}],\"scattermapbox\":[{\"marker\":{\"colorbar\":{\"outlinewidth\":0,\"ticks\":\"\"}},\"type\":\"scattermapbox\"}],\"scatterpolargl\":[{\"marker\":{\"colorbar\":{\"outlinewidth\":0,\"ticks\":\"\"}},\"type\":\"scatterpolargl\"}],\"scatterpolar\":[{\"marker\":{\"colorbar\":{\"outlinewidth\":0,\"ticks\":\"\"}},\"type\":\"scatterpolar\"}],\"scatter\":[{\"fillpattern\":{\"fillmode\":\"overlay\",\"size\":10,\"solidity\":0.2},\"type\":\"scatter\"}],\"scatterternary\":[{\"marker\":{\"colorbar\":{\"outlinewidth\":0,\"ticks\":\"\"}},\"type\":\"scatterternary\"}],\"surface\":[{\"colorbar\":{\"outlinewidth\":0,\"ticks\":\"\"},\"colorscale\":[[0.0,\"#0d0887\"],[0.1111111111111111,\"#46039f\"],[0.2222222222222222,\"#7201a8\"],[0.3333333333333333,\"#9c179e\"],[0.4444444444444444,\"#bd3786\"],[0.5555555555555556,\"#d8576b\"],[0.6666666666666666,\"#ed7953\"],[0.7777777777777778,\"#fb9f3a\"],[0.8888888888888888,\"#fdca26\"],[1.0,\"#f0f921\"]],\"type\":\"surface\"}],\"table\":[{\"cells\":{\"fill\":{\"color\":\"#EBF0F8\"},\"line\":{\"color\":\"white\"}},\"header\":{\"fill\":{\"color\":\"#C8D4E3\"},\"line\":{\"color\":\"white\"}},\"type\":\"table\"}]},\"layout\":{\"annotationdefaults\":{\"arrowcolor\":\"#2a3f5f\",\"arrowhead\":0,\"arrowwidth\":1},\"autotypenumbers\":\"strict\",\"coloraxis\":{\"colorbar\":{\"outlinewidth\":0,\"ticks\":\"\"}},\"colorscale\":{\"diverging\":[[0,\"#8e0152\"],[0.1,\"#c51b7d\"],[0.2,\"#de77ae\"],[0.3,\"#f1b6da\"],[0.4,\"#fde0ef\"],[0.5,\"#f7f7f7\"],[0.6,\"#e6f5d0\"],[0.7,\"#b8e186\"],[0.8,\"#7fbc41\"],[0.9,\"#4d9221\"],[1,\"#276419\"]],\"sequential\":[[0.0,\"#0d0887\"],[0.1111111111111111,\"#46039f\"],[0.2222222222222222,\"#7201a8\"],[0.3333333333333333,\"#9c179e\"],[0.4444444444444444,\"#bd3786\"],[0.5555555555555556,\"#d8576b\"],[0.6666666666666666,\"#ed7953\"],[0.7777777777777778,\"#fb9f3a\"],[0.8888888888888888,\"#fdca26\"],[1.0,\"#f0f921\"]],\"sequentialminus\":[[0.0,\"#0d0887\"],[0.1111111111111111,\"#46039f\"],[0.2222222222222222,\"#7201a8\"],[0.3333333333333333,\"#9c179e\"],[0.4444444444444444,\"#bd3786\"],[0.5555555555555556,\"#d8576b\"],[0.6666666666666666,\"#ed7953\"],[0.7777777777777778,\"#fb9f3a\"],[0.8888888888888888,\"#fdca26\"],[1.0,\"#f0f921\"]]},\"colorway\":[\"#636efa\",\"#EF553B\",\"#00cc96\",\"#ab63fa\",\"#FFA15A\",\"#19d3f3\",\"#FF6692\",\"#B6E880\",\"#FF97FF\",\"#FECB52\"],\"font\":{\"color\":\"#2a3f5f\"},\"geo\":{\"bgcolor\":\"white\",\"lakecolor\":\"white\",\"landcolor\":\"#E5ECF6\",\"showlakes\":true,\"showland\":true,\"subunitcolor\":\"white\"},\"hoverlabel\":{\"align\":\"left\"},\"hovermode\":\"closest\",\"mapbox\":{\"style\":\"light\"},\"paper_bgcolor\":\"white\",\"plot_bgcolor\":\"#E5ECF6\",\"polar\":{\"angularaxis\":{\"gridcolor\":\"white\",\"linecolor\":\"white\",\"ticks\":\"\"},\"bgcolor\":\"#E5ECF6\",\"radialaxis\":{\"gridcolor\":\"white\",\"linecolor\":\"white\",\"ticks\":\"\"}},\"scene\":{\"xaxis\":{\"backgroundcolor\":\"#E5ECF6\",\"gridcolor\":\"white\",\"gridwidth\":2,\"linecolor\":\"white\",\"showbackground\":true,\"ticks\":\"\",\"zerolinecolor\":\"white\"},\"yaxis\":{\"backgroundcolor\":\"#E5ECF6\",\"gridcolor\":\"white\",\"gridwidth\":2,\"linecolor\":\"white\",\"showbackground\":true,\"ticks\":\"\",\"zerolinecolor\":\"white\"},\"zaxis\":{\"backgroundcolor\":\"#E5ECF6\",\"gridcolor\":\"white\",\"gridwidth\":2,\"linecolor\":\"white\",\"showbackground\":true,\"ticks\":\"\",\"zerolinecolor\":\"white\"}},\"shapedefaults\":{\"line\":{\"color\":\"#2a3f5f\"}},\"ternary\":{\"aaxis\":{\"gridcolor\":\"white\",\"linecolor\":\"white\",\"ticks\":\"\"},\"baxis\":{\"gridcolor\":\"white\",\"linecolor\":\"white\",\"ticks\":\"\"},\"bgcolor\":\"#E5ECF6\",\"caxis\":{\"gridcolor\":\"white\",\"linecolor\":\"white\",\"ticks\":\"\"}},\"title\":{\"x\":0.05},\"xaxis\":{\"automargin\":true,\"gridcolor\":\"white\",\"linecolor\":\"white\",\"ticks\":\"\",\"title\":{\"standoff\":15},\"zerolinecolor\":\"white\",\"zerolinewidth\":2},\"yaxis\":{\"automargin\":true,\"gridcolor\":\"white\",\"linecolor\":\"white\",\"ticks\":\"\",\"title\":{\"standoff\":15},\"zerolinecolor\":\"white\",\"zerolinewidth\":2}}},\"title\":{\"text\":\"Evoluci\\u00f3n precio alquiler-airbnb\"},\"xaxis\":{\"ticklen\":5,\"title\":{\"text\":\"A\\u00f1os\"}}},                        {\"responsive\": true}                    ).then(function(){\n",
       "                            \n",
       "var gd = document.getElementById('c9dc69eb-9a80-46a7-88e0-cfbc6164be30');\n",
       "var x = new MutationObserver(function (mutations, observer) {{\n",
       "        var display = window.getComputedStyle(gd).display;\n",
       "        if (!display || display === 'none') {{\n",
       "            console.log([gd, 'removed!']);\n",
       "            Plotly.purge(gd);\n",
       "            observer.disconnect();\n",
       "        }}\n",
       "}});\n",
       "\n",
       "// Listen for the removal of the full notebook cells\n",
       "var notebookContainer = gd.closest('#notebook-container');\n",
       "if (notebookContainer) {{\n",
       "    x.observe(notebookContainer, {childList: true});\n",
       "}}\n",
       "\n",
       "// Listen for the clearing of the current output cell\n",
       "var outputEl = gd.closest('.output');\n",
       "if (outputEl) {{\n",
       "    x.observe(outputEl, {childList: true});\n",
       "}}\n",
       "\n",
       "                        })                };                });            </script>        </div>"
      ]
     },
     "metadata": {},
     "output_type": "display_data"
    }
   ],
   "source": [
    "trace1 = go.Scatter(\n",
    "                    x = alq_ipap.index,\n",
    "                    y = alq_ipap['alquiler €/m2'],\n",
    "                    name = 'alquiler €/m2',\n",
    "                    mode= 'lines',\n",
    "                    marker = dict(color = '#df0c7e'),\n",
    "                    text = 'alquiler €/m2')\n",
    "\n",
    "trace2 = go.Scatter(\n",
    "                    x = alq_ipap.index,\n",
    "                    y = alq_ipap['alquiler_var_mensual'],\n",
    "                    name = 'Variación anual alquiler (%)',\n",
    "                    mode= 'lines',\n",
    "                    marker = dict(color = ' #860a88 '),\n",
    "                    text = 'Variación anual alquiler (%)')\n",
    "\n",
    "trace3 = go.Scatter(\n",
    "                    x = alq_ipap.index,\n",
    "                    y = alq_ipap['vut_índice'],\n",
    "                    name = 'Índice precio VUT',\n",
    "                    mode= 'lines',\n",
    "                    marker = dict(color = ' #0c6bdf '),\n",
    "                    text = 'precio VUT')\n",
    "\n",
    "trace4 = go.Scatter(\n",
    "                    x = alq_ipap.index,\n",
    "                    y = alq_ipap['vut_var_anual'],\n",
    "                    name = 'Variación anual índice VUT (%)',\n",
    "                    mode= 'lines',\n",
    "                    marker = dict(color = ' #0a6a88 '),\n",
    "                    text = 'Variación anual índice VUT (%)')\n",
    "\n",
    "data = [trace1, trace2, trace3, trace4]\n",
    "\n",
    "layout = dict(title = 'Evolución precio alquiler-airbnb',\n",
    "             xaxis= dict(title= 'Años',ticklen= 5)\n",
    "           )\n",
    "\n",
    "fig = go.Figure(data = data, layout=layout)\n",
    "\n",
    "iplot(fig)\n",
    "fig.write_html(\"Evolución precio alquiler-airbnb.html\")"
   ]
  },
  {
   "cell_type": "code",
   "execution_count": 48,
   "metadata": {},
   "outputs": [
    {
     "data": {
      "text/html": [
       "<div>\n",
       "<style scoped>\n",
       "    .dataframe tbody tr th:only-of-type {\n",
       "        vertical-align: middle;\n",
       "    }\n",
       "\n",
       "    .dataframe tbody tr th {\n",
       "        vertical-align: top;\n",
       "    }\n",
       "\n",
       "    .dataframe thead th {\n",
       "        text-align: right;\n",
       "    }\n",
       "</style>\n",
       "<table border=\"1\" class=\"dataframe\">\n",
       "  <thead>\n",
       "    <tr style=\"text-align: right;\">\n",
       "      <th></th>\n",
       "      <th>id</th>\n",
       "      <th>name</th>\n",
       "      <th>host_id</th>\n",
       "      <th>host_name</th>\n",
       "      <th>neighbourhood_group</th>\n",
       "      <th>neighbourhood</th>\n",
       "      <th>latitude</th>\n",
       "      <th>longitude</th>\n",
       "      <th>room_type</th>\n",
       "      <th>price</th>\n",
       "      <th>minimum_nights</th>\n",
       "      <th>number_of_reviews</th>\n",
       "      <th>last_review</th>\n",
       "      <th>reviews_per_month</th>\n",
       "      <th>calculated_host_listings_count</th>\n",
       "      <th>availability_365</th>\n",
       "      <th>number_of_reviews_ltm</th>\n",
       "      <th>license</th>\n",
       "    </tr>\n",
       "  </thead>\n",
       "  <tbody>\n",
       "    <tr>\n",
       "      <th>0</th>\n",
       "      <td>6369</td>\n",
       "      <td>Rental unit in Madrid · ★4.88 · 1 bedroom · 1 ...</td>\n",
       "      <td>13660</td>\n",
       "      <td>Simon</td>\n",
       "      <td>Chamartín</td>\n",
       "      <td>Hispanoamérica</td>\n",
       "      <td>40.457240</td>\n",
       "      <td>-3.676880</td>\n",
       "      <td>Private room</td>\n",
       "      <td>85.0</td>\n",
       "      <td>5</td>\n",
       "      <td>106</td>\n",
       "      <td>2023-10-16</td>\n",
       "      <td>0.63</td>\n",
       "      <td>1</td>\n",
       "      <td>22</td>\n",
       "      <td>4</td>\n",
       "      <td>NaN</td>\n",
       "    </tr>\n",
       "    <tr>\n",
       "      <th>1</th>\n",
       "      <td>30320</td>\n",
       "      <td>Rental unit in Madrid · ★4.63 · 1 bedroom · 2 ...</td>\n",
       "      <td>130907</td>\n",
       "      <td>Dana</td>\n",
       "      <td>Centro</td>\n",
       "      <td>Sol</td>\n",
       "      <td>40.414760</td>\n",
       "      <td>-3.704180</td>\n",
       "      <td>Entire home/apt</td>\n",
       "      <td>65.0</td>\n",
       "      <td>5</td>\n",
       "      <td>172</td>\n",
       "      <td>2022-09-26</td>\n",
       "      <td>1.05</td>\n",
       "      <td>3</td>\n",
       "      <td>0</td>\n",
       "      <td>0</td>\n",
       "      <td>NaN</td>\n",
       "    </tr>\n",
       "    <tr>\n",
       "      <th>2</th>\n",
       "      <td>21853</td>\n",
       "      <td>Rental unit in Madrid · ★4.58 · 1 bedroom · 1 ...</td>\n",
       "      <td>83531</td>\n",
       "      <td>Abdel</td>\n",
       "      <td>Latina</td>\n",
       "      <td>Cármenes</td>\n",
       "      <td>40.403810</td>\n",
       "      <td>-3.741300</td>\n",
       "      <td>Private room</td>\n",
       "      <td>31.0</td>\n",
       "      <td>4</td>\n",
       "      <td>33</td>\n",
       "      <td>2018-07-15</td>\n",
       "      <td>0.30</td>\n",
       "      <td>2</td>\n",
       "      <td>135</td>\n",
       "      <td>0</td>\n",
       "      <td>NaN</td>\n",
       "    </tr>\n",
       "    <tr>\n",
       "      <th>3</th>\n",
       "      <td>24805</td>\n",
       "      <td>Rental unit in Madrid · ★4.91 · 6 bedrooms · 1...</td>\n",
       "      <td>346366726</td>\n",
       "      <td>Alvaro</td>\n",
       "      <td>Centro</td>\n",
       "      <td>Universidad</td>\n",
       "      <td>40.421830</td>\n",
       "      <td>-3.705290</td>\n",
       "      <td>Entire home/apt</td>\n",
       "      <td>94.0</td>\n",
       "      <td>5</td>\n",
       "      <td>33</td>\n",
       "      <td>2023-11-06</td>\n",
       "      <td>0.30</td>\n",
       "      <td>1</td>\n",
       "      <td>168</td>\n",
       "      <td>8</td>\n",
       "      <td>NaN</td>\n",
       "    </tr>\n",
       "    <tr>\n",
       "      <th>4</th>\n",
       "      <td>30959</td>\n",
       "      <td>Loft in Madrid · ★4.38 · 1 bedroom · 1 bed · 1...</td>\n",
       "      <td>132883</td>\n",
       "      <td>Angela</td>\n",
       "      <td>Centro</td>\n",
       "      <td>Embajadores</td>\n",
       "      <td>40.412590</td>\n",
       "      <td>-3.701050</td>\n",
       "      <td>Entire home/apt</td>\n",
       "      <td>NaN</td>\n",
       "      <td>3</td>\n",
       "      <td>8</td>\n",
       "      <td>2017-05-30</td>\n",
       "      <td>0.08</td>\n",
       "      <td>1</td>\n",
       "      <td>0</td>\n",
       "      <td>0</td>\n",
       "      <td>NaN</td>\n",
       "    </tr>\n",
       "    <tr>\n",
       "      <th>...</th>\n",
       "      <td>...</td>\n",
       "      <td>...</td>\n",
       "      <td>...</td>\n",
       "      <td>...</td>\n",
       "      <td>...</td>\n",
       "      <td>...</td>\n",
       "      <td>...</td>\n",
       "      <td>...</td>\n",
       "      <td>...</td>\n",
       "      <td>...</td>\n",
       "      <td>...</td>\n",
       "      <td>...</td>\n",
       "      <td>...</td>\n",
       "      <td>...</td>\n",
       "      <td>...</td>\n",
       "      <td>...</td>\n",
       "      <td>...</td>\n",
       "      <td>...</td>\n",
       "    </tr>\n",
       "    <tr>\n",
       "      <th>25538</th>\n",
       "      <td>1046219783290634155</td>\n",
       "      <td>Rental unit in Madrid · ★New · 2 bedrooms · 3 ...</td>\n",
       "      <td>529402573</td>\n",
       "      <td>Sara</td>\n",
       "      <td>Usera</td>\n",
       "      <td>Zofío</td>\n",
       "      <td>40.384658</td>\n",
       "      <td>-3.714106</td>\n",
       "      <td>Entire home/apt</td>\n",
       "      <td>120.0</td>\n",
       "      <td>1</td>\n",
       "      <td>0</td>\n",
       "      <td>NaN</td>\n",
       "      <td>NaN</td>\n",
       "      <td>56</td>\n",
       "      <td>303</td>\n",
       "      <td>0</td>\n",
       "      <td>NaN</td>\n",
       "    </tr>\n",
       "    <tr>\n",
       "      <th>25539</th>\n",
       "      <td>1045519419976898566</td>\n",
       "      <td>Rental unit in Madrid · ★New · 1 bedroom · 1 b...</td>\n",
       "      <td>529402573</td>\n",
       "      <td>Sara</td>\n",
       "      <td>Salamanca</td>\n",
       "      <td>Guindalera</td>\n",
       "      <td>40.438832</td>\n",
       "      <td>-3.671323</td>\n",
       "      <td>Entire home/apt</td>\n",
       "      <td>120.0</td>\n",
       "      <td>1</td>\n",
       "      <td>0</td>\n",
       "      <td>NaN</td>\n",
       "      <td>NaN</td>\n",
       "      <td>56</td>\n",
       "      <td>189</td>\n",
       "      <td>0</td>\n",
       "      <td>NaN</td>\n",
       "    </tr>\n",
       "    <tr>\n",
       "      <th>25540</th>\n",
       "      <td>1046222300986271054</td>\n",
       "      <td>Rental unit in Madrid · ★New · 1 bedroom · 1 b...</td>\n",
       "      <td>31772865</td>\n",
       "      <td>CituSpace</td>\n",
       "      <td>Tetuán</td>\n",
       "      <td>Castillejos</td>\n",
       "      <td>40.458234</td>\n",
       "      <td>-3.695566</td>\n",
       "      <td>Entire home/apt</td>\n",
       "      <td>171.0</td>\n",
       "      <td>1</td>\n",
       "      <td>0</td>\n",
       "      <td>NaN</td>\n",
       "      <td>NaN</td>\n",
       "      <td>42</td>\n",
       "      <td>318</td>\n",
       "      <td>0</td>\n",
       "      <td>NaN</td>\n",
       "    </tr>\n",
       "    <tr>\n",
       "      <th>25541</th>\n",
       "      <td>1046239141714406672</td>\n",
       "      <td>Rental unit in Madrid · ★New · 2 bedrooms · 4 ...</td>\n",
       "      <td>346367515</td>\n",
       "      <td>Ukio</td>\n",
       "      <td>Chamberí</td>\n",
       "      <td>Arapiles</td>\n",
       "      <td>40.433040</td>\n",
       "      <td>-3.711060</td>\n",
       "      <td>Entire home/apt</td>\n",
       "      <td>74.0</td>\n",
       "      <td>31</td>\n",
       "      <td>0</td>\n",
       "      <td>NaN</td>\n",
       "      <td>NaN</td>\n",
       "      <td>237</td>\n",
       "      <td>326</td>\n",
       "      <td>0</td>\n",
       "      <td>NaN</td>\n",
       "    </tr>\n",
       "    <tr>\n",
       "      <th>25542</th>\n",
       "      <td>1046255434342767173</td>\n",
       "      <td>Rental unit in Madrid · ★New · 1 bedroom · 3 b...</td>\n",
       "      <td>529402573</td>\n",
       "      <td>Sara</td>\n",
       "      <td>Centro</td>\n",
       "      <td>Justicia</td>\n",
       "      <td>40.419923</td>\n",
       "      <td>-3.699678</td>\n",
       "      <td>Entire home/apt</td>\n",
       "      <td>119.0</td>\n",
       "      <td>1</td>\n",
       "      <td>0</td>\n",
       "      <td>NaN</td>\n",
       "      <td>NaN</td>\n",
       "      <td>56</td>\n",
       "      <td>309</td>\n",
       "      <td>0</td>\n",
       "      <td>NaN</td>\n",
       "    </tr>\n",
       "  </tbody>\n",
       "</table>\n",
       "<p>25543 rows × 18 columns</p>\n",
       "</div>"
      ],
      "text/plain": [
       "                        id                                               name  \\\n",
       "0                     6369  Rental unit in Madrid · ★4.88 · 1 bedroom · 1 ...   \n",
       "1                    30320  Rental unit in Madrid · ★4.63 · 1 bedroom · 2 ...   \n",
       "2                    21853  Rental unit in Madrid · ★4.58 · 1 bedroom · 1 ...   \n",
       "3                    24805  Rental unit in Madrid · ★4.91 · 6 bedrooms · 1...   \n",
       "4                    30959  Loft in Madrid · ★4.38 · 1 bedroom · 1 bed · 1...   \n",
       "...                    ...                                                ...   \n",
       "25538  1046219783290634155  Rental unit in Madrid · ★New · 2 bedrooms · 3 ...   \n",
       "25539  1045519419976898566  Rental unit in Madrid · ★New · 1 bedroom · 1 b...   \n",
       "25540  1046222300986271054  Rental unit in Madrid · ★New · 1 bedroom · 1 b...   \n",
       "25541  1046239141714406672  Rental unit in Madrid · ★New · 2 bedrooms · 4 ...   \n",
       "25542  1046255434342767173  Rental unit in Madrid · ★New · 1 bedroom · 3 b...   \n",
       "\n",
       "         host_id  host_name neighbourhood_group   neighbourhood   latitude  \\\n",
       "0          13660      Simon           Chamartín  Hispanoamérica  40.457240   \n",
       "1         130907       Dana              Centro             Sol  40.414760   \n",
       "2          83531      Abdel              Latina        Cármenes  40.403810   \n",
       "3      346366726     Alvaro              Centro     Universidad  40.421830   \n",
       "4         132883     Angela              Centro     Embajadores  40.412590   \n",
       "...          ...        ...                 ...             ...        ...   \n",
       "25538  529402573       Sara               Usera           Zofío  40.384658   \n",
       "25539  529402573       Sara           Salamanca      Guindalera  40.438832   \n",
       "25540   31772865  CituSpace              Tetuán     Castillejos  40.458234   \n",
       "25541  346367515       Ukio            Chamberí        Arapiles  40.433040   \n",
       "25542  529402573       Sara              Centro        Justicia  40.419923   \n",
       "\n",
       "       longitude        room_type  price  minimum_nights  number_of_reviews  \\\n",
       "0      -3.676880     Private room   85.0               5                106   \n",
       "1      -3.704180  Entire home/apt   65.0               5                172   \n",
       "2      -3.741300     Private room   31.0               4                 33   \n",
       "3      -3.705290  Entire home/apt   94.0               5                 33   \n",
       "4      -3.701050  Entire home/apt    NaN               3                  8   \n",
       "...          ...              ...    ...             ...                ...   \n",
       "25538  -3.714106  Entire home/apt  120.0               1                  0   \n",
       "25539  -3.671323  Entire home/apt  120.0               1                  0   \n",
       "25540  -3.695566  Entire home/apt  171.0               1                  0   \n",
       "25541  -3.711060  Entire home/apt   74.0              31                  0   \n",
       "25542  -3.699678  Entire home/apt  119.0               1                  0   \n",
       "\n",
       "      last_review  reviews_per_month  calculated_host_listings_count  \\\n",
       "0      2023-10-16               0.63                               1   \n",
       "1      2022-09-26               1.05                               3   \n",
       "2      2018-07-15               0.30                               2   \n",
       "3      2023-11-06               0.30                               1   \n",
       "4      2017-05-30               0.08                               1   \n",
       "...           ...                ...                             ...   \n",
       "25538         NaN                NaN                              56   \n",
       "25539         NaN                NaN                              56   \n",
       "25540         NaN                NaN                              42   \n",
       "25541         NaN                NaN                             237   \n",
       "25542         NaN                NaN                              56   \n",
       "\n",
       "       availability_365  number_of_reviews_ltm license  \n",
       "0                    22                      4     NaN  \n",
       "1                     0                      0     NaN  \n",
       "2                   135                      0     NaN  \n",
       "3                   168                      8     NaN  \n",
       "4                     0                      0     NaN  \n",
       "...                 ...                    ...     ...  \n",
       "25538               303                      0     NaN  \n",
       "25539               189                      0     NaN  \n",
       "25540               318                      0     NaN  \n",
       "25541               326                      0     NaN  \n",
       "25542               309                      0     NaN  \n",
       "\n",
       "[25543 rows x 18 columns]"
      ]
     },
     "execution_count": 48,
     "metadata": {},
     "output_type": "execute_result"
    }
   ],
   "source": [
    "airbnb_mad = pd.read_csv('../data/listings_insideairbnb_mad_dic23.csv')\n",
    "airbnb_mad\n"
   ]
  },
  {
   "cell_type": "code",
   "execution_count": 49,
   "metadata": {},
   "outputs": [
    {
     "data": {
      "text/html": [
       "<div>\n",
       "<style scoped>\n",
       "    .dataframe tbody tr th:only-of-type {\n",
       "        vertical-align: middle;\n",
       "    }\n",
       "\n",
       "    .dataframe tbody tr th {\n",
       "        vertical-align: top;\n",
       "    }\n",
       "\n",
       "    .dataframe thead th {\n",
       "        text-align: right;\n",
       "    }\n",
       "</style>\n",
       "<table border=\"1\" class=\"dataframe\">\n",
       "  <thead>\n",
       "    <tr style=\"text-align: right;\">\n",
       "      <th></th>\n",
       "      <th>id</th>\n",
       "      <th>name</th>\n",
       "      <th>host_id</th>\n",
       "      <th>host_name</th>\n",
       "      <th>neighbourhood_group</th>\n",
       "      <th>neighbourhood</th>\n",
       "      <th>latitude</th>\n",
       "      <th>longitude</th>\n",
       "      <th>room_type</th>\n",
       "      <th>price</th>\n",
       "      <th>minimum_nights</th>\n",
       "      <th>number_of_reviews</th>\n",
       "      <th>last_review</th>\n",
       "      <th>reviews_per_month</th>\n",
       "      <th>calculated_host_listings_count</th>\n",
       "      <th>availability_365</th>\n",
       "      <th>number_of_reviews_ltm</th>\n",
       "      <th>license</th>\n",
       "    </tr>\n",
       "  </thead>\n",
       "  <tbody>\n",
       "    <tr>\n",
       "      <th>0</th>\n",
       "      <td>17475</td>\n",
       "      <td>Rental unit in 08013 Barcelona · ★4.40 · 1 bed...</td>\n",
       "      <td>65623</td>\n",
       "      <td>Luca</td>\n",
       "      <td>Eixample</td>\n",
       "      <td>la Dreta de l'Eixample</td>\n",
       "      <td>41.399390</td>\n",
       "      <td>2.170440</td>\n",
       "      <td>Entire home/apt</td>\n",
       "      <td>140.0</td>\n",
       "      <td>5</td>\n",
       "      <td>26</td>\n",
       "      <td>2023-12-04</td>\n",
       "      <td>0.16</td>\n",
       "      <td>1</td>\n",
       "      <td>32</td>\n",
       "      <td>9</td>\n",
       "      <td>NaN</td>\n",
       "    </tr>\n",
       "    <tr>\n",
       "      <th>1</th>\n",
       "      <td>18674</td>\n",
       "      <td>Rental unit in Barcelona · ★4.33 · 3 bedrooms ...</td>\n",
       "      <td>71615</td>\n",
       "      <td>Mireia  Maria</td>\n",
       "      <td>Eixample</td>\n",
       "      <td>la Sagrada Família</td>\n",
       "      <td>41.405560</td>\n",
       "      <td>2.172620</td>\n",
       "      <td>Entire home/apt</td>\n",
       "      <td>121.0</td>\n",
       "      <td>1</td>\n",
       "      <td>40</td>\n",
       "      <td>2023-11-07</td>\n",
       "      <td>0.31</td>\n",
       "      <td>30</td>\n",
       "      <td>39</td>\n",
       "      <td>7</td>\n",
       "      <td>HUTB-002062</td>\n",
       "    </tr>\n",
       "    <tr>\n",
       "      <th>2</th>\n",
       "      <td>198958</td>\n",
       "      <td>Rental unit in Barcelona · ★4.69 · 4 bedrooms ...</td>\n",
       "      <td>971768</td>\n",
       "      <td>Laura</td>\n",
       "      <td>Sant Martí</td>\n",
       "      <td>Diagonal Mar i el Front Marítim del Poblenou</td>\n",
       "      <td>41.408050</td>\n",
       "      <td>2.214870</td>\n",
       "      <td>Entire home/apt</td>\n",
       "      <td>304.0</td>\n",
       "      <td>2</td>\n",
       "      <td>105</td>\n",
       "      <td>2023-10-16</td>\n",
       "      <td>0.74</td>\n",
       "      <td>9</td>\n",
       "      <td>137</td>\n",
       "      <td>26</td>\n",
       "      <td>HUTB-000926</td>\n",
       "    </tr>\n",
       "    <tr>\n",
       "      <th>3</th>\n",
       "      <td>23197</td>\n",
       "      <td>Rental unit in Sant Adria de Besos · ★4.77 · 3...</td>\n",
       "      <td>90417</td>\n",
       "      <td>Etain (Marnie)</td>\n",
       "      <td>Sant Martí</td>\n",
       "      <td>el Besòs i el Maresme</td>\n",
       "      <td>41.412432</td>\n",
       "      <td>2.219750</td>\n",
       "      <td>Entire home/apt</td>\n",
       "      <td>200.0</td>\n",
       "      <td>3</td>\n",
       "      <td>75</td>\n",
       "      <td>2023-11-25</td>\n",
       "      <td>0.48</td>\n",
       "      <td>2</td>\n",
       "      <td>300</td>\n",
       "      <td>11</td>\n",
       "      <td>HUTB005057</td>\n",
       "    </tr>\n",
       "    <tr>\n",
       "      <th>4</th>\n",
       "      <td>32711</td>\n",
       "      <td>Rental unit in Barcelona · ★4.48 · 2 bedrooms ...</td>\n",
       "      <td>135703</td>\n",
       "      <td>Nick</td>\n",
       "      <td>Gràcia</td>\n",
       "      <td>el Camp d'en Grassot i Gràcia Nova</td>\n",
       "      <td>41.405660</td>\n",
       "      <td>2.170150</td>\n",
       "      <td>Entire home/apt</td>\n",
       "      <td>79.0</td>\n",
       "      <td>1</td>\n",
       "      <td>99</td>\n",
       "      <td>2023-10-18</td>\n",
       "      <td>0.66</td>\n",
       "      <td>3</td>\n",
       "      <td>297</td>\n",
       "      <td>16</td>\n",
       "      <td>HUTB-001722</td>\n",
       "    </tr>\n",
       "    <tr>\n",
       "      <th>...</th>\n",
       "      <td>...</td>\n",
       "      <td>...</td>\n",
       "      <td>...</td>\n",
       "      <td>...</td>\n",
       "      <td>...</td>\n",
       "      <td>...</td>\n",
       "      <td>...</td>\n",
       "      <td>...</td>\n",
       "      <td>...</td>\n",
       "      <td>...</td>\n",
       "      <td>...</td>\n",
       "      <td>...</td>\n",
       "      <td>...</td>\n",
       "      <td>...</td>\n",
       "      <td>...</td>\n",
       "      <td>...</td>\n",
       "      <td>...</td>\n",
       "      <td>...</td>\n",
       "    </tr>\n",
       "    <tr>\n",
       "      <th>18316</th>\n",
       "      <td>1042002618810922779</td>\n",
       "      <td>Rental unit in Barcelona · ★New · 2 bedrooms ·...</td>\n",
       "      <td>3556337</td>\n",
       "      <td>Alejandro</td>\n",
       "      <td>Eixample</td>\n",
       "      <td>l'Antiga Esquerra de l'Eixample</td>\n",
       "      <td>41.388694</td>\n",
       "      <td>2.162324</td>\n",
       "      <td>Entire home/apt</td>\n",
       "      <td>143.0</td>\n",
       "      <td>1</td>\n",
       "      <td>0</td>\n",
       "      <td>NaN</td>\n",
       "      <td>NaN</td>\n",
       "      <td>51</td>\n",
       "      <td>364</td>\n",
       "      <td>0</td>\n",
       "      <td>HUTB-007296</td>\n",
       "    </tr>\n",
       "    <tr>\n",
       "      <th>18317</th>\n",
       "      <td>1042044489456901435</td>\n",
       "      <td>Rental unit in Barcelona · ★New · 3 bedrooms ·...</td>\n",
       "      <td>93833963</td>\n",
       "      <td>Maria</td>\n",
       "      <td>Horta-Guinardó</td>\n",
       "      <td>el Guinardó</td>\n",
       "      <td>41.422690</td>\n",
       "      <td>2.176110</td>\n",
       "      <td>Private room</td>\n",
       "      <td>96.0</td>\n",
       "      <td>32</td>\n",
       "      <td>0</td>\n",
       "      <td>NaN</td>\n",
       "      <td>NaN</td>\n",
       "      <td>6</td>\n",
       "      <td>268</td>\n",
       "      <td>0</td>\n",
       "      <td>Exempt</td>\n",
       "    </tr>\n",
       "    <tr>\n",
       "      <th>18318</th>\n",
       "      <td>1042051147106602685</td>\n",
       "      <td>Rental unit in Barcelona · ★New · 2 bedrooms ·...</td>\n",
       "      <td>66296022</td>\n",
       "      <td>Toni</td>\n",
       "      <td>Ciutat Vella</td>\n",
       "      <td>la Barceloneta</td>\n",
       "      <td>41.380426</td>\n",
       "      <td>2.191397</td>\n",
       "      <td>Entire home/apt</td>\n",
       "      <td>75.0</td>\n",
       "      <td>32</td>\n",
       "      <td>0</td>\n",
       "      <td>NaN</td>\n",
       "      <td>NaN</td>\n",
       "      <td>12</td>\n",
       "      <td>364</td>\n",
       "      <td>0</td>\n",
       "      <td>NaN</td>\n",
       "    </tr>\n",
       "    <tr>\n",
       "      <th>18319</th>\n",
       "      <td>1042053373256947884</td>\n",
       "      <td>Rental unit in Barcelona · ★New · 1 bedroom · ...</td>\n",
       "      <td>478007968</td>\n",
       "      <td>Morge</td>\n",
       "      <td>Eixample</td>\n",
       "      <td>la Sagrada Família</td>\n",
       "      <td>41.401691</td>\n",
       "      <td>2.176437</td>\n",
       "      <td>Private room</td>\n",
       "      <td>70.0</td>\n",
       "      <td>2</td>\n",
       "      <td>0</td>\n",
       "      <td>NaN</td>\n",
       "      <td>NaN</td>\n",
       "      <td>23</td>\n",
       "      <td>266</td>\n",
       "      <td>0</td>\n",
       "      <td>HUTB-784673</td>\n",
       "    </tr>\n",
       "    <tr>\n",
       "      <th>18320</th>\n",
       "      <td>1042326162660164787</td>\n",
       "      <td>Rental unit in Barcelona · ★New · 2 bedrooms ·...</td>\n",
       "      <td>731009</td>\n",
       "      <td>Marc</td>\n",
       "      <td>Sants-Montjuïc</td>\n",
       "      <td>Hostafrancs</td>\n",
       "      <td>41.377490</td>\n",
       "      <td>2.143060</td>\n",
       "      <td>Entire home/apt</td>\n",
       "      <td>50.0</td>\n",
       "      <td>31</td>\n",
       "      <td>0</td>\n",
       "      <td>NaN</td>\n",
       "      <td>NaN</td>\n",
       "      <td>16</td>\n",
       "      <td>226</td>\n",
       "      <td>0</td>\n",
       "      <td>NaN</td>\n",
       "    </tr>\n",
       "  </tbody>\n",
       "</table>\n",
       "<p>18321 rows × 18 columns</p>\n",
       "</div>"
      ],
      "text/plain": [
       "                        id                                               name  \\\n",
       "0                    17475  Rental unit in 08013 Barcelona · ★4.40 · 1 bed...   \n",
       "1                    18674  Rental unit in Barcelona · ★4.33 · 3 bedrooms ...   \n",
       "2                   198958  Rental unit in Barcelona · ★4.69 · 4 bedrooms ...   \n",
       "3                    23197  Rental unit in Sant Adria de Besos · ★4.77 · 3...   \n",
       "4                    32711  Rental unit in Barcelona · ★4.48 · 2 bedrooms ...   \n",
       "...                    ...                                                ...   \n",
       "18316  1042002618810922779  Rental unit in Barcelona · ★New · 2 bedrooms ·...   \n",
       "18317  1042044489456901435  Rental unit in Barcelona · ★New · 3 bedrooms ·...   \n",
       "18318  1042051147106602685  Rental unit in Barcelona · ★New · 2 bedrooms ·...   \n",
       "18319  1042053373256947884  Rental unit in Barcelona · ★New · 1 bedroom · ...   \n",
       "18320  1042326162660164787  Rental unit in Barcelona · ★New · 2 bedrooms ·...   \n",
       "\n",
       "         host_id       host_name neighbourhood_group  \\\n",
       "0          65623            Luca            Eixample   \n",
       "1          71615   Mireia  Maria            Eixample   \n",
       "2         971768           Laura          Sant Martí   \n",
       "3          90417  Etain (Marnie)          Sant Martí   \n",
       "4         135703            Nick              Gràcia   \n",
       "...          ...             ...                 ...   \n",
       "18316    3556337       Alejandro            Eixample   \n",
       "18317   93833963           Maria      Horta-Guinardó   \n",
       "18318   66296022            Toni        Ciutat Vella   \n",
       "18319  478007968           Morge            Eixample   \n",
       "18320     731009            Marc      Sants-Montjuïc   \n",
       "\n",
       "                                      neighbourhood   latitude  longitude  \\\n",
       "0                            la Dreta de l'Eixample  41.399390   2.170440   \n",
       "1                                la Sagrada Família  41.405560   2.172620   \n",
       "2      Diagonal Mar i el Front Marítim del Poblenou  41.408050   2.214870   \n",
       "3                             el Besòs i el Maresme  41.412432   2.219750   \n",
       "4                el Camp d'en Grassot i Gràcia Nova  41.405660   2.170150   \n",
       "...                                             ...        ...        ...   \n",
       "18316               l'Antiga Esquerra de l'Eixample  41.388694   2.162324   \n",
       "18317                                   el Guinardó  41.422690   2.176110   \n",
       "18318                                la Barceloneta  41.380426   2.191397   \n",
       "18319                            la Sagrada Família  41.401691   2.176437   \n",
       "18320                                   Hostafrancs  41.377490   2.143060   \n",
       "\n",
       "             room_type  price  minimum_nights  number_of_reviews last_review  \\\n",
       "0      Entire home/apt  140.0               5                 26  2023-12-04   \n",
       "1      Entire home/apt  121.0               1                 40  2023-11-07   \n",
       "2      Entire home/apt  304.0               2                105  2023-10-16   \n",
       "3      Entire home/apt  200.0               3                 75  2023-11-25   \n",
       "4      Entire home/apt   79.0               1                 99  2023-10-18   \n",
       "...                ...    ...             ...                ...         ...   \n",
       "18316  Entire home/apt  143.0               1                  0         NaN   \n",
       "18317     Private room   96.0              32                  0         NaN   \n",
       "18318  Entire home/apt   75.0              32                  0         NaN   \n",
       "18319     Private room   70.0               2                  0         NaN   \n",
       "18320  Entire home/apt   50.0              31                  0         NaN   \n",
       "\n",
       "       reviews_per_month  calculated_host_listings_count  availability_365  \\\n",
       "0                   0.16                               1                32   \n",
       "1                   0.31                              30                39   \n",
       "2                   0.74                               9               137   \n",
       "3                   0.48                               2               300   \n",
       "4                   0.66                               3               297   \n",
       "...                  ...                             ...               ...   \n",
       "18316                NaN                              51               364   \n",
       "18317                NaN                               6               268   \n",
       "18318                NaN                              12               364   \n",
       "18319                NaN                              23               266   \n",
       "18320                NaN                              16               226   \n",
       "\n",
       "       number_of_reviews_ltm      license  \n",
       "0                          9          NaN  \n",
       "1                          7  HUTB-002062  \n",
       "2                         26  HUTB-000926  \n",
       "3                         11   HUTB005057  \n",
       "4                         16  HUTB-001722  \n",
       "...                      ...          ...  \n",
       "18316                      0  HUTB-007296  \n",
       "18317                      0       Exempt  \n",
       "18318                      0          NaN  \n",
       "18319                      0  HUTB-784673  \n",
       "18320                      0          NaN  \n",
       "\n",
       "[18321 rows x 18 columns]"
      ]
     },
     "execution_count": 49,
     "metadata": {},
     "output_type": "execute_result"
    }
   ],
   "source": [
    "airbnb_bcn = pd.read_csv('../data/listings_insidearibnb_bcn_dic23.csv')\n",
    "airbnb_bcn\n"
   ]
  },
  {
   "cell_type": "code",
   "execution_count": 53,
   "metadata": {},
   "outputs": [
    {
     "data": {
      "text/html": [
       "<div>\n",
       "<style scoped>\n",
       "    .dataframe tbody tr th:only-of-type {\n",
       "        vertical-align: middle;\n",
       "    }\n",
       "\n",
       "    .dataframe tbody tr th {\n",
       "        vertical-align: top;\n",
       "    }\n",
       "\n",
       "    .dataframe thead th {\n",
       "        text-align: right;\n",
       "    }\n",
       "</style>\n",
       "<table border=\"1\" class=\"dataframe\">\n",
       "  <thead>\n",
       "    <tr style=\"text-align: right;\">\n",
       "      <th></th>\n",
       "      <th>id</th>\n",
       "      <th>name</th>\n",
       "      <th>host_id</th>\n",
       "      <th>host_name</th>\n",
       "      <th>neighbourhood_group</th>\n",
       "      <th>neighbourhood</th>\n",
       "      <th>latitude</th>\n",
       "      <th>longitude</th>\n",
       "      <th>room_type</th>\n",
       "      <th>price</th>\n",
       "      <th>minimum_nights</th>\n",
       "      <th>number_of_reviews</th>\n",
       "      <th>last_review</th>\n",
       "      <th>reviews_per_month</th>\n",
       "      <th>calculated_host_listings_count</th>\n",
       "      <th>availability_365</th>\n",
       "      <th>number_of_reviews_ltm</th>\n",
       "      <th>license</th>\n",
       "    </tr>\n",
       "  </thead>\n",
       "  <tbody>\n",
       "    <tr>\n",
       "      <th>0</th>\n",
       "      <td>561654306981369438</td>\n",
       "      <td>Vacation home in Sevilla · ★4.69 · 1 bedroom ·...</td>\n",
       "      <td>209748933</td>\n",
       "      <td>Mariano</td>\n",
       "      <td>Triana</td>\n",
       "      <td>Triana Oeste</td>\n",
       "      <td>37.389172</td>\n",
       "      <td>-6.009562</td>\n",
       "      <td>Entire home/apt</td>\n",
       "      <td>281.0</td>\n",
       "      <td>1</td>\n",
       "      <td>16</td>\n",
       "      <td>2023-11-13</td>\n",
       "      <td>0.78</td>\n",
       "      <td>44</td>\n",
       "      <td>87</td>\n",
       "      <td>9</td>\n",
       "      <td>VFT/SE/04999</td>\n",
       "    </tr>\n",
       "    <tr>\n",
       "      <th>1</th>\n",
       "      <td>15479525</td>\n",
       "      <td>Home in Sevilla · ★4.63 · 2 bedrooms · 7 beds ...</td>\n",
       "      <td>99370256</td>\n",
       "      <td>Mi Casa</td>\n",
       "      <td>Casco Antiguo</td>\n",
       "      <td>Alfalfa</td>\n",
       "      <td>37.389670</td>\n",
       "      <td>-5.995620</td>\n",
       "      <td>Entire home/apt</td>\n",
       "      <td>484.0</td>\n",
       "      <td>2</td>\n",
       "      <td>119</td>\n",
       "      <td>2023-12-03</td>\n",
       "      <td>1.36</td>\n",
       "      <td>5</td>\n",
       "      <td>288</td>\n",
       "      <td>15</td>\n",
       "      <td>VFT/SE/00873</td>\n",
       "    </tr>\n",
       "    <tr>\n",
       "      <th>2</th>\n",
       "      <td>12785235</td>\n",
       "      <td>Rental unit in Sevilla · 1 bedroom · 1 bed · 1...</td>\n",
       "      <td>7080099</td>\n",
       "      <td>Alvaro</td>\n",
       "      <td>Sur</td>\n",
       "      <td>Tiro de Línea, Santa Genoveva</td>\n",
       "      <td>37.370020</td>\n",
       "      <td>-5.977260</td>\n",
       "      <td>Private room</td>\n",
       "      <td>66.0</td>\n",
       "      <td>61</td>\n",
       "      <td>0</td>\n",
       "      <td>NaN</td>\n",
       "      <td>NaN</td>\n",
       "      <td>4</td>\n",
       "      <td>90</td>\n",
       "      <td>0</td>\n",
       "      <td>NaN</td>\n",
       "    </tr>\n",
       "    <tr>\n",
       "      <th>3</th>\n",
       "      <td>914985505906780237</td>\n",
       "      <td>Rental unit in Sevilla · ★4.90 · 1 bedroom · 2...</td>\n",
       "      <td>504269030</td>\n",
       "      <td>Rafael</td>\n",
       "      <td>Casco Antiguo</td>\n",
       "      <td>San Vicente</td>\n",
       "      <td>37.396814</td>\n",
       "      <td>-5.999763</td>\n",
       "      <td>Entire home/apt</td>\n",
       "      <td>93.0</td>\n",
       "      <td>2</td>\n",
       "      <td>10</td>\n",
       "      <td>2023-12-23</td>\n",
       "      <td>1.79</td>\n",
       "      <td>5</td>\n",
       "      <td>328</td>\n",
       "      <td>10</td>\n",
       "      <td>A/SE/00432</td>\n",
       "    </tr>\n",
       "    <tr>\n",
       "      <th>4</th>\n",
       "      <td>686891099292953953</td>\n",
       "      <td>Rental unit in Sevilla · 2 bedrooms · 4 beds ·...</td>\n",
       "      <td>473481460</td>\n",
       "      <td>Andres</td>\n",
       "      <td>Triana</td>\n",
       "      <td>Triana Casco Antiguo</td>\n",
       "      <td>37.386195</td>\n",
       "      <td>-6.004393</td>\n",
       "      <td>Entire home/apt</td>\n",
       "      <td>700.0</td>\n",
       "      <td>3</td>\n",
       "      <td>1</td>\n",
       "      <td>2023-03-23</td>\n",
       "      <td>0.11</td>\n",
       "      <td>1</td>\n",
       "      <td>7</td>\n",
       "      <td>1</td>\n",
       "      <td>VFT/SE/02161</td>\n",
       "    </tr>\n",
       "    <tr>\n",
       "      <th>...</th>\n",
       "      <td>...</td>\n",
       "      <td>...</td>\n",
       "      <td>...</td>\n",
       "      <td>...</td>\n",
       "      <td>...</td>\n",
       "      <td>...</td>\n",
       "      <td>...</td>\n",
       "      <td>...</td>\n",
       "      <td>...</td>\n",
       "      <td>...</td>\n",
       "      <td>...</td>\n",
       "      <td>...</td>\n",
       "      <td>...</td>\n",
       "      <td>...</td>\n",
       "      <td>...</td>\n",
       "      <td>...</td>\n",
       "      <td>...</td>\n",
       "      <td>...</td>\n",
       "    </tr>\n",
       "    <tr>\n",
       "      <th>7153</th>\n",
       "      <td>612380182531669737</td>\n",
       "      <td>Rental unit in Sevilla · 3 bedrooms · 1 bed · ...</td>\n",
       "      <td>85626203</td>\n",
       "      <td>Mane</td>\n",
       "      <td>Palmera - Bellavista</td>\n",
       "      <td>Bellavista</td>\n",
       "      <td>37.316680</td>\n",
       "      <td>-5.969120</td>\n",
       "      <td>Private room</td>\n",
       "      <td>33.0</td>\n",
       "      <td>3</td>\n",
       "      <td>1</td>\n",
       "      <td>2022-09-05</td>\n",
       "      <td>0.06</td>\n",
       "      <td>1</td>\n",
       "      <td>60</td>\n",
       "      <td>0</td>\n",
       "      <td>Exempt</td>\n",
       "    </tr>\n",
       "    <tr>\n",
       "      <th>7154</th>\n",
       "      <td>39672267</td>\n",
       "      <td>Rental unit in Sevilla · ★4.84 · 1 bedroom · 2...</td>\n",
       "      <td>304903777</td>\n",
       "      <td>Unico</td>\n",
       "      <td>Casco Antiguo</td>\n",
       "      <td>Santa Cruz</td>\n",
       "      <td>37.382350</td>\n",
       "      <td>-5.990310</td>\n",
       "      <td>Entire home/apt</td>\n",
       "      <td>97.0</td>\n",
       "      <td>2</td>\n",
       "      <td>73</td>\n",
       "      <td>2023-11-24</td>\n",
       "      <td>1.44</td>\n",
       "      <td>2</td>\n",
       "      <td>190</td>\n",
       "      <td>12</td>\n",
       "      <td>CTC-2019148934</td>\n",
       "    </tr>\n",
       "    <tr>\n",
       "      <th>7155</th>\n",
       "      <td>25470672</td>\n",
       "      <td>Rental unit in Sevilla · ★4.60 · 2 bedrooms · ...</td>\n",
       "      <td>860055</td>\n",
       "      <td>Maria</td>\n",
       "      <td>Casco Antiguo</td>\n",
       "      <td>San Bartolomé</td>\n",
       "      <td>37.387660</td>\n",
       "      <td>-5.989010</td>\n",
       "      <td>Entire home/apt</td>\n",
       "      <td>172.0</td>\n",
       "      <td>3</td>\n",
       "      <td>68</td>\n",
       "      <td>2023-10-03</td>\n",
       "      <td>1.02</td>\n",
       "      <td>27</td>\n",
       "      <td>294</td>\n",
       "      <td>5</td>\n",
       "      <td>Exempt</td>\n",
       "    </tr>\n",
       "    <tr>\n",
       "      <th>7156</th>\n",
       "      <td>44056900</td>\n",
       "      <td>Hostel in Sevilla · 2 bedrooms · 4 beds · 1 pr...</td>\n",
       "      <td>344783641</td>\n",
       "      <td>Pensión La Montoreña</td>\n",
       "      <td>Casco Antiguo</td>\n",
       "      <td>San Bartolomé</td>\n",
       "      <td>37.387870</td>\n",
       "      <td>-5.985330</td>\n",
       "      <td>Private room</td>\n",
       "      <td>502.0</td>\n",
       "      <td>1</td>\n",
       "      <td>0</td>\n",
       "      <td>NaN</td>\n",
       "      <td>NaN</td>\n",
       "      <td>34</td>\n",
       "      <td>52</td>\n",
       "      <td>0</td>\n",
       "      <td>H/SE-0114</td>\n",
       "    </tr>\n",
       "    <tr>\n",
       "      <th>7157</th>\n",
       "      <td>37317977</td>\n",
       "      <td>Rental unit in Seville · ★4.72 · 1 bedroom · 1...</td>\n",
       "      <td>51048225</td>\n",
       "      <td>Sevilla</td>\n",
       "      <td>Nervión</td>\n",
       "      <td>an Roque</td>\n",
       "      <td>37.390900</td>\n",
       "      <td>-5.983910</td>\n",
       "      <td>Entire home/apt</td>\n",
       "      <td>72.0</td>\n",
       "      <td>2</td>\n",
       "      <td>83</td>\n",
       "      <td>2023-12-10</td>\n",
       "      <td>1.58</td>\n",
       "      <td>95</td>\n",
       "      <td>291</td>\n",
       "      <td>47</td>\n",
       "      <td>CTC-2019110431</td>\n",
       "    </tr>\n",
       "  </tbody>\n",
       "</table>\n",
       "<p>7158 rows × 18 columns</p>\n",
       "</div>"
      ],
      "text/plain": [
       "                      id                                               name  \\\n",
       "0     561654306981369438  Vacation home in Sevilla · ★4.69 · 1 bedroom ·...   \n",
       "1               15479525  Home in Sevilla · ★4.63 · 2 bedrooms · 7 beds ...   \n",
       "2               12785235  Rental unit in Sevilla · 1 bedroom · 1 bed · 1...   \n",
       "3     914985505906780237  Rental unit in Sevilla · ★4.90 · 1 bedroom · 2...   \n",
       "4     686891099292953953  Rental unit in Sevilla · 2 bedrooms · 4 beds ·...   \n",
       "...                  ...                                                ...   \n",
       "7153  612380182531669737  Rental unit in Sevilla · 3 bedrooms · 1 bed · ...   \n",
       "7154            39672267  Rental unit in Sevilla · ★4.84 · 1 bedroom · 2...   \n",
       "7155            25470672  Rental unit in Sevilla · ★4.60 · 2 bedrooms · ...   \n",
       "7156            44056900  Hostel in Sevilla · 2 bedrooms · 4 beds · 1 pr...   \n",
       "7157            37317977  Rental unit in Seville · ★4.72 · 1 bedroom · 1...   \n",
       "\n",
       "        host_id             host_name   neighbourhood_group  \\\n",
       "0     209748933               Mariano                Triana   \n",
       "1      99370256               Mi Casa         Casco Antiguo   \n",
       "2       7080099                Alvaro                   Sur   \n",
       "3     504269030                Rafael         Casco Antiguo   \n",
       "4     473481460                Andres                Triana   \n",
       "...         ...                   ...                   ...   \n",
       "7153   85626203                  Mane  Palmera - Bellavista   \n",
       "7154  304903777                 Unico         Casco Antiguo   \n",
       "7155     860055                 Maria         Casco Antiguo   \n",
       "7156  344783641  Pensión La Montoreña         Casco Antiguo   \n",
       "7157   51048225               Sevilla               Nervión   \n",
       "\n",
       "                      neighbourhood   latitude  longitude        room_type  \\\n",
       "0                      Triana Oeste  37.389172  -6.009562  Entire home/apt   \n",
       "1                           Alfalfa  37.389670  -5.995620  Entire home/apt   \n",
       "2     Tiro de Línea, Santa Genoveva  37.370020  -5.977260     Private room   \n",
       "3                       San Vicente  37.396814  -5.999763  Entire home/apt   \n",
       "4              Triana Casco Antiguo  37.386195  -6.004393  Entire home/apt   \n",
       "...                             ...        ...        ...              ...   \n",
       "7153                     Bellavista  37.316680  -5.969120     Private room   \n",
       "7154                     Santa Cruz  37.382350  -5.990310  Entire home/apt   \n",
       "7155                  San Bartolomé  37.387660  -5.989010  Entire home/apt   \n",
       "7156                  San Bartolomé  37.387870  -5.985330     Private room   \n",
       "7157                       an Roque  37.390900  -5.983910  Entire home/apt   \n",
       "\n",
       "      price  minimum_nights  number_of_reviews last_review  reviews_per_month  \\\n",
       "0     281.0               1                 16  2023-11-13               0.78   \n",
       "1     484.0               2                119  2023-12-03               1.36   \n",
       "2      66.0              61                  0         NaN                NaN   \n",
       "3      93.0               2                 10  2023-12-23               1.79   \n",
       "4     700.0               3                  1  2023-03-23               0.11   \n",
       "...     ...             ...                ...         ...                ...   \n",
       "7153   33.0               3                  1  2022-09-05               0.06   \n",
       "7154   97.0               2                 73  2023-11-24               1.44   \n",
       "7155  172.0               3                 68  2023-10-03               1.02   \n",
       "7156  502.0               1                  0         NaN                NaN   \n",
       "7157   72.0               2                 83  2023-12-10               1.58   \n",
       "\n",
       "      calculated_host_listings_count  availability_365  number_of_reviews_ltm  \\\n",
       "0                                 44                87                      9   \n",
       "1                                  5               288                     15   \n",
       "2                                  4                90                      0   \n",
       "3                                  5               328                     10   \n",
       "4                                  1                 7                      1   \n",
       "...                              ...               ...                    ...   \n",
       "7153                               1                60                      0   \n",
       "7154                               2               190                     12   \n",
       "7155                              27               294                      5   \n",
       "7156                              34                52                      0   \n",
       "7157                              95               291                     47   \n",
       "\n",
       "             license  \n",
       "0       VFT/SE/04999  \n",
       "1       VFT/SE/00873  \n",
       "2                NaN  \n",
       "3         A/SE/00432  \n",
       "4       VFT/SE/02161  \n",
       "...              ...  \n",
       "7153          Exempt  \n",
       "7154  CTC-2019148934  \n",
       "7155          Exempt  \n",
       "7156       H/SE-0114  \n",
       "7157  CTC-2019110431  \n",
       "\n",
       "[7158 rows x 18 columns]"
      ]
     },
     "execution_count": 53,
     "metadata": {},
     "output_type": "execute_result"
    }
   ],
   "source": [
    "airbnb_sevilla= pd.read_csv('../data/listings_insideairbnb_sevilla_dic23.csv')\n",
    "airbnb_sevilla"
   ]
  },
  {
   "cell_type": "code",
   "execution_count": null,
   "metadata": {},
   "outputs": [],
   "source": [
    "airbnb_sevilla= pd.read_csv('../data/listings_insideairbnb_sevilla_dic23.csv')\n",
    "airbnb_sevilla"
   ]
  },
  {
   "cell_type": "code",
   "execution_count": 43,
   "metadata": {},
   "outputs": [],
   "source": [
    "map_cities = f.mapas_airbnb('listings_insideairbnb_mad_dic23',40.41831,-3.70275)\n",
    "map_cities.save('mapa_madrid_airbnb.html')"
   ]
  },
  {
   "cell_type": "code",
   "execution_count": 44,
   "metadata": {},
   "outputs": [],
   "source": [
    "map_cities = f.mapas_airbnb('listings_insidearibnb_bcn_dic23',41.38879,2.15899)\n",
    "map_cities.save('mapa_bcn_airbnb.html')"
   ]
  },
  {
   "cell_type": "code",
   "execution_count": null,
   "metadata": {},
   "outputs": [],
   "source": [
    "map_cities = f.mapas_airbnb('listings_insidearibnb_bcn_dic23',41.38879,2.15899)\n",
    "map_cities.save('mapa_bcn_airbnb.html')"
   ]
  },
  {
   "cell_type": "code",
   "execution_count": 50,
   "metadata": {},
   "outputs": [],
   "source": [
    "map_cities = f.mapas_airbnb('listings_insideairbnb_sevilla_dic23',37.38283,-5.97317)\n",
    "map_cities.save('mapa_sevilla_airbnb.html')"
   ]
  },
  {
   "cell_type": "code",
   "execution_count": 54,
   "metadata": {},
   "outputs": [],
   "source": [
    "map_cities = f.mapas_airbnb('listings_insideairbnb_valencia_dic23',39.46975,-0.37739)\n",
    "map_cities.save('mapa_valencia_airbnb.html')"
   ]
  }
 ],
 "metadata": {
  "kernelspec": {
   "display_name": "Python 3",
   "language": "python",
   "name": "python3"
  },
  "language_info": {
   "codemirror_mode": {
    "name": "ipython",
    "version": 3
   },
   "file_extension": ".py",
   "mimetype": "text/x-python",
   "name": "python",
   "nbconvert_exporter": "python",
   "pygments_lexer": "ipython3",
   "version": "3.12.1"
  }
 },
 "nbformat": 4,
 "nbformat_minor": 2
}
